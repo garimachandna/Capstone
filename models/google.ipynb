{
 "cells": [
  {
   "cell_type": "code",
   "execution_count": 1,
   "metadata": {},
   "outputs": [],
   "source": [
    "import pandas as pd\n",
    "from googletrans import Translator"
   ]
  },
  {
   "cell_type": "code",
   "execution_count": null,
   "metadata": {},
   "outputs": [],
   "source": [
    "! python -m pip install pandas --upgrade"
   ]
  },
  {
   "cell_type": "code",
   "execution_count": null,
   "metadata": {},
   "outputs": [],
   "source": [
    "! python -m pip install numpy --upgrade\n",
    "! python -m pip install tensorflow --upgrade"
   ]
  },
  {
   "cell_type": "code",
   "execution_count": 2,
   "metadata": {},
   "outputs": [
    {
     "name": "stdout",
     "output_type": "stream",
     "text": [
      "                                               hindi  complaint category\n",
      "0  सोनीपत में दो बच्चों पांच साल के लड़के और दो स...        NaN   kidnap\n",
      "1  पंचकुला में जहां शादी की पूर्व संध्या पर दुल्ह...        NaN   murder\n",
      "2  सोनीपत से अपने रिश्तेदार के सात वर्षीय बच्चे क...        NaN   kidnap\n",
      "3  थानेसर मे शादी के महज छह महीने बाद ही एक नवविव...        NaN   murder\n",
      "4  मवार को डकैती के मामलों में वांछित दो लोगों को...        NaN    theft\n",
      "                                               hindi  complaint category\n",
      "0  करनाल के एक रेस्टोरेंट में अनजान व्यक्तियों ने...        NaN    theft\n",
      "1  अम्बाला के एक नगर निगम कर्मचारी को उनके आवास क...        NaN   murder\n",
      "2  सोनीपत में एक युवक अपनी प्रेमिका से मिलने पहुं...        NaN   murder\n",
      "3  हिसार में एक दलित व्यक्ति को उसके घर पर हत्या ...        NaN   murder\n",
      "4  अम्बाला के एक गाँव में किसानों की खेत से फसल च...        NaN    theft\n"
     ]
    }
   ],
   "source": [
    "# translating the data into english\n",
    "# using google translate api\n",
    "df = pd.read_csv(\"shuffled data.csv\")\n",
    "print(df.head())\n",
    "test = pd.read_csv(\"shuffled test.csv\")\n",
    "print(test.head())"
   ]
  },
  {
   "cell_type": "code",
   "execution_count": 5,
   "metadata": {},
   "outputs": [],
   "source": [
    "def translate(data):\n",
    "    translator = Translator()\n",
    "    translations = {}\n",
    "        #print(column)\n",
    "       # print(unique)\n",
    "    for element in data['hindi']:\n",
    "            translations[element] = translator.translate(element).text\n",
    "    data['complaint'] = data['hindi'].map(translations)\n",
    "    return data"
   ]
  },
  {
   "cell_type": "code",
   "execution_count": 6,
   "metadata": {},
   "outputs": [
    {
     "name": "stdout",
     "output_type": "stream",
     "text": [
      "                                               hindi  \\\n",
      "0  सोनीपत में दो बच्चों पांच साल के लड़के और दो स...   \n",
      "1  पंचकुला में जहां शादी की पूर्व संध्या पर दुल्ह...   \n",
      "2  सोनीपत से अपने रिश्तेदार के सात वर्षीय बच्चे क...   \n",
      "3  थानेसर मे शादी के महज छह महीने बाद ही एक नवविव...   \n",
      "4  मवार को डकैती के मामलों में वांछित दो लोगों को...   \n",
      "\n",
      "                                           complaint category  \n",
      "0  Two children, a five-year-old boy and a two-ye...   kidnap  \n",
      "1  In Panchkula, where the bride's neighbor alleg...   murder  \n",
      "2  After kidnapping a seven-year-old child of his...   kidnap  \n",
      "3  Just six months after marriage in Thanesar, a ...   murder  \n",
      "4  Mawar has arrested two people wanted in robber...    theft  \n",
      "                                               hindi  \\\n",
      "0  करनाल के एक रेस्टोरेंट में अनजान व्यक्तियों ने...   \n",
      "1  अम्बाला के एक नगर निगम कर्मचारी को उनके आवास क...   \n",
      "2  सोनीपत में एक युवक अपनी प्रेमिका से मिलने पहुं...   \n",
      "3  हिसार में एक दलित व्यक्ति को उसके घर पर हत्या ...   \n",
      "4  अम्बाला के एक गाँव में किसानों की खेत से फसल च...   \n",
      "\n",
      "                                           complaint category  \n",
      "0  In a restaurant in Karnal, unknown persons sto...    theft  \n",
      "1  A Municipal Corporation employee of Ambala was...   murder  \n",
      "2  A young man went to meet his girlfriend in Son...   murder  \n",
      "3  In Hisar, a Dalit man was found murdered at hi...   murder  \n",
      "4  Crops were stolen from farmers' fields in a vi...    theft  \n"
     ]
    }
   ],
   "source": [
    "df= translate(df)\n",
    "test = translate(test)\n",
    "\n",
    "print(df.head())\n",
    "print(test.head())"
   ]
  },
  {
   "cell_type": "code",
   "execution_count": 7,
   "metadata": {},
   "outputs": [],
   "source": [
    "df.to_csv(\"translated data.csv\",encoding=\"utf-8\",index=False)\n",
    "test.to_csv(\"translated test.csv\",encoding=\"utf-8\",index=False)"
   ]
  },
  {
   "cell_type": "code",
   "execution_count": 3,
   "metadata": {},
   "outputs": [
    {
     "name": "stdout",
     "output_type": "stream",
     "text": [
      "                                               hindi  \\\n",
      "0  सोनीपत में दो बच्चों पांच साल के लड़के और दो स...   \n",
      "1  पंचकुला में जहां शादी की पूर्व संध्या पर दुल्ह...   \n",
      "2  सोनीपत से अपने रिश्तेदार के सात वर्षीय बच्चे क...   \n",
      "3  थानेसर मे शादी के महज छह महीने बाद ही एक नवविव...   \n",
      "4  मवार को डकैती के मामलों में वांछित दो लोगों को...   \n",
      "\n",
      "                                           complaint category  \n",
      "0  Two children, a five-year-old boy and a two-ye...   kidnap  \n",
      "1  In Panchkula, where the bride's neighbor alleg...   murder  \n",
      "2  After kidnapping a seven-year-old child of his...   kidnap  \n",
      "3  Just six months after marriage in Thanesar, a ...   murder  \n",
      "4  Mawar has arrested two people wanted in robber...    theft  \n",
      "                                               hindi  \\\n",
      "0  करनाल के एक रेस्टोरेंट में अनजान व्यक्तियों ने...   \n",
      "1  अम्बाला के एक नगर निगम कर्मचारी को उनके आवास क...   \n",
      "2  सोनीपत में एक युवक अपनी प्रेमिका से मिलने पहुं...   \n",
      "3  हिसार में एक दलित व्यक्ति को उसके घर पर हत्या ...   \n",
      "4  अम्बाला के एक गाँव में किसानों की खेत से फसल च...   \n",
      "\n",
      "                                           complaint category  \n",
      "0  In a restaurant in Karnal, unknown persons sto...    theft  \n",
      "1  A Municipal Corporation employee of Ambala was...   murder  \n",
      "2  A young man went to meet his girlfriend in Son...   murder  \n",
      "3  In Hisar, a Dalit man was found murdered at hi...   murder  \n",
      "4  Crops were stolen from farmers' fields in a vi...    theft  \n"
     ]
    }
   ],
   "source": [
    "translated_data= pd.read_csv(\"translated data.csv\")\n",
    "translated_test = pd.read_csv(\"translated test.csv\")\n",
    "\n",
    "\n",
    "df['complaint'] = translated_data['complaint']\n",
    "test['complaint'] = translated_test['complaint']\n",
    "\n",
    "print(df.head())\n",
    "print(test.head()) "
   ]
  },
  {
   "cell_type": "markdown",
   "metadata": {},
   "source": [
    "https://www.projectpro.io/recipes/do-text-classification"
   ]
  },
  {
   "cell_type": "code",
   "execution_count": 4,
   "metadata": {},
   "outputs": [],
   "source": [
    "import pandas as pd\n",
    "from sklearn.model_selection import train_test_split\n",
    "from sklearn.feature_extraction.text import CountVectorizer\n",
    "from sklearn.naive_bayes import MultinomialNB\n",
    "from sklearn.metrics import accuracy_score, precision_score, recall_score"
   ]
  },
  {
   "cell_type": "code",
   "execution_count": 8,
   "metadata": {},
   "outputs": [
    {
     "data": {
      "text/html": [
       "<div>\n",
       "<style scoped>\n",
       "    .dataframe tbody tr th:only-of-type {\n",
       "        vertical-align: middle;\n",
       "    }\n",
       "\n",
       "    .dataframe tbody tr th {\n",
       "        vertical-align: top;\n",
       "    }\n",
       "\n",
       "    .dataframe thead th {\n",
       "        text-align: right;\n",
       "    }\n",
       "</style>\n",
       "<table border=\"1\" class=\"dataframe\">\n",
       "  <thead>\n",
       "    <tr style=\"text-align: right;\">\n",
       "      <th></th>\n",
       "      <th>hindi</th>\n",
       "      <th>complaint</th>\n",
       "      <th>category</th>\n",
       "    </tr>\n",
       "  </thead>\n",
       "  <tbody>\n",
       "    <tr>\n",
       "      <th>0</th>\n",
       "      <td>सोनीपत में दो बच्चों पांच साल के लड़के और दो स...</td>\n",
       "      <td>Two children, a five-year-old boy and a two-ye...</td>\n",
       "      <td>kidnap</td>\n",
       "    </tr>\n",
       "    <tr>\n",
       "      <th>1</th>\n",
       "      <td>पंचकुला में जहां शादी की पूर्व संध्या पर दुल्ह...</td>\n",
       "      <td>In Panchkula, where the bride's neighbor alleg...</td>\n",
       "      <td>murder</td>\n",
       "    </tr>\n",
       "    <tr>\n",
       "      <th>2</th>\n",
       "      <td>सोनीपत से अपने रिश्तेदार के सात वर्षीय बच्चे क...</td>\n",
       "      <td>After kidnapping a seven-year-old child of his...</td>\n",
       "      <td>kidnap</td>\n",
       "    </tr>\n",
       "    <tr>\n",
       "      <th>3</th>\n",
       "      <td>थानेसर मे शादी के महज छह महीने बाद ही एक नवविव...</td>\n",
       "      <td>Just six months after marriage in Thanesar, a ...</td>\n",
       "      <td>murder</td>\n",
       "    </tr>\n",
       "    <tr>\n",
       "      <th>4</th>\n",
       "      <td>मवार को डकैती के मामलों में वांछित दो लोगों को...</td>\n",
       "      <td>Mawar has arrested two people wanted in robber...</td>\n",
       "      <td>theft</td>\n",
       "    </tr>\n",
       "  </tbody>\n",
       "</table>\n",
       "</div>"
      ],
      "text/plain": [
       "                                               hindi  \\\n",
       "0  सोनीपत में दो बच्चों पांच साल के लड़के और दो स...   \n",
       "1  पंचकुला में जहां शादी की पूर्व संध्या पर दुल्ह...   \n",
       "2  सोनीपत से अपने रिश्तेदार के सात वर्षीय बच्चे क...   \n",
       "3  थानेसर मे शादी के महज छह महीने बाद ही एक नवविव...   \n",
       "4  मवार को डकैती के मामलों में वांछित दो लोगों को...   \n",
       "\n",
       "                                           complaint category  \n",
       "0  Two children, a five-year-old boy and a two-ye...   kidnap  \n",
       "1  In Panchkula, where the bride's neighbor alleg...   murder  \n",
       "2  After kidnapping a seven-year-old child of his...   kidnap  \n",
       "3  Just six months after marriage in Thanesar, a ...   murder  \n",
       "4  Mawar has arrested two people wanted in robber...    theft  "
      ]
     },
     "execution_count": 8,
     "metadata": {},
     "output_type": "execute_result"
    }
   ],
   "source": [
    "# df= pd.read_csv('complaint with manual labels.csv')\n",
    "df.head()"
   ]
  },
  {
   "cell_type": "code",
   "execution_count": 5,
   "metadata": {},
   "outputs": [],
   "source": [
    "df['category'] = df.category.map({'rape': 4, 'murder': 3, 'kidnap': 2, 'accident':1, 'theft':0})\n",
    "test['category'] = test.category.map({'rape': 4, 'murder': 3, 'kidnap': 2, 'accident':1, 'theft':0})\n"
   ]
  },
  {
   "cell_type": "code",
   "execution_count": 10,
   "metadata": {},
   "outputs": [
    {
     "name": "stdout",
     "output_type": "stream",
     "text": [
      "                                               hindi  \\\n",
      "0  सोनीपत में दो बच्चों पांच साल के लड़के और दो स...   \n",
      "1  पंचकुला में जहां शादी की पूर्व संध्या पर दुल्ह...   \n",
      "2  सोनीपत से अपने रिश्तेदार के सात वर्षीय बच्चे क...   \n",
      "3  थानेसर मे शादी के महज छह महीने बाद ही एक नवविव...   \n",
      "4  मवार को डकैती के मामलों में वांछित दो लोगों को...   \n",
      "\n",
      "                                           complaint  category  \n",
      "0  Two children, a five-year-old boy and a two-ye...         2  \n",
      "1  In Panchkula, where the bride's neighbor alleg...         3  \n",
      "2  After kidnapping a seven-year-old child of his...         2  \n",
      "3  Just six months after marriage in Thanesar, a ...         3  \n",
      "4  Mawar has arrested two people wanted in robber...         0  \n"
     ]
    },
    {
     "data": {
      "text/html": [
       "<div>\n",
       "<style scoped>\n",
       "    .dataframe tbody tr th:only-of-type {\n",
       "        vertical-align: middle;\n",
       "    }\n",
       "\n",
       "    .dataframe tbody tr th {\n",
       "        vertical-align: top;\n",
       "    }\n",
       "\n",
       "    .dataframe thead th {\n",
       "        text-align: right;\n",
       "    }\n",
       "</style>\n",
       "<table border=\"1\" class=\"dataframe\">\n",
       "  <thead>\n",
       "    <tr style=\"text-align: right;\">\n",
       "      <th></th>\n",
       "      <th>hindi</th>\n",
       "      <th>complaint</th>\n",
       "      <th>category</th>\n",
       "    </tr>\n",
       "  </thead>\n",
       "  <tbody>\n",
       "    <tr>\n",
       "      <th>437</th>\n",
       "      <td>पंचकुला में महज 500 रुपये के लिए जम्मू कश्मीर ...</td>\n",
       "      <td>In Panchkula, the youth returned home after wo...</td>\n",
       "      <td>3</td>\n",
       "    </tr>\n",
       "    <tr>\n",
       "      <th>438</th>\n",
       "      <td>सोमवार को मोटरसाइकिल पर सवार होकर आए दो बदमाशो...</td>\n",
       "      <td>On Monday, two miscreants who came riding a mo...</td>\n",
       "      <td>0</td>\n",
       "    </tr>\n",
       "    <tr>\n",
       "      <th>439</th>\n",
       "      <td>फरीदाबाद में बदमाशों ने दो लोगों को गोली मारकर...</td>\n",
       "      <td>In Faridabad, miscreants shot two people and l...</td>\n",
       "      <td>0</td>\n",
       "    </tr>\n",
       "    <tr>\n",
       "      <th>440</th>\n",
       "      <td>हरियाणा के चरखी दादरी जिले के मुख्यालय दादरी क...</td>\n",
       "      <td>One of the villages near Dadri, the headquarte...</td>\n",
       "      <td>4</td>\n",
       "    </tr>\n",
       "    <tr>\n",
       "      <th>441</th>\n",
       "      <td>गुड़गांव में रेप का एक मामला आया है. सरकारी बै...</td>\n",
       "      <td>A case of rape has come up in Gurgaon. A blind...</td>\n",
       "      <td>4</td>\n",
       "    </tr>\n",
       "  </tbody>\n",
       "</table>\n",
       "</div>"
      ],
      "text/plain": [
       "                                                 hindi  \\\n",
       "437  पंचकुला में महज 500 रुपये के लिए जम्मू कश्मीर ...   \n",
       "438  सोमवार को मोटरसाइकिल पर सवार होकर आए दो बदमाशो...   \n",
       "439  फरीदाबाद में बदमाशों ने दो लोगों को गोली मारकर...   \n",
       "440  हरियाणा के चरखी दादरी जिले के मुख्यालय दादरी क...   \n",
       "441  गुड़गांव में रेप का एक मामला आया है. सरकारी बै...   \n",
       "\n",
       "                                             complaint  category  \n",
       "437  In Panchkula, the youth returned home after wo...         3  \n",
       "438  On Monday, two miscreants who came riding a mo...         0  \n",
       "439  In Faridabad, miscreants shot two people and l...         0  \n",
       "440  One of the villages near Dadri, the headquarte...         4  \n",
       "441  A case of rape has come up in Gurgaon. A blind...         4  "
      ]
     },
     "execution_count": 10,
     "metadata": {},
     "output_type": "execute_result"
    }
   ],
   "source": [
    "print(df.head())\n",
    "df.tail()"
   ]
  },
  {
   "cell_type": "code",
   "execution_count": 6,
   "metadata": {},
   "outputs": [],
   "source": [
    "X_train, X_val, y_train, y_val = train_test_split(df['complaint'], df['category'], random_state=1)\n",
    "vectorizer = CountVectorizer(strip_accents='ascii', token_pattern=u'(?ui)\\\\b\\\\w*[a-z]+\\\\w*\\\\b', lowercase=True, stop_words='english')\n",
    "X_train_cv = vectorizer.fit_transform(X_train)\n",
    "X_val_cv = vectorizer.transform(X_val)"
   ]
  },
  {
   "cell_type": "code",
   "execution_count": 7,
   "metadata": {},
   "outputs": [
    {
     "name": "stdout",
     "output_type": "stream",
     "text": [
      "     11th  152d  29th  abandoned  abdin  abducted  abducting  abduction  \\\n",
      "0       0     0     0          0      0         0          0          0   \n",
      "1       0     0     0          0      0         0          0          0   \n",
      "2       0     0     0          0      0         0          0          0   \n",
      "3       0     0     0          0      0         0          0          0   \n",
      "4       0     0     0          0      0         0          0          0   \n",
      "..    ...   ...   ...        ...    ...       ...        ...        ...   \n",
      "326     0     0     0          0      0         1          0          0   \n",
      "327     0     0     0          0      0         0          0          0   \n",
      "328     0     0     0          0      0         0          0          0   \n",
      "329     0     0     0          0      0         0          0          0   \n",
      "330     0     0     0          0      0         0          0          0   \n",
      "\n",
      "     absconded  absconding  ...  year  years  yesterday  ymca  young  younger  \\\n",
      "0            0           0  ...     1      0          0     0      0        0   \n",
      "1            0           0  ...     1      0          0     0      0        0   \n",
      "2            0           0  ...     0      0          0     0      0        0   \n",
      "3            0           0  ...     0      0          0     0      0        0   \n",
      "4            0           0  ...     0      0          0     0      0        0   \n",
      "..         ...         ...  ...   ...    ...        ...   ...    ...      ...   \n",
      "326          0           0  ...     0      0          0     0      0        0   \n",
      "327          0           0  ...     0      0          0     0      0        0   \n",
      "328          0           0  ...     0      0          0     0      0        0   \n",
      "329          0           0  ...     0      0          0     0      0        0   \n",
      "330          0           0  ...     0      0          0     0      0        0   \n",
      "\n",
      "     youth  youths  youtube  zaid  \n",
      "0        0       0        0     0  \n",
      "1        0       0        0     0  \n",
      "2        0       0        0     0  \n",
      "3        0       0        0     0  \n",
      "4        0       0        0     0  \n",
      "..     ...     ...      ...   ...  \n",
      "326      0       0        0     0  \n",
      "327      0       0        0     0  \n",
      "328      0       0        0     0  \n",
      "329      0       0        0     0  \n",
      "330      0       0        0     0  \n",
      "\n",
      "[331 rows x 2009 columns] \n",
      "\n",
      "\n",
      "top words:                 0\n",
      "girl         105\n",
      "s             98\n",
      "accused       92\n",
      "police        87\n",
      "haryana       77\n",
      "...          ...\n",
      "intercepted    1\n",
      "intentions     1\n",
      "intention      1\n",
      "inspected      1\n",
      "zaid           1\n",
      "\n",
      "[2009 rows x 1 columns]\n"
     ]
    }
   ],
   "source": [
    "Word_frequency = pd.DataFrame(X_train_cv.toarray(), columns=vectorizer.get_feature_names_out())\n",
    "top_words = pd.DataFrame(Word_frequency.sum()).sort_values(0, ascending=False)\n",
    "print(Word_frequency, '\\n\\n')\n",
    "print(\"top words: \",top_words)"
   ]
  },
  {
   "cell_type": "code",
   "execution_count": 8,
   "metadata": {},
   "outputs": [],
   "source": [
    "naive_bayes = MultinomialNB()\n",
    "naive_bayes.fit(X_train_cv, y_train)\n",
    "predictions = naive_bayes.predict(X_val_cv)"
   ]
  },
  {
   "cell_type": "code",
   "execution_count": 9,
   "metadata": {},
   "outputs": [
    {
     "name": "stdout",
     "output_type": "stream",
     "text": [
      "Accuracy score for complaint Reviews model is:  0.8198198198198198 \n",
      "\n"
     ]
    }
   ],
   "source": [
    "print('Accuracy score for complaint Reviews model is: ', accuracy_score(y_val, predictions), '\\n')"
   ]
  },
  {
   "cell_type": "code",
   "execution_count": 10,
   "metadata": {},
   "outputs": [
    {
     "name": "stdout",
     "output_type": "stream",
     "text": [
      "                                               hindi  \\\n",
      "0  करनाल के एक रेस्टोरेंट में अनजान व्यक्तियों ने...   \n",
      "1  अम्बाला के एक नगर निगम कर्मचारी को उनके आवास क...   \n",
      "2  सोनीपत में एक युवक अपनी प्रेमिका से मिलने पहुं...   \n",
      "3  हिसार में एक दलित व्यक्ति को उसके घर पर हत्या ...   \n",
      "4  अम्बाला के एक गाँव में किसानों की खेत से फसल च...   \n",
      "\n",
      "                                           complaint  category  \n",
      "0  In a restaurant in Karnal, unknown persons sto...         0  \n",
      "1  A Municipal Corporation employee of Ambala was...         3  \n",
      "2  A young man went to meet his girlfriend in Son...         3  \n",
      "3  In Hisar, a Dalit man was found murdered at hi...         3  \n",
      "4  Crops were stolen from farmers' fields in a vi...         0  \n"
     ]
    }
   ],
   "source": [
    "# testing on unseen data\n",
    "# test= pd.read_csv('testdata.csv')\n",
    "print(test.head())\n"
   ]
  },
  {
   "cell_type": "code",
   "execution_count": 10,
   "metadata": {},
   "outputs": [
    {
     "name": "stdout",
     "output_type": "stream",
     "text": [
      "[0 0 3 3 0 0 3 3 3 3 2 0 3 1 1 1 2 1 1 2 0 0 0 2 1 0 2 0 4 4 4 1 3 0 4 3 0\n",
      " 4 0 1 1 0 0 1 1 3 4 3 1 1 0 1 3 4 0 1 0 1 0 3 2 3 3 1 0 1 4 0 0 4 2 3 0 1\n",
      " 1 0 2 0 1 0 0 0 2 4 1 1 1 0 3 4 1 3 4 1 0 2]\n"
     ]
    }
   ],
   "source": [
    "test_complaint= vectorizer.transform(test['complaint'])\n",
    "test_predictions = naive_bayes.predict(test_complaint)\n",
    "print(test_predictions)\n"
   ]
  },
  {
   "cell_type": "code",
   "execution_count": 11,
   "metadata": {},
   "outputs": [
    {
     "name": "stdout",
     "output_type": "stream",
     "text": [
      "Accuracy score for complaint Reviews model is:  0.71875 \n",
      "\n"
     ]
    }
   ],
   "source": [
    "print('Accuracy score for complaint Reviews model is: ', accuracy_score(test['category'], test_predictions), '\\n')\n"
   ]
  },
  {
   "cell_type": "markdown",
   "metadata": {},
   "source": [
    "https://www.projectpro.io/article/10-nlp-techniques-every-data-scientist-should-know/415"
   ]
  },
  {
   "cell_type": "code",
   "execution_count": 12,
   "metadata": {},
   "outputs": [],
   "source": [
    "from nltk.tokenize import word_tokenize\n",
    "from nltk.stem import WordNetLemmatizer\n",
    "import pandas as pd"
   ]
  },
  {
   "cell_type": "code",
   "execution_count": 19,
   "metadata": {},
   "outputs": [
    {
     "data": {
      "text/html": [
       "<div>\n",
       "<style scoped>\n",
       "    .dataframe tbody tr th:only-of-type {\n",
       "        vertical-align: middle;\n",
       "    }\n",
       "\n",
       "    .dataframe tbody tr th {\n",
       "        vertical-align: top;\n",
       "    }\n",
       "\n",
       "    .dataframe thead th {\n",
       "        text-align: right;\n",
       "    }\n",
       "</style>\n",
       "<table border=\"1\" class=\"dataframe\">\n",
       "  <thead>\n",
       "    <tr style=\"text-align: right;\">\n",
       "      <th></th>\n",
       "      <th>hindi</th>\n",
       "      <th>complaint</th>\n",
       "      <th>category</th>\n",
       "    </tr>\n",
       "  </thead>\n",
       "  <tbody>\n",
       "    <tr>\n",
       "      <th>0</th>\n",
       "      <td>सोनीपत में दो बच्चों पांच साल के लड़के और दो स...</td>\n",
       "      <td>Two children, a five-year-old boy and a two-ye...</td>\n",
       "      <td>2</td>\n",
       "    </tr>\n",
       "    <tr>\n",
       "      <th>1</th>\n",
       "      <td>पंचकुला में जहां शादी की पूर्व संध्या पर दुल्ह...</td>\n",
       "      <td>In Panchkula, where the bride's neighbor alleg...</td>\n",
       "      <td>3</td>\n",
       "    </tr>\n",
       "    <tr>\n",
       "      <th>2</th>\n",
       "      <td>सोनीपत से अपने रिश्तेदार के सात वर्षीय बच्चे क...</td>\n",
       "      <td>After kidnapping a seven-year-old child of his...</td>\n",
       "      <td>2</td>\n",
       "    </tr>\n",
       "    <tr>\n",
       "      <th>3</th>\n",
       "      <td>थानेसर मे शादी के महज छह महीने बाद ही एक नवविव...</td>\n",
       "      <td>Just six months after marriage in Thanesar, a ...</td>\n",
       "      <td>3</td>\n",
       "    </tr>\n",
       "    <tr>\n",
       "      <th>4</th>\n",
       "      <td>मवार को डकैती के मामलों में वांछित दो लोगों को...</td>\n",
       "      <td>Mawar has arrested two people wanted in robber...</td>\n",
       "      <td>0</td>\n",
       "    </tr>\n",
       "  </tbody>\n",
       "</table>\n",
       "</div>"
      ],
      "text/plain": [
       "                                               hindi  \\\n",
       "0  सोनीपत में दो बच्चों पांच साल के लड़के और दो स...   \n",
       "1  पंचकुला में जहां शादी की पूर्व संध्या पर दुल्ह...   \n",
       "2  सोनीपत से अपने रिश्तेदार के सात वर्षीय बच्चे क...   \n",
       "3  थानेसर मे शादी के महज छह महीने बाद ही एक नवविव...   \n",
       "4  मवार को डकैती के मामलों में वांछित दो लोगों को...   \n",
       "\n",
       "                                           complaint  category  \n",
       "0  Two children, a five-year-old boy and a two-ye...         2  \n",
       "1  In Panchkula, where the bride's neighbor alleg...         3  \n",
       "2  After kidnapping a seven-year-old child of his...         2  \n",
       "3  Just six months after marriage in Thanesar, a ...         3  \n",
       "4  Mawar has arrested two people wanted in robber...         0  "
      ]
     },
     "execution_count": 19,
     "metadata": {},
     "output_type": "execute_result"
    }
   ],
   "source": [
    "# df= pd.read_csv('complaint with manual labels.csv')\n",
    "df.head()"
   ]
  },
  {
   "cell_type": "code",
   "execution_count": 13,
   "metadata": {},
   "outputs": [
    {
     "name": "stdout",
     "output_type": "stream",
     "text": [
      "['Two', 'children', ',', 'a', 'five-year-old', 'boy', 'and', 'a', 'two-year-old', 'girl', ',', 'were', 'allegedly', 'killed', 'in', 'Sonipat', '.', 'He', 'was', 'abducted', 'at', 'around', '2.30', 'pm', '.', 'The', 'incident', 'happened', 'while', 'they', 'were', 'playing', 'And', 'the', 'parents', 'went', 'to', 'work', '.']\n"
     ]
    }
   ],
   "source": [
    "tokenized=[]\n",
    "for complaint in df['complaint']:\n",
    "    tokenized.append(word_tokenize(complaint))\n",
    "print(tokenized[0])\n"
   ]
  },
  {
   "cell_type": "code",
   "execution_count": 14,
   "metadata": {},
   "outputs": [],
   "source": [
    "import re\n",
    "\n",
    "def clean_string(text):\n",
    "    cleaned_text = re.sub(r\"\\\\n\", \"\", text) #to remove new line characters\n",
    "    cleaned_text = re.sub(r\"[^A-Za-z]\", \" \", cleaned_text) #to remove non alphabets\n",
    "    cleaned_text= cleaned_text.strip().lower() #to convert into lower case\n",
    "    return cleaned_text"
   ]
  },
  {
   "cell_type": "code",
   "execution_count": 15,
   "metadata": {},
   "outputs": [
    {
     "name": "stdout",
     "output_type": "stream",
     "text": [
      "two children  a five year old boy and a two year old girl  were allegedly killed in sonipat  he was abducted at around      pm  the incident happened while they were playing and the parents went to work\n"
     ]
    }
   ],
   "source": [
    "cleaned_text=[]\n",
    "for complaint in df['complaint']:\n",
    "    cleaned_text.append(clean_string(complaint))\n",
    "print(cleaned_text[0])"
   ]
  },
  {
   "cell_type": "code",
   "execution_count": 16,
   "metadata": {},
   "outputs": [
    {
     "name": "stdout",
     "output_type": "stream",
     "text": [
      "['two', 'children', 'a', 'five', 'year', 'old', 'boy', 'and', 'a', 'two', 'year', 'old', 'girl', 'were', 'allegedly', 'killed', 'in', 'sonipat', 'he', 'was', 'abducted', 'at', 'around', 'pm', 'the', 'incident', 'happened', 'while', 'they', 'were', 'playing', 'and', 'the', 'parents', 'went', 'to', 'work']\n"
     ]
    }
   ],
   "source": [
    "tokenized=[]\n",
    "for complaint in cleaned_text:\n",
    "    tokenized.append(word_tokenize(complaint))\n",
    "print(tokenized[0])"
   ]
  },
  {
   "cell_type": "code",
   "execution_count": null,
   "metadata": {},
   "outputs": [],
   "source": [
    "pip install spacy\n"
   ]
  },
  {
   "cell_type": "code",
   "execution_count": null,
   "metadata": {},
   "outputs": [],
   "source": [
    "!python -m spacy download en_core_web_sm"
   ]
  },
  {
   "cell_type": "code",
   "execution_count": 17,
   "metadata": {},
   "outputs": [],
   "source": [
    "import spacy\n",
    "\n",
    "nlp = spacy.load('en_core_web_sm')\n"
   ]
  },
  {
   "cell_type": "code",
   "execution_count": 18,
   "metadata": {},
   "outputs": [
    {
     "name": "stdout",
     "output_type": "stream",
     "text": [
      "['two', 'child', 'a', 'five', 'year', 'old', 'boy', 'and', 'a', 'two', 'year', 'old', 'girl', 'be', 'allegedly', 'kill', 'in', 'sonipat', 'he', 'be', 'abduct', 'at', 'around', 'pm', 'the', 'incident', 'happen', 'while', 'they', 'be', 'play', 'and', 'the', 'parent', 'go', 'to', 'work']\n"
     ]
    }
   ],
   "source": [
    "lemmatized=[]\n",
    "for complaint in tokenized:\n",
    "    c=[]\n",
    "    for word in complaint:\n",
    "        doc= nlp(word)\n",
    "        for token in doc:\n",
    "            c.append(token.lemma_)\n",
    "    lemmatized.append(c)\n",
    "print(lemmatized[0])\n"
   ]
  },
  {
   "cell_type": "code",
   "execution_count": 19,
   "metadata": {},
   "outputs": [
    {
     "name": "stdout",
     "output_type": "stream",
     "text": [
      "326\n",
      "['done', 'hence', 'amount', 'been', \"'d\", 'however', 'name', 'with', 'still', 'when', 'herein', 'via', 'are', 'amongst', 'toward', 'no', 'yourself', 'by', '‘s', 'is', 'be', 'ever', 'even', 'latterly', 'out', 'am', 'on', 'towards', 'anything', 'we', 'say', 'neither', 'after', 'anywhere', 'various', 'but', 'noone', 'fifty', 'among', 'hereupon', 'somehow', 'off', 'several', 'his', 'into', 'own', 'us', 'elsewhere', 'her', 'besides', 'without', 'much', 'either', 'since', 'throughout', 'keep', 'every', 'within', 'hereby', 'twenty', 'same', 'any', 'thence', 'their', 'its', 'my', 'of', 'whether', 'few', 'she', '‘d', 'i', 'something', 'back', 'seem', 'will', 'whereupon', 'thereafter', 'perhaps', 'go', 'became', 'upon', 'none', 'using', 'ca', 'down', 'afterwards', 'least', 'see', 'due', 'must', 'many', 'would', 'and', 'than', 'seemed', 'ourselves', 'all', 'move', 'get']\n"
     ]
    }
   ],
   "source": [
    "from spacy.lang.en.stop_words import STOP_WORDS\n",
    "stop_words= list(STOP_WORDS)\n",
    "print(len(stop_words))\n",
    "print(stop_words[:100])\n"
   ]
  },
  {
   "cell_type": "code",
   "execution_count": 20,
   "metadata": {},
   "outputs": [
    {
     "name": "stdout",
     "output_type": "stream",
     "text": [
      "['child', 'year', 'old', 'boy', 'year', 'old', 'girl', 'allegedly', 'kill', 'sonipat', 'abduct', 'pm', 'incident', 'happen', 'play', 'parent', 'work']\n"
     ]
    }
   ],
   "source": [
    "stop_words_removed=[]\n",
    "for complaint in lemmatized:\n",
    "    c=[]\n",
    "    for word in complaint:\n",
    "        if word not in stop_words:\n",
    "            c.append(word)\n",
    "    stop_words_removed.append(c)\n",
    "print(stop_words_removed[0])"
   ]
  },
  {
   "cell_type": "code",
   "execution_count": 21,
   "metadata": {},
   "outputs": [
    {
     "data": {
      "text/plain": [
       "['child year old boy year old girl allegedly kill sonipat abduct pm incident happen play parent work',\n",
       " 'panchkula bride s neighbor allegedly kill father eve wedding year old raju allegedly kill deepadosi jisanu june victim s brother law tell reporter ritual eve wedding accuse brother jijin friend shyam manu attack bride s family marriage hold shivgiri family accuse come year ago marriage proposal victim s daughter victim reject family accuse come year ago marriage proposal victim s daughter victim reject',\n",
       " 'kidnap seven year old child relative sonepat child recover ambala railway station year old mason lend rs lakh mother law year ago ask time mother law return money conspire kidnap sister law s son pressurize mother law ask money',\n",
       " 'month marriage thanesar newly marry woman hang commit suicide girl hail odisha marry youth thanesar marry fall love instagram',\n",
       " 'mawar arrest people want robbery case allegedly shot video hooliganism circulate social medium upload',\n",
       " 'thursday bhola leave sweet shop want birth girl leave house girl reach home till late evening guardian start search family girl child bhola s house arrive rape year old girl hide body container',\n",
       " 'accident entire family shiv kumar nagla anoop village uttar pradesh shiv kumar s entire family perish accident family return visit rajasthan s gogamedi fall victim road accident bahadurgarh haryana early hour friday gurugram road mourn spread village hear news death family member accident',\n",
       " 'trouble antic hotel owner kidnap young man',\n",
       " 'employee company loot tie hand foot palwal haryana incident come light strength weapon miscreant employee hostage lock room pocket',\n",
       " 'trailer driver hold hostage haryana rewari rohtak highway rewari police arrest accuse involve robbery truck arrest',\n",
       " 'year old daughter gang rape murder hindaun karauli district gangrape burn acid shoot dead body heinous crime heart wrench incident place',\n",
       " 'woman daughter stand road bike borne miscreant snatch daughter flee spot later release near temple',\n",
       " 'locate virat nagar haji ap baba co construction pvt ltd accountant p suresh kidnap office accuse knifepoint accountant kidnap',\n",
       " 'man allegedly shot village sonipat district haryana kill people dispute start distribution water field father son kill',\n",
       " 'pregnant woman die excessive bleed delivery palwal haryana family allege happen negligence doctor doctor open close woman s stomach time cause bleed lose life',\n",
       " 'village bhaini khurd karnal villager water bottle suddenly tractor hit child aged year eye age year come tractor omprakash resident bhaini khurd s leg break admit park hospital karnal eye declare dead doctor injure omprakash treat doctor',\n",
       " 'year old dalit woman allegedly gang rape rohtak event',\n",
       " 'haryana boy rape minor sister force drink insecticide die age youth year',\n",
       " 'dead body half year old boy miss friday ambala find bush meter away house saturday case mirpur ward number',\n",
       " 'friday evening fight party minor argument regard drainage dirty water kaithal quarrel old man seriously injure attack rod die treatment',\n",
       " 'repay loan sport bike young man fake kidnap story',\n",
       " 'passenger rob ola cab driver gurugram friday information police accuse ask driver iphone wallet snatch base complaint file cab driver sachin kumar accord report incident place sector state complaint drop passenger gurugram railway station kumar book ola app pm people car board',\n",
       " 'divyang satpal live aichra kalan village jind district haryana death wife brother strangulate death appearance accident',\n",
       " 'fearless criminal shot twice retire teacher hisar kill die spot',\n",
       " 'bhiwani mohammad zaid allegedly tell rahul listen brother stab sonu injure clash',\n",
       " 'punjab haryana high court murthal gangrape case jat agitation haryana police reprimand high court gangrape murthal evidence',\n",
       " 'year old girl rape month outside school shopkeeper year work baby girl escape dreadful torture tell',\n",
       " 'person abduct dispute non payment loan accuse district vice president political party s obc',\n",
       " 'jain monk kill panchkula',\n",
       " 'fierce fire break cotton thread factory locate kabadi road today cotton thread machine factory destroy fire accord factory owner loss lakh rupee',\n",
       " 'pilgrim kill people injure road accident rohtak s meham accident happen pm hisar delhi highway container collide pick vehicle devotee modinagar meerut uttar pradesh bagad dham rajasthan',\n",
       " 'sector police station register case unknown complaint balraj resident ullawa village son kidnap child kidnap afternoon december kidnap year old child miscreant demand ransom lakh arrest accuse tell police interrogation',\n",
       " 'today m mubarakpur delhi vehicle hit kavadi block kundli border sonepat find block know vehicle stop delhi border road accident precautionary measure haryana police stop heavy vehicle rai vehicle stick jam send sonipat janti mode time m delhi police allow vehicle enter delhi',\n",
       " 'furious love affair jind family member girl kill minor girl burn dead body',\n",
       " 'miscreant attack factory daman family surat silence spread I miscreant kidnap young son house thl',\n",
       " 'engineer beat death panchkula hide identity engineer dastardly criminal stone face crush',\n",
       " 'dalit girl abduct gang rape kaithal haryana matter come fore',\n",
       " 'priyanka kashyap vikas try negotiate accuse urge spare son accuse pay son threaten kill',\n",
       " 'case kidnap murder year old girl come light panipat girl s sister tell sibling father year old girl live narela mother sibling tell mother work home tell october neighbor year old sister pretext food abduct',\n",
       " 'arm miscreant enter house intention loot haryana s karnal couple jump floor save live couple daughter try catch miscreant stab run away miscreant catch cctv camera',\n",
       " 'people girl return aadhaar card sonepat haryana allegedly rape',\n",
       " 'woman marry sunny resident pundri july shortly marriage law start demand dowry demand meet beat eventually law beat throw house threaten dire consequence return wife accuse husband rape',\n",
       " 'kidnap rape innocent monday night rajiv nagar area overnight accuse leave near house tuesday morning flee tell accuse want girl chocolate rs lure auto sheetla mata road',\n",
       " 'businessman radheshyam gupta sarerah scooty abduct late friday evening murder immediately kidnap news spread people businessman kidnap saturday morning dead body hanuman bhyana road find badli',\n",
       " 'dumper cyclist meet accident village makdauli khurd bridge rohtak panipat road cyclist shanki age year resident makdoli khurd die',\n",
       " 'ex boyfriend bittu force year old son marry ex girlfriend kidnap brutally kill gather sympathy close marry son obstacle way marriage',\n",
       " 'person allegedly thrash sector faridabad haryana allegation murder adelco mall area friday late night accuse fight people beat sahil armaan pappu shiv raju babulal flee spot injure send family member hospital doctor declare sahil bring dead armaan treat',\n",
       " 'miscreant dial people commit suicide drink alcohol dispute dial team reach spot miscreant present vehicle young woman family member hold hostage gunpoint policeman kidnap miscreant girl dial vehicle',\n",
       " 'tonight roadway section incident place haryana s jind city criminal intercept truck stolen valuable date incident july truck driver journey suddenly way block offend vehicle unknown thief start attack truck',\n",
       " 'dead body woman recover check dam long time effort identify dead body',\n",
       " 'house female judge post civil court locate district court complex thief away good worth lakh rupee break lock event time execute dehradun meet husband',\n",
       " 'painful accident place near ujhana bus stand narwana jind district car overturn loss balance youth ride car kill youth seriously injure soon information receive police reach spot start investigation',\n",
       " 'child abduct miscreant hour abduction police save innocent clutch miscreant',\n",
       " 'year old youth arrest rape minor rewari district tuesday arrest',\n",
       " 'kmp I e kundli manesar palwal expressway pass bahadurgarh havoc speed people die separate accident soon incident report police reach spot body bring general hospital bahadurgarh postmortem identity person kill accident ascertain',\n",
       " 'karnal husband kill wife child protest illegal relationship burn alive husband family member abscond',\n",
       " 'man kill wife s lover suspicion illicit relationship gurugram companion carry heinous murder wife s prime accuse lose cool discover extra marital affair kill wife thrash k s lover throw floor build murder suicide',\n",
       " 'year old girl rape murder panchkula haryana',\n",
       " 'truck collide head sampla bypass rohtak delhi road person die spot person injure injure admit pgi rohtak',\n",
       " 'haryana case allege rape teenage girl abduct house come light area jind city police station',\n",
       " 'yamuna nagar person shot dead refuse fish',\n",
       " 'sonepat girl s uncle accomplice try kidnap incident place july pm',\n",
       " 'car collide head ghaggar bridge near majri chowk panchkula youth kill youth seriously injure car admit pgi chandigarh',\n",
       " 'rewari day ago broad daylight house ceo company locate sector police disclose loot lakh rupee investigation reveal house rob daughter ceo company money boyfriend drama create ceo s daughter involve conspiracy allege mask goon boyfriend',\n",
       " 'youth murder kidnap old enmity dead body find minor near dobhi village',\n",
       " 'unknown tuesday gaur city society panchkula person knock door flat time woman family child year thief ask water enter house enter loot good knife point',\n",
       " 'haryana s bahadurgarh year old innocent girl sexually assault young man try victim girl noise strangle death accuse later throw dead body innocent girl bush abscond dead body innocent girl find panchayati land sankhol village evening find bush',\n",
       " 'june information receive kidnap year old girl gurugram complainant tell week ago sister law come home baby girl evening june girl play street house meantime iqbal relative neighbor woo',\n",
       " 'cia police panipat district haryana arrest thief accuse arrest tube field include bike theft accuse incident steal iron shutter plate cable construction site open',\n",
       " 'young man kidnap people land dispute kidnap matter capture cctv car rider criminal abduct young man away car',\n",
       " 'accuse sumit tell use work finance lot loss happen liability increase s conspire kidnap sandeep lose job lockdown',\n",
       " 'gang rape girl hostage village',\n",
       " 'allege girl unconscious friend friend s mother hand people people gang rape girl night later leave run away',\n",
       " 'news death person seriously injure road accident come fore unknown person beggar mentally disturb',\n",
       " 'sandeep yadav reach jewelery shop chhoti bazar area carbine shop owner refuse hand gold ornament fire shot',\n",
       " 'boyfriend reach farmhouse girlfriend friend girl drink tea mix intoxicant anymore boyfriend hand girl friend friend gang rape girl regain consciousness boyfriend friend matter fatehabad haryana',\n",
       " 'young man repeatedly blackmail girl trouble blackmail girl revenge lover way die day girlfriend burn dead body lover pour petrol actually girlfriend nurse boyfriend use work compounder retaliation nurse lover sleep overdose injection unconscious day try burn dead body pour petrol girlfriend bone clothe place burn',\n",
       " 'villager village kamach kheda jind haridwar bath tata ace vehicle accident truck panipat sanoli road people injure die injure admit pgi rohtak',\n",
       " 'old man live sonepat abduct murder november abduct elderly',\n",
       " 'year old kidnap sonepat stab death accuse arrest scooty knife use incident recover police',\n",
       " 'incident robbery accuse total rs lakh cash kg clean hand gold total value gold loot accuse crore tell rs',\n",
       " 'year old boy kidnap way school',\n",
       " 'family member girl sister law accuse force girl drink tea unconscious mix intoxicant tea minor throw roof rape',\n",
       " 'police big success case theft karnal haryana s police arrest accuse arrest accuse surprised tell story pay',\n",
       " 'kidnap girl student garhi police station area jind haryana case rape come fore',\n",
       " 'live live relationship rent house near satrod road person dinesh siwani rape woman woman dinesh use come collect installment bank loan identity hui later hotel rape later pretend marry divorce live rent house time come january rape woman allege feel threaten kill',\n",
       " 'car hit truck near village bhalauth rohtak people car die spot',\n",
       " 'year old man brutally murder personal dispute year old man injure hit axe year old man bring hospital relative critical condition wound sadanand mandal fatal attack place',\n",
       " 'asi bhiwani dc haryana police jhajjar district haryana gunman s house burgle thief cash jewelery household item home stolen salhawa police station register case theft investigate matter start',\n",
       " 'convict son prosecutrix protect harasser behave like animal rape mother drive commit suicide',\n",
       " 'girlfriend husband brutally beat lover death prepare bury dead body midnight intention hide evidence police reach dead body custody include girlfriend custody',\n",
       " 'human traffic racket bust panchkula',\n",
       " 'minor rape victim throw mud sonepat district haryana pour oil set fire girl pgi rohtak condition remain',\n",
       " 'miscreant shot dead gangster kuldeep jaghina rajasthan today',\n",
       " 'robbery crore rupee house sweet merchant rewadi city study college police carry incident robbery businessman s house case accuse arrest good abscond search accuse total accuse student kill colleague incident execute accuse commit crime watch video youtube execute',\n",
       " 'kuldeep resident village sampli deepak resident raliyawa friend salhawa ride bike village sampli function middle way high speed alto vehicle hit bike',\n",
       " 'thursday victim friend s house stay night accuse drink rape',\n",
       " 'thief loot lakh rupee break house sector karnal haryana clean hand cash jewelry tell thief break house drank alcohol sit steal valuable house landlord lakh rupee stolen',\n",
       " 'police arrest year old man speed motorcycle arrest snatch woman s chain interrogation confess crime raise bail money jail son',\n",
       " 'accuse ajay kumar run away kidnap innocent child tell police kidnap child',\n",
       " 'dead body young man lie field kaithal police reach spot basis number motorcycle lie near dead body information decease youth collect youth identify vikas alias bunty kurukshetra district police inform relative decease relative identify dead body family member decease youth allege girlfriend jyoti vikas kurukshetra thrash laughingly',\n",
       " 'accord horrific road accident near saan wali chungi city heart girl seriously injure speed car collision',\n",
       " 'woman die accident near banchari village national highway palwal district husband seriously injure complaint injure police register case unknown driver unknown vehicle police hand dead body relative post mortem',\n",
       " 'dalit girl student study karnal s engineering college allege fellow student rape mms create',\n",
       " 'year old innocent girl escape kidnap marshal bus palwal',\n",
       " 'main road panchkula car collide scooter half kilometer rakka kanganapul local town balachaur bypass',\n",
       " 'haryana s faridabad district police arrest woman seven month old girl investigation start register case people connection allege rape',\n",
       " 'nh unknown vehicle hit swift car near village bachini mahendergarh flyover d person car civil hospital mahendergarh doctor declare people dead refer rewari aid',\n",
       " 'death school student rewari reason death innocent child chairman co director teacher school fact chairman cum director teacher innocent decease s school beat girl lose life',\n",
       " 'lover girlfriend kill innocent child girlfriend lover s blood head support mother child love man use',\n",
       " 'bank robbery incident place karnal city haryana thief enter bank loot cash',\n",
       " 'ankit vasi gubhana jhajjar die road accident baghpat come home kavad ankit s health deteriorate way friend village kavad friend home sit motorcycle friend motorcycle accident tempo near gauripul uttar pradesh aman die',\n",
       " 'sandeep come sister s law house day ago wife khushi come raghunathpura saturday morning sandeep khushi dispute plow agricultural machinery house hit wife head khushi die spot',\n",
       " 'hisar woman kill child throw dead body bush',\n",
       " 'year radaur yamuna nagar ambala stf team arrest abscond accuse case robbery assault couple colleague reward rs place accuse omprakash arrest headache area police omprakash s police search year',\n",
       " 'miscreant wear police uniform thana nagal loot sugar mill loot truck come',\n",
       " 'vishnu post home guard dighal chowki jhajjar finish duty home motorcycle accident occur abandon animal come motorcycle near sunaria village pgi rohtak doctor declare dead',\n",
       " 'woman accept child home accuse woman tell neighbor tell time kavita leave child home woman vacation girl leave home day girl find unconscious home th june statement far sign trauma girl declare dead spot matter city water',\n",
       " 'youth rape youth molest rape try kill tie mouth hand leg cloth throw village pond family member student reach search accuse youth run away',\n",
       " 'panchkula maidservant market car mistress kidnap car mask accuse ambala kidnap come kaithal andhra pradesh kidnap soon reach ambala throw woman',\n",
       " 'family yamuna nagar attend wedding thief advantage opportunity entire house clean thief steal valuable worth lakh house rajesh kumar work private company family january hoshiarpur attend marriage function thursday morning come lock house break I inside I scatter thief break lock cupboard inside house thief stand house motorcycle led gas cylinder valuable away rajesh accord kumar good worth lakh rupee stolen',\n",
       " 'swift car ram canter park road collision severe friend badly crush car',\n",
       " 'teenager rape kill year old girl panchkula haryana arrest friday',\n",
       " 'thief steal jewelry worth crore diwali night panchkula',\n",
       " 'grandfather servant rape kill year old girl incident carry parent',\n",
       " 'mp s wife son auditor board bus highway reach home verma save afternoon nab kidnapper search continue accuse',\n",
       " 'asi attack knife area assailant accuse robbery asi mayapuri police station attack',\n",
       " 'govind voluntarily child relative vidyanand yadav madhubani bihar wife rampari devi',\n",
       " 'neighbor s girl home wife rape accuse girl scare complain relative',\n",
       " 'year old woman allegedly abduct gang rape panipat case rape come people execute case',\n",
       " 'story girl kidnap blackmail family compose embassy inform resident girl chloe renee mclaughlin reach delhi unknown man assault thrash girl family america miss information incident victim apply american citizenship july service unsafe environment physically face emotional abuse',\n",
       " 'child abduct day ago yamuna nagar murder scoundrel child kill ransom police arrest minor case accuse arrest',\n",
       " 'village sonipat miscreant minor girl barge house execute incident gangrape',\n",
       " 'minor girl abduct rape jind october woman complain police night october tinku akalgarh village abduct year old daughter house room field rape',\n",
       " 'arrest kidnap case befriend minor girl chat app person arrest panchkula',\n",
       " 'girl behave normally day neighbor inquire tell sexual harassment neighbor inform police officer girl live father pataudi area death mother father sexually assault month',\n",
       " 'speed canter live migrant laborer friday morning jhajjar district haryana migrant laborer colleague gurugram jharli power plant scorpio vehicle search work accident place reach near village silani dozen migrant laborer scorpio resident canter driver flee spot accident',\n",
       " 'overspeed fortuner car basti climb divider uncontrollably jump fall activa rider couple flip road',\n",
       " 'girl tell come contact accuse rajesh year live faridabad accuse work private company live rent house village sihi accuse rape time video girl later come know accuse marry wife live bihar rajesh start threaten girl start charge money share video social medium humiliate girl send obscene picture brother maternal uncle girl family period stress embarrassment month',\n",
       " 'fatehabad case sexual exploitation minor girl come light come',\n",
       " 'village fatehabad district father behead son state intoxication pen',\n",
       " 'krishna resident bharat colony tell complaint july search mobile company s number google fiber connection speak number come send link download help desk lakh thousand rupee withdraw account',\n",
       " 'dead body young man find hang tree near jind month ago abduct',\n",
       " 'people ride motorcycle die road accident palwal late night pradeep age year village faridabad motorcycle wife manoj kumari age resident village rajapur district hathra uttar pradesh reach village sihaul near palwal palwal aligarh road canter hit motorcycle motorcyclist die spot',\n",
       " 'person tell home bicycle white colored car come hit fall injure',\n",
       " 'minor play outside house gautampuri sunday miss senior police officer father contact police search boy day child want gift maternal uncle',\n",
       " 'gold jewelery loot jewelery shop major scam manipura district haryana incident place night shop owner away home care shop accord source rig attempt hatch recoup scheme man barge inside shop tie customer employee present shop threaten man station dark colored vehicle help escape robber away gold jewelery mahshi s ornament novelly restrain customer staff robber wait outside shop wait',\n",
       " 'unknown vehicle hit motorcycle near safidon road village nirjan jind child include husband wife ride motorcycle die',\n",
       " 'burn body find suv car recover cow shed jind haryana blood stain junaid nasir kill haryana bharatpur resident junaid nasir s char body find february vehicle haryana s bhiwani district family decease allege member bajrang dal beat murder',\n",
       " 'year old youth seriously injure bike collide destitute animal agroha hisar agroha medical college doctor declare dead information police reach spot body custody send postmortem',\n",
       " 'murder beat rod today morning palwal murder place',\n",
       " 'suspect abduct child eat furious mob lynch attack citizen african origin police citizen african origin rescue clutch mob',\n",
       " 'kill marry woman jind law body disappear',\n",
       " 'bike driver raj kidnap yamunanagar incident kidnap demand ransom place night kidnap accuse demand rs lakh victim s family hide bike driver raj cavity flyover tie hand foot accuse raj s family ask bring money',\n",
       " 'plywood businessman hold hostage house servant yamunanagar district case loot lakh accomplice',\n",
       " 'miss marry woman jhajjar haryana strangle marry woman death burn father hill tosham kill accuse turn husband',\n",
       " 'accuse rob woman jewelry kill protest slit throat scissor hit brick life',\n",
       " 'dead body youth find inside bed nizamuddin area young man kamal work domestic help',\n",
       " 'lady tara trouble debt accomplice manoj loot plan',\n",
       " 'year old man arrest rape girl badshahpur area near gurugram haryana',\n",
       " 'case gang rape minor girl come light bhiwani haryana hand dalit gang rape gonda',\n",
       " 'people arrest connection shoot death sister rk puram arrest police information revelation interrogation',\n",
       " 'samastipur girl shot return coach refuse talk killer enrage man shot girl die',\n",
       " 'haryana s rohtak bike ride youth die late tuesday night car collide bypass link jind hisar road',\n",
       " 'marry woman hold hostage allegedly rape pretext marriage woman s police station register case person',\n",
       " 'news rape year old girl yamuna nagar haryana girl youth abduct lift car rape forest leave',\n",
       " 'scorpio ride robber rob axis bank s cash van bahadurgarh fire indiscriminately people seriously injure fire driver police station I save rob ram cash van',\n",
       " 'conspiracy recover lakh kidnap grandson doctor accuse work hospital year driver lure share',\n",
       " 'dead body year old girl find drain field titoli village rohtak dead body girl find canal water canal dead body stick untoward incident rule case private girl expose',\n",
       " 'village laborer beat death mob suspicion child lift people injure incident',\n",
       " 'accuse commit rape year old minor girl arrest team woman s police station ballabhgarh bihar case victim girl start remain ill hospital october find girl pregnant month accuse abscond soon come know girl pregnant',\n",
       " 'man sentence year prison rape daughter time',\n",
       " 'pappu singh kill hit brick indira colony faridabad crime accuse suraj sunil dhode bunty golu bhalla etc arrest team branch raid search pappu singh set tea stall ymca accuse firoz use liquor pappu s minor son vishnu pappu object firoz companion suraj sunil alias dhode bunty bhalla golu execute incident murder matter',\n",
       " 'bike ride miscreant talk mobile girl snatch mobile run away girl seriously injure incident crime action branch arrest accuse',\n",
       " 'painful accident place evening national highway chhachhrauli yamunanagar tremendous collision ashok leyland s pickup truck dozen people pickup injure hospital help ambulance',\n",
       " 'gunpoint dalit woman dhadola jind district haryana case gangrape mms come light accuse arrest',\n",
       " 'premlata salvi murder daulat singh rajput lover woman illicit love affair accuse quarrel reason murder plan kill prem thing city bike hill strangle murder head badly stone dead body identify crush face',\n",
       " 'husband fatehabad woman file rape complaint anil brother law sunil mother jump canal brother die die',\n",
       " 'jind son kill mother fed word incident place june son upset listen mother fit anger son strangle mother death mother publicly tola gold daughter law son s marriage daughter s marriage mother worried mother use taunt son day didn t sister dowry son upset fit anger son kill mother strangle',\n",
       " 'thief commit theft phone shop village puthar panipat district carry',\n",
       " 'haryana s panchkula woman allege people hold hostage rape day people hostage rape day look job hold hostage guest house chandigarh police tomorrow complaint lodge allege confine guest house morni hill till july accuse turn rape accuse know husband promise job guest house',\n",
       " 'matter hisar city neighborhood live live relationship woman accuse chuli khurd resident pramod alias golu rape unnatural sex case register allege relationship woman allege year ago befriend instagram pramod pretext marriage rape continuously thrash complain return complaint pretext marriage february come home drunk rape',\n",
       " 'case kidnap rape coach minor girl case belong jind',\n",
       " 'come bhiwani kalanaur rohtak honda image lose control crash tree near village kharedi mor people car die people injure',\n",
       " 'gurugram s special task force team arrest businessman kidnap kill people arrest demand ransom lakh',\n",
       " 'youth ride scorpio die collision truck scorpio jhajjar gurugram road',\n",
       " 'gurugram broad daylight miscreant force woman sit sun outside house gunpoint incident robbery woman capture cctv',\n",
       " 'trouble debt man friend loot girlfriend s house panchkula abscond robbery',\n",
       " 'haryana innocent girl die accident ganniki mor palwal aligarh road time people include woman seriously injure undergo treatment police register case unknown driver',\n",
       " 'jundla karnal haryana child s father complaint o clock receive unknown number caller tell kidnap year old boy preet demand ransom rs lakh safe return boy',\n",
       " 'head shri ram ashram dak kanwar sangh die road accident late tuesday night ratia area fatehabad district cctv footage accident come fore activa collide thar scooter rider jump fall road foot away die spot head injury police register case thar driver dead body custody',\n",
       " 'miscreant kidnap police constable incident october o clock night constable sachin patrol kashmiri gate area crowd bus sound woman scream enter inside bus idea crook inside bus',\n",
       " 'incident vandalism loot come light temple palwal attacker vandalize temple steal thousand pound cash valuable donation box',\n",
       " 'people come outside house year old girl broad daylight mob kidnap create lot mischief victim family allege kidnap daughter goon kill father beat ransack house',\n",
       " 'couple allege mastermind multi crore robbery incident arrest time arrest mission pilgrimage site uttarakhand bow success',\n",
       " 'motorcycle borne robber shot collection agent radiant company bank motorcycle want rob bag money people pass nh start create ruckus',\n",
       " 'member team kavadi bring kavad ridwar hit speed tempo near village maholi doji ram s son gangaram resident chauma police station ramgarh bring kavad seriously injure doji ram s wife saroj bring kavad faint husband s condition saroj government hospital ferozepur jhirka treatment doji ram admit local hospital treatment doctor refer condition',\n",
       " 'case kidnap people include woman child village approx talk involvement people come fore police action case people free people arrest',\n",
       " 'accuse arrest rape case year old girl faridabad haryana abscond accuse rikesh arrest crime branch nit charge narendra team badarpur border',\n",
       " 'major accident place asahi bridge delhi jaipur highway rewari truck driver ram trolley run come windshield come tyre driver die spot police register case start investigation',\n",
       " 'gang rape woman shot woman critical condition admit pgi case rohtak district haryana',\n",
       " 'mobile repair basement pushpa complex hisar district haryana month ago gold chain loot shopkeeper gunpoint shop friday night pm owner shop gunpoint kidnap miscreant rob sudarshan gold chain bracelet leave near khanak run away',\n",
       " 'kavadie yadvindra s o som verma r o jakhal mandi district fatehabad hit motorcyclist sabir r o gangoh district saharanpur panchkula saharanpur road near village tigra yamunanagar minor injury civil hospital yamuna nagar treatment',\n",
       " 'unidentified thief break residence faridabad haryana tonight steal property house robbery incident place owner house family member sleep thief enter residence break open main door house close return door mask suspicious thief away rich jewellery large cash expensive clothe try leave barricading material house noise objection',\n",
       " 'swift dzire car accident auto near village dhana kalan delhi hisar road passenger auto injure send home aid civil hospital hansi',\n",
       " 'landlord associate lock tenant room way beat death prevent sound fight leave room accuse start music system loudly room injure hospital admit die treatment',\n",
       " 'crore rupee loot gold loan company yamunanagar kg gold robber away lakh cash',\n",
       " 'driver run away cash van half crore rupee van find miss',\n",
       " 'year old dalit girl allegedly abduct sonepat haryana rape man',\n",
       " 'plan kidnap girl ask money family girl s family financial condition girl good accuse tell mistake child murder happen',\n",
       " 'victim minor use live maternal grandparent friend boy sonu sonu minor girl nana s house pretext marriage house help minor friend sonu mother thrash victim cut hair hostage house minor woman use bring customer sonu s house',\n",
       " 'shamdi village sonipat old man sleep street brutally murder slit throat neighbor tell family decease matter morning',\n",
       " 'rohtak s sunaria village young man brutally murder street decease identify ravi mark knife find body ravi year old resident village sunariya kalan use work driver neepura rohtak o clock assailant start stab ravi indiscriminately near pond near shiva temple ravi die spot',\n",
       " 'friday woman accuse officer rank police officer rape',\n",
       " 'private bus delhi ram tourist bus park roadside ambala chandigarh national highway monday morning kill people police passenger injure accident admit government hospital ambala',\n",
       " 'congress rajya sabha mp haryana shadilal batra accuse rape think female lawyer delhi allegation',\n",
       " 'accord romil bania august child play shahpur jat area child s neighbor accuse abdin ansari kidnap child jharkhand child hide',\n",
       " 'thief loot lakh house umedgarh village sonipat haryana spend money money woman build house brother s house bring suspicion theft raise unknown youth come bike rai police station register case start investigation',\n",
       " 'people force person sit swift car near travel agency far cctv investigation reveal vehicle punjab gt karnal road',\n",
       " 'man accuse rape year old girl haryana s gurugram throw hot milk child beat hard skull fracture',\n",
       " 'year old girl rape people village yamunanagar haryana abduct house isolate place allegedly gangrape accord complaint lodge girl s family incident home saturday',\n",
       " 'bhagat phool singh mahila vishwavidyalaya khanpur locate sonipat district young man work hostel mess year student department case gang rape accomplice come light student return hostel library outside university late evening th stay amit come white scorpio car forcibly drag car amit companion student field gang rape girl student allege inform hostel warden small matter happen need police point',\n",
       " 'pappu yadav come home night roam wife mili singh daughter husband wife shot enter house criminal ambush inside house wife bullet incident criminal shot bullet head die spot',\n",
       " 'I come college people car accord victim drag car drug knock unconscious rape condition victim tell throw bush throw near away',\n",
       " 'minor boy drown yamuna people grab money yamunanagar kill accord family minor child lose friend away hour later friend drown family decease yamuna inform',\n",
       " 'advantage darkness night man try steal year old child try child sleep outside house mother time sleep child s mother accuse succeed intention',\n",
       " 'akshay year old resident sirsa kavad night hit motorcycle near village ban mod radaur kurukshetra chc ladwa leg injury',\n",
       " 'mother son die horrific road accident near mangalore outpost incident tell wednesday decease identify year old himanshu mother resident bhusli police postmortem body hand relative time accuse vehicle driver police custody start investigation',\n",
       " 'robbery lakh rupee elderly couple hostage panchkula',\n",
       " 'bike stolen gang accuse haryana s panipat district case commit open',\n",
       " 'woman rape domestic help sector area gurugram haryana help accomplice daughter hostage rob house',\n",
       " 'meter kharavad police post pm sunday night minor girl abduct girl buy medicine brother way people come vehicle pull bike protest beat brother fiercely break head beat brother unconscious kidnapper leave away girl',\n",
       " 'criminal shot dead security guard bank robbery sonpur incident police investigate matter basis cctv footage',\n",
       " 'speed car hit bike panipat road jind district kill year old bike rider',\n",
       " 'car meet accident national highway d near village pillukheda jind car driver shivraj resident village jarana rajasthan suffer minor injury',\n",
       " 'major incident theft come fore shastri colony city accuse thief enter house ladder cash rs lakh thousand clear hand accuse wear shirt body',\n",
       " 'mask dacoit raid house retire section engineer ramakant lal loco late friday night pgi area south city ramakant wife indu srivastava hostage basis weapon knife',\n",
       " 'month old baby sagar bring woman wear red saree cleverly steal',\n",
       " 'girl s mother tell classmate son try rape lunch break school matter sirsa',\n",
       " 'kavadia injure truck collision palwal night rasulpur chowk palwal kavadiye ghuveer s son moriya age resident karauli rajasthan hit truck admit general hospital palwal condition danger break kavad kavadiya administration arrange vehicle bring kavad',\n",
       " 'oppose illegal relationship panchkula prove burden woman case eccentric husband kill wife sharp weapon',\n",
       " 'case gang rape woman come light gurugram district haryana gang rape accuse attack victim s stomach knife injure',\n",
       " 'car hit kavadiya near village beed sotti kurukshetra bring lnjp hospital kurukshetra injure condition treatment sangrur kavadiya amar singh s o jinder singh resident sangrur punjab',\n",
       " 'haryana s jhajjar district police arrest theft lakh incident place april property dealer s place dev nagar bahadurgarh time incident place property dealer wedding ceremony family attend accuse thief accuse theft gangrape early case register capital delhi haryana',\n",
       " 'haryana s yamuna nagar newly marry woman meet husband s relative tantrik allegedly gangrape woman s father saturday kurukshetra accord complaint lodge marriage victim september year happen resident yamunanagar soon marriage law father mentally ill',\n",
       " 'painful accident place thursday morning gurugram haryana girl school father die road accident scooty speed car rider hit',\n",
       " 'anger death youth accident palwal relative block delhi agra highway minute krishna alias kalu age gujjar resident kushalipur die hit unknown vehicle delhi agra highway police explain jam open',\n",
       " 'sonepat husband strangle wife insistence home lockdown kill',\n",
       " 'year old girl tuition assault minor boy gohana delhi road kidnap girl allegedly rape inside car',\n",
       " 'model haryana repeatedly rape photographer shamli district western uttar pradesh pretext marriage',\n",
       " 'hear theft cash jewelry good vehicle maham area day road stolen strange heist executive engineer haryana agricultural marketing board complaint police appeal police nab thief soon',\n",
       " 'year old girl abduct rape panipat girl admit hospital accuse young man cctv footage carry girl lap',\n",
       " 'horrific road accident place jind panipat road tuesday afternoon people family die painfully tell people ride bike reach near desert village hit canter decease resident kharkada kalan hisar district body bring jind civil hospital postmortem',\n",
       " 'sensational theft bank dig tunnel shop near yamunanagar incident come light miscreant dig foot long tunnel shop bank enter bank tunnel clean thirty locker thief complete incident execute plan',\n",
       " 'panchkula minor boy abduct flat plan kill police kidnapper arrest minor boy release',\n",
       " 'jnu s teacher body sunday allege assistant professor abduct people hour street brawl accord allegation jnuta assistant professor assault threaten period face recovery',\n",
       " 'woman sleep child near main gate pm quarter person come start talk pick child lap comfortably o clock leave station',\n",
       " 'newly marry woman murder dowry jind attempt burn dead body',\n",
       " 'gothya badi village situate haryana border nepali youth beat wife stick beat death stick decease woman resident mizoram live wife relationship nepali youth half year',\n",
       " 'allege person shoaib khan change social network site befriend minor girl facebook coax run away',\n",
       " 'kavadiye hit canter near village solpur nud angry kavadi block delhi alwar road today kaidiya dojiram s son gangaram caste saini yasi chauma district alwar rajasthan reach near agon chowk village solpur kavad canter hit admit hospital injure condition canter driver flee spot',\n",
       " 'mogi nand criminal shot tent shopkeeper house murder decease identify ajit kumar son vijay mahato',\n",
       " 'gangrape case girl student gohana sonepat haryana come people th class student shop buy good gangrape godown',\n",
       " 'late wednesday night miscreant rob woman son train loot later throw train critical condition admit private hospital condition remain worrisome',\n",
       " 'narnaul youth assault businessman dispute drive outside shop flee main road stick hand',\n",
       " 'miscreant enter medical shop gurugram tuesday morning start loot execute miscreant wear helmet hide face cover face mask',\n",
       " 'truck ram pickup kavadi near village rahra karnal night kavadiya kill injure',\n",
       " 'haryana police probe allegation rape woman west bengal man farmer protest site tikri border woman die hospital symptom covid woman s father allege daughter rape tikri border member organization support farmer',\n",
       " 'panipat servant master hostage loot house incident place wife stay sister s house day robbery leave owner tie run away',\n",
       " 'mentally ill inside government hospital haryana s yamunanagar district derange girl allegedly rape employee',\n",
       " 'rape dalit girl haryana police arrest accuse liya state person involve gangrape',\n",
       " 'miscreant kidnap elderly woman purpose capture house',\n",
       " 'truck alto car collide near village nivarsi pipli road ladwa kurukshetra district alto car rider maternal uncle nephew die accident decease identify year old vikas resident jhivarhedi shagun resident kathgarh',\n",
       " 'criminal ride bike loot lakh rupee strength arm loot flee turkey criminal fire spread panic personnel narrowly escape',\n",
       " 'saturday late evening baje singh resident sector fourth scooty milk near mill reach mill speed car hit scooty car drag metre',\n",
       " 'gurugram rivalry owner dhabas owner kidnap wife victim dhaba owner allege dhaba owner husband kidnap',\n",
       " 'case kidnap murder student come panchkula work bus driver',\n",
       " 'youth include real brother die tragically road accident near mandakola highway delhi vadodara expressway youth resident shahjahanpur bareilly district sunday youth visit balaji temple swift dzire car car uncontrolle collide pillar near mandakola highway',\n",
       " 'case gurgaon year old girl rape people',\n",
       " 'girl student allege rape young man pornographic video photo young man blackmail photo',\n",
       " 'year old girl commit suicide allege gangrape nuh haryana tell people allegedly gang rape',\n",
       " 'bumper car decease open start tie car stop roadside tempo come crush',\n",
       " 'case dead body youth find water close khemaru village june relative accuse murder',\n",
       " 'door room inside house village rai police station area sonipat haryana youth break gang rape girl teenager s mother complaint police',\n",
       " 'music teacher study class iv renowned school rewari district haryana case molestation minor girl come fore',\n",
       " 'canter hit stand canter kavadi maujpur toll plaza near kgp expressway faridabad kanwariya die injure endari nuh resident kanwadiya shailendra die spot injure admit humanity hospital ballabgarh canter driver flee canter regard mr date section ipc register thana chayansa',\n",
       " 'accuse allegedly befriend student october kidnap room student naked gunpoint video shot lakh despite family pay rs accuse allegedly distribute student colony friend relative video share',\n",
       " 'victim return home yesterday afternoon buy vegetable market soon arm miscreant enter house follow miscreant oppose loot pistol temple badass woman hug break gold chain run away',\n",
       " 'army fugitive jawan atm loot gang haryana punjab rob atm',\n",
       " 'theft lakh saral kendra locate mini secretariat karnal haryana thief away dvr evidence wednesday night simple center build small secretariat thief away cash worth lakh thief break locker capture eye I e cctv camera case theft later thief away dvr record box cctv camera dvr survive police big clue',\n",
       " 'interrogation irfan tell dispute ramesh chandra regard money transaction dispute decide teach ramesh lesson dump wood',\n",
       " 'case like burari come light faridabad adjacent delhi city member christian family commit suicide hang agrawal society police reach spot saturday open door body trap inside meet hang body bad condition suggest case suicide incident happen day police receive suicide note spot hold responsible death',\n",
       " 'case dacoity money worth rs crore bury house badass mobile loot catch day incident',\n",
       " 'woman struggle financial crisis create story kidnap',\n",
       " 'rinku drunk karnal o clock saturday night wake sleep daughter start ask mother daughter find answer lose temper beat daughter start beat severe daughter die spot',\n",
       " 'painful accident place loharu halke bhiwani district accident child die drown pond age year incident place pond build amrit sarovar scheme information police reach spot send body postmortem',\n",
       " 'complaint register regard unidentified criminal element away belonging resident burglary house residential area hisar haryana tonight accord source theft happen night house owner family member sleep member criminal organization slowly carefully enter apartment room search belonging thief act swiftly loot jewellery cash mobile phone valuable resident wake morning investigate theft register complaint police complaint',\n",
       " 'police arrest year old minor murder innocent child boy arrest police tell economic condition minor accuse bad want rich soon possible kill innocent kidnap ask ransom rs lakh kill',\n",
       " 'case rape pregnant goat come light haryana haryana people rape pregnant goat mewat die owner goat lodge complaint police july',\n",
       " 'loot gang target state bank india atms manage save money reach time',\n",
       " 'year old girl gang rape haryana brutally murder decompose body rohtak district find',\n",
       " 'miscreant loot express palwal friday night loot gold silver cash urn passenger s mother loot away',\n",
       " 'miss teenager village dibiyapur kotwali area recover police baisundhara marg woman youth girl marry youth resident pukhrayan kanpur dehat rs',\n",
       " 'robbery jeweler showroom haryana s rewari city',\n",
       " 'know woman rajpal live neighborhood visit late night enter house forcibly gag rape',\n",
       " 'man allegedly rape year old marry woman haryana s ambala city kidnap rape befriend woman social medium later accuse promise woman job woman illegally allegation rape hostage',\n",
       " 'lockdown accuse face financial crisis commit incident previous criminal record thousand rupee sunita talk thousand rupee woman kidnap neighbor s child',\n",
       " 'miscreant ride motorcycle yamunanagar omiya locate chandni chowk stop cab enterprise delivery agent associate basis gun bag cash lakh rupee loot',\n",
       " 'minor village bhondsi police station sohana sonepat haryana youth forcibly gang rape minor object accuse badly injure stick minor reach home injure state relative admit private hospital gurgaon matter statement family member bhondsi police file case accuse vinod jasveer register accuse arrest',\n",
       " 'man allegedly rape dalit woman car gang rape woman car narwana tohana road sit',\n",
       " 'bike rider kill brother injure car collide car sohna road palwal haryana hit car driver flee spot police register case hand dead body relative postmortem',\n",
       " 'man slit man s throat basis suspicion illicit relationship wife drank blood come throat touch mouth companion record incident',\n",
       " 'news horrific road accident come fore kurukshetra tell fierce collision car woman die people injure',\n",
       " 'year old woman abduct sonepat find gokalpuri delhi girl disclose leave house live person deepak village cherdih district ballia dispute leave deepak lockdown start live separate rent house gokalpuri area',\n",
       " 'incident rape woman come light day ago palwal case mathe pur village villager woman collect grass field young man rape',\n",
       " 'haryana s jind accuse arrest abduct girl student gangrape hurl casteist slur',\n",
       " 'dead body young man recover room suspicious circumstance police start investigate murder suicide case incident panipat',\n",
       " 'bhaini bhairo jatai village kharesi banksi bedwa putthi day ago road stolen agricultural marketing board complaint police strange theft throw open challenge police',\n",
       " 'vijay girl boy woman tell vijay s year old elder daughter come cry tell father wrong thing month',\n",
       " 'arm miscreant attack newly d couple thursday night gurugram fire round young man die condition wife injure fire remain fragile',\n",
       " 'thief steal cash good different place narnaul thief house god spare steal cash break glass temple case report police',\n",
       " 'man kidnap year old girl coax house misbehave home use feed let day reason person s kidnap daughter miss daughter want marry s daughter use pick bring home serve',\n",
       " 'police investigate murder businessman s servant loot lakh yamuna nagar shravan singh murder sarabjit associate sarabjit involvement incident yamuna nagar expose',\n",
       " 'people attack family attacker kill young woman kidnap attacker destroy thing house event stir area',\n",
       " 'year old pregnant woman allegedly gang rape gurgaon s manesar rape case auto driver accomplice carry tell incident place month pregnant victim hospital bicycle husband routine check',\n",
       " 'panchkula kalyugi son brutally murder mother accuse son engineer profession lose job day ago kill mother accuse throw nephew terrace nephew die incident',\n",
       " 'cms atm cash deposit agency new rajgaru nagar ludhiana robber loot rs crore office incident place information incident robbery police morning robber cash van stand outside premise loot office run away',\n",
       " 'mutual quarrel mirzapur village young man die attack stick drop jetty',\n",
       " 'speed canter hit park car delhi jaipur highway accident canter drag car family stand distance include child family die tragically injure admit nearby hospital accident driver flee leave canter spot soon information accident receive sector police station reach spot register case start investigation',\n",
       " 'saturday night woman fed milk year old girl fall asleep pavement wake shock',\n",
       " 'sonipat haryana youth befriend victim rape video threaten viral widow commit suicide receive threat',\n",
       " 'hand land possession country s nd aiim rewari majra union health ministry way foundation stone aiim paved information union minister rao inderjit singh tender float boundary wall aiim soon work boundary wall aiim start rao aiim project benefit people health sector open new employment opportunity sector',\n",
       " 'accuse bank robbery case tunnel gohana riyana commit suicide apart accuse theft catch police kg ornament recover',\n",
       " 'unidentified thief steal valuable worth lakh office gurgaon haryana robbery office morning court section robbery place official holiday office employee present office thief sneak unnoticed break open main door office deactivate security system soon thief enter inside office security personnel hostage local discussion begin action face hide mask help weapon thief away expensive technical equipment computer laptop financial document important material office apart thief steal cash office',\n",
       " 'case kidnap sale tax agent policeman accuse extort rs lakh agent agent oppose threaten implicate false case assault victim money policeman release',\n",
       " 'asi post dasuha police station jasveer singh die road accident today morning return duty dasuha police station unknown vehicle hit result death',\n",
       " 'young man krishna kumar stab near railway station treat die incident youth murder miscreant robbery',\n",
       " 'year old girl die road accident gurugram father injury today gurmeet singh resident sector gurugram scooty drop child rotary public school sector market collide celerio vehicle year old girl die spot father gurmeet singh injury hospital treatment',\n",
       " 'new case bank robbery tunnel haryana s gohana turn point come police investigation reveal people involve conspiracy rob bank arrest dig tunnel thousand rupee',\n",
       " 'work akhil metal factory locate jadauda gate jagadhari yamunanagar laborer die break lift decease resident rampur ghat gopiganj sant ravidas nagar year achhelal live jagadhri s gaushala colony',\n",
       " 'society sector area gurugram woman lakh house good cash worth rs stolen surprisingly minute woman collect commemorative coin old indian foreign coin silver coin home decoration item collection foreign currency collection expensive pan rs lakh cash stolen away',\n",
       " 'tire seven month ago near fauji dhaba delhi road rohtak haryana murder mohammad sadab resident bihar puncture relate manendra alias munindra resident khijir nagar hardoi district work cia ii arrest accuse appear court saturday present',\n",
       " 'nephew brutally murder maternal aunt illegal relationship morning th june daughter search mother lalita murmu cry dead body mother lie naked soak blood backyard house lalita murmu kill slit throat sharp weapon',\n",
       " 'cruiser vehicle carry person village kharkada hansi collide dwala stand road coach driver try save motorcyclist near village rampura national highway hisar delhi road person travel kajar die spot woman injure send medical college agroha',\n",
       " 'member team kavadi bring kavad ridwar hit speed tempo near village maholi doji ram s son gangaram resident chauma police station ramgarh bring kavad seriously injure doji ram s wife saroj bring kavad faint husband s condition saroj government hospital ferozepur jhirka treatment doji ram admit local hospital treatment doctor refer condition',\n",
       " 'murder old man guard mango bhiwani old man guard mango garden murder',\n",
       " 'unknown people pick child narnaul dispute complainant wife matter wife maternal home day ago inform mutual dispute child s maternal uncle blame',\n",
       " 'girl student create false story molestation kidnap paper correct counsel girl student presence family member reality reveal year old student confess fabricate story paper spoil',\n",
       " 'incident rohtak home district chief minister woman assault boy accuse rape',\n",
       " 'arm robber break cash management service company new rajguru nagar area loot huge office robbery place robber security guard cms security attack company s cash abscond van',\n",
       " 'try kidnap person honey trap try extort money',\n",
       " 'encounter police miscreant robbery murder satna scumbag anand yadav kill anand yadav accountant liquor company march involve murder case like murder robbery register head',\n",
       " 'panchkula firoz banda use set scrap shop cad circle kill companion firoz shot dead miscreant',\n",
       " 'family return visit rajasthan s gogamedi fall victim road accident badli gurugram road bahadurgarh haryana early hour friday mourn spread village hear news death family member accident',\n",
       " 'class girl student friend beat people haryana s gurugram youth allegedly rape hotel',\n",
       " 'patel sajan kumar delivery agent company colleague jigar patel way gurugram deliver rs lakh business associate incident robbery happen',\n",
       " 'collision haryana roadway bus kujar vehicle near village igrah jind people travel kujar kill injure seriously injure refer pgi rohtak admit civil hospital jind learn accident place overtake cruiser driver decease ravi age year librarian crsu resident madandedi hisar manoj age year hardeep age year vasiyan mundhal bhiwani sukhwinder age year resident banda hedi mundal jind sanjay age year resident village sivan kaithal rahul aged year identify kamod dadri vimla aged year wife magan resident bhaklana hisar die treatment pgi',\n",
       " 'spirit revenge ex boyfriend kidnap year old girl kilometer car flinder south australia bury alive range information court hear',\n",
       " 'young man come grip tractor trolley near shergarh village indri die spot soon information incident receive police reach spot start action possession dead body',\n",
       " 'basis complaint receive girl s mother police tell april people house grandfather granddaughter house tell time grandfather rape girl threaten kill tell return mother s house girl tell complaint police prem kumari investigate officer woman s police station tell accuse far action register case dada',\n",
       " 'attempt kidnap girl tuition ambala haryana woman involve suspect come car fortunate juncture woman come accuse flee car',\n",
       " 'amritsar delhi road near kali paltan pul ambala cantonment hearse unbalanced collide canter park road people dead body receive minor injury national highway jam minute',\n",
       " 'kurukshetra truck collide tractor trolley people die spot people injure saturday night people travel tractor trolley participate religious program village habana truck come hit tractor trolley',\n",
       " 'abduction richa pretend scream suspicious kidnapper demand ransom crore businessman settlement fix lakh',\n",
       " 'car hit truck near village bachini national highway d mahendergarh haryana people include half year old girl woman man die spot accident apart year old boy woman seriously injure',\n",
       " 'accuse pawan kumar resident panchkula currently live rohini delhi live like lavish lifestyle girlfriend delhi native place sushil agarwal march complaint receive family s driver pawan kumar netaji subhash place drop rs lakh nephew s office way money loot car near hindu rao hospital pawan kumar bmw s tire change driver question feel complicity incident',\n",
       " 'unknown vehicle hit scooty rider near village chuvadianwali fazilka sub division resident fazilka ride scooty die niece seriously injure',\n",
       " 'palwal haryana person lieutenant army hour people kill different place arrest psycho killer condition actually o clock tuesday night person come iron rod kill way',\n",
       " 'mukesh resident charkhi dadri wife son chuchchakwas charkhi dadri motorcycle hit unknown dumper motorcycle mukesh die spot collision wife ruby admit pgi rohtak mukesh s son saurabh admit general hospital jhajjar',\n",
       " 'allege landlord girl intoxicant cold drink mix drink faint condition rape girl',\n",
       " 'miscreant enter panchkula rob sleep elderly couple midnight year old man stone death scream decease s wife miscreant flee spot',\n",
       " 'jewelry worth lakh loot theft jewelry shop gurugram',\n",
       " 'nepali woman live village haryana allegedly gang rape man husband',\n",
       " 'shravan kumar yadav son parmanand yadav resident jind marry accord hindu custom relationship daughter mirdaul resident bhargama police station area year ago husband use beat wife marriage husband inside house wife s throat slit sharp weapon woman die accuse husband flee away home',\n",
       " 'case robbery come petrol operator accord police thursday people forcibly lakh petrol pump operator force arm loot rs',\n",
       " 'avinash pawar kill couple robbery imprison year evade police change address',\n",
       " 'rohtak district girl study sixth class young man live neighborhood accuse rape',\n",
       " 'sonepat case kidnap prostitution year old minor come minor medical police register case kidnap pocso act arrest accuse include minor woman search case',\n",
       " 'painful accident maud rampura road people include car driver die spot woman car seriously injure',\n",
       " 'reveal incident blind murder woman jind accuse arrest child abuser protection',\n",
       " 'rewari miscreant escape kill woman knife actually miscreant rob woman woman oppose miscreant adopt knife woman incident woman s identify year old darpan devi',\n",
       " 'loot basis pistol midnight sonpur',\n",
       " 'hand foot employee work gunpoint tie run away mare',\n",
       " 'case rape girl hostage haryana s jind girl tell police complaint deepak forcibly night th november',\n",
       " 'haryana police allege rape year old girl gurgaon I arrest tantrik president panchayat samiti spokesperson police department information regard wednesday',\n",
       " 'akit aged year ravi aged year resident village kurad panipat run road lead village kurad sunauli hit unknown vehicle passenger hospital declare dead doctor',\n",
       " 'face face collision bike kanina mahendragarh manjeet resident nahar sister bike law place near narnaul leave way near chelavas village bike come ahead hit kill manjit sister kill',\n",
       " 'betray love unnao girlfriend reach police station poison police swallow step wood create stir police department',\n",
       " 'girl ambala cantt haryana rape muslim youth run away home',\n",
       " 'man allegedly rape woman early haryana s jind city porn video tell incident woman threaten dire consequence',\n",
       " 'dacoity shop loot haryana s karnal city tonight unidentified thief stolen exist property threaten shop owner customer report incident place pm shop crowd customer thief wear mask lock return door gain control store s operation',\n",
       " 'case murder young man rewari santosh manoj weld work use drank alcohol night controversy happen manoj hit santosh time head iron angle lie nearby',\n",
       " 'farmer beat plant paddy government land bahadurgarh murder',\n",
       " 'young man commit suicide shoot restaurant palwal',\n",
       " 'year old woman brutally kill mutilate body woman find condition eye gouge tongue cut attack private',\n",
       " 'haryana s jind accuse brutality dalit minor people start compare matter nirbhaya incident delhi accord police accuse abduct year old girl later rape murder',\n",
       " 'rewari district accuse lodge rent room tularam vihar colony gang rape woman hotel room rape',\n",
       " 'incident place monday year old girl play year old brother park near house accuse abduct park murder rape',\n",
       " 'year old man abduct murder palwal dispute regard property transaction jagatpuri dire need money decease mediate property transaction threaten family ransom mobile decease',\n",
       " 'youth live neighborhood trikha colony faridabad district haryana seven year old girl allegedly gang rape baby girl condition admit hospital',\n",
       " 'woman friend abduct woman s child lie taxis away september woman meenakshi inform fight fight woman ruby khatoon kidnap soon bear',\n",
       " 'fierce collision school bus truck nuh hodal road child private school travel child injure accident condition child injure child admit nearest hospital time people die people injure vehicle collide palwal',\n",
       " 'dharmendra paswan age year son shivam age year resident shastri colony samalkha panipat come samalkha motorcycle motorcycle hit unknown vehicle kiwana samalkha village father son die',\n",
       " 'investigation reveal friend pankaj jatin late birthday party return night boy stop street ask victim ask money boy beat badly beat',\n",
       " 'govind allege haripal away newborn child house door lock outside police report theft sell child',\n",
       " 'muslim boy thrash local train near ballabhgarh thursday murder boy',\n",
       " 'gang robbery dacoity sell herb panchkula',\n",
       " 'mother kill year old child hisar people include mother illegal relationship body throw road allegedly kill child diya attempt kill poisonous substance death happen kill drown water',\n",
       " 'lockdown accuse face financial crisis steal neighbor s child try sell talk thousand rupee sunita',\n",
       " 'husband kill wife stab hang death panchkula man allegedly kill wife stab mutual dispute wednesday morning commit suicide hang',\n",
       " 'decease irfan abduct woman family accuse old enmity family accuse opportunity today irfan brutally murder',\n",
       " 'rohtak district father child law house ride motorcycle hit tractor bring rohtak pgi treatment die way time complaint matter police',\n",
       " 'yamuna nagar young man shot dead dispute land ownership dispute murder',\n",
       " 'sonam agrotech cotton gin factory loot tuesday night khargone city incident create stir robber wear mask tight vest rob lakh robbery rs tight vest wear worker present factory robber gang pelt stone escape jump break wall',\n",
       " 'havoc high speed karnal indri road car driver hit person die spot collision strong vehicle badly damage',\n",
       " 'haryana roadway bus hit traffic policeman travel bike turn bella vista hotel sector panchkula policeman die accident age decease policeman year arun kumar mehra live family raipurrani panchkula',\n",
       " 'day ago hisar bullion merchant deposit money bank police arrest robber case cash robbery rs lakh crore',\n",
       " 'dispute manoj yadav young brother mantu yadav time dispute increase mantu start fight elder brother manoj murder',\n",
       " 'lakh panchkula businessman come jalandhar punjab connection business lakh rupee stolen loot car',\n",
       " 'panipat gang expose help rupee coin use loot train suddenly gang hit train run speed km use stop game loot rupee use minute',\n",
       " 'person prepare upsc spend year repay loan kidnap child accuse year old asif saifi b tech m tech',\n",
       " 'friday evening near kheda bazar temple jagadhari yamunanagar haryana gold bangle stolen woman cut bag police cctv ai look suspicious woman woman buy good general store victimize purchase',\n",
       " 'lakh rupee loot associate gunpoint police investigation reveal incident carry miscreant gang search accuse incident',\n",
       " 'wednesday evening pm woman inform kidnap girl child tell bike borne miscreant snatch girl child lap near temple run away girl s mother tell leave girl temple tell daughter leave day old girl',\n",
       " 'bhavna village nathupur kundli police station area sonipat haryana husband gaurav attack woman knife kin private hospital sonepat condition remain critical yes bhavna resident village nathupur sonepat marry resident village liwan wale gaurav month great fanfare feel marriage come home celebrate holi today meet law pride reach sit bike field gaurav field kill bhavna stab neck knife bhavna escape people run village bhavna s mother gaurav illicit relationship sister law thing crime execute',\n",
       " 'kidnap lift car panchkula ask lakh rupee run away noise',\n",
       " 'girl die bhilapada road nadauti police station karauli todabhim dead body find gang rape girl kill pour acid possibility throw',\n",
       " 'security guard post madvi rohtak hit motorcycle naka point duty admit pgi rohtak injure condition die treatment',\n",
       " 'woman district allege people kidnap field cruelty',\n",
       " 'picture accuse girl cctv footage conversation happen accuse come pick girl night father unable answer girl come house',\n",
       " 'dead body young man find blood soak condition near jind identify krishna kumar saini',\n",
       " 'kidnap school owner panipat demand ransom rs lakh matter come',\n",
       " 'murder deputy superintendent police dsp surendra singh haryana truck hit dsp crush',\n",
       " 'seven accuse gang rape year old girl haryana s rewari video viral accuse minor adult seven accuse relative girl child week ago accuse gang rape year old girl close school build incident come light video viral',\n",
       " 'tonight robbery incident bay city haryana thief break jewelry store loot report customer staff present shop time incident thief enter store wear mask brandish gun',\n",
       " 'theft commit house village bhagdana house steal gold silver jewelery worth rs lakh cash information police reach spot inspect spot file complaint case theft register',\n",
       " 'devi question tell girl meet etawah railway station find bring home inform mother thakur tell phone old switch',\n",
       " 'panchkula youth return home work laborer jammu kashmir rs friend brutally murder key luddo game friend bet brutally kill young man knife break forehead brick subhash return home work laborer day ago jammu kashmir cash thousand rupee joe friend monday evening market family member worried return home late evening tuesday subhash s body find build sabuni school stain blood later money return friend subhash intoxicate brutally murder sand knife crush brick',\n",
       " 'monday miscreant come ride motorcycle loot rs crore employee private company country katta flee prompt action police arrest accuse hour robbery recover rs crore loot',\n",
       " 'faridabad miscreant shot people loot cash van',\n",
       " 'village near dadri headquarter charkhi dadri district haryana case gang rape marry woman youth',\n",
       " 'case rape come gurgaon blind trainee officer public sector bank guilty rape woman']"
      ]
     },
     "execution_count": 21,
     "metadata": {},
     "output_type": "execute_result"
    }
   ],
   "source": [
    "joined =[]\n",
    "for i in range(len(stop_words_removed)):\n",
    "    joined.append(\" \".join(stop_words_removed[i]))\n",
    "joined"
   ]
  },
  {
   "cell_type": "code",
   "execution_count": 22,
   "metadata": {},
   "outputs": [],
   "source": [
    "from sklearn.feature_extraction.text import TfidfVectorizer\n",
    "vectorizer = TfidfVectorizer()\n",
    "# X = vectorizer.fit_transform(df['complaint'])\n",
    "X = vectorizer.fit_transform(joined)"
   ]
  },
  {
   "cell_type": "code",
   "execution_count": 23,
   "metadata": {},
   "outputs": [
    {
     "name": "stdout",
     "output_type": "stream",
     "text": [
      "Two children, a five-year-old boy and a two-year-old girl, were allegedly killed in Sonipat.\n",
      "He was abducted at around 2.30 pm. The incident happened while they were playing\n",
      "And the parents went to work.\n"
     ]
    }
   ],
   "source": [
    "print(df['complaint'][0])"
   ]
  },
  {
   "cell_type": "code",
   "execution_count": 24,
   "metadata": {},
   "outputs": [
    {
     "name": "stdout",
     "output_type": "stream",
     "text": [
      "                TF-IDF\n",
      "parent        0.356197\n",
      "old           0.320743\n",
      "play          0.315013\n",
      "year          0.306909\n",
      "pm            0.284662\n",
      "sonipat       0.278999\n",
      "happen        0.264670\n",
      "boy           0.253134\n",
      "work          0.243478\n",
      "allegedly     0.225647\n",
      "abduct        0.221401\n",
      "child         0.196631\n",
      "kill          0.180217\n",
      "incident      0.176254\n",
      "girl          0.149661\n",
      "payment       0.000000\n",
      "pilgrim       0.000000\n",
      "picture       0.000000\n",
      "pawar         0.000000\n",
      "pickup        0.000000\n",
      "pick          0.000000\n",
      "physically    0.000000\n",
      "pay           0.000000\n",
      "photographer  0.000000\n",
      "photo         0.000000\n"
     ]
    }
   ],
   "source": [
    "tf= pd.DataFrame(X[0].T.todense(), index=vectorizer.get_feature_names_out(), columns=[\"TF-IDF\"])\n",
    "tf= tf.sort_values('TF-IDF', ascending=False)\n",
    "print(tf.head(25))\n"
   ]
  },
  {
   "cell_type": "code",
   "execution_count": null,
   "metadata": {},
   "outputs": [],
   "source": [
    "pip install gensim==3.4.0"
   ]
  },
  {
   "cell_type": "code",
   "execution_count": 27,
   "metadata": {},
   "outputs": [
    {
     "ename": "ModuleNotFoundError",
     "evalue": "No module named 'gensim.summarization'",
     "output_type": "error",
     "traceback": [
      "\u001b[1;31m---------------------------------------------------------------------------\u001b[0m",
      "\u001b[1;31mModuleNotFoundError\u001b[0m                       Traceback (most recent call last)",
      "Cell \u001b[1;32mIn[27], line 1\u001b[0m\n\u001b[1;32m----> 1\u001b[0m \u001b[39mfrom\u001b[39;00m \u001b[39mgensim\u001b[39;00m\u001b[39m.\u001b[39;00m\u001b[39msummarization\u001b[39;00m \u001b[39mimport\u001b[39;00m keywords\n\u001b[0;32m      2\u001b[0m \u001b[39mfrom\u001b[39;00m \u001b[39mgensim\u001b[39;00m\u001b[39m.\u001b[39;00m\u001b[39msummarization\u001b[39;00m\u001b[39m.\u001b[39;00m\u001b[39msummarizer\u001b[39;00m \u001b[39mimport\u001b[39;00m summarize\n",
      "\u001b[1;31mModuleNotFoundError\u001b[0m: No module named 'gensim.summarization'"
     ]
    }
   ],
   "source": [
    "from gensim.summarization import keywords\n",
    "from gensim.summarization.summarizer import summarize\n"
   ]
  },
  {
   "cell_type": "code",
   "execution_count": 30,
   "metadata": {},
   "outputs": [
    {
     "data": {
      "text/plain": [
       "[('bus', 0.27315468447716723), ('accident took', 0.2656136722659806)]"
      ]
     },
     "execution_count": 30,
     "metadata": {},
     "output_type": "execute_result"
    }
   ],
   "source": [
    "complaint_text= df['complaint'][51]\n",
    "keywords(complaint_text, lemmatize=True, scores= True)"
   ]
  },
  {
   "cell_type": "code",
   "execution_count": 27,
   "metadata": {},
   "outputs": [],
   "source": [
    "import gensim.downloader as api\n",
    "\n",
    "wv = api.load('word2vec-google-news-300')"
   ]
  },
  {
   "cell_type": "code",
   "execution_count": 28,
   "metadata": {},
   "outputs": [],
   "source": [
    "model= wv"
   ]
  },
  {
   "cell_type": "code",
   "execution_count": 29,
   "metadata": {},
   "outputs": [
    {
     "name": "stdout",
     "output_type": "stream",
     "text": [
      "0.6510957 0.06271608\n"
     ]
    }
   ],
   "source": [
    "from sklearn.metrics.pairwise import cosine_similarity\n",
    "d1= cosine_similarity(model['king'].reshape(1, -1), model['queen'].reshape(1, -1))[0][0]\n",
    "d2= cosine_similarity(model['king'].reshape(1, -1), model['walked'].reshape(1, -1))[0][0]\n",
    "print(d1, d2)"
   ]
  },
  {
   "cell_type": "code",
   "execution_count": 30,
   "metadata": {},
   "outputs": [
    {
     "name": "stdout",
     "output_type": "stream",
     "text": [
      "[ 7.41653442e-02  4.82530594e-02  6.10094070e-02 -4.60815430e-02\n",
      " -5.39398193e-02  2.93121338e-02  4.13398743e-02 -7.54470825e-02\n",
      "  9.06066895e-02  1.09676361e-01  7.10067749e-02 -1.13513947e-01\n",
      " -3.74336243e-02 -2.16979980e-02 -1.22440338e-01  3.61127853e-02\n",
      " -5.86547852e-02  9.04812813e-02  1.26800537e-02 -4.91333008e-02\n",
      "  3.61800194e-02  7.64350891e-02  6.08279705e-02 -2.72684097e-02\n",
      "  5.63735962e-02 -8.10947418e-02 -1.67694092e-02  1.73187256e-03\n",
      "  1.34477615e-01 -6.00585938e-02  3.10096741e-02 -6.87789917e-02\n",
      " -9.42077637e-02 -5.94100952e-02 -5.23262024e-02  4.24189568e-02\n",
      "  1.54338837e-01 -8.56018066e-02 -5.66749573e-02  1.48155212e-01\n",
      "  8.14609528e-02  1.90124512e-02  1.56509399e-01 -3.08895111e-02\n",
      "  2.25830078e-02 -6.77223206e-02  2.97133923e-02  4.49981689e-02\n",
      " -1.96075439e-03  3.52821350e-02 -4.25262451e-02  9.01184082e-02\n",
      "  3.79943848e-02 -6.69097900e-02  5.02519608e-02 -6.92214966e-02\n",
      " -3.96614075e-02 -5.93175888e-02 -2.22129822e-02 -4.25491333e-02\n",
      "  5.73463440e-02  1.45492554e-01  3.16123962e-02  1.63688660e-02\n",
      " -9.20295715e-03  1.99890137e-03  4.22286987e-02  4.74252701e-02\n",
      "  3.68099213e-02  7.87773132e-02  6.80580139e-02  4.88044620e-02\n",
      " -3.94935608e-02  5.70321083e-02 -5.67512512e-02  1.16737366e-01\n",
      "  4.23660278e-02 -7.67059326e-02  1.18558884e-01  9.23538208e-02\n",
      "  1.09588623e-01 -8.36753845e-02 -3.54361534e-03  9.45739746e-02\n",
      " -1.28196716e-01 -2.46810913e-03  1.83486938e-03  8.84552002e-02\n",
      "  3.54461670e-02  4.80728149e-02  4.83627319e-02 -5.97610474e-02\n",
      " -4.09851074e-02 -8.62274170e-02 -1.69906616e-02 -7.36541748e-02\n",
      "  1.47811890e-01  7.94219971e-02 -5.78188896e-03  1.63495541e-03\n",
      " -5.41400909e-02 -9.32388306e-02  1.26419067e-02 -6.47354126e-02\n",
      "  5.91049194e-02 -1.53167725e-01  5.32779694e-02 -9.90295410e-02\n",
      " -3.35206985e-02 -1.12533569e-02  1.86910629e-02  1.75323486e-02\n",
      "  3.66020203e-03 -8.15477371e-02 -7.12966919e-02 -8.38375092e-02\n",
      " -1.31683350e-02 -7.73773193e-02  6.11419678e-02  9.90905762e-02\n",
      " -9.15527344e-05  3.37123871e-03 -1.22901917e-01  7.18002319e-02\n",
      " -2.03704834e-03 -5.23376465e-03  6.56890869e-03 -2.32467651e-02\n",
      "  4.44183350e-02  3.33786011e-02 -9.95025635e-02 -1.43829346e-01\n",
      " -1.51481628e-02  2.76947021e-02 -8.70819092e-02  4.84542847e-02\n",
      "  8.30307007e-02  7.36427307e-03 -1.16203308e-01  1.41135216e-01\n",
      "  1.07936859e-01 -9.47570801e-03  1.69639587e-02  3.93867493e-02\n",
      " -4.97789383e-02  1.63528442e-01 -6.91757202e-02  9.33837891e-03\n",
      " -5.22804260e-02 -1.32080078e-01  2.18833923e-01 -2.11982727e-02\n",
      " -4.86967564e-02  7.20405579e-02 -3.48620415e-02 -3.17573547e-04\n",
      " -3.68404388e-02 -7.94067383e-02  4.54101562e-02 -1.10671997e-01\n",
      "  3.22570801e-02  9.95092392e-02  1.05157852e-01  5.40542603e-03\n",
      " -5.30271530e-02 -1.12457275e-02  1.34399414e-01 -1.57615662e-01\n",
      "  9.85431671e-02 -2.18658447e-02 -3.68156433e-02 -7.35549927e-02\n",
      " -3.34625244e-02 -1.11175537e-01 -4.68645096e-02 -5.13458252e-03\n",
      "  2.02697754e-01  1.16790771e-01 -9.34982300e-02  5.21812439e-02\n",
      " -1.93328857e-02 -9.89685059e-02  1.59535408e-02 -4.67249155e-02\n",
      "  3.58428955e-02  4.91485596e-02  2.98614502e-02  4.13131714e-02\n",
      "  1.10331059e-01 -3.16281319e-02  7.38525391e-03  5.13839722e-03\n",
      " -9.48143005e-03  4.59785461e-02  3.18737030e-02  4.59861755e-02\n",
      "  4.64363098e-02 -7.32593536e-02 -9.40496922e-02 -2.71606445e-02\n",
      " -4.81414795e-03 -4.09240723e-02 -3.34472656e-02 -6.22253418e-02\n",
      " -4.85420227e-03 -8.84675980e-02  4.86602783e-02 -6.40106201e-03\n",
      "  8.64334106e-02 -1.03179932e-01  4.01306152e-02 -4.74548340e-02\n",
      "  6.11457825e-02 -9.92584229e-03 -7.94067383e-02 -1.15623474e-02\n",
      "  4.98161316e-02  1.07574463e-02 -1.25087738e-01 -2.70757675e-02\n",
      " -2.44331360e-03  1.97887421e-02  1.58805847e-01  4.99572754e-02\n",
      "  8.56056213e-02 -7.01622963e-02  4.17709351e-02  3.24554443e-02\n",
      "  4.27865982e-02 -4.82215881e-02  7.39135742e-02 -9.59129333e-02\n",
      " -9.76200104e-02  8.83255005e-02  1.56478882e-02 -1.82371140e-02\n",
      " -3.56445312e-02 -1.55085087e-01  9.35058594e-02  8.02726746e-02\n",
      " -1.00402832e-02  4.43344116e-02 -3.84445190e-02 -1.53678894e-01\n",
      " -1.32011890e-01  1.74118042e-01 -1.24958515e-01 -5.20324707e-02\n",
      "  3.37181091e-02 -5.04665375e-02  8.28723907e-02  7.09915161e-03\n",
      "  3.60336304e-02  2.60467529e-02  8.78829956e-02  2.08683014e-02\n",
      "  5.54504395e-02  4.72869873e-02 -1.08978271e-01 -8.00094604e-02\n",
      " -1.95169449e-02 -7.43103027e-02 -1.27632141e-01 -5.01403809e-02\n",
      "  6.10904694e-02  1.74591064e-01 -9.31167603e-02  9.48600769e-02\n",
      " -1.29379272e-01  1.21307373e-03  7.21092224e-02  7.54594803e-03\n",
      " -8.80050659e-03  5.04493713e-02  7.10601807e-02 -6.38999939e-02\n",
      " -2.13317871e-02 -3.48377228e-02 -5.55953979e-02 -1.45797729e-01\n",
      " -2.74572372e-02 -1.62010193e-02 -5.92460632e-02  1.79879189e-01\n",
      "  1.68228149e-03 -1.24145508e-01 -1.20910645e-01  1.49822235e-03\n",
      "  1.51233673e-02  1.93984985e-01 -3.83396149e-02  6.51473999e-02\n",
      " -1.20223999e-01 -4.41436768e-02 -6.66885376e-02 -1.44729614e-02\n",
      " -7.21130371e-02 -5.77220917e-02  2.42843628e-02 -1.71642303e-02]\n"
     ]
    }
   ],
   "source": [
    "import numpy as np\n",
    "\n",
    "vectors=[]\n",
    "for text in stop_words_removed:\n",
    "    if text!=[] :\n",
    "        temp=[]\n",
    "        for word in text:\n",
    "            try:\n",
    "                temp.append(model[word])\n",
    "            except:\n",
    "                pass\n",
    "        if temp!=[]:\n",
    "            vectors.append(np.average(np.array(temp), axis=0))\n",
    "        else:\n",
    "            vectors.append(np.zeros(300, dtype= np.float64))\n",
    "    else:\n",
    "        vectors.append(np.zeros(300, dtype= np.float64))\n",
    "\n",
    "\n",
    "print(vectors[0])\n"
   ]
  },
  {
   "cell_type": "code",
   "execution_count": 32,
   "metadata": {},
   "outputs": [
    {
     "data": {
      "text/plain": [
       "(300,)"
      ]
     },
     "execution_count": 32,
     "metadata": {},
     "output_type": "execute_result"
    }
   ],
   "source": [
    "vectors[0].shape"
   ]
  },
  {
   "cell_type": "code",
   "execution_count": 25,
   "metadata": {},
   "outputs": [],
   "source": [
    "from sklearn.model_selection import train_test_split\n",
    "from sklearn.linear_model import LogisticRegression\n",
    "from sklearn.metrics import accuracy_score, precision_score\n"
   ]
  },
  {
   "cell_type": "code",
   "execution_count": 31,
   "metadata": {},
   "outputs": [],
   "source": [
    "X_train, X_val, y_train, y_val = train_test_split(vectors, df['category'], test_size=0.1, random_state=1)\n"
   ]
  },
  {
   "cell_type": "code",
   "execution_count": 38,
   "metadata": {},
   "outputs": [
    {
     "data": {
      "text/html": [
       "<div>\n",
       "<style scoped>\n",
       "    .dataframe tbody tr th:only-of-type {\n",
       "        vertical-align: middle;\n",
       "    }\n",
       "\n",
       "    .dataframe tbody tr th {\n",
       "        vertical-align: top;\n",
       "    }\n",
       "\n",
       "    .dataframe thead th {\n",
       "        text-align: right;\n",
       "    }\n",
       "</style>\n",
       "<table border=\"1\" class=\"dataframe\">\n",
       "  <thead>\n",
       "    <tr style=\"text-align: right;\">\n",
       "      <th></th>\n",
       "      <th>hindi</th>\n",
       "      <th>complaint</th>\n",
       "      <th>category</th>\n",
       "    </tr>\n",
       "  </thead>\n",
       "  <tbody>\n",
       "    <tr>\n",
       "      <th>0</th>\n",
       "      <td>सोनीपत में दो बच्चों पांच साल के लड़के और दो स...</td>\n",
       "      <td>Two children, a five-year-old boy and a two-ye...</td>\n",
       "      <td>2</td>\n",
       "    </tr>\n",
       "    <tr>\n",
       "      <th>1</th>\n",
       "      <td>पंचकुला में जहां शादी की पूर्व संध्या पर दुल्ह...</td>\n",
       "      <td>In Panchkula, where the bride's neighbor alleg...</td>\n",
       "      <td>3</td>\n",
       "    </tr>\n",
       "    <tr>\n",
       "      <th>2</th>\n",
       "      <td>सोनीपत से अपने रिश्तेदार के सात वर्षीय बच्चे क...</td>\n",
       "      <td>After kidnapping a seven-year-old child of his...</td>\n",
       "      <td>2</td>\n",
       "    </tr>\n",
       "    <tr>\n",
       "      <th>3</th>\n",
       "      <td>थानेसर मे शादी के महज छह महीने बाद ही एक नवविव...</td>\n",
       "      <td>Just six months after marriage in Thanesar, a ...</td>\n",
       "      <td>3</td>\n",
       "    </tr>\n",
       "    <tr>\n",
       "      <th>4</th>\n",
       "      <td>मवार को डकैती के मामलों में वांछित दो लोगों को...</td>\n",
       "      <td>Mawar has arrested two people wanted in robber...</td>\n",
       "      <td>0</td>\n",
       "    </tr>\n",
       "    <tr>\n",
       "      <th>...</th>\n",
       "      <td>...</td>\n",
       "      <td>...</td>\n",
       "      <td>...</td>\n",
       "    </tr>\n",
       "    <tr>\n",
       "      <th>437</th>\n",
       "      <td>पंचकुला में महज 500 रुपये के लिए जम्मू कश्मीर ...</td>\n",
       "      <td>In Panchkula, the youth returned home after wo...</td>\n",
       "      <td>3</td>\n",
       "    </tr>\n",
       "    <tr>\n",
       "      <th>438</th>\n",
       "      <td>सोमवार को मोटरसाइकिल पर सवार होकर आए दो बदमाशो...</td>\n",
       "      <td>On Monday, two miscreants who came riding a mo...</td>\n",
       "      <td>0</td>\n",
       "    </tr>\n",
       "    <tr>\n",
       "      <th>439</th>\n",
       "      <td>फरीदाबाद में बदमाशों ने दो लोगों को गोली मारकर...</td>\n",
       "      <td>In Faridabad, miscreants shot two people and l...</td>\n",
       "      <td>0</td>\n",
       "    </tr>\n",
       "    <tr>\n",
       "      <th>440</th>\n",
       "      <td>हरियाणा के चरखी दादरी जिले के मुख्यालय दादरी क...</td>\n",
       "      <td>One of the villages near Dadri, the headquarte...</td>\n",
       "      <td>4</td>\n",
       "    </tr>\n",
       "    <tr>\n",
       "      <th>441</th>\n",
       "      <td>गुड़गांव में रेप का एक मामला आया है. सरकारी बै...</td>\n",
       "      <td>A case of rape has come up in Gurgaon. A blind...</td>\n",
       "      <td>4</td>\n",
       "    </tr>\n",
       "  </tbody>\n",
       "</table>\n",
       "<p>442 rows × 3 columns</p>\n",
       "</div>"
      ],
      "text/plain": [
       "                                                 hindi  \\\n",
       "0    सोनीपत में दो बच्चों पांच साल के लड़के और दो स...   \n",
       "1    पंचकुला में जहां शादी की पूर्व संध्या पर दुल्ह...   \n",
       "2    सोनीपत से अपने रिश्तेदार के सात वर्षीय बच्चे क...   \n",
       "3    थानेसर मे शादी के महज छह महीने बाद ही एक नवविव...   \n",
       "4    मवार को डकैती के मामलों में वांछित दो लोगों को...   \n",
       "..                                                 ...   \n",
       "437  पंचकुला में महज 500 रुपये के लिए जम्मू कश्मीर ...   \n",
       "438  सोमवार को मोटरसाइकिल पर सवार होकर आए दो बदमाशो...   \n",
       "439  फरीदाबाद में बदमाशों ने दो लोगों को गोली मारकर...   \n",
       "440  हरियाणा के चरखी दादरी जिले के मुख्यालय दादरी क...   \n",
       "441  गुड़गांव में रेप का एक मामला आया है. सरकारी बै...   \n",
       "\n",
       "                                             complaint  category  \n",
       "0    Two children, a five-year-old boy and a two-ye...         2  \n",
       "1    In Panchkula, where the bride's neighbor alleg...         3  \n",
       "2    After kidnapping a seven-year-old child of his...         2  \n",
       "3    Just six months after marriage in Thanesar, a ...         3  \n",
       "4    Mawar has arrested two people wanted in robber...         0  \n",
       "..                                                 ...       ...  \n",
       "437  In Panchkula, the youth returned home after wo...         3  \n",
       "438  On Monday, two miscreants who came riding a mo...         0  \n",
       "439  In Faridabad, miscreants shot two people and l...         0  \n",
       "440  One of the villages near Dadri, the headquarte...         4  \n",
       "441  A case of rape has come up in Gurgaon. A blind...         4  \n",
       "\n",
       "[442 rows x 3 columns]"
      ]
     },
     "execution_count": 38,
     "metadata": {},
     "output_type": "execute_result"
    }
   ],
   "source": [
    "df"
   ]
  },
  {
   "cell_type": "code",
   "execution_count": 32,
   "metadata": {},
   "outputs": [],
   "source": [
    "clf= LogisticRegression().fit(X_train, y_train)\n",
    "predictions= clf.predict(X_val)\n"
   ]
  },
  {
   "cell_type": "code",
   "execution_count": 33,
   "metadata": {},
   "outputs": [
    {
     "data": {
      "text/plain": [
       "0.9111111111111111"
      ]
     },
     "execution_count": 33,
     "metadata": {},
     "output_type": "execute_result"
    }
   ],
   "source": [
    "accuracy_score(y_val, predictions)"
   ]
  },
  {
   "cell_type": "code",
   "execution_count": 34,
   "metadata": {},
   "outputs": [
    {
     "data": {
      "text/plain": [
       "<Axes: >"
      ]
     },
     "execution_count": 34,
     "metadata": {},
     "output_type": "execute_result"
    },
    {
     "data": {
      "image/png": "[encoded data removed]",
      "text/plain": [
       "<Figure size 640x480 with 2 Axes>"
      ]
     },
     "metadata": {},
     "output_type": "display_data"
    }
   ],
   "source": [
    "import seaborn as sns\n",
    "from sklearn.metrics import confusion_matrix\n",
    "sns.heatmap(confusion_matrix(y_val, predictions), annot=True, fmt='d')"
   ]
  },
  {
   "cell_type": "code",
   "execution_count": 39,
   "metadata": {},
   "outputs": [
    {
     "name": "stdout",
     "output_type": "stream",
     "text": [
      "                                               hindi  \\\n",
      "0  करनाल के एक रेस्टोरेंट में अनजान व्यक्तियों ने...   \n",
      "1  अम्बाला के एक नगर निगम कर्मचारी को उनके आवास क...   \n",
      "2  सोनीपत में एक युवक अपनी प्रेमिका से मिलने पहुं...   \n",
      "3  हिसार में एक दलित व्यक्ति को उसके घर पर हत्या ...   \n",
      "4  अम्बाला के एक गाँव में किसानों की खेत से फसल च...   \n",
      "\n",
      "                                           complaint  category  \n",
      "0  In a restaurant in Karnal, unknown persons sto...         0  \n",
      "1  A Municipal Corporation employee of Ambala was...         3  \n",
      "2  A young man went to meet his girlfriend in Son...         3  \n",
      "3  In Hisar, a Dalit man was found murdered at hi...         3  \n",
      "4  Crops were stolen from farmers' fields in a vi...         0  \n"
     ]
    }
   ],
   "source": [
    "# testing on unseen data\n",
    "print(test.head())\n"
   ]
  },
  {
   "cell_type": "code",
   "execution_count": 35,
   "metadata": {},
   "outputs": [
    {
     "name": "stdout",
     "output_type": "stream",
     "text": [
      "[-0.16174571  0.09785017 -0.01777903  0.14588928 -0.05967458  0.02719943\n",
      " -0.04805756 -0.04786174 -0.04826736  0.02744675 -0.05751586 -0.04440689\n",
      " -0.19869614  0.01454671 -0.12027995  0.09952291  0.11602274  0.15333049\n",
      " -0.02765338  0.02442805 -0.20977275  0.00784175  0.12339655  0.01195208\n",
      " -0.11394278  0.05736035 -0.2094167   0.08370527 -0.03001531 -0.00101725\n",
      "  0.01646201  0.02926095 -0.0706412  -0.12109884 -0.13995107  0.10805973\n",
      " -0.16443317  0.09175873 -0.05428576  0.07811483 -0.05377452 -0.08829244\n",
      "  0.0766468   0.10261663  0.0425659  -0.01306117 -0.06609217 -0.16014607\n",
      " -0.08848826  0.13381958 -0.16977946  0.23990886 -0.03644562  0.23057048\n",
      "  0.04057312  0.11089579 -0.16780598 -0.08254337  0.00762431 -0.15670776\n",
      " -0.13241132 -0.03575389 -0.1549085  -0.0642702  -0.02987162 -0.16758728\n",
      " -0.06921832  0.12580109 -0.07264201  0.06731415  0.05179087 -0.07327398\n",
      "  0.04933039  0.01376788 -0.01967955  0.03102621  0.12694804  0.01621119\n",
      "  0.02591006 -0.08572388 -0.11365509 -0.04043452 -0.01476955  0.00350952\n",
      "  0.1486435   0.0700086  -0.04381561  0.18618774 -0.00297165  0.00462977\n",
      " -0.02090327  0.01487223 -0.00454839 -0.13494618  0.03840001  0.10711225\n",
      " -0.07533264  0.10354868  0.2512258  -0.04390717 -0.07945251  0.00186857\n",
      " -0.08625793  0.00527191 -0.07490349  0.15114339 -0.07542038  0.04035505\n",
      " -0.01321157  0.02603849 -0.15402348 -0.14070956 -0.0002869  -0.06388823\n",
      "  0.06602653  0.14165497  0.10649005 -0.03522491 -0.03020986 -0.07187096\n",
      "  0.0871048   0.07150014 -0.03458659  0.01694489  0.11365763 -0.14274089\n",
      " -0.10708936 -0.02738825  0.07896932  0.0789156  -0.10084025 -0.02869924\n",
      " -0.06698608 -0.01987457 -0.1443003   0.07629331 -0.01676687  0.0092392\n",
      "  0.23855591  0.12669118  0.18027751 -0.08057833  0.0225118  -0.05476888\n",
      " -0.05158234 -0.10773269 -0.02547582  0.15229289 -0.01395925  0.00989024\n",
      "  0.07400385 -0.27211508 -0.02350489 -0.06239064 -0.1298879  -0.11059952\n",
      "  0.06124337  0.17925008 -0.00074037 -0.02402433  0.01153564  0.03265381\n",
      " -0.00533422  0.01894315  0.01687495 -0.04914411  0.1496048   0.00901794\n",
      " -0.05954488  0.10463206 -0.09107844 -0.05636597 -0.04156049 -0.07306544\n",
      " -0.02113406  0.20821635  0.20129903 -0.2003479  -0.01128133 -0.05132294\n",
      "  0.03744125  0.01746583  0.05294466 -0.04503886 -0.0150884   0.05322075\n",
      " -0.03122457  0.04699612  0.01162211  0.07182948  0.10146586 -0.03080495\n",
      " -0.25654855 -0.04776001  0.08826192  0.01095581 -0.08353392 -0.01203855\n",
      "  0.05891609 -0.08215078 -0.11965942 -0.02983983 -0.19221242 -0.11054484\n",
      "  0.0701116  -0.0546519  -0.03952535  0.08841785 -0.04495875  0.1718343\n",
      "  0.14553833  0.12196604 -0.14645354  0.04684448 -0.06079865  0.06314087\n",
      "  0.17001598 -0.06191675 -0.17763901  0.02385203 -0.11788432  0.10395686\n",
      "  0.05436707 -0.00433858 -0.0007019  -0.057916    0.04974111  0.04566956\n",
      "  0.0013508  -0.12779935  0.03299968 -0.05793889 -0.07299729  0.02665965\n",
      "  0.00627391 -0.00234524  0.07852682  0.07372419  0.06830343  0.09591198\n",
      "  0.07629076  0.07091522  0.24297078 -0.07406235  0.01357015  0.08943176\n",
      " -0.14179103  0.13912201  0.04737949 -0.08250109  0.01968277 -0.00254122\n",
      "  0.05529022  0.10688559 -0.01387914 -0.11337408 -0.03459104  0.04919052\n",
      "  0.04064941 -0.07465681  0.08824158 -0.01937596  0.09458414 -0.03190104\n",
      " -0.06523005  0.02339745 -0.00623322  0.0361557  -0.03948911 -0.02326838\n",
      " -0.08927504 -0.01419576  0.01666514  0.03394954  0.06279755 -0.09420141\n",
      " -0.14715703 -0.1311137  -0.11993027  0.0393219  -0.10572179  0.13838784\n",
      "  0.00042852  0.01662222 -0.00437673  0.03357697 -0.0104243  -0.02370199\n",
      " -0.05366771 -0.04815801  0.05316925  0.00354258 -0.07878113  0.08366903\n",
      " -0.0691452  -0.1800944  -0.09068807 -0.03836695 -0.11263021  0.15596771]\n"
     ]
    }
   ],
   "source": [
    "test_complaint= test['complaint']\n",
    "import numpy as np\n",
    "\n",
    "testvectors=[]\n",
    "for text in test_complaint:\n",
    "    if text!=[] :\n",
    "        temp=[]\n",
    "        for word in text:\n",
    "            try:\n",
    "                temp.append(model[word])\n",
    "            except:\n",
    "                pass\n",
    "        if temp!=[]:\n",
    "            testvectors.append(np.average(np.array(temp), axis=0))\n",
    "        else:\n",
    "            testvectors.append(np.zeros(300, dtype= np.float64))\n",
    "    else:\n",
    "        testvectors.append(np.zeros(300, dtype= np.float64))\n",
    "\n",
    "\n",
    "print(testvectors[0])\n",
    "test_predictions= clf.predict(testvectors)"
   ]
  },
  {
   "cell_type": "code",
   "execution_count": 41,
   "metadata": {},
   "outputs": [
    {
     "name": "stdout",
     "output_type": "stream",
     "text": [
      "[0, 3, 3, 3, 0, 0, 4, 3, 3, 3, 2, 0, 3, 1, 1, 0, 2, 1, 1, 2, 3, 0, 0, 0, 1, 0, 2, 3, 4, 3, 4, 0, 3, 0, 4, 3, 0, 4, 0, 4, 3, 0, 0, 1, 1, 3, 2, 3, 3, 1, 0, 1, 3, 2, 0, 1, 0, 3, 0, 3, 3, 3, 3, 1, 0, 1, 0, 0, 0, 4, 4, 3, 3, 1, 1, 1, 2, 0, 3, 0, 0, 0, 0, 4, 1, 1, 3, 3, 2, 2, 1, 3, 2, 1, 0, 3]\n",
      "[0 0 0 0 0 0 0 3 0 0 0 0 0 0 0 0 0 3 1 3 0 3 0 3 3 3 3 3 0 0 0 0 3 0 0 3 0\n",
      " 0 0 0 3 0 0 0 0 1 0 0 0 0 0 0 3 0 0 0 0 0 0 3 3 0 3 0 0 1 0 3 0 0 3 0 0 0\n",
      " 0 0 0 0 0 3 0 0 0 0 3 3 0 3 3 0 3 3 0 0 0 3]\n"
     ]
    }
   ],
   "source": [
    "print(list(test['category']))\n",
    "print(test_predictions)"
   ]
  },
  {
   "cell_type": "code",
   "execution_count": 36,
   "metadata": {},
   "outputs": [
    {
     "name": "stdout",
     "output_type": "stream",
     "text": [
      "0.3958333333333333\n"
     ]
    }
   ],
   "source": [
    "print(accuracy_score(test['category'], test_predictions))"
   ]
  },
  {
   "cell_type": "code",
   "execution_count": 37,
   "metadata": {},
   "outputs": [],
   "source": [
    "# import random forest classifier, decision tree classifier and accuracy score\n",
    "from sklearn.ensemble import RandomForestClassifier\n",
    "from sklearn.tree import DecisionTreeClassifier\n"
   ]
  },
  {
   "cell_type": "code",
   "execution_count": 38,
   "metadata": {},
   "outputs": [
    {
     "name": "stdout",
     "output_type": "stream",
     "text": [
      "Accuracy score for decision tree model is:  0.5777777777777777 \n",
      "\n"
     ]
    }
   ],
   "source": [
    "# use decision tree classifier\n",
    "dt = DecisionTreeClassifier()\n",
    "dt.fit(X_train, y_train)\n",
    "dt_pred = dt.predict(X_val)\n",
    "print('Accuracy score for decision tree model is: ', accuracy_score(y_val, dt_pred), '\\n')"
   ]
  },
  {
   "cell_type": "code",
   "execution_count": 39,
   "metadata": {},
   "outputs": [
    {
     "data": {
      "text/plain": [
       "<Axes: >"
      ]
     },
     "execution_count": 39,
     "metadata": {},
     "output_type": "execute_result"
    },
    {
     "data": {
      "image/png": "[encoded data removed]",
      "text/plain": [
       "<Figure size 640x480 with 2 Axes>"
      ]
     },
     "metadata": {},
     "output_type": "display_data"
    }
   ],
   "source": [
    "sns.heatmap(confusion_matrix(y_val, dt_pred), annot=True, fmt='d')"
   ]
  },
  {
   "cell_type": "code",
   "execution_count": 40,
   "metadata": {},
   "outputs": [
    {
     "name": "stdout",
     "output_type": "stream",
     "text": [
      "Accuracy score for random forest model is:  0.9111111111111111 \n",
      "\n"
     ]
    }
   ],
   "source": [
    "rf= RandomForestClassifier()\n",
    "rf.fit(X_train, y_train)\n",
    "rf_pred = rf.predict(X_val)\n",
    "print('Accuracy score for random forest model is: ', accuracy_score(y_val, rf_pred), '\\n')\n"
   ]
  },
  {
   "cell_type": "code",
   "execution_count": 41,
   "metadata": {},
   "outputs": [
    {
     "name": "stdout",
     "output_type": "stream",
     "text": [
      "Accuracy:  0.3020833333333333\n"
     ]
    }
   ],
   "source": [
    "test_predictions= rf.predict(testvectors)\n",
    "print(\"Accuracy: \", accuracy_score(test['category'], test_predictions))"
   ]
  },
  {
   "cell_type": "markdown",
   "metadata": {},
   "source": [
    "https://www.datacamp.com/tutorial/text-classification-python\n"
   ]
  },
  {
   "cell_type": "code",
   "execution_count": 122,
   "metadata": {},
   "outputs": [],
   "source": [
    "# data= pd.read_csv('complaint with manual labels.csv')"
   ]
  },
  {
   "cell_type": "code",
   "execution_count": 42,
   "metadata": {},
   "outputs": [
    {
     "data": {
      "text/plain": [
       "<Axes: xlabel='category'>"
      ]
     },
     "execution_count": 42,
     "metadata": {},
     "output_type": "execute_result"
    },
    {
     "data": {
      "image/png": "[encoded data removed]",
      "text/plain": [
       "<Figure size 640x480 with 1 Axes>"
      ]
     },
     "metadata": {},
     "output_type": "display_data"
    }
   ],
   "source": [
    "# check target balance\n",
    "data= df\n",
    "data['category'].value_counts(normalize = True).plot.bar()"
   ]
  },
  {
   "cell_type": "code",
   "execution_count": 43,
   "metadata": {},
   "outputs": [
    {
     "data": {
      "text/html": [
       "<div>\n",
       "<style scoped>\n",
       "    .dataframe tbody tr th:only-of-type {\n",
       "        vertical-align: middle;\n",
       "    }\n",
       "\n",
       "    .dataframe tbody tr th {\n",
       "        vertical-align: top;\n",
       "    }\n",
       "\n",
       "    .dataframe thead th {\n",
       "        text-align: right;\n",
       "    }\n",
       "</style>\n",
       "<table border=\"1\" class=\"dataframe\">\n",
       "  <thead>\n",
       "    <tr style=\"text-align: right;\">\n",
       "      <th></th>\n",
       "      <th>hindi</th>\n",
       "      <th>complaint</th>\n",
       "      <th>category</th>\n",
       "      <th>text</th>\n",
       "    </tr>\n",
       "  </thead>\n",
       "  <tbody>\n",
       "    <tr>\n",
       "      <th>0</th>\n",
       "      <td>सोनीपत में दो बच्चों पांच साल के लड़के और दो स...</td>\n",
       "      <td>Two children, a five-year-old boy and a two-ye...</td>\n",
       "      <td>2</td>\n",
       "      <td>two child five year old boy two year old girl ...</td>\n",
       "    </tr>\n",
       "    <tr>\n",
       "      <th>1</th>\n",
       "      <td>पंचकुला में जहां शादी की पूर्व संध्या पर दुल्ह...</td>\n",
       "      <td>In Panchkula, where the bride's neighbor alleg...</td>\n",
       "      <td>3</td>\n",
       "      <td>panchkula bride neighbor allegedly killed fath...</td>\n",
       "    </tr>\n",
       "    <tr>\n",
       "      <th>2</th>\n",
       "      <td>सोनीपत से अपने रिश्तेदार के सात वर्षीय बच्चे क...</td>\n",
       "      <td>After kidnapping a seven-year-old child of his...</td>\n",
       "      <td>2</td>\n",
       "      <td>kidnapping seven year old child relative sonep...</td>\n",
       "    </tr>\n",
       "    <tr>\n",
       "      <th>3</th>\n",
       "      <td>थानेसर मे शादी के महज छह महीने बाद ही एक नवविव...</td>\n",
       "      <td>Just six months after marriage in Thanesar, a ...</td>\n",
       "      <td>3</td>\n",
       "      <td>six month marriage thanesar newly married woma...</td>\n",
       "    </tr>\n",
       "    <tr>\n",
       "      <th>4</th>\n",
       "      <td>मवार को डकैती के मामलों में वांछित दो लोगों को...</td>\n",
       "      <td>Mawar has arrested two people wanted in robber...</td>\n",
       "      <td>0</td>\n",
       "      <td>mawar arrested two people wanted robbery case ...</td>\n",
       "    </tr>\n",
       "  </tbody>\n",
       "</table>\n",
       "</div>"
      ],
      "text/plain": [
       "                                               hindi  \\\n",
       "0  सोनीपत में दो बच्चों पांच साल के लड़के और दो स...   \n",
       "1  पंचकुला में जहां शादी की पूर्व संध्या पर दुल्ह...   \n",
       "2  सोनीपत से अपने रिश्तेदार के सात वर्षीय बच्चे क...   \n",
       "3  थानेसर मे शादी के महज छह महीने बाद ही एक नवविव...   \n",
       "4  मवार को डकैती के मामलों में वांछित दो लोगों को...   \n",
       "\n",
       "                                           complaint  category  \\\n",
       "0  Two children, a five-year-old boy and a two-ye...         2   \n",
       "1  In Panchkula, where the bride's neighbor alleg...         3   \n",
       "2  After kidnapping a seven-year-old child of his...         2   \n",
       "3  Just six months after marriage in Thanesar, a ...         3   \n",
       "4  Mawar has arrested two people wanted in robber...         0   \n",
       "\n",
       "                                                text  \n",
       "0  two child five year old boy two year old girl ...  \n",
       "1  panchkula bride neighbor allegedly killed fath...  \n",
       "2  kidnapping seven year old child relative sonep...  \n",
       "3  six month marriage thanesar newly married woma...  \n",
       "4  mawar arrested two people wanted robbery case ...  "
      ]
     },
     "execution_count": 43,
     "metadata": {},
     "output_type": "execute_result"
    }
   ],
   "source": [
    "# text preprocessing\n",
    "\n",
    "\n",
    "\n",
    "\n",
    "# download nltk\n",
    "\n",
    "# import nltk\n",
    "\n",
    "# nltk.download('all')\n",
    "\n",
    "\n",
    "\n",
    "\n",
    "# create a list text\n",
    "\n",
    "text = list(data['complaint'])\n",
    "\n",
    "\n",
    "\n",
    "\n",
    "# preprocessing loop\n",
    "\n",
    "import re\n",
    "\n",
    "from nltk.corpus import stopwords\n",
    "\n",
    "from nltk.stem import WordNetLemmatizer\n",
    "\n",
    "lemmatizer = WordNetLemmatizer()\n",
    "\n",
    "\n",
    "\n",
    "\n",
    "corpus = []\n",
    "\n",
    "\n",
    "\n",
    "\n",
    "for i in range(len(text)):\n",
    "\n",
    "    r = re.sub('[^a-zA-Z]', ' ', text[i])\n",
    "\n",
    "    r = r.lower()\n",
    "\n",
    "    r = r.split()\n",
    "\n",
    "    r = [word for word in r if word not in stopwords.words('english')]\n",
    "\n",
    "    r = [lemmatizer.lemmatize(word) for word in r]\n",
    "\n",
    "    r = ' '.join(r)\n",
    "\n",
    "    corpus.append(r)\n",
    "\n",
    "\n",
    "\n",
    "\n",
    "#assign corpus to data['text']\n",
    "\n",
    "data['text'] = corpus\n",
    "\n",
    "data.head()"
   ]
  },
  {
   "cell_type": "code",
   "execution_count": 44,
   "metadata": {},
   "outputs": [
    {
     "name": "stdout",
     "output_type": "stream",
     "text": [
      "Training Data : (397,)\n",
      "Testing Data :  (45,)\n"
     ]
    }
   ],
   "source": [
    "# Create Feature and Label sets\n",
    "\n",
    "X = data['text']\n",
    "\n",
    "y = data['category']\n",
    "\n",
    "\n",
    "\n",
    "\n",
    "# train test split (66% train - 33% test)\n",
    "\n",
    "from sklearn.model_selection import train_test_split\n",
    "\n",
    "X_train, X_val, y_train, y_val = train_test_split(X, y, test_size=0.1, random_state=123)\n",
    "\n",
    "\n",
    "\n",
    "\n",
    "print('Training Data :', X_train.shape)\n",
    "\n",
    "print('Testing Data : ', X_val.shape)"
   ]
  },
  {
   "cell_type": "code",
   "execution_count": 45,
   "metadata": {},
   "outputs": [
    {
     "data": {
      "text/plain": [
       "(397, 2170)"
      ]
     },
     "execution_count": 45,
     "metadata": {},
     "output_type": "execute_result"
    }
   ],
   "source": [
    "# Train Bag of Words model\n",
    "\n",
    "from sklearn.feature_extraction.text import CountVectorizer\n",
    "\n",
    "cv = CountVectorizer()\n",
    "\n",
    "X_train_cv = cv.fit_transform(X_train)\n",
    "\n",
    "X_train_cv.shape"
   ]
  },
  {
   "cell_type": "code",
   "execution_count": 46,
   "metadata": {},
   "outputs": [
    {
     "data": {
      "text/plain": [
       "array([3, 3, 1, 2, 4, 4, 4, 4, 0, 3, 2, 0, 4, 4, 2, 1, 1, 1, 1, 0, 0, 3,\n",
       "       3, 0, 4, 0, 3, 2, 4, 2, 0, 4, 0, 2, 4, 0, 1, 4, 2, 1, 3, 4, 4, 4,\n",
       "       1], dtype=int64)"
      ]
     },
     "execution_count": 46,
     "metadata": {},
     "output_type": "execute_result"
    }
   ],
   "source": [
    "# Training Logistic Regression model\n",
    "\n",
    "from sklearn.linear_model import LogisticRegression\n",
    "\n",
    "lr = LogisticRegression()\n",
    "\n",
    "lr.fit(X_train_cv, y_train)\n",
    "\n",
    "\n",
    "\n",
    "\n",
    "# transform X_test using CV\n",
    "\n",
    "X_val_cv = cv.transform(X_val)\n",
    "\n",
    "\n",
    "\n",
    "\n",
    "# generate predictions\n",
    "\n",
    "predictions = lr.predict(X_val_cv)\n",
    "\n",
    "predictions"
   ]
  },
  {
   "cell_type": "code",
   "execution_count": 47,
   "metadata": {},
   "outputs": [
    {
     "data": {
      "text/html": [
       "<div>\n",
       "<style scoped>\n",
       "    .dataframe tbody tr th:only-of-type {\n",
       "        vertical-align: middle;\n",
       "    }\n",
       "\n",
       "    .dataframe tbody tr th {\n",
       "        vertical-align: top;\n",
       "    }\n",
       "\n",
       "    .dataframe thead th {\n",
       "        text-align: right;\n",
       "    }\n",
       "</style>\n",
       "<table border=\"1\" class=\"dataframe\">\n",
       "  <thead>\n",
       "    <tr style=\"text-align: right;\">\n",
       "      <th></th>\n",
       "      <th>0</th>\n",
       "      <th>1</th>\n",
       "      <th>2</th>\n",
       "      <th>3</th>\n",
       "      <th>4</th>\n",
       "    </tr>\n",
       "  </thead>\n",
       "  <tbody>\n",
       "    <tr>\n",
       "      <th>0</th>\n",
       "      <td>7</td>\n",
       "      <td>0</td>\n",
       "      <td>0</td>\n",
       "      <td>0</td>\n",
       "      <td>0</td>\n",
       "    </tr>\n",
       "    <tr>\n",
       "      <th>1</th>\n",
       "      <td>0</td>\n",
       "      <td>7</td>\n",
       "      <td>0</td>\n",
       "      <td>0</td>\n",
       "      <td>0</td>\n",
       "    </tr>\n",
       "    <tr>\n",
       "      <th>2</th>\n",
       "      <td>2</td>\n",
       "      <td>0</td>\n",
       "      <td>6</td>\n",
       "      <td>0</td>\n",
       "      <td>3</td>\n",
       "    </tr>\n",
       "    <tr>\n",
       "      <th>3</th>\n",
       "      <td>0</td>\n",
       "      <td>1</td>\n",
       "      <td>1</td>\n",
       "      <td>6</td>\n",
       "      <td>0</td>\n",
       "    </tr>\n",
       "    <tr>\n",
       "      <th>4</th>\n",
       "      <td>0</td>\n",
       "      <td>0</td>\n",
       "      <td>0</td>\n",
       "      <td>1</td>\n",
       "      <td>11</td>\n",
       "    </tr>\n",
       "  </tbody>\n",
       "</table>\n",
       "</div>"
      ],
      "text/plain": [
       "   0  1  2  3   4\n",
       "0  7  0  0  0   0\n",
       "1  0  7  0  0   0\n",
       "2  2  0  6  0   3\n",
       "3  0  1  1  6   0\n",
       "4  0  0  0  1  11"
      ]
     },
     "execution_count": 47,
     "metadata": {},
     "output_type": "execute_result"
    }
   ],
   "source": [
    "# confusion matrix\n",
    "\n",
    "import pandas as pd\n",
    "\n",
    "from sklearn import metrics\n",
    "\n",
    "mat = pd.DataFrame(metrics.confusion_matrix(y_val,predictions))\n",
    "\n",
    "mat"
   ]
  },
  {
   "cell_type": "code",
   "execution_count": 48,
   "metadata": {},
   "outputs": [
    {
     "data": {
      "text/plain": [
       "0.8222222222222222"
      ]
     },
     "execution_count": 48,
     "metadata": {},
     "output_type": "execute_result"
    }
   ],
   "source": [
    "accuracy_score(y_val, predictions)"
   ]
  },
  {
   "cell_type": "code",
   "execution_count": 49,
   "metadata": {},
   "outputs": [
    {
     "name": "stdout",
     "output_type": "stream",
     "text": [
      "[0, 3, 3, 3, 0, 0, 4, 3, 3, 3, 2, 0, 3, 1, 1, 0, 2, 1, 1, 2, 3, 0, 0, 0, 1, 0, 2, 3, 4, 3, 4, 0, 3, 0, 4, 3, 0, 4, 0, 4, 3, 0, 0, 1, 1, 3, 2, 3, 3, 1, 0, 1, 3, 2, 0, 1, 0, 3, 0, 3, 3, 3, 3, 1, 0, 1, 0, 0, 0, 4, 4, 3, 3, 1, 1, 1, 2, 0, 3, 0, 0, 0, 0, 4, 1, 1, 3, 3, 2, 2, 1, 3, 2, 1, 0, 3]\n",
      "[2 3 3 3 0 0 4 3 3 2 2 0 3 1 1 1 2 1 3 2 3 0 0 3 1 1 2 0 4 2 4 1 3 0 4 3 0\n",
      " 4 0 4 3 0 0 1 1 3 2 3 2 1 0 1 3 2 0 1 0 3 0 3 3 3 3 2 0 1 0 0 0 4 2 3 0 2\n",
      " 1 3 2 0 3 2 0 0 0 4 1 1 1 2 3 4 1 3 4 1 0 3]\n"
     ]
    }
   ],
   "source": [
    "# test on unseen data\n",
    "test_predictions= lr.predict(cv.transform(test['complaint']))\n",
    "print(list(test['category']))\n",
    "print(test_predictions)\n"
   ]
  },
  {
   "cell_type": "code",
   "execution_count": 50,
   "metadata": {},
   "outputs": [
    {
     "data": {
      "text/plain": [
       "0.78125"
      ]
     },
     "execution_count": 50,
     "metadata": {},
     "output_type": "execute_result"
    }
   ],
   "source": [
    "accuracy_score(test['category'], test_predictions)"
   ]
  },
  {
   "cell_type": "markdown",
   "metadata": {},
   "source": [
    "https://stackabuse.com/text-classification-with-python-and-scikit-learn/"
   ]
  },
  {
   "cell_type": "code",
   "execution_count": 51,
   "metadata": {},
   "outputs": [],
   "source": [
    "import numpy as np\n",
    "import re\n",
    "import nltk\n",
    "from sklearn.datasets import load_files\n",
    "# nltk.download('stopwords')\n",
    "import pickle\n",
    "from nltk.corpus import stopwords\n"
   ]
  },
  {
   "cell_type": "code",
   "execution_count": 52,
   "metadata": {},
   "outputs": [
    {
     "name": "stdout",
     "output_type": "stream",
     "text": [
      "                                               hindi  \\\n",
      "0  सोनीपत में दो बच्चों पांच साल के लड़के और दो स...   \n",
      "1  पंचकुला में जहां शादी की पूर्व संध्या पर दुल्ह...   \n",
      "2  सोनीपत से अपने रिश्तेदार के सात वर्षीय बच्चे क...   \n",
      "3  थानेसर मे शादी के महज छह महीने बाद ही एक नवविव...   \n",
      "4  मवार को डकैती के मामलों में वांछित दो लोगों को...   \n",
      "\n",
      "                                           complaint  category  \\\n",
      "0  Two children, a five-year-old boy and a two-ye...         2   \n",
      "1  In Panchkula, where the bride's neighbor alleg...         3   \n",
      "2  After kidnapping a seven-year-old child of his...         2   \n",
      "3  Just six months after marriage in Thanesar, a ...         3   \n",
      "4  Mawar has arrested two people wanted in robber...         0   \n",
      "\n",
      "                                                text  \n",
      "0  two child five year old boy two year old girl ...  \n",
      "1  panchkula bride neighbor allegedly killed fath...  \n",
      "2  kidnapping seven year old child relative sonep...  \n",
      "3  six month marriage thanesar newly married woma...  \n",
      "4  mawar arrested two people wanted robbery case ...  \n"
     ]
    }
   ],
   "source": [
    "print(df.head())"
   ]
  },
  {
   "cell_type": "code",
   "execution_count": 53,
   "metadata": {},
   "outputs": [],
   "source": [
    "x= df['complaint']\n",
    "y= df['category']\n"
   ]
  },
  {
   "cell_type": "code",
   "execution_count": 54,
   "metadata": {},
   "outputs": [],
   "source": [
    "documents = []\n",
    "\n",
    "from nltk.stem import WordNetLemmatizer\n",
    "\n",
    "stemmer = WordNetLemmatizer()\n",
    "\n",
    "for sen in range(0, len(X)):\n",
    "    # Remove all the special characters\n",
    "    document = re.sub(r'\\W', ' ', str(X[sen]))\n",
    "    \n",
    "    # remove all single characters\n",
    "    document = re.sub(r'\\s+[a-zA-Z]\\s+', ' ', document)\n",
    "    \n",
    "    # Remove single characters from the start\n",
    "    document = re.sub(r'\\^[a-zA-Z]\\s+', ' ', document) \n",
    "    \n",
    "    # Substituting multiple spaces with single space\n",
    "    document = re.sub(r'\\s+', ' ', document, flags=re.I)\n",
    "    \n",
    "    # Removing prefixed 'b'\n",
    "    document = re.sub(r'^b\\s+', '', document)\n",
    "    \n",
    "    # Converting to Lowercase\n",
    "    document = document.lower()\n",
    "    \n",
    "    # Lemmatization\n",
    "    document = document.split()\n",
    "\n",
    "    document = [stemmer.lemmatize(word) for word in document]\n",
    "    document = ' '.join(document)\n",
    "    \n",
    "    documents.append(document)"
   ]
  },
  {
   "cell_type": "code",
   "execution_count": 55,
   "metadata": {},
   "outputs": [],
   "source": [
    "from sklearn.feature_extraction.text import CountVectorizer\n",
    "vectorizer = CountVectorizer(max_features=1500, min_df=5, max_df=0.7, stop_words=stopwords.words('english'))\n",
    "X = vectorizer.fit_transform(documents).toarray()"
   ]
  },
  {
   "cell_type": "code",
   "execution_count": 56,
   "metadata": {},
   "outputs": [],
   "source": [
    "from sklearn.feature_extraction.text import TfidfTransformer\n",
    "tfidfconverter = TfidfTransformer()\n",
    "X = tfidfconverter.fit_transform(X).toarray()"
   ]
  },
  {
   "cell_type": "code",
   "execution_count": 57,
   "metadata": {},
   "outputs": [],
   "source": [
    "from sklearn.feature_extraction.text import TfidfVectorizer\n",
    "tfidfconverter = TfidfVectorizer(max_features=1500, min_df=5, max_df=0.7, stop_words='english')\n",
    "# tfidfconverter = TfidfVectorizer(max_features=1500, min_df=5, max_df=0.7, ngram_range= (1,2), stop_words='english')\n",
    "X = tfidfconverter.fit_transform(documents).toarray()"
   ]
  },
  {
   "cell_type": "code",
   "execution_count": 58,
   "metadata": {},
   "outputs": [],
   "source": [
    "from sklearn.model_selection import train_test_split\n",
    "X_train, X_val, y_train, y_val = train_test_split(X, y, test_size=0.2, random_state=0)"
   ]
  },
  {
   "cell_type": "code",
   "execution_count": 59,
   "metadata": {},
   "outputs": [
    {
     "data": {
      "text/html": [
       "<style>#sk-container-id-1 {color: black;}#sk-container-id-1 pre{padding: 0;}#sk-container-id-1 div.sk-toggleable {background-color: white;}#sk-container-id-1 label.sk-toggleable__label {cursor: pointer;display: block;width: 100%;margin-bottom: 0;padding: 0.3em;box-sizing: border-box;text-align: center;}#sk-container-id-1 label.sk-toggleable__label-arrow:before {content: \"▸\";float: left;margin-right: 0.25em;color: #696969;}#sk-container-id-1 label.sk-toggleable__label-arrow:hover:before {color: black;}#sk-container-id-1 div.sk-estimator:hover label.sk-toggleable__label-arrow:before {color: black;}#sk-container-id-1 div.sk-toggleable__content {max-height: 0;max-width: 0;overflow: hidden;text-align: left;background-color: #f0f8ff;}#sk-container-id-1 div.sk-toggleable__content pre {margin: 0.2em;color: black;border-radius: 0.25em;background-color: #f0f8ff;}#sk-container-id-1 input.sk-toggleable__control:checked~div.sk-toggleable__content {max-height: 200px;max-width: 100%;overflow: auto;}#sk-container-id-1 input.sk-toggleable__control:checked~label.sk-toggleable__label-arrow:before {content: \"▾\";}#sk-container-id-1 div.sk-estimator input.sk-toggleable__control:checked~label.sk-toggleable__label {background-color: #d4ebff;}#sk-container-id-1 div.sk-label input.sk-toggleable__control:checked~label.sk-toggleable__label {background-color: #d4ebff;}#sk-container-id-1 input.sk-hidden--visually {border: 0;clip: rect(1px 1px 1px 1px);clip: rect(1px, 1px, 1px, 1px);height: 1px;margin: -1px;overflow: hidden;padding: 0;position: absolute;width: 1px;}#sk-container-id-1 div.sk-estimator {font-family: monospace;background-color: #f0f8ff;border: 1px dotted black;border-radius: 0.25em;box-sizing: border-box;margin-bottom: 0.5em;}#sk-container-id-1 div.sk-estimator:hover {background-color: #d4ebff;}#sk-container-id-1 div.sk-parallel-item::after {content: \"\";width: 100%;border-bottom: 1px solid gray;flex-grow: 1;}#sk-container-id-1 div.sk-label:hover label.sk-toggleable__label {background-color: #d4ebff;}#sk-container-id-1 div.sk-serial::before {content: \"\";position: absolute;border-left: 1px solid gray;box-sizing: border-box;top: 0;bottom: 0;left: 50%;z-index: 0;}#sk-container-id-1 div.sk-serial {display: flex;flex-direction: column;align-items: center;background-color: white;padding-right: 0.2em;padding-left: 0.2em;position: relative;}#sk-container-id-1 div.sk-item {position: relative;z-index: 1;}#sk-container-id-1 div.sk-parallel {display: flex;align-items: stretch;justify-content: center;background-color: white;position: relative;}#sk-container-id-1 div.sk-item::before, #sk-container-id-1 div.sk-parallel-item::before {content: \"\";position: absolute;border-left: 1px solid gray;box-sizing: border-box;top: 0;bottom: 0;left: 50%;z-index: -1;}#sk-container-id-1 div.sk-parallel-item {display: flex;flex-direction: column;z-index: 1;position: relative;background-color: white;}#sk-container-id-1 div.sk-parallel-item:first-child::after {align-self: flex-end;width: 50%;}#sk-container-id-1 div.sk-parallel-item:last-child::after {align-self: flex-start;width: 50%;}#sk-container-id-1 div.sk-parallel-item:only-child::after {width: 0;}#sk-container-id-1 div.sk-dashed-wrapped {border: 1px dashed gray;margin: 0 0.4em 0.5em 0.4em;box-sizing: border-box;padding-bottom: 0.4em;background-color: white;}#sk-container-id-1 div.sk-label label {font-family: monospace;font-weight: bold;display: inline-block;line-height: 1.2em;}#sk-container-id-1 div.sk-label-container {text-align: center;}#sk-container-id-1 div.sk-container {/* jupyter's `normalize.less` sets `[hidden] { display: none; }` but bootstrap.min.css set `[hidden] { display: none !important; }` so we also need the `!important` here to be able to override the default hidden behavior on the sphinx rendered scikit-learn.org. See: https://github.com/scikit-learn/scikit-learn/issues/21755 */display: inline-block !important;position: relative;}#sk-container-id-1 div.sk-text-repr-fallback {display: none;}</style><div id=\"sk-container-id-1\" class=\"sk-top-container\"><div class=\"sk-text-repr-fallback\"><pre>RandomForestClassifier(n_estimators=1000, random_state=0)</pre><b>In a Jupyter environment, please rerun this cell to show the HTML representation or trust the notebook. <br />On GitHub, the HTML representation is unable to render, please try loading this page with nbviewer.org.</b></div><div class=\"sk-container\" hidden><div class=\"sk-item\"><div class=\"sk-estimator sk-toggleable\"><input class=\"sk-toggleable__control sk-hidden--visually\" id=\"sk-estimator-id-1\" type=\"checkbox\" checked><label for=\"sk-estimator-id-1\" class=\"sk-toggleable__label sk-toggleable__label-arrow\">RandomForestClassifier</label><div class=\"sk-toggleable__content\"><pre>RandomForestClassifier(n_estimators=1000, random_state=0)</pre></div></div></div></div></div>"
      ],
      "text/plain": [
       "RandomForestClassifier(n_estimators=1000, random_state=0)"
      ]
     },
     "execution_count": 59,
     "metadata": {},
     "output_type": "execute_result"
    }
   ],
   "source": [
    "classifier = RandomForestClassifier(n_estimators=1000, random_state=0)\n",
    "classifier.fit(X_train, y_train) "
   ]
  },
  {
   "cell_type": "code",
   "execution_count": 60,
   "metadata": {},
   "outputs": [],
   "source": [
    "y_pred = classifier.predict(X_val)\n"
   ]
  },
  {
   "cell_type": "code",
   "execution_count": 61,
   "metadata": {},
   "outputs": [
    {
     "name": "stdout",
     "output_type": "stream",
     "text": [
      "[[17  0  4  0  0]\n",
      " [ 0 15  0  0  0]\n",
      " [ 0  0  8  1  3]\n",
      " [ 0  1  0 15  2]\n",
      " [ 0  0  0  2 21]]\n",
      "              precision    recall  f1-score   support\n",
      "\n",
      "           0       1.00      0.81      0.89        21\n",
      "           1       0.94      1.00      0.97        15\n",
      "           2       0.67      0.67      0.67        12\n",
      "           3       0.83      0.83      0.83        18\n",
      "           4       0.81      0.91      0.86        23\n",
      "\n",
      "    accuracy                           0.85        89\n",
      "   macro avg       0.85      0.84      0.84        89\n",
      "weighted avg       0.86      0.85      0.85        89\n",
      "\n",
      "0.8539325842696629\n"
     ]
    }
   ],
   "source": [
    "from sklearn.metrics import classification_report, confusion_matrix, accuracy_score\n",
    "\n",
    "print(confusion_matrix(y_val,y_pred))\n",
    "print(classification_report(y_val,y_pred))\n",
    "print(accuracy_score(y_val, y_pred))"
   ]
  },
  {
   "cell_type": "code",
   "execution_count": 62,
   "metadata": {},
   "outputs": [
    {
     "name": "stdout",
     "output_type": "stream",
     "text": [
      "[0, 3, 3, 3, 0, 0, 4, 3, 3, 3, 2, 0, 3, 1, 1, 0, 2, 1, 1, 2, 3, 0, 0, 0, 1, 0, 2, 3, 4, 3, 4, 0, 3, 0, 4, 3, 0, 4, 0, 4, 3, 0, 0, 1, 1, 3, 2, 3, 3, 1, 0, 1, 3, 2, 0, 1, 0, 3, 0, 3, 3, 3, 3, 1, 0, 1, 0, 0, 0, 4, 4, 3, 3, 1, 1, 1, 2, 0, 3, 0, 0, 0, 0, 4, 1, 1, 3, 3, 2, 2, 1, 3, 2, 1, 0, 3]\n",
      "[2 3 3 3 3 0 4 3 3 3 2 0 3 1 1 1 2 1 3 2 3 0 0 3 1 0 2 3 4 3 3 1 3 0 4 3 0\n",
      " 4 0 4 3 2 2 1 1 3 2 3 3 1 1 1 3 2 0 1 0 3 0 1 3 3 3 2 0 1 3 3 2 4 3 3 0 3\n",
      " 1 3 2 0 3 2 0 0 2 4 1 1 1 2 3 4 1 3 2 2 2 3]\n"
     ]
    }
   ],
   "source": [
    "# test on unseen data\n",
    "test_predictions= classifier.predict(tfidfconverter.transform(test['complaint']))\n",
    "print(list(test['category']))\n",
    "print(test_predictions)\n"
   ]
  },
  {
   "cell_type": "code",
   "execution_count": 63,
   "metadata": {},
   "outputs": [
    {
     "name": "stdout",
     "output_type": "stream",
     "text": [
      "0.71875\n"
     ]
    }
   ],
   "source": [
    "print(accuracy_score(test['category'], test_predictions))"
   ]
  },
  {
   "cell_type": "code",
   "execution_count": 64,
   "metadata": {},
   "outputs": [],
   "source": [
    "# Models:\n",
    "from sklearn.ensemble import AdaBoostClassifier, GradientBoostingClassifier\n",
    "from sklearn.linear_model import SGDClassifier\n",
    "from sklearn.neighbors import KNeighborsClassifier\n",
    "from sklearn.svm import LinearSVC\n",
    "\n",
    "models = [LinearSVC(), MultinomialNB(), DecisionTreeClassifier(), RandomForestClassifier(), AdaBoostClassifier(), GradientBoostingClassifier(), KNeighborsClassifier(), LogisticRegression(), SGDClassifier()]\n",
    "\n",
    "# 5 Cross-validation\n",
    "CV = 5\n",
    "cv_df = pd.DataFrame(index=range(CV * len(models)))"
   ]
  },
  {
   "cell_type": "code",
   "execution_count": 65,
   "metadata": {},
   "outputs": [
    {
     "name": "stderr",
     "output_type": "stream",
     "text": [
      "c:\\Python311\\Lib\\site-packages\\sklearn\\svm\\_classes.py:32: FutureWarning: The default value of `dual` will change from `True` to `'auto'` in 1.5. Set the value of `dual` explicitly to suppress the warning.\n",
      "  warnings.warn(\n",
      "c:\\Python311\\Lib\\site-packages\\sklearn\\svm\\_classes.py:32: FutureWarning: The default value of `dual` will change from `True` to `'auto'` in 1.5. Set the value of `dual` explicitly to suppress the warning.\n",
      "  warnings.warn(\n",
      "c:\\Python311\\Lib\\site-packages\\sklearn\\svm\\_classes.py:32: FutureWarning: The default value of `dual` will change from `True` to `'auto'` in 1.5. Set the value of `dual` explicitly to suppress the warning.\n",
      "  warnings.warn(\n",
      "c:\\Python311\\Lib\\site-packages\\sklearn\\svm\\_classes.py:32: FutureWarning: The default value of `dual` will change from `True` to `'auto'` in 1.5. Set the value of `dual` explicitly to suppress the warning.\n",
      "  warnings.warn(\n",
      "c:\\Python311\\Lib\\site-packages\\sklearn\\svm\\_classes.py:32: FutureWarning: The default value of `dual` will change from `True` to `'auto'` in 1.5. Set the value of `dual` explicitly to suppress the warning.\n",
      "  warnings.warn(\n"
     ]
    }
   ],
   "source": [
    "from sklearn.model_selection import cross_val_score\n",
    "\n",
    "\n",
    "entries = []\n",
    "for model in models:\n",
    "  model_name = model.__class__.__name__\n",
    "  accuracies = cross_val_score(model, X, y, scoring='accuracy', cv=CV)\n",
    "  for fold_idx, accuracy in enumerate(accuracies):\n",
    "    entries.append((model_name, fold_idx, accuracy))\n",
    "    \n",
    "cv_df = pd.DataFrame(entries, columns=['model_name', 'fold_idx', 'accuracy'])"
   ]
  },
  {
   "cell_type": "code",
   "execution_count": 66,
   "metadata": {},
   "outputs": [
    {
     "data": {
      "text/html": [
       "<div>\n",
       "<style scoped>\n",
       "    .dataframe tbody tr th:only-of-type {\n",
       "        vertical-align: middle;\n",
       "    }\n",
       "\n",
       "    .dataframe tbody tr th {\n",
       "        vertical-align: top;\n",
       "    }\n",
       "\n",
       "    .dataframe thead th {\n",
       "        text-align: right;\n",
       "    }\n",
       "</style>\n",
       "<table border=\"1\" class=\"dataframe\">\n",
       "  <thead>\n",
       "    <tr style=\"text-align: right;\">\n",
       "      <th></th>\n",
       "      <th>Mean Accuracy</th>\n",
       "      <th>Standard deviation</th>\n",
       "    </tr>\n",
       "    <tr>\n",
       "      <th>model_name</th>\n",
       "      <th></th>\n",
       "      <th></th>\n",
       "    </tr>\n",
       "  </thead>\n",
       "  <tbody>\n",
       "    <tr>\n",
       "      <th>AdaBoostClassifier</th>\n",
       "      <td>0.463585</td>\n",
       "      <td>0.076349</td>\n",
       "    </tr>\n",
       "    <tr>\n",
       "      <th>DecisionTreeClassifier</th>\n",
       "      <td>0.726124</td>\n",
       "      <td>0.040524</td>\n",
       "    </tr>\n",
       "    <tr>\n",
       "      <th>GradientBoostingClassifier</th>\n",
       "      <td>0.812206</td>\n",
       "      <td>0.017248</td>\n",
       "    </tr>\n",
       "    <tr>\n",
       "      <th>KNeighborsClassifier</th>\n",
       "      <td>0.707942</td>\n",
       "      <td>0.050254</td>\n",
       "    </tr>\n",
       "    <tr>\n",
       "      <th>LinearSVC</th>\n",
       "      <td>0.825817</td>\n",
       "      <td>0.023169</td>\n",
       "    </tr>\n",
       "    <tr>\n",
       "      <th>LogisticRegression</th>\n",
       "      <td>0.825741</td>\n",
       "      <td>0.021044</td>\n",
       "    </tr>\n",
       "    <tr>\n",
       "      <th>MultinomialNB</th>\n",
       "      <td>0.814505</td>\n",
       "      <td>0.035057</td>\n",
       "    </tr>\n",
       "    <tr>\n",
       "      <th>RandomForestClassifier</th>\n",
       "      <td>0.807661</td>\n",
       "      <td>0.041873</td>\n",
       "    </tr>\n",
       "    <tr>\n",
       "      <th>SGDClassifier</th>\n",
       "      <td>0.791879</td>\n",
       "      <td>0.037987</td>\n",
       "    </tr>\n",
       "  </tbody>\n",
       "</table>\n",
       "</div>"
      ],
      "text/plain": [
       "                            Mean Accuracy  Standard deviation\n",
       "model_name                                                   \n",
       "AdaBoostClassifier               0.463585            0.076349\n",
       "DecisionTreeClassifier           0.726124            0.040524\n",
       "GradientBoostingClassifier       0.812206            0.017248\n",
       "KNeighborsClassifier             0.707942            0.050254\n",
       "LinearSVC                        0.825817            0.023169\n",
       "LogisticRegression               0.825741            0.021044\n",
       "MultinomialNB                    0.814505            0.035057\n",
       "RandomForestClassifier           0.807661            0.041873\n",
       "SGDClassifier                    0.791879            0.037987"
      ]
     },
     "execution_count": 66,
     "metadata": {},
     "output_type": "execute_result"
    }
   ],
   "source": [
    "mean_accuracy = cv_df.groupby('model_name').accuracy.mean()\n",
    "std_accuracy = cv_df.groupby('model_name').accuracy.std()\n",
    "acc = pd.concat([mean_accuracy, std_accuracy], axis= 1, ignore_index=True)\n",
    "acc.columns = ['Mean Accuracy', 'Standard deviation']\n",
    "acc"
   ]
  },
  {
   "cell_type": "code",
   "execution_count": 68,
   "metadata": {},
   "outputs": [
    {
     "data": {
      "image/png": "[encoded data removed]",
      "text/plain": [
       "<Figure size 800x500 with 1 Axes>"
      ]
     },
     "metadata": {},
     "output_type": "display_data"
    }
   ],
   "source": [
    "from matplotlib import pyplot as plt\n",
    "\n",
    "\n",
    "plt.figure(figsize=(8,5))\n",
    "sns.boxplot(x='model_name', y='accuracy', \n",
    "            data=cv_df, \n",
    "            color='lightblue', \n",
    "            showmeans=True)\n",
    "plt.title(\"MEAN ACCURACY (cv = 5)\\n\", size=14);"
   ]
  },
  {
   "cell_type": "code",
   "execution_count": 69,
   "metadata": {},
   "outputs": [
    {
     "name": "stderr",
     "output_type": "stream",
     "text": [
      "c:\\Python311\\Lib\\site-packages\\sklearn\\svm\\_classes.py:32: FutureWarning: The default value of `dual` will change from `True` to `'auto'` in 1.5. Set the value of `dual` explicitly to suppress the warning.\n",
      "  warnings.warn(\n"
     ]
    }
   ],
   "source": [
    "X_train, X_test, y_train, y_test = train_test_split(X, \n",
    "                                                               y, \n",
    "                                                            test_size=0.1, \n",
    "                                                               random_state=1)\n",
    "model = LinearSVC()\n",
    "model.fit(X_train, y_train)\n",
    "y_pred = model.predict(X_test)"
   ]
  },
  {
   "cell_type": "code",
   "execution_count": 70,
   "metadata": {},
   "outputs": [
    {
     "name": "stdout",
     "output_type": "stream",
     "text": [
      "\t\t\t\tCLASSIFICATIION METRICS\n",
      "\n",
      "              precision    recall  f1-score   support\n",
      "\n",
      "           0       0.82      0.90      0.86        10\n",
      "           1       1.00      0.86      0.92         7\n",
      "           2       0.88      0.78      0.82         9\n",
      "           3       0.80      1.00      0.89         4\n",
      "           4       0.87      0.87      0.87        15\n",
      "\n",
      "    accuracy                           0.87        45\n",
      "   macro avg       0.87      0.88      0.87        45\n",
      "weighted avg       0.87      0.87      0.87        45\n",
      "\n"
     ]
    }
   ],
   "source": [
    "# Classification report\n",
    "print('\\t\\t\\t\\tCLASSIFICATIION METRICS\\n')\n",
    "print(metrics.classification_report(y_test, y_pred))"
   ]
  },
  {
   "cell_type": "code",
   "execution_count": 71,
   "metadata": {},
   "outputs": [
    {
     "data": {
      "text/plain": [
       "0.8666666666666667"
      ]
     },
     "execution_count": 71,
     "metadata": {},
     "output_type": "execute_result"
    }
   ],
   "source": [
    "accuracy_score(y_test, y_pred)"
   ]
  },
  {
   "cell_type": "code",
   "execution_count": 72,
   "metadata": {},
   "outputs": [
    {
     "name": "stdout",
     "output_type": "stream",
     "text": [
      "\t\t\t\tCLASSIFICATIION METRICS\n",
      "\n",
      "              precision    recall  f1-score   support\n",
      "\n",
      "           0       0.92      0.83      0.87        29\n",
      "           1       0.64      0.84      0.73        19\n",
      "           2       0.62      0.80      0.70        10\n",
      "           3       0.83      0.69      0.75        29\n",
      "           4       0.88      0.78      0.82         9\n",
      "\n",
      "    accuracy                           0.78        96\n",
      "   macro avg       0.78      0.79      0.77        96\n",
      "weighted avg       0.80      0.78      0.79        96\n",
      "\n"
     ]
    }
   ],
   "source": [
    "# test on unseen data\n",
    "test_predictions= model.predict(tfidfconverter.transform(test['complaint']))\n",
    "# Classification report\n",
    "print('\\t\\t\\t\\tCLASSIFICATIION METRICS\\n')\n",
    "print(metrics.classification_report(test['category'], test_predictions))\n"
   ]
  },
  {
   "cell_type": "markdown",
   "metadata": {},
   "source": [
    "https://www.kaggle.com/code/heeraldedhia/text-classification-nlp"
   ]
  },
  {
   "cell_type": "code",
   "execution_count": 73,
   "metadata": {},
   "outputs": [],
   "source": [
    "import numpy as np\n",
    "import pandas as pd \n",
    "\n",
    "import matplotlib as mpl \n",
    "import matplotlib.cm as cm \n",
    "import matplotlib.pyplot as plt \n",
    "import plotly.graph_objects as go\n",
    "import seaborn as sns\n",
    "\n",
    "from sklearn.feature_extraction.text import CountVectorizer\n",
    "from sklearn.feature_extraction import _stop_words\n",
    "from nltk.stem import WordNetLemmatizer\n",
    "from sklearn.feature_extraction.text import TfidfVectorizer \n",
    "\n",
    "import string\n",
    "import re\n",
    "\n",
    "from sklearn.naive_bayes import MultinomialNB\n",
    "from sklearn.naive_bayes import GaussianNB\n",
    "from sklearn.linear_model import LogisticRegression\n",
    "from sklearn.svm import LinearSVC\n",
    "\n",
    "from sklearn.metrics import accuracy_score\n",
    "import sklearn.metrics as metrics\n",
    "from sklearn.model_selection import train_test_split\n",
    "from sklearn.metrics import confusion_matrix \n",
    "from sklearn.metrics import classification_report\n",
    "from sklearn import metrics\n",
    "\n",
    "from time import time\n",
    "\n",
    "import warnings\n",
    "warnings.filterwarnings(\"ignore\")"
   ]
  },
  {
   "cell_type": "code",
   "execution_count": 74,
   "metadata": {},
   "outputs": [
    {
     "data": {
      "text/plain": [
       "(442, 4)"
      ]
     },
     "metadata": {},
     "output_type": "display_data"
    }
   ],
   "source": [
    "# data = pd.read_csv('complaint with manual labels.csv')\n",
    "data= df\n",
    "display(data.shape) "
   ]
  },
  {
   "cell_type": "code",
   "execution_count": 79,
   "metadata": {},
   "outputs": [
    {
     "data": {
      "text/plain": [
       "Index(['hindi', 'complaint', 'category', 'text'], dtype='object')"
      ]
     },
     "execution_count": 79,
     "metadata": {},
     "output_type": "execute_result"
    }
   ],
   "source": [
    "data.columns"
   ]
  },
  {
   "cell_type": "code",
   "execution_count": 75,
   "metadata": {},
   "outputs": [
    {
     "data": {
      "text/plain": [
       "category\n",
       "4    91\n",
       "2    90\n",
       "3    90\n",
       "0    90\n",
       "1    81\n",
       "Name: count, dtype: int64"
      ]
     },
     "execution_count": 75,
     "metadata": {},
     "output_type": "execute_result"
    }
   ],
   "source": [
    "data[\"category\"].value_counts()"
   ]
  },
  {
   "cell_type": "code",
   "execution_count": 76,
   "metadata": {},
   "outputs": [
    {
     "data": {
      "text/plain": [
       "category\n",
       "4    0.205882\n",
       "2    0.203620\n",
       "3    0.203620\n",
       "0    0.203620\n",
       "1    0.183258\n",
       "Name: count, dtype: float64"
      ]
     },
     "execution_count": 76,
     "metadata": {},
     "output_type": "execute_result"
    }
   ],
   "source": [
    "data[\"category\"].value_counts()/data.shape[0] "
   ]
  },
  {
   "cell_type": "code",
   "execution_count": null,
   "metadata": {},
   "outputs": [],
   "source": [
    "pip install --upgrade nbformat\n"
   ]
  },
  {
   "cell_type": "code",
   "execution_count": 84,
   "metadata": {},
   "outputs": [
    {
     "ename": "ValueError",
     "evalue": "Mime type rendering requires nbformat>=4.2.0 but it is not installed",
     "output_type": "error",
     "traceback": [
      "\u001b[1;31m---------------------------------------------------------------------------\u001b[0m",
      "\u001b[1;31mValueError\u001b[0m                                Traceback (most recent call last)",
      "Cell \u001b[1;32mIn[84], line 6\u001b[0m\n\u001b[0;32m      1\u001b[0m fig \u001b[39m=\u001b[39m go\u001b[39m.\u001b[39mFigure([go\u001b[39m.\u001b[39mBar(x\u001b[39m=\u001b[39mdata[\u001b[39m'\u001b[39m\u001b[39mcategory\u001b[39m\u001b[39m'\u001b[39m]\u001b[39m.\u001b[39mvalue_counts()\u001b[39m.\u001b[39mindex, y\u001b[39m=\u001b[39mdata[\u001b[39m'\u001b[39m\u001b[39mcategory\u001b[39m\u001b[39m'\u001b[39m]\u001b[39m.\u001b[39mvalue_counts()\u001b[39m.\u001b[39mtolist())])\n\u001b[0;32m      2\u001b[0m fig\u001b[39m.\u001b[39mupdate_layout(\n\u001b[0;32m      3\u001b[0m     title\u001b[39m=\u001b[39m\u001b[39m\"\u001b[39m\u001b[39mValues in each Complaint\u001b[39m\u001b[39m\"\u001b[39m,\n\u001b[0;32m      4\u001b[0m     xaxis_title\u001b[39m=\u001b[39m\u001b[39m\"\u001b[39m\u001b[39mComplaints\u001b[39m\u001b[39m\"\u001b[39m,\n\u001b[0;32m      5\u001b[0m     yaxis_title\u001b[39m=\u001b[39m\u001b[39m\"\u001b[39m\u001b[39mValues\u001b[39m\u001b[39m\"\u001b[39m)\n\u001b[1;32m----> 6\u001b[0m fig\u001b[39m.\u001b[39;49mshow()\n",
      "File \u001b[1;32m~\\AppData\\Roaming\\Python\\Python311\\site-packages\\plotly\\basedatatypes.py:3409\u001b[0m, in \u001b[0;36mBaseFigure.show\u001b[1;34m(self, *args, **kwargs)\u001b[0m\n\u001b[0;32m   3376\u001b[0m \u001b[39m\u001b[39m\u001b[39m\"\"\"\u001b[39;00m\n\u001b[0;32m   3377\u001b[0m \u001b[39mShow a figure using either the default renderer(s) or the renderer(s)\u001b[39;00m\n\u001b[0;32m   3378\u001b[0m \u001b[39mspecified by the renderer argument\u001b[39;00m\n\u001b[1;32m   (...)\u001b[0m\n\u001b[0;32m   3405\u001b[0m \u001b[39mNone\u001b[39;00m\n\u001b[0;32m   3406\u001b[0m \u001b[39m\"\"\"\u001b[39;00m\n\u001b[0;32m   3407\u001b[0m \u001b[39mimport\u001b[39;00m \u001b[39mplotly\u001b[39;00m\u001b[39m.\u001b[39;00m\u001b[39mio\u001b[39;00m \u001b[39mas\u001b[39;00m \u001b[39mpio\u001b[39;00m\n\u001b[1;32m-> 3409\u001b[0m \u001b[39mreturn\u001b[39;00m pio\u001b[39m.\u001b[39;49mshow(\u001b[39mself\u001b[39;49m, \u001b[39m*\u001b[39;49margs, \u001b[39m*\u001b[39;49m\u001b[39m*\u001b[39;49mkwargs)\n",
      "File \u001b[1;32m~\\AppData\\Roaming\\Python\\Python311\\site-packages\\plotly\\io\\_renderers.py:396\u001b[0m, in \u001b[0;36mshow\u001b[1;34m(fig, renderer, validate, **kwargs)\u001b[0m\n\u001b[0;32m    391\u001b[0m         \u001b[39mraise\u001b[39;00m \u001b[39mValueError\u001b[39;00m(\n\u001b[0;32m    392\u001b[0m             \u001b[39m\"\u001b[39m\u001b[39mMime type rendering requires ipython but it is not installed\u001b[39m\u001b[39m\"\u001b[39m\n\u001b[0;32m    393\u001b[0m         )\n\u001b[0;32m    395\u001b[0m     \u001b[39mif\u001b[39;00m \u001b[39mnot\u001b[39;00m nbformat \u001b[39mor\u001b[39;00m Version(nbformat\u001b[39m.\u001b[39m__version__) \u001b[39m<\u001b[39m Version(\u001b[39m\"\u001b[39m\u001b[39m4.2.0\u001b[39m\u001b[39m\"\u001b[39m):\n\u001b[1;32m--> 396\u001b[0m         \u001b[39mraise\u001b[39;00m \u001b[39mValueError\u001b[39;00m(\n\u001b[0;32m    397\u001b[0m             \u001b[39m\"\u001b[39m\u001b[39mMime type rendering requires nbformat>=4.2.0 but it is not installed\u001b[39m\u001b[39m\"\u001b[39m\n\u001b[0;32m    398\u001b[0m         )\n\u001b[0;32m    400\u001b[0m     ipython_display\u001b[39m.\u001b[39mdisplay(bundle, raw\u001b[39m=\u001b[39m\u001b[39mTrue\u001b[39;00m)\n\u001b[0;32m    402\u001b[0m \u001b[39m# external renderers\u001b[39;00m\n",
      "\u001b[1;31mValueError\u001b[0m: Mime type rendering requires nbformat>=4.2.0 but it is not installed"
     ]
    }
   ],
   "source": [
    "fig = go.Figure([go.Bar(x=data['category'].value_counts().index, y=data['category'].value_counts().tolist())])\n",
    "fig.update_layout(\n",
    "    title=\"Values in each Complaint\",\n",
    "    xaxis_title=\"Complaints\",\n",
    "    yaxis_title=\"Values\")\n",
    "fig.show()"
   ]
  },
  {
   "cell_type": "code",
   "execution_count": 77,
   "metadata": {},
   "outputs": [
    {
     "data": {
      "text/plain": [
       "(442, 2)"
      ]
     },
     "execution_count": 77,
     "metadata": {},
     "output_type": "execute_result"
    }
   ],
   "source": [
    "# df['category'] = df.category.map({'rape': 4, 'murder': 3, 'kidnap': 2, 'accident':1, 'theft':0})\n",
    "# test['category'] = test.category.map({'rape': 4, 'murder': 3, 'kidnap': 2, 'accident':1, 'theft':0})\n",
    "\n",
    "data = data[[\"complaint\",\"category\"]] # taking text input and output variable as relevance\n",
    "data = data[:1000]\n",
    "data.shape"
   ]
  },
  {
   "cell_type": "code",
   "execution_count": 78,
   "metadata": {},
   "outputs": [
    {
     "data": {
      "text/html": [
       "<div>\n",
       "<style scoped>\n",
       "    .dataframe tbody tr th:only-of-type {\n",
       "        vertical-align: middle;\n",
       "    }\n",
       "\n",
       "    .dataframe tbody tr th {\n",
       "        vertical-align: top;\n",
       "    }\n",
       "\n",
       "    .dataframe thead th {\n",
       "        text-align: right;\n",
       "    }\n",
       "</style>\n",
       "<table border=\"1\" class=\"dataframe\">\n",
       "  <thead>\n",
       "    <tr style=\"text-align: right;\">\n",
       "      <th></th>\n",
       "      <th>complaint</th>\n",
       "      <th>category</th>\n",
       "    </tr>\n",
       "  </thead>\n",
       "  <tbody>\n",
       "    <tr>\n",
       "      <th>0</th>\n",
       "      <td>Two children, a five-year-old boy and a two-ye...</td>\n",
       "      <td>2</td>\n",
       "    </tr>\n",
       "    <tr>\n",
       "      <th>1</th>\n",
       "      <td>In Panchkula, where the bride's neighbor alleg...</td>\n",
       "      <td>3</td>\n",
       "    </tr>\n",
       "    <tr>\n",
       "      <th>2</th>\n",
       "      <td>After kidnapping a seven-year-old child of his...</td>\n",
       "      <td>2</td>\n",
       "    </tr>\n",
       "    <tr>\n",
       "      <th>3</th>\n",
       "      <td>Just six months after marriage in Thanesar, a ...</td>\n",
       "      <td>3</td>\n",
       "    </tr>\n",
       "    <tr>\n",
       "      <th>4</th>\n",
       "      <td>Mawar has arrested two people wanted in robber...</td>\n",
       "      <td>0</td>\n",
       "    </tr>\n",
       "  </tbody>\n",
       "</table>\n",
       "</div>"
      ],
      "text/plain": [
       "                                           complaint  category\n",
       "0  Two children, a five-year-old boy and a two-ye...         2\n",
       "1  In Panchkula, where the bride's neighbor alleg...         3\n",
       "2  After kidnapping a seven-year-old child of his...         2\n",
       "3  Just six months after marriage in Thanesar, a ...         3\n",
       "4  Mawar has arrested two people wanted in robber...         0"
      ]
     },
     "execution_count": 78,
     "metadata": {},
     "output_type": "execute_result"
    }
   ],
   "source": [
    "data.head()\n"
   ]
  },
  {
   "cell_type": "code",
   "execution_count": 79,
   "metadata": {},
   "outputs": [
    {
     "data": {
      "text/plain": [
       "'Two children, a five-year-old boy and a two-year-old girl, were allegedly killed in Sonipat.\\nHe was abducted at around 2.30 pm. The incident happened while they were playing\\nAnd the parents went to work.'"
      ]
     },
     "execution_count": 79,
     "metadata": {},
     "output_type": "execute_result"
    }
   ],
   "source": [
    "data['complaint'][0]"
   ]
  },
  {
   "cell_type": "code",
   "execution_count": 80,
   "metadata": {},
   "outputs": [],
   "source": [
    "import spacy\n",
    "nlp = spacy.load('en_core_web_sm')\n",
    "\n",
    "stopwords = _stop_words.ENGLISH_STOP_WORDS\n",
    "lemmatizer = WordNetLemmatizer()\n",
    "\n",
    "def clean(doc):\n",
    "    text_no_namedentities = []\n",
    "    document = nlp(doc)\n",
    "    ents = [e.text for e in document.ents]\n",
    "    for item in document:\n",
    "        if item.text in ents:\n",
    "            pass\n",
    "        else:\n",
    "            text_no_namedentities.append(item.text)\n",
    "    doc = (\" \".join(text_no_namedentities))\n",
    "\n",
    "    doc = doc.lower().strip()\n",
    "    doc = doc.replace(\"</br>\", \" \") \n",
    "    doc = doc.replace(\"-\", \" \") \n",
    "    doc = \"\".join([char for char in doc if char not in string.punctuation and not char.isdigit()])\n",
    "    doc = \" \".join([token for token in doc.split() if token not in stopwords])    \n",
    "    doc = \"\".join([lemmatizer.lemmatize(word) for word in doc])\n",
    "    return doc"
   ]
  },
  {
   "cell_type": "code",
   "execution_count": 81,
   "metadata": {},
   "outputs": [
    {
     "data": {
      "text/html": [
       "<div>\n",
       "<style scoped>\n",
       "    .dataframe tbody tr th:only-of-type {\n",
       "        vertical-align: middle;\n",
       "    }\n",
       "\n",
       "    .dataframe tbody tr th {\n",
       "        vertical-align: top;\n",
       "    }\n",
       "\n",
       "    .dataframe thead th {\n",
       "        text-align: right;\n",
       "    }\n",
       "</style>\n",
       "<table border=\"1\" class=\"dataframe\">\n",
       "  <thead>\n",
       "    <tr style=\"text-align: right;\">\n",
       "      <th></th>\n",
       "      <th>complaint</th>\n",
       "      <th>category</th>\n",
       "    </tr>\n",
       "  </thead>\n",
       "  <tbody>\n",
       "    <tr>\n",
       "      <th>0</th>\n",
       "      <td>children year old boy year old girl allegedly ...</td>\n",
       "      <td>2</td>\n",
       "    </tr>\n",
       "    <tr>\n",
       "      <th>1</th>\n",
       "      <td>bride s neighbor allegedly killed father eve w...</td>\n",
       "      <td>3</td>\n",
       "    </tr>\n",
       "    <tr>\n",
       "      <th>2</th>\n",
       "      <td>kidnapping seven year old child relative child...</td>\n",
       "      <td>2</td>\n",
       "    </tr>\n",
       "    <tr>\n",
       "      <th>3</th>\n",
       "      <td>just months marriage newly married woman hange...</td>\n",
       "      <td>3</td>\n",
       "    </tr>\n",
       "    <tr>\n",
       "      <th>4</th>\n",
       "      <td>arrested people wanted robbery cases allegedly...</td>\n",
       "      <td>0</td>\n",
       "    </tr>\n",
       "  </tbody>\n",
       "</table>\n",
       "</div>"
      ],
      "text/plain": [
       "                                           complaint  category\n",
       "0  children year old boy year old girl allegedly ...         2\n",
       "1  bride s neighbor allegedly killed father eve w...         3\n",
       "2  kidnapping seven year old child relative child...         2\n",
       "3  just months marriage newly married woman hange...         3\n",
       "4  arrested people wanted robbery cases allegedly...         0"
      ]
     },
     "execution_count": 81,
     "metadata": {},
     "output_type": "execute_result"
    }
   ],
   "source": [
    "data['complaint'] = data['complaint'].apply(clean)\n",
    "data.head()"
   ]
  },
  {
   "cell_type": "code",
   "execution_count": 82,
   "metadata": {},
   "outputs": [],
   "source": [
    "docs = list(data['complaint'])\n",
    "tfidf_vectorizer = TfidfVectorizer(use_idf=True, max_features = 20000) \n",
    "tfidf_vectorizer_vectors = tfidf_vectorizer.fit_transform(docs)\n",
    "docs = tfidf_vectorizer_vectors.toarray()"
   ]
  },
  {
   "cell_type": "code",
   "execution_count": 83,
   "metadata": {},
   "outputs": [
    {
     "name": "stdout",
     "output_type": "stream",
     "text": [
      "(442, 2091) (442,)\n"
     ]
    }
   ],
   "source": [
    "X = docs \n",
    "y = data['category']\n",
    "print(X.shape, y.shape)"
   ]
  },
  {
   "cell_type": "code",
   "execution_count": 101,
   "metadata": {},
   "outputs": [
    {
     "data": {
      "application/vnd.plotly.v1+json": {
       "config": {
        "plotlyServerURL": "https://plot.ly"
       },
       "data": [
        {
         "type": "bar",
         "x": [
          4,
          2,
          3,
          0,
          1
         ],
         "y": [
          91,
          90,
          90,
          90,
          81
         ]
        }
       ],
       "layout": {
        "template": {
         "data": {
          "bar": [
           {
            "error_x": {
             "color": "#2a3f5f"
            },
            "error_y": {
             "color": "#2a3f5f"
            },
            "marker": {
             "line": {
              "color": "#E5ECF6",
              "width": 0.5
             },
             "pattern": {
              "fillmode": "overlay",
              "size": 10,
              "solidity": 0.2
             }
            },
            "type": "bar"
           }
          ],
          "barpolar": [
           {
            "marker": {
             "line": {
              "color": "#E5ECF6",
              "width": 0.5
             },
             "pattern": {
              "fillmode": "overlay",
              "size": 10,
              "solidity": 0.2
             }
            },
            "type": "barpolar"
           }
          ],
          "carpet": [
           {
            "aaxis": {
             "endlinecolor": "#2a3f5f",
             "gridcolor": "white",
             "linecolor": "white",
             "minorgridcolor": "white",
             "startlinecolor": "#2a3f5f"
            },
            "baxis": {
             "endlinecolor": "#2a3f5f",
             "gridcolor": "white",
             "linecolor": "white",
             "minorgridcolor": "white",
             "startlinecolor": "#2a3f5f"
            },
            "type": "carpet"
           }
          ],
          "choropleth": [
           {
            "colorbar": {
             "outlinewidth": 0,
             "ticks": ""
            },
            "type": "choropleth"
           }
          ],
          "contour": [
           {
            "colorbar": {
             "outlinewidth": 0,
             "ticks": ""
            },
            "colorscale": [
             [
              0,
              "#0d0887"
             ],
             [
              0.1111111111111111,
              "#46039f"
             ],
             [
              0.2222222222222222,
              "#7201a8"
             ],
             [
              0.3333333333333333,
              "#9c179e"
             ],
             [
              0.4444444444444444,
              "#bd3786"
             ],
             [
              0.5555555555555556,
              "#d8576b"
             ],
             [
              0.6666666666666666,
              "#ed7953"
             ],
             [
              0.7777777777777778,
              "#fb9f3a"
             ],
             [
              0.8888888888888888,
              "#fdca26"
             ],
             [
              1,
              "#f0f921"
             ]
            ],
            "type": "contour"
           }
          ],
          "contourcarpet": [
           {
            "colorbar": {
             "outlinewidth": 0,
             "ticks": ""
            },
            "type": "contourcarpet"
           }
          ],
          "heatmap": [
           {
            "colorbar": {
             "outlinewidth": 0,
             "ticks": ""
            },
            "colorscale": [
             [
              0,
              "#0d0887"
             ],
             [
              0.1111111111111111,
              "#46039f"
             ],
             [
              0.2222222222222222,
              "#7201a8"
             ],
             [
              0.3333333333333333,
              "#9c179e"
             ],
             [
              0.4444444444444444,
              "#bd3786"
             ],
             [
              0.5555555555555556,
              "#d8576b"
             ],
             [
              0.6666666666666666,
              "#ed7953"
             ],
             [
              0.7777777777777778,
              "#fb9f3a"
             ],
             [
              0.8888888888888888,
              "#fdca26"
             ],
             [
              1,
              "#f0f921"
             ]
            ],
            "type": "heatmap"
           }
          ],
          "heatmapgl": [
           {
            "colorbar": {
             "outlinewidth": 0,
             "ticks": ""
            },
            "colorscale": [
             [
              0,
              "#0d0887"
             ],
             [
              0.1111111111111111,
              "#46039f"
             ],
             [
              0.2222222222222222,
              "#7201a8"
             ],
             [
              0.3333333333333333,
              "#9c179e"
             ],
             [
              0.4444444444444444,
              "#bd3786"
             ],
             [
              0.5555555555555556,
              "#d8576b"
             ],
             [
              0.6666666666666666,
              "#ed7953"
             ],
             [
              0.7777777777777778,
              "#fb9f3a"
             ],
             [
              0.8888888888888888,
              "#fdca26"
             ],
             [
              1,
              "#f0f921"
             ]
            ],
            "type": "heatmapgl"
           }
          ],
          "histogram": [
           {
            "marker": {
             "pattern": {
              "fillmode": "overlay",
              "size": 10,
              "solidity": 0.2
             }
            },
            "type": "histogram"
           }
          ],
          "histogram2d": [
           {
            "colorbar": {
             "outlinewidth": 0,
             "ticks": ""
            },
            "colorscale": [
             [
              0,
              "#0d0887"
             ],
             [
              0.1111111111111111,
              "#46039f"
             ],
             [
              0.2222222222222222,
              "#7201a8"
             ],
             [
              0.3333333333333333,
              "#9c179e"
             ],
             [
              0.4444444444444444,
              "#bd3786"
             ],
             [
              0.5555555555555556,
              "#d8576b"
             ],
             [
              0.6666666666666666,
              "#ed7953"
             ],
             [
              0.7777777777777778,
              "#fb9f3a"
             ],
             [
              0.8888888888888888,
              "#fdca26"
             ],
             [
              1,
              "#f0f921"
             ]
            ],
            "type": "histogram2d"
           }
          ],
          "histogram2dcontour": [
           {
            "colorbar": {
             "outlinewidth": 0,
             "ticks": ""
            },
            "colorscale": [
             [
              0,
              "#0d0887"
             ],
             [
              0.1111111111111111,
              "#46039f"
             ],
             [
              0.2222222222222222,
              "#7201a8"
             ],
             [
              0.3333333333333333,
              "#9c179e"
             ],
             [
              0.4444444444444444,
              "#bd3786"
             ],
             [
              0.5555555555555556,
              "#d8576b"
             ],
             [
              0.6666666666666666,
              "#ed7953"
             ],
             [
              0.7777777777777778,
              "#fb9f3a"
             ],
             [
              0.8888888888888888,
              "#fdca26"
             ],
             [
              1,
              "#f0f921"
             ]
            ],
            "type": "histogram2dcontour"
           }
          ],
          "mesh3d": [
           {
            "colorbar": {
             "outlinewidth": 0,
             "ticks": ""
            },
            "type": "mesh3d"
           }
          ],
          "parcoords": [
           {
            "line": {
             "colorbar": {
              "outlinewidth": 0,
              "ticks": ""
             }
            },
            "type": "parcoords"
           }
          ],
          "pie": [
           {
            "automargin": true,
            "type": "pie"
           }
          ],
          "scatter": [
           {
            "fillpattern": {
             "fillmode": "overlay",
             "size": 10,
             "solidity": 0.2
            },
            "type": "scatter"
           }
          ],
          "scatter3d": [
           {
            "line": {
             "colorbar": {
              "outlinewidth": 0,
              "ticks": ""
             }
            },
            "marker": {
             "colorbar": {
              "outlinewidth": 0,
              "ticks": ""
             }
            },
            "type": "scatter3d"
           }
          ],
          "scattercarpet": [
           {
            "marker": {
             "colorbar": {
              "outlinewidth": 0,
              "ticks": ""
             }
            },
            "type": "scattercarpet"
           }
          ],
          "scattergeo": [
           {
            "marker": {
             "colorbar": {
              "outlinewidth": 0,
              "ticks": ""
             }
            },
            "type": "scattergeo"
           }
          ],
          "scattergl": [
           {
            "marker": {
             "colorbar": {
              "outlinewidth": 0,
              "ticks": ""
             }
            },
            "type": "scattergl"
           }
          ],
          "scattermapbox": [
           {
            "marker": {
             "colorbar": {
              "outlinewidth": 0,
              "ticks": ""
             }
            },
            "type": "scattermapbox"
           }
          ],
          "scatterpolar": [
           {
            "marker": {
             "colorbar": {
              "outlinewidth": 0,
              "ticks": ""
             }
            },
            "type": "scatterpolar"
           }
          ],
          "scatterpolargl": [
           {
            "marker": {
             "colorbar": {
              "outlinewidth": 0,
              "ticks": ""
             }
            },
            "type": "scatterpolargl"
           }
          ],
          "scatterternary": [
           {
            "marker": {
             "colorbar": {
              "outlinewidth": 0,
              "ticks": ""
             }
            },
            "type": "scatterternary"
           }
          ],
          "surface": [
           {
            "colorbar": {
             "outlinewidth": 0,
             "ticks": ""
            },
            "colorscale": [
             [
              0,
              "#0d0887"
             ],
             [
              0.1111111111111111,
              "#46039f"
             ],
             [
              0.2222222222222222,
              "#7201a8"
             ],
             [
              0.3333333333333333,
              "#9c179e"
             ],
             [
              0.4444444444444444,
              "#bd3786"
             ],
             [
              0.5555555555555556,
              "#d8576b"
             ],
             [
              0.6666666666666666,
              "#ed7953"
             ],
             [
              0.7777777777777778,
              "#fb9f3a"
             ],
             [
              0.8888888888888888,
              "#fdca26"
             ],
             [
              1,
              "#f0f921"
             ]
            ],
            "type": "surface"
           }
          ],
          "table": [
           {
            "cells": {
             "fill": {
              "color": "#EBF0F8"
             },
             "line": {
              "color": "white"
             }
            },
            "header": {
             "fill": {
              "color": "#C8D4E3"
             },
             "line": {
              "color": "white"
             }
            },
            "type": "table"
           }
          ]
         },
         "layout": {
          "annotationdefaults": {
           "arrowcolor": "#2a3f5f",
           "arrowhead": 0,
           "arrowwidth": 1
          },
          "autotypenumbers": "strict",
          "coloraxis": {
           "colorbar": {
            "outlinewidth": 0,
            "ticks": ""
           }
          },
          "colorscale": {
           "diverging": [
            [
             0,
             "#8e0152"
            ],
            [
             0.1,
             "#c51b7d"
            ],
            [
             0.2,
             "#de77ae"
            ],
            [
             0.3,
             "#f1b6da"
            ],
            [
             0.4,
             "#fde0ef"
            ],
            [
             0.5,
             "#f7f7f7"
            ],
            [
             0.6,
             "#e6f5d0"
            ],
            [
             0.7,
             "#b8e186"
            ],
            [
             0.8,
             "#7fbc41"
            ],
            [
             0.9,
             "#4d9221"
            ],
            [
             1,
             "#276419"
            ]
           ],
           "sequential": [
            [
             0,
             "#0d0887"
            ],
            [
             0.1111111111111111,
             "#46039f"
            ],
            [
             0.2222222222222222,
             "#7201a8"
            ],
            [
             0.3333333333333333,
             "#9c179e"
            ],
            [
             0.4444444444444444,
             "#bd3786"
            ],
            [
             0.5555555555555556,
             "#d8576b"
            ],
            [
             0.6666666666666666,
             "#ed7953"
            ],
            [
             0.7777777777777778,
             "#fb9f3a"
            ],
            [
             0.8888888888888888,
             "#fdca26"
            ],
            [
             1,
             "#f0f921"
            ]
           ],
           "sequentialminus": [
            [
             0,
             "#0d0887"
            ],
            [
             0.1111111111111111,
             "#46039f"
            ],
            [
             0.2222222222222222,
             "#7201a8"
            ],
            [
             0.3333333333333333,
             "#9c179e"
            ],
            [
             0.4444444444444444,
             "#bd3786"
            ],
            [
             0.5555555555555556,
             "#d8576b"
            ],
            [
             0.6666666666666666,
             "#ed7953"
            ],
            [
             0.7777777777777778,
             "#fb9f3a"
            ],
            [
             0.8888888888888888,
             "#fdca26"
            ],
            [
             1,
             "#f0f921"
            ]
           ]
          },
          "colorway": [
           "#636efa",
           "#EF553B",
           "#00cc96",
           "#ab63fa",
           "#FFA15A",
           "#19d3f3",
           "#FF6692",
           "#B6E880",
           "#FF97FF",
           "#FECB52"
          ],
          "font": {
           "color": "#2a3f5f"
          },
          "geo": {
           "bgcolor": "white",
           "lakecolor": "white",
           "landcolor": "#E5ECF6",
           "showlakes": true,
           "showland": true,
           "subunitcolor": "white"
          },
          "hoverlabel": {
           "align": "left"
          },
          "hovermode": "closest",
          "mapbox": {
           "style": "light"
          },
          "paper_bgcolor": "white",
          "plot_bgcolor": "#E5ECF6",
          "polar": {
           "angularaxis": {
            "gridcolor": "white",
            "linecolor": "white",
            "ticks": ""
           },
           "bgcolor": "#E5ECF6",
           "radialaxis": {
            "gridcolor": "white",
            "linecolor": "white",
            "ticks": ""
           }
          },
          "scene": {
           "xaxis": {
            "backgroundcolor": "#E5ECF6",
            "gridcolor": "white",
            "gridwidth": 2,
            "linecolor": "white",
            "showbackground": true,
            "ticks": "",
            "zerolinecolor": "white"
           },
           "yaxis": {
            "backgroundcolor": "#E5ECF6",
            "gridcolor": "white",
            "gridwidth": 2,
            "linecolor": "white",
            "showbackground": true,
            "ticks": "",
            "zerolinecolor": "white"
           },
           "zaxis": {
            "backgroundcolor": "#E5ECF6",
            "gridcolor": "white",
            "gridwidth": 2,
            "linecolor": "white",
            "showbackground": true,
            "ticks": "",
            "zerolinecolor": "white"
           }
          },
          "shapedefaults": {
           "line": {
            "color": "#2a3f5f"
           }
          },
          "ternary": {
           "aaxis": {
            "gridcolor": "white",
            "linecolor": "white",
            "ticks": ""
           },
           "baxis": {
            "gridcolor": "white",
            "linecolor": "white",
            "ticks": ""
           },
           "bgcolor": "#E5ECF6",
           "caxis": {
            "gridcolor": "white",
            "linecolor": "white",
            "ticks": ""
           }
          },
          "title": {
           "x": 0.05
          },
          "xaxis": {
           "automargin": true,
           "gridcolor": "white",
           "linecolor": "white",
           "ticks": "",
           "title": {
            "standoff": 15
           },
           "zerolinecolor": "white",
           "zerolinewidth": 2
          },
          "yaxis": {
           "automargin": true,
           "gridcolor": "white",
           "linecolor": "white",
           "ticks": "",
           "title": {
            "standoff": 15
           },
           "zerolinecolor": "white",
           "zerolinewidth": 2
          }
         }
        },
        "title": {
         "text": "Values in each complaint"
        },
        "xaxis": {
         "title": {
          "text": "Complaints"
         }
        },
        "yaxis": {
         "title": {
          "text": "Values"
         }
        }
       }
      }
     },
     "metadata": {},
     "output_type": "display_data"
    }
   ],
   "source": [
    "fig = go.Figure([go.Bar(x=y.value_counts().index, y=y.value_counts().tolist())])\n",
    "fig.update_layout(\n",
    "    title=\"Values in each complaint\",\n",
    "    xaxis_title=\"Complaints\",\n",
    "    yaxis_title=\"Values\")\n",
    "fig.show()"
   ]
  },
  {
   "cell_type": "code",
   "execution_count": 84,
   "metadata": {},
   "outputs": [
    {
     "name": "stdout",
     "output_type": "stream",
     "text": [
      "(397, 2091) (397,)\n",
      "(45, 2091) (45,)\n"
     ]
    }
   ],
   "source": [
    "SEED=246\n",
    "X_train,X_test,y_train,y_test=train_test_split(X, y, test_size=0.1, random_state=SEED, stratify=y)\n",
    "print(X_train.shape, y_train.shape)\n",
    "print(X_test.shape, y_test.shape)"
   ]
  },
  {
   "cell_type": "code",
   "execution_count": 85,
   "metadata": {},
   "outputs": [
    {
     "data": {
      "text/html": [
       "<div>\n",
       "<style scoped>\n",
       "    .dataframe tbody tr th:only-of-type {\n",
       "        vertical-align: middle;\n",
       "    }\n",
       "\n",
       "    .dataframe tbody tr th {\n",
       "        vertical-align: top;\n",
       "    }\n",
       "\n",
       "    .dataframe thead th {\n",
       "        text-align: right;\n",
       "    }\n",
       "</style>\n",
       "<table border=\"1\" class=\"dataframe\">\n",
       "  <thead>\n",
       "    <tr style=\"text-align: right;\">\n",
       "      <th></th>\n",
       "      <th>Mean Accuracy</th>\n",
       "      <th>Standard deviation</th>\n",
       "    </tr>\n",
       "    <tr>\n",
       "      <th>model_name</th>\n",
       "      <th></th>\n",
       "      <th></th>\n",
       "    </tr>\n",
       "  </thead>\n",
       "  <tbody>\n",
       "    <tr>\n",
       "      <th>AdaBoostClassifier</th>\n",
       "      <td>0.479520</td>\n",
       "      <td>0.074915</td>\n",
       "    </tr>\n",
       "    <tr>\n",
       "      <th>DecisionTreeClassifier</th>\n",
       "      <td>0.717263</td>\n",
       "      <td>0.018163</td>\n",
       "    </tr>\n",
       "    <tr>\n",
       "      <th>GaussianNB</th>\n",
       "      <td>0.692441</td>\n",
       "      <td>0.033606</td>\n",
       "    </tr>\n",
       "    <tr>\n",
       "      <th>GradientBoostingClassifier</th>\n",
       "      <td>0.805388</td>\n",
       "      <td>0.029714</td>\n",
       "    </tr>\n",
       "    <tr>\n",
       "      <th>KNeighborsClassifier</th>\n",
       "      <td>0.703626</td>\n",
       "      <td>0.035775</td>\n",
       "    </tr>\n",
       "    <tr>\n",
       "      <th>LinearSVC</th>\n",
       "      <td>0.837053</td>\n",
       "      <td>0.030857</td>\n",
       "    </tr>\n",
       "    <tr>\n",
       "      <th>LogisticRegression</th>\n",
       "      <td>0.832559</td>\n",
       "      <td>0.027206</td>\n",
       "    </tr>\n",
       "    <tr>\n",
       "      <th>MultinomialNB</th>\n",
       "      <td>0.812181</td>\n",
       "      <td>0.028561</td>\n",
       "    </tr>\n",
       "    <tr>\n",
       "      <th>RandomForestClassifier</th>\n",
       "      <td>0.819025</td>\n",
       "      <td>0.022291</td>\n",
       "    </tr>\n",
       "    <tr>\n",
       "      <th>SGDClassifier</th>\n",
       "      <td>0.787411</td>\n",
       "      <td>0.027260</td>\n",
       "    </tr>\n",
       "  </tbody>\n",
       "</table>\n",
       "</div>"
      ],
      "text/plain": [
       "                            Mean Accuracy  Standard deviation\n",
       "model_name                                                   \n",
       "AdaBoostClassifier               0.479520            0.074915\n",
       "DecisionTreeClassifier           0.717263            0.018163\n",
       "GaussianNB                       0.692441            0.033606\n",
       "GradientBoostingClassifier       0.805388            0.029714\n",
       "KNeighborsClassifier             0.703626            0.035775\n",
       "LinearSVC                        0.837053            0.030857\n",
       "LogisticRegression               0.832559            0.027206\n",
       "MultinomialNB                    0.812181            0.028561\n",
       "RandomForestClassifier           0.819025            0.022291\n",
       "SGDClassifier                    0.787411            0.027260"
      ]
     },
     "execution_count": 85,
     "metadata": {},
     "output_type": "execute_result"
    }
   ],
   "source": [
    "from sklearn.model_selection import cross_val_score\n",
    "\n",
    "\n",
    "models = [LinearSVC(), MultinomialNB(), GaussianNB(), DecisionTreeClassifier(), RandomForestClassifier(), AdaBoostClassifier(), GradientBoostingClassifier(), KNeighborsClassifier(), LogisticRegression(), SGDClassifier()]\n",
    "\n",
    "# 5 Cross-validation\n",
    "CV = 5\n",
    "cv_df = pd.DataFrame(index=range(CV * len(models)))\n",
    "entries = []\n",
    "for model in models:\n",
    "  model_name = model.__class__.__name__\n",
    "  accuracies = cross_val_score(model, X, y, scoring='accuracy', cv=CV)\n",
    "  for fold_idx, accuracy in enumerate(accuracies):\n",
    "    entries.append((model_name, fold_idx, accuracy))\n",
    "    \n",
    "cv_df = pd.DataFrame(entries, columns=['model_name', 'fold_idx', 'accuracy'])\n",
    "\n",
    "mean_accuracy = cv_df.groupby('model_name').accuracy.mean()\n",
    "std_accuracy = cv_df.groupby('model_name').accuracy.std()\n",
    "acc = pd.concat([mean_accuracy, std_accuracy], axis= 1, ignore_index=True)\n",
    "acc.columns = ['Mean Accuracy', 'Standard deviation']\n",
    "acc"
   ]
  },
  {
   "cell_type": "code",
   "execution_count": 86,
   "metadata": {},
   "outputs": [
    {
     "name": "stdout",
     "output_type": "stream",
     "text": [
      "CPU times: total: 62.5 ms\n",
      "Wall time: 48.2 ms\n",
      "\n",
      "Training Accuracy score: 0.9949622166246851\n",
      "Testing Accuracy score: 0.6888888888888889\n"
     ]
    }
   ],
   "source": [
    "gnb = GaussianNB() \n",
    "%time gnb.fit(X_train, y_train)\n",
    "\n",
    "y_pred_train = gnb.predict(X_train)\n",
    "y_pred_test = gnb.predict(X_test)\n",
    "print(\"\\nTraining Accuracy score:\",accuracy_score(y_train, y_pred_train))\n",
    "print(\"Testing Accuracy score:\",accuracy_score(y_test, y_pred_test))"
   ]
  },
  {
   "cell_type": "code",
   "execution_count": 87,
   "metadata": {},
   "outputs": [
    {
     "name": "stdout",
     "output_type": "stream",
     "text": [
      "(96, 2091) (96,)\n"
     ]
    }
   ],
   "source": [
    "#testing on unseen data\n",
    "# test = pd.read_csv('testdata.csv')\n",
    "# test['category'] = test.category.map({'rape': 4, 'murder': 3, 'kidnap': 2, 'accident':1, 'theft':0})\n",
    "test['complaint'] = test['complaint'].apply(clean)\n",
    "docs = list(test['complaint'])\n",
    "tfidf_vectorizer_vectors = tfidf_vectorizer.transform(docs)\n",
    "docs = tfidf_vectorizer_vectors.toarray()\n",
    "testX = docs \n",
    "testy = test['category']\n",
    "print(testX.shape, testy.shape)"
   ]
  },
  {
   "cell_type": "code",
   "execution_count": 88,
   "metadata": {},
   "outputs": [
    {
     "name": "stdout",
     "output_type": "stream",
     "text": [
      "\n",
      "Testing Accuracy score: 0.625\n"
     ]
    }
   ],
   "source": [
    "test_pred = gnb.predict(testX)\n",
    "print(\"\\nTesting Accuracy score:\",accuracy_score(testy, test_pred))\n"
   ]
  },
  {
   "cell_type": "code",
   "execution_count": 89,
   "metadata": {},
   "outputs": [
    {
     "name": "stdout",
     "output_type": "stream",
     "text": [
      "              precision    recall  f1-score   support\n",
      "\n",
      "        rape       0.70      0.78      0.74         9\n",
      "      murder       0.88      0.88      0.88         8\n",
      "      kidnap       0.58      0.78      0.67         9\n",
      "    accident       0.50      0.44      0.47         9\n",
      "       theft       0.86      0.60      0.71        10\n",
      "\n",
      "    accuracy                           0.69        45\n",
      "   macro avg       0.70      0.70      0.69        45\n",
      "weighted avg       0.70      0.69      0.69        45\n",
      "\n"
     ]
    }
   ],
   "source": [
    "print(classification_report(y_test, y_pred_test, target_names=['rape', 'murder', 'kidnap', 'accident', 'theft']))"
   ]
  },
  {
   "cell_type": "code",
   "execution_count": 90,
   "metadata": {},
   "outputs": [
    {
     "data": {
      "image/png": "[encoded data removed]",
      "text/plain": [
       "<Figure size 640x480 with 2 Axes>"
      ]
     },
     "metadata": {},
     "output_type": "display_data"
    }
   ],
   "source": [
    "cm = confusion_matrix(y_test, y_pred_test)\n",
    "# print('Confusion matrix\\n', cm)\n",
    "\n",
    "cm_matrix = pd.DataFrame(data=cm, columns=['rape', 'murder', 'kidnap', 'accident', 'rape'], \n",
    "                        index=['rape', 'murder','kidnap', 'accident', 'rape'])\n",
    "sns.heatmap(cm_matrix, annot=True, fmt='d', cmap='YlGnBu')\n",
    "plt.show()"
   ]
  },
  {
   "cell_type": "code",
   "execution_count": 91,
   "metadata": {},
   "outputs": [
    {
     "name": "stdout",
     "output_type": "stream",
     "text": [
      "              precision    recall  f1-score   support\n",
      "\n",
      "        rape       0.72      0.72      0.72        29\n",
      "      murder       0.72      0.95      0.82        19\n",
      "      kidnap       0.36      0.40      0.38        10\n",
      "    accident       0.62      0.34      0.44        29\n",
      "       theft       0.47      0.78      0.58         9\n",
      "\n",
      "    accuracy                           0.62        96\n",
      "   macro avg       0.58      0.64      0.59        96\n",
      "weighted avg       0.63      0.62      0.61        96\n",
      "\n",
      "0.625\n"
     ]
    }
   ],
   "source": [
    "print(classification_report(testy, test_pred, target_names=['rape', 'murder','kidnap', 'accident', 'theft']))\n",
    "print(accuracy_score(testy, test_pred))"
   ]
  },
  {
   "cell_type": "code",
   "execution_count": 92,
   "metadata": {},
   "outputs": [
    {
     "data": {
      "image/png": "[encoded data removed]",
      "text/plain": [
       "<Figure size 640x480 with 2 Axes>"
      ]
     },
     "metadata": {},
     "output_type": "display_data"
    }
   ],
   "source": [
    "cm = confusion_matrix(testy, test_pred)\n",
    "# print('Confusion matrix\\n', cm)\n",
    "\n",
    "# cm_matrix = pd.DataFrame(data=cm, columns=['rape', 'murder','kidnap', 'accident', 'theft'], \n",
    "                        # index=['rape', 'murder','kidnap', 'accident', 'theft'])\n",
    "cm_matrix = pd.DataFrame(data=cm)\n",
    "sns.heatmap(cm_matrix, annot=True, fmt='d', cmap='YlGnBu')\n",
    "plt.show()"
   ]
  },
  {
   "cell_type": "code",
   "execution_count": 93,
   "metadata": {},
   "outputs": [
    {
     "name": "stdout",
     "output_type": "stream",
     "text": [
      "CPU times: total: 0 ns\n",
      "Wall time: 7.14 ms\n",
      "\n",
      "Training Accuracy score: 0.9722921914357683\n",
      "Testing Accuracy score: 0.9111111111111111\n"
     ]
    }
   ],
   "source": [
    "mnb = MultinomialNB() \n",
    "%time mnb.fit(X_train, y_train)\n",
    "\n",
    "y_pred_train = mnb.predict(X_train)\n",
    "y_pred_test = mnb.predict(X_test)\n",
    "print(\"\\nTraining Accuracy score:\",accuracy_score(y_train, y_pred_train))\n",
    "print(\"Testing Accuracy score:\",accuracy_score(y_test, y_pred_test))"
   ]
  },
  {
   "cell_type": "code",
   "execution_count": 94,
   "metadata": {},
   "outputs": [
    {
     "name": "stdout",
     "output_type": "stream",
     "text": [
      "\n",
      "Testing Accuracy score: 0.75\n"
     ]
    }
   ],
   "source": [
    "test_pred = mnb.predict(testX)\n",
    "print(\"\\nTesting Accuracy score:\",accuracy_score(testy, test_pred))"
   ]
  },
  {
   "cell_type": "code",
   "execution_count": 95,
   "metadata": {},
   "outputs": [
    {
     "name": "stdout",
     "output_type": "stream",
     "text": [
      "              precision    recall  f1-score   support\n",
      "\n",
      "        rape       0.89      0.89      0.89         9\n",
      "      murder       0.78      0.88      0.82         8\n",
      "      kidnap       1.00      1.00      1.00         9\n",
      "    accident       1.00      0.78      0.88         9\n",
      "       theft       0.91      1.00      0.95        10\n",
      "\n",
      "    accuracy                           0.91        45\n",
      "   macro avg       0.92      0.91      0.91        45\n",
      "weighted avg       0.92      0.91      0.91        45\n",
      "\n"
     ]
    }
   ],
   "source": [
    "print(classification_report(y_test, y_pred_test, target_names=['rape', 'murder', 'kidnap','accident', 'theft']))"
   ]
  },
  {
   "cell_type": "code",
   "execution_count": 96,
   "metadata": {},
   "outputs": [
    {
     "name": "stdout",
     "output_type": "stream",
     "text": [
      "              precision    recall  f1-score   support\n",
      "\n",
      "        rape       0.81      0.76      0.79        29\n",
      "      murder       0.72      0.95      0.82        19\n",
      "      kidnap       0.71      0.50      0.59        10\n",
      "    accident       0.90      0.62      0.73        29\n",
      "       theft       0.53      1.00      0.69         9\n",
      "\n",
      "    accuracy                           0.75        96\n",
      "   macro avg       0.74      0.77      0.72        96\n",
      "weighted avg       0.78      0.75      0.75        96\n",
      "\n",
      "0.75\n"
     ]
    }
   ],
   "source": [
    "print(classification_report(testy, test_pred, target_names=['rape', 'murder', 'kidnap','accident', 'theft']))\n",
    "print(accuracy_score(testy, test_pred))"
   ]
  },
  {
   "cell_type": "code",
   "execution_count": 97,
   "metadata": {},
   "outputs": [
    {
     "data": {
      "image/png": "[encoded data removed]",
      "text/plain": [
       "<Figure size 640x480 with 2 Axes>"
      ]
     },
     "metadata": {},
     "output_type": "display_data"
    }
   ],
   "source": [
    "cm = confusion_matrix(y_test, y_pred_test)\n",
    "# print('Confusion matrix\\n', cm)\n",
    "\n",
    "cm_matrix = pd.DataFrame(data=cm, columns=['rape', 'murder','kidnap', 'accident', 'theft'], \n",
    "                        index=['rape', 'murder','kidnap', 'accident', 'theft'])\n",
    "sns.heatmap(cm_matrix, annot=True, fmt='d', cmap='YlGnBu')\n",
    "plt.show()"
   ]
  },
  {
   "cell_type": "code",
   "execution_count": 98,
   "metadata": {},
   "outputs": [
    {
     "data": {
      "image/png": "[encoded data removed]",
      "text/plain": [
       "<Figure size 640x480 with 2 Axes>"
      ]
     },
     "metadata": {},
     "output_type": "display_data"
    }
   ],
   "source": [
    "cm = confusion_matrix(testy, test_pred)\n",
    "# print('Confusion matrix\\n', cm)\n",
    "\n",
    "cm_matrix = pd.DataFrame(data=cm, columns=['rape', 'murder','kidnap', 'accident', 'theft'], \n",
    "                        index=['rape', 'murder','kidnap', 'accident', 'theft'])\n",
    "sns.heatmap(cm_matrix, annot=True, fmt='d', cmap='YlGnBu')\n",
    "plt.show()"
   ]
  },
  {
   "cell_type": "code",
   "execution_count": 99,
   "metadata": {},
   "outputs": [
    {
     "name": "stdout",
     "output_type": "stream",
     "text": [
      "CPU times: total: 46.9 ms\n",
      "Wall time: 192 ms\n",
      "\n",
      "Training Accuracy score: 0.9874055415617129\n",
      "Testing Accuracy score: 0.9333333333333333\n"
     ]
    }
   ],
   "source": [
    "lr = LogisticRegression(random_state=SEED)\n",
    "%time lr.fit(X_train, y_train)\n",
    "\n",
    "y_pred_train = lr.predict(X_train)\n",
    "y_pred_test = lr.predict(X_test)\n",
    "print(\"\\nTraining Accuracy score:\",accuracy_score(y_train, y_pred_train))\n",
    "print(\"Testing Accuracy score:\",accuracy_score(y_test, y_pred_test))"
   ]
  },
  {
   "cell_type": "code",
   "execution_count": 100,
   "metadata": {},
   "outputs": [
    {
     "name": "stdout",
     "output_type": "stream",
     "text": [
      "\n",
      "Testing Accuracy score: 0.8020833333333334\n"
     ]
    }
   ],
   "source": [
    "test_pred = lr.predict(testX)\n",
    "print(\"\\nTesting Accuracy score:\",accuracy_score(testy, test_pred))"
   ]
  },
  {
   "cell_type": "code",
   "execution_count": 101,
   "metadata": {},
   "outputs": [
    {
     "name": "stdout",
     "output_type": "stream",
     "text": [
      "CPU times: total: 0 ns\n",
      "Wall time: 16.9 ms\n",
      "\n",
      "Training Accuracy score: 0.9974811083123426\n",
      "Testing Accuracy score: 0.9333333333333333\n"
     ]
    }
   ],
   "source": [
    "svc =  LinearSVC(class_weight='balanced') \n",
    "%time svc.fit(X_train, y_train)\n",
    "\n",
    "y_pred_train = svc.predict(X_train)\n",
    "y_pred_test = svc.predict(X_test)\n",
    "print(\"\\nTraining Accuracy score:\",accuracy_score(y_train, y_pred_train))\n",
    "print(\"Testing Accuracy score:\",accuracy_score(y_test, y_pred_test))"
   ]
  },
  {
   "cell_type": "code",
   "execution_count": 102,
   "metadata": {},
   "outputs": [
    {
     "name": "stdout",
     "output_type": "stream",
     "text": [
      "\n",
      "Testing Accuracy score: 0.8333333333333334\n"
     ]
    }
   ],
   "source": [
    "test_pred = svc.predict(testX)\n",
    "print(\"\\nTesting Accuracy score:\",accuracy_score(testy, test_pred))"
   ]
  },
  {
   "cell_type": "code",
   "execution_count": 129,
   "metadata": {},
   "outputs": [],
   "source": [
    "from sklearn.calibration import CalibratedClassifierCV\n",
    "\n",
    "\n",
    "calibrated_svc= CalibratedClassifierCV(base_estimator=svc, cv=5)\n"
   ]
  },
  {
   "cell_type": "code",
   "execution_count": 130,
   "metadata": {},
   "outputs": [
    {
     "name": "stdout",
     "output_type": "stream",
     "text": [
      "Accuracy: 0.9333333333333333\n"
     ]
    }
   ],
   "source": [
    "calibrated_svc.fit(X_train, y_train)\n",
    "predicted= calibrated_svc.predict(X_test)\n",
    "print(\"Accuracy:\",metrics.accuracy_score(y_test, predicted))"
   ]
  },
  {
   "cell_type": "code",
   "execution_count": 132,
   "metadata": {},
   "outputs": [
    {
     "name": "stdout",
     "output_type": "stream",
     "text": [
      "Accuracy: 0.8333333333333334\n"
     ]
    }
   ],
   "source": [
    "predicted= calibrated_svc.predict(testX)\n",
    "print(\"Accuracy:\",metrics.accuracy_score(testy, predicted))"
   ]
  },
  {
   "cell_type": "code",
   "execution_count": 137,
   "metadata": {},
   "outputs": [
    {
     "data": {
      "text/plain": [
       "array([[40.53906954, 20.43673768, 18.90176323, 16.66410502,  3.45832452],\n",
       "       [24.35198563,  2.42345769, 11.77714679, 60.16217394,  1.28523594],\n",
       "       [ 0.46919201,  0.39817718,  4.42512737, 89.00400372,  5.70349972],\n",
       "       [ 2.56548336,  1.36064932, 12.73380585, 82.79791222,  0.54214925],\n",
       "       [56.43846413,  6.26174676,  7.36588081,  8.95222342, 20.98168489],\n",
       "       [74.3292177 ,  0.98077692,  7.50029069,  4.72848445, 12.46123024],\n",
       "       [ 0.69549379,  2.10434942, 14.70684312, 25.75423049, 56.73908319],\n",
       "       [ 8.56864969,  5.14189387, 13.00205383, 71.71198518,  1.57541743],\n",
       "       [ 0.89695762,  2.00240257, 26.53143747, 59.67245699, 10.89674534],\n",
       "       [ 0.81493095, 20.72748479, 21.07386885, 55.62129174,  1.76242367],\n",
       "       [20.68660657,  0.83970712, 50.59254795,  4.93971844, 22.94141992],\n",
       "       [60.03025191, 13.94613502, 17.54466649,  3.43085546,  5.04809112],\n",
       "       [ 6.43211014,  2.49506194,  7.248249  , 77.44632888,  6.37825004],\n",
       "       [ 9.6754803 , 77.93935723,  8.07387394,  3.49352502,  0.81776351],\n",
       "       [ 1.04703705, 79.72259311, 15.97896976,  1.99483981,  1.25656028],\n",
       "       [22.40523155, 65.91570254,  6.58386709,  2.78261459,  2.31258423],\n",
       "       [ 0.60555695,  0.29024315, 72.79897027,  5.5471729 , 20.75805673],\n",
       "       [ 1.42519137, 85.33779541,  6.31078509,  5.45138926,  1.47483886],\n",
       "       [ 6.89178063, 55.26668621, 10.72278539, 25.18116124,  1.93758653],\n",
       "       [24.9096932 ,  1.52475946, 65.37397738,  5.80068424,  2.39088572],\n",
       "       [17.25040719,  5.11702045, 32.18815694, 44.28828957,  1.15612585],\n",
       "       [77.0198557 , 10.0834569 ,  6.76190912,  5.33440218,  0.8003761 ],\n",
       "       [89.31064985,  1.21490178,  3.09849706,  5.39214369,  0.98380762],\n",
       "       [47.61762738,  0.35594305, 11.56983171, 34.05888884,  6.39770903],\n",
       "       [ 0.23733735, 83.82445656,  8.9036172 ,  5.97463984,  1.05994905],\n",
       "       [42.58971637, 46.93294901,  6.70740517,  2.75959641,  1.01033304],\n",
       "       [15.81228979,  2.00593536, 69.43503776, 12.28971111,  0.45702597],\n",
       "       [48.86396496, 22.41030562,  4.40592378, 11.71641312, 12.60339252],\n",
       "       [ 2.04511277,  1.70538307,  5.85835406, 12.56804109, 77.82310901],\n",
       "       [ 7.2317246 ,  0.94563404, 25.62002486, 50.05933481, 16.14328169],\n",
       "       [ 1.33236633,  1.40098686, 13.6482245 , 12.43265003, 71.18577229],\n",
       "       [26.44837161, 57.12015701,  5.57143715,  8.54203761,  2.31799662],\n",
       "       [ 1.37430935,  3.54756589, 15.72401188, 77.72666064,  1.62745225],\n",
       "       [76.62354475, 12.84549751,  5.35911911,  4.33625362,  0.83558502],\n",
       "       [ 1.13038569,  1.29668973,  5.57947016,  5.27135368, 86.72210074],\n",
       "       [22.94782014,  2.07909366,  5.02620797, 68.97077165,  0.97610659],\n",
       "       [77.0858603 ,  0.42562601,  8.88585101,  9.05311135,  4.54955132],\n",
       "       [ 0.96030525,  0.36083603,  0.40598314, 26.7823223 , 71.49055329],\n",
       "       [46.98134278,  5.85219917, 27.63549152, 13.91236561,  5.61860093],\n",
       "       [ 0.2310248 , 32.71641866,  0.59012202, 12.95594884, 53.50648567],\n",
       "       [24.83560677, 21.40103347,  7.78766359, 43.51283311,  2.46286305],\n",
       "       [54.04737449,  3.64006333, 34.56997839,  6.47841821,  1.26416558],\n",
       "       [82.84617229,  1.28167862,  6.75240227,  8.07900187,  1.04074496],\n",
       "       [ 0.58460427, 94.98960723,  2.33537866,  1.42601272,  0.66439714],\n",
       "       [ 1.23736789, 88.74787689,  1.30803061,  7.18021419,  1.52651043],\n",
       "       [ 0.74676027,  2.036237  , 42.21684304, 54.57999454,  0.42016515],\n",
       "       [18.04731229,  5.03305564, 13.52473019, 25.34152271, 38.05337917],\n",
       "       [ 2.03067811,  0.50136501, 12.25497913, 67.95881183, 17.25416591],\n",
       "       [ 0.3838302 , 53.86744591, 14.39637859, 25.36764057,  5.98470472],\n",
       "       [ 1.94531187, 92.40215759,  0.94534503,  3.24979488,  1.45739063],\n",
       "       [44.78244319, 19.26449985, 31.63001593,  2.30804071,  2.01500033],\n",
       "       [ 2.24140006, 80.73227331,  2.07540825, 11.2353435 ,  3.71557488],\n",
       "       [ 2.28013796,  1.1659216 ,  1.25794296, 66.54098113, 28.75501635],\n",
       "       [ 3.89241884,  9.44187908, 31.03329745,  9.03517679, 46.59722784],\n",
       "       [91.82752716,  1.18391941,  2.47791581,  3.6221506 ,  0.88848702],\n",
       "       [ 4.03381747, 82.46166667,  9.29894793,  3.82715452,  0.37841342],\n",
       "       [70.22179793, 10.5124614 ,  6.25140779,  9.17179402,  3.84253886],\n",
       "       [18.76254294, 11.01354714, 12.10296192, 55.3315911 ,  2.7893569 ],\n",
       "       [85.49559435,  3.54265429,  3.92107472,  4.47124747,  2.56942916],\n",
       "       [ 2.1334845 , 32.3341469 ,  2.09019805, 57.31956525,  6.1226053 ],\n",
       "       [10.16666398,  6.76639239, 13.39555136, 69.5264508 ,  0.14494148],\n",
       "       [50.27705267, 22.9356783 ,  5.96184689,  9.65461623, 11.1708059 ],\n",
       "       [ 9.78474372,  4.79286907,  3.66568649, 70.64859025, 11.10811047],\n",
       "       [ 4.12295542, 55.91789733, 34.39184359,  3.61349029,  1.95381337],\n",
       "       [81.15079985,  0.23747522,  6.75270592,  9.5215218 ,  2.33749722],\n",
       "       [ 0.83115454, 91.60620054,  2.81807428,  3.47634946,  1.26822118],\n",
       "       [26.48078177,  9.4508161 , 20.3284774 ,  8.6131816 , 35.12674313],\n",
       "       [65.16663538,  2.90023567,  7.99084784, 18.93830511,  5.003976  ],\n",
       "       [71.7265711 ,  3.66507691, 10.8533219 , 11.19225944,  2.56277064],\n",
       "       [ 4.14709981,  2.87554373,  6.11303722,  6.13406454, 80.73025469],\n",
       "       [ 1.097486  , 13.70214853, 33.3406439 , 12.3193676 , 39.54035397],\n",
       "       [ 1.66851115,  1.86836783, 29.14719603, 65.19610763,  2.11981736],\n",
       "       [49.49244091,  1.46442321,  9.51159734, 37.57371693,  1.95782161],\n",
       "       [10.45982318, 65.07257235,  9.6010658 , 11.18538526,  3.68115341],\n",
       "       [ 0.31972499, 92.11577375,  4.9418044 ,  0.78598611,  1.83671074],\n",
       "       [21.14614016,  5.58405327, 10.9478717 , 60.30640768,  2.0155272 ],\n",
       "       [ 8.16914813,  0.35570267, 80.15704827, 10.97122248,  0.34687845],\n",
       "       [87.55527541,  1.21058697,  4.22924726,  6.7214723 ,  0.28341806],\n",
       "       [13.35423574, 32.85473248,  5.08255977, 47.12071444,  1.58775757],\n",
       "       [48.72857871,  9.05384162, 30.56626739,  5.23026505,  6.42104723],\n",
       "       [83.53027731,  1.26841151,  4.88747248,  6.65569625,  3.65814245],\n",
       "       [81.65119436,  0.39110278,  2.85826633, 13.62235758,  1.47707894],\n",
       "       [29.22359419,  6.42022346, 51.26112359,  7.49642814,  5.59863063],\n",
       "       [ 4.23748621,  1.25319251, 10.1286726 , 17.11726345, 67.26338524],\n",
       "       [ 1.2064714 , 91.9823831 ,  3.35363159,  2.56965809,  0.88785581],\n",
       "       [ 3.60586972, 83.64217278,  7.95906702,  3.21314478,  1.5797457 ],\n",
       "       [11.98347492, 73.57265765,  3.7637638 ,  8.99423217,  1.68587146],\n",
       "       [42.40076149, 16.18143508, 31.03772207,  7.53622871,  2.84385264],\n",
       "       [ 0.82174881,  1.70194147, 31.77831904, 57.13188053,  8.56611015],\n",
       "       [ 5.69809188,  4.81588067, 12.4516555 ,  3.22166328, 73.81270866],\n",
       "       [ 2.89381314, 88.6056884 ,  3.99574821,  4.17662152,  0.32812874],\n",
       "       [ 7.06624997,  2.48813212,  6.50078489, 79.59278374,  4.35204927],\n",
       "       [12.35462836,  2.77463915, 43.68767859,  8.90555249, 32.27750142],\n",
       "       [ 4.34242136, 76.24522912,  9.98630119,  3.01023287,  6.41581546],\n",
       "       [79.59709342,  1.79953332,  6.64554592, 10.12873704,  1.8290903 ],\n",
       "       [29.74500526, 12.23807626, 12.72793547, 38.50025111,  6.7887319 ]])"
      ]
     },
     "execution_count": 137,
     "metadata": {},
     "output_type": "execute_result"
    }
   ],
   "source": [
    "calibrated_svc.predict_proba(testX)*100"
   ]
  },
  {
   "cell_type": "code",
   "execution_count": 107,
   "metadata": {},
   "outputs": [],
   "source": [
    "from sklearn import svm\n",
    "\n",
    "rbf= svm.SVC(kernel='rbf', gamma=0.5, C=0.1).fit(X_train, y_train)\n",
    "poly= svm.SVC(kernel='poly', degree=3, C=1).fit(X_train, y_train)"
   ]
  },
  {
   "cell_type": "code",
   "execution_count": 108,
   "metadata": {},
   "outputs": [
    {
     "name": "stdout",
     "output_type": "stream",
     "text": [
      "RBF Accuracy:  0.6888888888888889\n",
      "Poly Accuracy:  0.7111111111111111\n"
     ]
    }
   ],
   "source": [
    "rbf_val= rbf.predict(X_test)\n",
    "poly_val= poly.predict(X_test)\n",
    "\n",
    "print(\"RBF Accuracy: \", accuracy_score(y_test, rbf_val))\n",
    "print(\"Poly Accuracy: \", accuracy_score(y_test, poly_val))"
   ]
  },
  {
   "cell_type": "code",
   "execution_count": 109,
   "metadata": {},
   "outputs": [
    {
     "name": "stdout",
     "output_type": "stream",
     "text": [
      "\n",
      "RBF Testing Accuracy score: 0.6145833333333334\n",
      "\n",
      "Polynomial Testing Accuracy score: 0.7083333333333334\n"
     ]
    }
   ],
   "source": [
    "rbf_test_pred = rbf.predict(testX)\n",
    "poly_test_pred = poly.predict(testX)\n",
    "print(\"\\nRBF Testing Accuracy score:\",accuracy_score(testy, rbf_test_pred))\n",
    "print(\"\\nPolynomial Testing Accuracy score:\",accuracy_score(testy, poly_test_pred))"
   ]
  },
  {
   "cell_type": "code",
   "execution_count": 110,
   "metadata": {},
   "outputs": [
    {
     "name": "stdout",
     "output_type": "stream",
     "text": [
      "CPU times: total: 46.9 ms\n",
      "Wall time: 72.5 ms\n",
      "\n",
      "Training Accuracy score: 1.0\n",
      "Testing Accuracy score: 0.8\n"
     ]
    }
   ],
   "source": [
    "from sklearn.tree import DecisionTreeClassifier\n",
    "\n",
    "dt = DecisionTreeClassifier(random_state=SEED)\n",
    "%time dt.fit(X_train, y_train)\n",
    "\n",
    "y_pred_train = dt.predict(X_train)\n",
    "y_pred_test = dt.predict(X_test)\n",
    "print(\"\\nTraining Accuracy score:\",accuracy_score(y_train, y_pred_train))\n",
    "print(\"Testing Accuracy score:\",accuracy_score(y_test, y_pred_test))"
   ]
  },
  {
   "cell_type": "code",
   "execution_count": 111,
   "metadata": {},
   "outputs": [
    {
     "name": "stdout",
     "output_type": "stream",
     "text": [
      "\n",
      "Testing Accuracy score: 0.625\n"
     ]
    }
   ],
   "source": [
    "test_pred = dt.predict(testX)\n",
    "print(\"\\nTesting Accuracy score:\",accuracy_score(testy, test_pred))"
   ]
  },
  {
   "cell_type": "code",
   "execution_count": 112,
   "metadata": {},
   "outputs": [
    {
     "name": "stdout",
     "output_type": "stream",
     "text": [
      "Training Accuracy score: 0.9949622166246851\n",
      "Testing Accuracy score: 0.8888888888888888\n"
     ]
    }
   ],
   "source": [
    "from sklearn.ensemble import VotingClassifier\n",
    "\n",
    "classifiers = [('Decision Tree', dt),\n",
    "               ('Logistic Regression', lr),\n",
    "                ('Naive Bayes', gnb)\n",
    "              ]\n",
    "vc = VotingClassifier(estimators=classifiers)\n",
    "# Fit 'vc' to the traing set and predict test set labels\n",
    "vc.fit(X_train, y_train)\n",
    "y_pred_train=vc.predict(X_train)\n",
    "y_pred_test = vc.predict(X_test)\n",
    "print(\"Training Accuracy score:\",accuracy_score(y_train, y_pred_train))\n",
    "print(\"Testing Accuracy score:\",accuracy_score(y_test, y_pred_test))"
   ]
  },
  {
   "cell_type": "code",
   "execution_count": 113,
   "metadata": {},
   "outputs": [
    {
     "name": "stdout",
     "output_type": "stream",
     "text": [
      "\n",
      "Testing Accuracy score: 0.8229166666666666\n"
     ]
    }
   ],
   "source": [
    "test_pred = vc.predict(testX)\n",
    "print(\"\\nTesting Accuracy score:\",accuracy_score(testy, test_pred))"
   ]
  },
  {
   "cell_type": "code",
   "execution_count": 114,
   "metadata": {},
   "outputs": [
    {
     "name": "stdout",
     "output_type": "stream",
     "text": [
      "0.816025641025641\n"
     ]
    }
   ],
   "source": [
    "from sklearn.linear_model import LinearRegression\n",
    "from sklearn.tree import DecisionTreeClassifier\n",
    "from sklearn.svm import SVC\n",
    "from sklearn.naive_bayes import GaussianNB\n",
    "from sklearn.ensemble import VotingClassifier\n",
    "import sklearn.model_selection as model_selection\n",
    "\n",
    "kfold= model_selection.KFold(n_splits=10)\n",
    "\n",
    "# create the sub models\n",
    "estimators = []\n",
    "model1 = LogisticRegression()\n",
    "estimators.append(('logistic', model1))\n",
    "model2 = DecisionTreeClassifier()\n",
    "estimators.append(('cart', model2))\n",
    "model3 = SVC()\n",
    "estimators.append(('svm', model3))\n",
    "model4 = GaussianNB()\n",
    "estimators.append(('nb', model4))\n",
    "\n",
    "# create the ensemble model\n",
    "ensemble = VotingClassifier(estimators)\n",
    "results = model_selection.cross_val_score(ensemble, X_train, y_train, cv=kfold)\n",
    "print(results.mean())\n"
   ]
  },
  {
   "cell_type": "code",
   "execution_count": 115,
   "metadata": {},
   "outputs": [
    {
     "name": "stdout",
     "output_type": "stream",
     "text": [
      "Training Accuracy score: 0.9949622166246851\n",
      "Testing Accuracy score: 0.9333333333333333\n"
     ]
    }
   ],
   "source": [
    "ensemble.fit(X_train, y_train)\n",
    "y_pred_train=ensemble.predict(X_train)\n",
    "y_pred_test = ensemble.predict(X_test)\n",
    "print(\"Training Accuracy score:\",accuracy_score(y_train, y_pred_train))\n",
    "print(\"Testing Accuracy score:\",accuracy_score(y_test, y_pred_test))"
   ]
  },
  {
   "cell_type": "code",
   "execution_count": 116,
   "metadata": {},
   "outputs": [
    {
     "name": "stdout",
     "output_type": "stream",
     "text": [
      "\n",
      "Testing Accuracy score: 0.8229166666666666\n"
     ]
    }
   ],
   "source": [
    "test_pred = ensemble.predict(testX)\n",
    "print(\"\\nTesting Accuracy score:\",accuracy_score(testy, test_pred))"
   ]
  },
  {
   "cell_type": "code",
   "execution_count": 118,
   "metadata": {},
   "outputs": [
    {
     "name": "stdout",
     "output_type": "stream",
     "text": [
      "0.8008333333333333\n"
     ]
    }
   ],
   "source": [
    "from sklearn.tree import DecisionTreeClassifier\n",
    "from sklearn.svm import SVC\n",
    "from sklearn.naive_bayes import GaussianNB\n",
    "from sklearn.ensemble import VotingClassifier\n",
    "import sklearn.model_selection as model_selection\n",
    "import xgboost as xgb\n",
    "kfold= model_selection.KFold(n_splits=10)\n",
    "\n",
    "# create the sub models\n",
    "estimators = []\n",
    "model1 = LogisticRegression()\n",
    "estimators.append(('logistic', model1))\n",
    "model2 = LinearSVC()\n",
    "estimators.append(('svm', model2))\n",
    "model3 = MultinomialNB()\n",
    "estimators.append(('nb', model3))\n",
    "model4 = RandomForestClassifier()\n",
    "estimators.append(('rf', model4))\n",
    "model5= xgb.XGBClassifier()\n",
    "estimators.append(('xgb', model5))\n",
    "\n",
    "# create the ensemble model\n",
    "ensemble = VotingClassifier(estimators)\n",
    "results = model_selection.cross_val_score(ensemble, X_train, y_train, cv=kfold)\n",
    "print(results.mean())\n"
   ]
  },
  {
   "cell_type": "code",
   "execution_count": 119,
   "metadata": {},
   "outputs": [
    {
     "data": {
      "text/html": [
       "<style>#sk-container-id-2 {color: black;}#sk-container-id-2 pre{padding: 0;}#sk-container-id-2 div.sk-toggleable {background-color: white;}#sk-container-id-2 label.sk-toggleable__label {cursor: pointer;display: block;width: 100%;margin-bottom: 0;padding: 0.3em;box-sizing: border-box;text-align: center;}#sk-container-id-2 label.sk-toggleable__label-arrow:before {content: \"▸\";float: left;margin-right: 0.25em;color: #696969;}#sk-container-id-2 label.sk-toggleable__label-arrow:hover:before {color: black;}#sk-container-id-2 div.sk-estimator:hover label.sk-toggleable__label-arrow:before {color: black;}#sk-container-id-2 div.sk-toggleable__content {max-height: 0;max-width: 0;overflow: hidden;text-align: left;background-color: #f0f8ff;}#sk-container-id-2 div.sk-toggleable__content pre {margin: 0.2em;color: black;border-radius: 0.25em;background-color: #f0f8ff;}#sk-container-id-2 input.sk-toggleable__control:checked~div.sk-toggleable__content {max-height: 200px;max-width: 100%;overflow: auto;}#sk-container-id-2 input.sk-toggleable__control:checked~label.sk-toggleable__label-arrow:before {content: \"▾\";}#sk-container-id-2 div.sk-estimator input.sk-toggleable__control:checked~label.sk-toggleable__label {background-color: #d4ebff;}#sk-container-id-2 div.sk-label input.sk-toggleable__control:checked~label.sk-toggleable__label {background-color: #d4ebff;}#sk-container-id-2 input.sk-hidden--visually {border: 0;clip: rect(1px 1px 1px 1px);clip: rect(1px, 1px, 1px, 1px);height: 1px;margin: -1px;overflow: hidden;padding: 0;position: absolute;width: 1px;}#sk-container-id-2 div.sk-estimator {font-family: monospace;background-color: #f0f8ff;border: 1px dotted black;border-radius: 0.25em;box-sizing: border-box;margin-bottom: 0.5em;}#sk-container-id-2 div.sk-estimator:hover {background-color: #d4ebff;}#sk-container-id-2 div.sk-parallel-item::after {content: \"\";width: 100%;border-bottom: 1px solid gray;flex-grow: 1;}#sk-container-id-2 div.sk-label:hover label.sk-toggleable__label {background-color: #d4ebff;}#sk-container-id-2 div.sk-serial::before {content: \"\";position: absolute;border-left: 1px solid gray;box-sizing: border-box;top: 0;bottom: 0;left: 50%;z-index: 0;}#sk-container-id-2 div.sk-serial {display: flex;flex-direction: column;align-items: center;background-color: white;padding-right: 0.2em;padding-left: 0.2em;position: relative;}#sk-container-id-2 div.sk-item {position: relative;z-index: 1;}#sk-container-id-2 div.sk-parallel {display: flex;align-items: stretch;justify-content: center;background-color: white;position: relative;}#sk-container-id-2 div.sk-item::before, #sk-container-id-2 div.sk-parallel-item::before {content: \"\";position: absolute;border-left: 1px solid gray;box-sizing: border-box;top: 0;bottom: 0;left: 50%;z-index: -1;}#sk-container-id-2 div.sk-parallel-item {display: flex;flex-direction: column;z-index: 1;position: relative;background-color: white;}#sk-container-id-2 div.sk-parallel-item:first-child::after {align-self: flex-end;width: 50%;}#sk-container-id-2 div.sk-parallel-item:last-child::after {align-self: flex-start;width: 50%;}#sk-container-id-2 div.sk-parallel-item:only-child::after {width: 0;}#sk-container-id-2 div.sk-dashed-wrapped {border: 1px dashed gray;margin: 0 0.4em 0.5em 0.4em;box-sizing: border-box;padding-bottom: 0.4em;background-color: white;}#sk-container-id-2 div.sk-label label {font-family: monospace;font-weight: bold;display: inline-block;line-height: 1.2em;}#sk-container-id-2 div.sk-label-container {text-align: center;}#sk-container-id-2 div.sk-container {/* jupyter's `normalize.less` sets `[hidden] { display: none; }` but bootstrap.min.css set `[hidden] { display: none !important; }` so we also need the `!important` here to be able to override the default hidden behavior on the sphinx rendered scikit-learn.org. See: https://github.com/scikit-learn/scikit-learn/issues/21755 */display: inline-block !important;position: relative;}#sk-container-id-2 div.sk-text-repr-fallback {display: none;}</style><div id=\"sk-container-id-2\" class=\"sk-top-container\"><div class=\"sk-text-repr-fallback\"><pre>VotingClassifier(estimators=[(&#x27;logistic&#x27;, LogisticRegression()),\n",
       "                             (&#x27;svm&#x27;, LinearSVC()), (&#x27;nb&#x27;, MultinomialNB()),\n",
       "                             (&#x27;rf&#x27;, RandomForestClassifier()),\n",
       "                             (&#x27;xgb&#x27;,\n",
       "                              XGBClassifier(base_score=None, booster=None,\n",
       "                                            callbacks=None,\n",
       "                                            colsample_bylevel=None,\n",
       "                                            colsample_bynode=None,\n",
       "                                            colsample_bytree=None,\n",
       "                                            early_stopping_rounds=None,\n",
       "                                            enable_categorical=False,\n",
       "                                            eval_metric=None,\n",
       "                                            feature_typ...\n",
       "                                            gpu_id=None, grow_policy=None,\n",
       "                                            importance_type=None,\n",
       "                                            interaction_constraints=None,\n",
       "                                            learning_rate=None, max_bin=None,\n",
       "                                            max_cat_threshold=None,\n",
       "                                            max_cat_to_onehot=None,\n",
       "                                            max_delta_step=None, max_depth=None,\n",
       "                                            max_leaves=None,\n",
       "                                            min_child_weight=None, missing=nan,\n",
       "                                            monotone_constraints=None,\n",
       "                                            n_estimators=100, n_jobs=None,\n",
       "                                            num_parallel_tree=None,\n",
       "                                            predictor=None, random_state=None, ...))])</pre><b>In a Jupyter environment, please rerun this cell to show the HTML representation or trust the notebook. <br />On GitHub, the HTML representation is unable to render, please try loading this page with nbviewer.org.</b></div><div class=\"sk-container\" hidden><div class=\"sk-item sk-dashed-wrapped\"><div class=\"sk-label-container\"><div class=\"sk-label sk-toggleable\"><input class=\"sk-toggleable__control sk-hidden--visually\" id=\"sk-estimator-id-2\" type=\"checkbox\" ><label for=\"sk-estimator-id-2\" class=\"sk-toggleable__label sk-toggleable__label-arrow\">VotingClassifier</label><div class=\"sk-toggleable__content\"><pre>VotingClassifier(estimators=[(&#x27;logistic&#x27;, LogisticRegression()),\n",
       "                             (&#x27;svm&#x27;, LinearSVC()), (&#x27;nb&#x27;, MultinomialNB()),\n",
       "                             (&#x27;rf&#x27;, RandomForestClassifier()),\n",
       "                             (&#x27;xgb&#x27;,\n",
       "                              XGBClassifier(base_score=None, booster=None,\n",
       "                                            callbacks=None,\n",
       "                                            colsample_bylevel=None,\n",
       "                                            colsample_bynode=None,\n",
       "                                            colsample_bytree=None,\n",
       "                                            early_stopping_rounds=None,\n",
       "                                            enable_categorical=False,\n",
       "                                            eval_metric=None,\n",
       "                                            feature_typ...\n",
       "                                            gpu_id=None, grow_policy=None,\n",
       "                                            importance_type=None,\n",
       "                                            interaction_constraints=None,\n",
       "                                            learning_rate=None, max_bin=None,\n",
       "                                            max_cat_threshold=None,\n",
       "                                            max_cat_to_onehot=None,\n",
       "                                            max_delta_step=None, max_depth=None,\n",
       "                                            max_leaves=None,\n",
       "                                            min_child_weight=None, missing=nan,\n",
       "                                            monotone_constraints=None,\n",
       "                                            n_estimators=100, n_jobs=None,\n",
       "                                            num_parallel_tree=None,\n",
       "                                            predictor=None, random_state=None, ...))])</pre></div></div></div><div class=\"sk-parallel\"><div class=\"sk-parallel-item\"><div class=\"sk-item\"><div class=\"sk-label-container\"><div class=\"sk-label sk-toggleable\"><label>logistic</label></div></div><div class=\"sk-serial\"><div class=\"sk-item\"><div class=\"sk-estimator sk-toggleable\"><input class=\"sk-toggleable__control sk-hidden--visually\" id=\"sk-estimator-id-3\" type=\"checkbox\" ><label for=\"sk-estimator-id-3\" class=\"sk-toggleable__label sk-toggleable__label-arrow\">LogisticRegression</label><div class=\"sk-toggleable__content\"><pre>LogisticRegression()</pre></div></div></div></div></div></div><div class=\"sk-parallel-item\"><div class=\"sk-item\"><div class=\"sk-label-container\"><div class=\"sk-label sk-toggleable\"><label>svm</label></div></div><div class=\"sk-serial\"><div class=\"sk-item\"><div class=\"sk-estimator sk-toggleable\"><input class=\"sk-toggleable__control sk-hidden--visually\" id=\"sk-estimator-id-4\" type=\"checkbox\" ><label for=\"sk-estimator-id-4\" class=\"sk-toggleable__label sk-toggleable__label-arrow\">LinearSVC</label><div class=\"sk-toggleable__content\"><pre>LinearSVC()</pre></div></div></div></div></div></div><div class=\"sk-parallel-item\"><div class=\"sk-item\"><div class=\"sk-label-container\"><div class=\"sk-label sk-toggleable\"><label>nb</label></div></div><div class=\"sk-serial\"><div class=\"sk-item\"><div class=\"sk-estimator sk-toggleable\"><input class=\"sk-toggleable__control sk-hidden--visually\" id=\"sk-estimator-id-5\" type=\"checkbox\" ><label for=\"sk-estimator-id-5\" class=\"sk-toggleable__label sk-toggleable__label-arrow\">MultinomialNB</label><div class=\"sk-toggleable__content\"><pre>MultinomialNB()</pre></div></div></div></div></div></div><div class=\"sk-parallel-item\"><div class=\"sk-item\"><div class=\"sk-label-container\"><div class=\"sk-label sk-toggleable\"><label>rf</label></div></div><div class=\"sk-serial\"><div class=\"sk-item\"><div class=\"sk-estimator sk-toggleable\"><input class=\"sk-toggleable__control sk-hidden--visually\" id=\"sk-estimator-id-6\" type=\"checkbox\" ><label for=\"sk-estimator-id-6\" class=\"sk-toggleable__label sk-toggleable__label-arrow\">RandomForestClassifier</label><div class=\"sk-toggleable__content\"><pre>RandomForestClassifier()</pre></div></div></div></div></div></div><div class=\"sk-parallel-item\"><div class=\"sk-item\"><div class=\"sk-label-container\"><div class=\"sk-label sk-toggleable\"><label>xgb</label></div></div><div class=\"sk-serial\"><div class=\"sk-item\"><div class=\"sk-estimator sk-toggleable\"><input class=\"sk-toggleable__control sk-hidden--visually\" id=\"sk-estimator-id-7\" type=\"checkbox\" ><label for=\"sk-estimator-id-7\" class=\"sk-toggleable__label sk-toggleable__label-arrow\">XGBClassifier</label><div class=\"sk-toggleable__content\"><pre>XGBClassifier(base_score=None, booster=None, callbacks=None,\n",
       "              colsample_bylevel=None, colsample_bynode=None,\n",
       "              colsample_bytree=None, early_stopping_rounds=None,\n",
       "              enable_categorical=False, eval_metric=None, feature_types=None,\n",
       "              gamma=None, gpu_id=None, grow_policy=None, importance_type=None,\n",
       "              interaction_constraints=None, learning_rate=None, max_bin=None,\n",
       "              max_cat_threshold=None, max_cat_to_onehot=None,\n",
       "              max_delta_step=None, max_depth=None, max_leaves=None,\n",
       "              min_child_weight=None, missing=nan, monotone_constraints=None,\n",
       "              n_estimators=100, n_jobs=None, num_parallel_tree=None,\n",
       "              predictor=None, random_state=None, ...)</pre></div></div></div></div></div></div></div></div></div></div>"
      ],
      "text/plain": [
       "VotingClassifier(estimators=[('logistic', LogisticRegression()),\n",
       "                             ('svm', LinearSVC()), ('nb', MultinomialNB()),\n",
       "                             ('rf', RandomForestClassifier()),\n",
       "                             ('xgb',\n",
       "                              XGBClassifier(base_score=None, booster=None,\n",
       "                                            callbacks=None,\n",
       "                                            colsample_bylevel=None,\n",
       "                                            colsample_bynode=None,\n",
       "                                            colsample_bytree=None,\n",
       "                                            early_stopping_rounds=None,\n",
       "                                            enable_categorical=False,\n",
       "                                            eval_metric=None,\n",
       "                                            feature_typ...\n",
       "                                            gpu_id=None, grow_policy=None,\n",
       "                                            importance_type=None,\n",
       "                                            interaction_constraints=None,\n",
       "                                            learning_rate=None, max_bin=None,\n",
       "                                            max_cat_threshold=None,\n",
       "                                            max_cat_to_onehot=None,\n",
       "                                            max_delta_step=None, max_depth=None,\n",
       "                                            max_leaves=None,\n",
       "                                            min_child_weight=None, missing=nan,\n",
       "                                            monotone_constraints=None,\n",
       "                                            n_estimators=100, n_jobs=None,\n",
       "                                            num_parallel_tree=None,\n",
       "                                            predictor=None, random_state=None, ...))])"
      ]
     },
     "execution_count": 119,
     "metadata": {},
     "output_type": "execute_result"
    }
   ],
   "source": [
    "ensemble.fit(X_train, y_train)"
   ]
  },
  {
   "cell_type": "code",
   "execution_count": 120,
   "metadata": {},
   "outputs": [
    {
     "name": "stdout",
     "output_type": "stream",
     "text": [
      "Accuracy: 0.9333\n",
      "Precision: 0.9405\n",
      "Recall: 0.9333\n",
      "F1-score: 0.9331\n"
     ]
    }
   ],
   "source": [
    "\n",
    "# Model Evaluation\n",
    "from sklearn.metrics import f1_score\n",
    "\n",
    "\n",
    "y_pred = ensemble.predict(X_test)\n",
    "accuracy = accuracy_score(y_test, y_pred)\n",
    "precision = precision_score(y_test, y_pred, average='weighted')\n",
    "recall = recall_score(y_test, y_pred, average='weighted')\n",
    "f1 = f1_score(y_test, y_pred, average='weighted')\n",
    "\n",
    "print(f\"Accuracy: {accuracy:.4f}\")\n",
    "print(f\"Precision: {precision:.4f}\")\n",
    "print(f\"Recall: {recall:.4f}\")\n",
    "print(f\"F1-score: {f1:.4f}\")"
   ]
  },
  {
   "cell_type": "code",
   "execution_count": 121,
   "metadata": {},
   "outputs": [
    {
     "name": "stdout",
     "output_type": "stream",
     "text": [
      "Testing Accuracy score:  0.8125\n",
      "Testing Precision score:  0.8178289646813197\n",
      "Testing Recall score:  0.8125\n",
      "Testing F1 score:  0.8100986995675464\n"
     ]
    }
   ],
   "source": [
    "test_pred = ensemble.predict(testX)\n",
    "accuracy= accuracy_score(testy, test_pred)\n",
    "precision= precision_score(testy, test_pred, average='weighted')\n",
    "recall= recall_score(testy, test_pred, average='weighted')\n",
    "f1= f1_score(testy, test_pred, average='weighted')\n",
    "print(\"Testing Accuracy score: \",accuracy)\n",
    "print(\"Testing Precision score: \",precision)\n",
    "print(\"Testing Recall score: \",recall)\n",
    "print(\"Testing F1 score: \",f1)\n"
   ]
  },
  {
   "cell_type": "code",
   "execution_count": 122,
   "metadata": {},
   "outputs": [
    {
     "name": "stdout",
     "output_type": "stream",
     "text": [
      "Accuracy: 0.8667\n",
      "Precision: 0.8685\n",
      "Recall: 0.8667\n",
      "F1-score: 0.8667\n"
     ]
    }
   ],
   "source": [
    "#IMPORT xgboost\n",
    "from sklearn.metrics import f1_score\n",
    "import xgboost as xgb\n",
    "\n",
    "# XGBoost Classifier\n",
    "model = xgb.XGBClassifier()\n",
    "model.fit(X_train, y_train)\n",
    "\n",
    "# Model Evaluation\n",
    "y_pred = model.predict(X_test)\n",
    "accuracy = accuracy_score(y_test, y_pred)\n",
    "precision = precision_score(y_test, y_pred, average='weighted')\n",
    "recall = recall_score(y_test, y_pred, average='weighted')\n",
    "f1 = f1_score(y_test, y_pred, average='weighted')\n",
    "\n",
    "print(f\"Accuracy: {accuracy:.4f}\")\n",
    "print(f\"Precision: {precision:.4f}\")\n",
    "print(f\"Recall: {recall:.4f}\")\n",
    "print(f\"F1-score: {f1:.4f}\")\n",
    "\n"
   ]
  },
  {
   "cell_type": "code",
   "execution_count": 123,
   "metadata": {},
   "outputs": [
    {
     "name": "stdout",
     "output_type": "stream",
     "text": [
      "Testing Accuracy score:  0.7395833333333334\n",
      "Testing Precision score:  0.7704947916666667\n",
      "Testing Recall score:  0.7395833333333334\n",
      "Testing F1 score:  0.7398631739137204\n"
     ]
    }
   ],
   "source": [
    "test_pred = model.predict(testX)\n",
    "accuracy= accuracy_score(testy, test_pred)\n",
    "precision= precision_score(testy, test_pred, average='weighted')\n",
    "recall= recall_score(testy, test_pred, average='weighted')\n",
    "f1= f1_score(testy, test_pred, average='weighted')\n",
    "print(\"Testing Accuracy score: \",accuracy)\n",
    "print(\"Testing Precision score: \",precision)\n",
    "print(\"Testing Recall score: \",recall)\n",
    "print(\"Testing F1 score: \",f1)\n"
   ]
  },
  {
   "cell_type": "code",
   "execution_count": 124,
   "metadata": {},
   "outputs": [
    {
     "ename": "KeyboardInterrupt",
     "evalue": "",
     "output_type": "error",
     "traceback": [
      "\u001b[1;31m---------------------------------------------------------------------------\u001b[0m",
      "\u001b[1;31mKeyboardInterrupt\u001b[0m                         Traceback (most recent call last)",
      "Cell \u001b[1;32mIn[124], line 20\u001b[0m\n\u001b[0;32m     11\u001b[0m random_search_params \u001b[39m=\u001b[39m {\n\u001b[0;32m     12\u001b[0m     \u001b[39m'\u001b[39m\u001b[39mn_estimators\u001b[39m\u001b[39m'\u001b[39m: [\u001b[39m100\u001b[39m, \u001b[39m200\u001b[39m, \u001b[39m300\u001b[39m, \u001b[39m500\u001b[39m],\n\u001b[0;32m     13\u001b[0m     \u001b[39m'\u001b[39m\u001b[39mlearning_rate\u001b[39m\u001b[39m'\u001b[39m: [\u001b[39m0.01\u001b[39m, \u001b[39m0.05\u001b[39m, \u001b[39m0.1\u001b[39m, \u001b[39m0.2\u001b[39m],\n\u001b[1;32m   (...)\u001b[0m\n\u001b[0;32m     16\u001b[0m     \u001b[39m'\u001b[39m\u001b[39mcolsample_bytree\u001b[39m\u001b[39m'\u001b[39m: [\u001b[39m0.6\u001b[39m, \u001b[39m0.8\u001b[39m, \u001b[39m1.0\u001b[39m],\n\u001b[0;32m     17\u001b[0m }\n\u001b[0;32m     19\u001b[0m random_search \u001b[39m=\u001b[39m RandomizedSearchCV(base_model, random_search_params, n_iter\u001b[39m=\u001b[39m\u001b[39m10\u001b[39m, scoring\u001b[39m=\u001b[39m\u001b[39m'\u001b[39m\u001b[39maccuracy\u001b[39m\u001b[39m'\u001b[39m, cv\u001b[39m=\u001b[39m\u001b[39m3\u001b[39m, random_state\u001b[39m=\u001b[39m\u001b[39m42\u001b[39m)\n\u001b[1;32m---> 20\u001b[0m random_search\u001b[39m.\u001b[39;49mfit(X_train, y_train)\n\u001b[0;32m     22\u001b[0m \u001b[39mprint\u001b[39m(\u001b[39m\"\u001b[39m\u001b[39mBest hyperparameters from RandomizedSearchCV:\u001b[39m\u001b[39m\"\u001b[39m)\n\u001b[0;32m     23\u001b[0m \u001b[39mprint\u001b[39m(random_search\u001b[39m.\u001b[39mbest_params_)\n",
      "File \u001b[1;32mc:\\Python311\\Lib\\site-packages\\sklearn\\base.py:1151\u001b[0m, in \u001b[0;36m_fit_context.<locals>.decorator.<locals>.wrapper\u001b[1;34m(estimator, *args, **kwargs)\u001b[0m\n\u001b[0;32m   1144\u001b[0m     estimator\u001b[39m.\u001b[39m_validate_params()\n\u001b[0;32m   1146\u001b[0m \u001b[39mwith\u001b[39;00m config_context(\n\u001b[0;32m   1147\u001b[0m     skip_parameter_validation\u001b[39m=\u001b[39m(\n\u001b[0;32m   1148\u001b[0m         prefer_skip_nested_validation \u001b[39mor\u001b[39;00m global_skip_validation\n\u001b[0;32m   1149\u001b[0m     )\n\u001b[0;32m   1150\u001b[0m ):\n\u001b[1;32m-> 1151\u001b[0m     \u001b[39mreturn\u001b[39;00m fit_method(estimator, \u001b[39m*\u001b[39;49margs, \u001b[39m*\u001b[39;49m\u001b[39m*\u001b[39;49mkwargs)\n",
      "File \u001b[1;32mc:\\Python311\\Lib\\site-packages\\sklearn\\model_selection\\_search.py:898\u001b[0m, in \u001b[0;36mBaseSearchCV.fit\u001b[1;34m(self, X, y, groups, **fit_params)\u001b[0m\n\u001b[0;32m    892\u001b[0m     results \u001b[39m=\u001b[39m \u001b[39mself\u001b[39m\u001b[39m.\u001b[39m_format_results(\n\u001b[0;32m    893\u001b[0m         all_candidate_params, n_splits, all_out, all_more_results\n\u001b[0;32m    894\u001b[0m     )\n\u001b[0;32m    896\u001b[0m     \u001b[39mreturn\u001b[39;00m results\n\u001b[1;32m--> 898\u001b[0m \u001b[39mself\u001b[39;49m\u001b[39m.\u001b[39;49m_run_search(evaluate_candidates)\n\u001b[0;32m    900\u001b[0m \u001b[39m# multimetric is determined here because in the case of a callable\u001b[39;00m\n\u001b[0;32m    901\u001b[0m \u001b[39m# self.scoring the return type is only known after calling\u001b[39;00m\n\u001b[0;32m    902\u001b[0m first_test_score \u001b[39m=\u001b[39m all_out[\u001b[39m0\u001b[39m][\u001b[39m\"\u001b[39m\u001b[39mtest_scores\u001b[39m\u001b[39m\"\u001b[39m]\n",
      "File \u001b[1;32mc:\\Python311\\Lib\\site-packages\\sklearn\\model_selection\\_search.py:1806\u001b[0m, in \u001b[0;36mRandomizedSearchCV._run_search\u001b[1;34m(self, evaluate_candidates)\u001b[0m\n\u001b[0;32m   1804\u001b[0m \u001b[39mdef\u001b[39;00m \u001b[39m_run_search\u001b[39m(\u001b[39mself\u001b[39m, evaluate_candidates):\n\u001b[0;32m   1805\u001b[0m \u001b[39m    \u001b[39m\u001b[39m\"\"\"Search n_iter candidates from param_distributions\"\"\"\u001b[39;00m\n\u001b[1;32m-> 1806\u001b[0m     evaluate_candidates(\n\u001b[0;32m   1807\u001b[0m         ParameterSampler(\n\u001b[0;32m   1808\u001b[0m             \u001b[39mself\u001b[39;49m\u001b[39m.\u001b[39;49mparam_distributions, \u001b[39mself\u001b[39;49m\u001b[39m.\u001b[39;49mn_iter, random_state\u001b[39m=\u001b[39;49m\u001b[39mself\u001b[39;49m\u001b[39m.\u001b[39;49mrandom_state\n\u001b[0;32m   1809\u001b[0m         )\n\u001b[0;32m   1810\u001b[0m     )\n",
      "File \u001b[1;32mc:\\Python311\\Lib\\site-packages\\sklearn\\model_selection\\_search.py:845\u001b[0m, in \u001b[0;36mBaseSearchCV.fit.<locals>.evaluate_candidates\u001b[1;34m(candidate_params, cv, more_results)\u001b[0m\n\u001b[0;32m    837\u001b[0m \u001b[39mif\u001b[39;00m \u001b[39mself\u001b[39m\u001b[39m.\u001b[39mverbose \u001b[39m>\u001b[39m \u001b[39m0\u001b[39m:\n\u001b[0;32m    838\u001b[0m     \u001b[39mprint\u001b[39m(\n\u001b[0;32m    839\u001b[0m         \u001b[39m\"\u001b[39m\u001b[39mFitting \u001b[39m\u001b[39m{0}\u001b[39;00m\u001b[39m folds for each of \u001b[39m\u001b[39m{1}\u001b[39;00m\u001b[39m candidates,\u001b[39m\u001b[39m\"\u001b[39m\n\u001b[0;32m    840\u001b[0m         \u001b[39m\"\u001b[39m\u001b[39m totalling \u001b[39m\u001b[39m{2}\u001b[39;00m\u001b[39m fits\u001b[39m\u001b[39m\"\u001b[39m\u001b[39m.\u001b[39mformat(\n\u001b[0;32m    841\u001b[0m             n_splits, n_candidates, n_candidates \u001b[39m*\u001b[39m n_splits\n\u001b[0;32m    842\u001b[0m         )\n\u001b[0;32m    843\u001b[0m     )\n\u001b[1;32m--> 845\u001b[0m out \u001b[39m=\u001b[39m parallel(\n\u001b[0;32m    846\u001b[0m     delayed(_fit_and_score)(\n\u001b[0;32m    847\u001b[0m         clone(base_estimator),\n\u001b[0;32m    848\u001b[0m         X,\n\u001b[0;32m    849\u001b[0m         y,\n\u001b[0;32m    850\u001b[0m         train\u001b[39m=\u001b[39;49mtrain,\n\u001b[0;32m    851\u001b[0m         test\u001b[39m=\u001b[39;49mtest,\n\u001b[0;32m    852\u001b[0m         parameters\u001b[39m=\u001b[39;49mparameters,\n\u001b[0;32m    853\u001b[0m         split_progress\u001b[39m=\u001b[39;49m(split_idx, n_splits),\n\u001b[0;32m    854\u001b[0m         candidate_progress\u001b[39m=\u001b[39;49m(cand_idx, n_candidates),\n\u001b[0;32m    855\u001b[0m         \u001b[39m*\u001b[39;49m\u001b[39m*\u001b[39;49mfit_and_score_kwargs,\n\u001b[0;32m    856\u001b[0m     )\n\u001b[0;32m    857\u001b[0m     \u001b[39mfor\u001b[39;49;00m (cand_idx, parameters), (split_idx, (train, test)) \u001b[39min\u001b[39;49;00m product(\n\u001b[0;32m    858\u001b[0m         \u001b[39menumerate\u001b[39;49m(candidate_params), \u001b[39menumerate\u001b[39;49m(cv\u001b[39m.\u001b[39;49msplit(X, y, groups))\n\u001b[0;32m    859\u001b[0m     )\n\u001b[0;32m    860\u001b[0m )\n\u001b[0;32m    862\u001b[0m \u001b[39mif\u001b[39;00m \u001b[39mlen\u001b[39m(out) \u001b[39m<\u001b[39m \u001b[39m1\u001b[39m:\n\u001b[0;32m    863\u001b[0m     \u001b[39mraise\u001b[39;00m \u001b[39mValueError\u001b[39;00m(\n\u001b[0;32m    864\u001b[0m         \u001b[39m\"\u001b[39m\u001b[39mNo fits were performed. \u001b[39m\u001b[39m\"\u001b[39m\n\u001b[0;32m    865\u001b[0m         \u001b[39m\"\u001b[39m\u001b[39mWas the CV iterator empty? \u001b[39m\u001b[39m\"\u001b[39m\n\u001b[0;32m    866\u001b[0m         \u001b[39m\"\u001b[39m\u001b[39mWere there no candidates?\u001b[39m\u001b[39m\"\u001b[39m\n\u001b[0;32m    867\u001b[0m     )\n",
      "File \u001b[1;32mc:\\Python311\\Lib\\site-packages\\sklearn\\utils\\parallel.py:65\u001b[0m, in \u001b[0;36mParallel.__call__\u001b[1;34m(self, iterable)\u001b[0m\n\u001b[0;32m     60\u001b[0m config \u001b[39m=\u001b[39m get_config()\n\u001b[0;32m     61\u001b[0m iterable_with_config \u001b[39m=\u001b[39m (\n\u001b[0;32m     62\u001b[0m     (_with_config(delayed_func, config), args, kwargs)\n\u001b[0;32m     63\u001b[0m     \u001b[39mfor\u001b[39;00m delayed_func, args, kwargs \u001b[39min\u001b[39;00m iterable\n\u001b[0;32m     64\u001b[0m )\n\u001b[1;32m---> 65\u001b[0m \u001b[39mreturn\u001b[39;00m \u001b[39msuper\u001b[39;49m()\u001b[39m.\u001b[39;49m\u001b[39m__call__\u001b[39;49m(iterable_with_config)\n",
      "File \u001b[1;32mc:\\Python311\\Lib\\site-packages\\joblib\\parallel.py:1855\u001b[0m, in \u001b[0;36mParallel.__call__\u001b[1;34m(self, iterable)\u001b[0m\n\u001b[0;32m   1853\u001b[0m     output \u001b[39m=\u001b[39m \u001b[39mself\u001b[39m\u001b[39m.\u001b[39m_get_sequential_output(iterable)\n\u001b[0;32m   1854\u001b[0m     \u001b[39mnext\u001b[39m(output)\n\u001b[1;32m-> 1855\u001b[0m     \u001b[39mreturn\u001b[39;00m output \u001b[39mif\u001b[39;00m \u001b[39mself\u001b[39m\u001b[39m.\u001b[39mreturn_generator \u001b[39melse\u001b[39;00m \u001b[39mlist\u001b[39m(output)\n\u001b[0;32m   1857\u001b[0m \u001b[39m# Let's create an ID that uniquely identifies the current call. If the\u001b[39;00m\n\u001b[0;32m   1858\u001b[0m \u001b[39m# call is interrupted early and that the same instance is immediately\u001b[39;00m\n\u001b[0;32m   1859\u001b[0m \u001b[39m# re-used, this id will be used to prevent workers that were\u001b[39;00m\n\u001b[0;32m   1860\u001b[0m \u001b[39m# concurrently finalizing a task from the previous call to run the\u001b[39;00m\n\u001b[0;32m   1861\u001b[0m \u001b[39m# callback.\u001b[39;00m\n\u001b[0;32m   1862\u001b[0m \u001b[39mwith\u001b[39;00m \u001b[39mself\u001b[39m\u001b[39m.\u001b[39m_lock:\n",
      "File \u001b[1;32mc:\\Python311\\Lib\\site-packages\\joblib\\parallel.py:1784\u001b[0m, in \u001b[0;36mParallel._get_sequential_output\u001b[1;34m(self, iterable)\u001b[0m\n\u001b[0;32m   1782\u001b[0m \u001b[39mself\u001b[39m\u001b[39m.\u001b[39mn_dispatched_batches \u001b[39m+\u001b[39m\u001b[39m=\u001b[39m \u001b[39m1\u001b[39m\n\u001b[0;32m   1783\u001b[0m \u001b[39mself\u001b[39m\u001b[39m.\u001b[39mn_dispatched_tasks \u001b[39m+\u001b[39m\u001b[39m=\u001b[39m \u001b[39m1\u001b[39m\n\u001b[1;32m-> 1784\u001b[0m res \u001b[39m=\u001b[39m func(\u001b[39m*\u001b[39;49margs, \u001b[39m*\u001b[39;49m\u001b[39m*\u001b[39;49mkwargs)\n\u001b[0;32m   1785\u001b[0m \u001b[39mself\u001b[39m\u001b[39m.\u001b[39mn_completed_tasks \u001b[39m+\u001b[39m\u001b[39m=\u001b[39m \u001b[39m1\u001b[39m\n\u001b[0;32m   1786\u001b[0m \u001b[39mself\u001b[39m\u001b[39m.\u001b[39mprint_progress()\n",
      "File \u001b[1;32mc:\\Python311\\Lib\\site-packages\\sklearn\\utils\\parallel.py:127\u001b[0m, in \u001b[0;36m_FuncWrapper.__call__\u001b[1;34m(self, *args, **kwargs)\u001b[0m\n\u001b[0;32m    125\u001b[0m     config \u001b[39m=\u001b[39m {}\n\u001b[0;32m    126\u001b[0m \u001b[39mwith\u001b[39;00m config_context(\u001b[39m*\u001b[39m\u001b[39m*\u001b[39mconfig):\n\u001b[1;32m--> 127\u001b[0m     \u001b[39mreturn\u001b[39;00m \u001b[39mself\u001b[39;49m\u001b[39m.\u001b[39;49mfunction(\u001b[39m*\u001b[39;49margs, \u001b[39m*\u001b[39;49m\u001b[39m*\u001b[39;49mkwargs)\n",
      "File \u001b[1;32mc:\\Python311\\Lib\\site-packages\\sklearn\\model_selection\\_validation.py:732\u001b[0m, in \u001b[0;36m_fit_and_score\u001b[1;34m(estimator, X, y, scorer, train, test, verbose, parameters, fit_params, return_train_score, return_parameters, return_n_test_samples, return_times, return_estimator, split_progress, candidate_progress, error_score)\u001b[0m\n\u001b[0;32m    730\u001b[0m         estimator\u001b[39m.\u001b[39mfit(X_train, \u001b[39m*\u001b[39m\u001b[39m*\u001b[39mfit_params)\n\u001b[0;32m    731\u001b[0m     \u001b[39melse\u001b[39;00m:\n\u001b[1;32m--> 732\u001b[0m         estimator\u001b[39m.\u001b[39;49mfit(X_train, y_train, \u001b[39m*\u001b[39;49m\u001b[39m*\u001b[39;49mfit_params)\n\u001b[0;32m    734\u001b[0m \u001b[39mexcept\u001b[39;00m \u001b[39mException\u001b[39;00m:\n\u001b[0;32m    735\u001b[0m     \u001b[39m# Note fit time as time until error\u001b[39;00m\n\u001b[0;32m    736\u001b[0m     fit_time \u001b[39m=\u001b[39m time\u001b[39m.\u001b[39mtime() \u001b[39m-\u001b[39m start_time\n",
      "File \u001b[1;32mc:\\Python311\\Lib\\site-packages\\xgboost\\core.py:620\u001b[0m, in \u001b[0;36mrequire_keyword_args.<locals>.throw_if.<locals>.inner_f\u001b[1;34m(*args, **kwargs)\u001b[0m\n\u001b[0;32m    618\u001b[0m \u001b[39mfor\u001b[39;00m k, arg \u001b[39min\u001b[39;00m \u001b[39mzip\u001b[39m(sig\u001b[39m.\u001b[39mparameters, args):\n\u001b[0;32m    619\u001b[0m     kwargs[k] \u001b[39m=\u001b[39m arg\n\u001b[1;32m--> 620\u001b[0m \u001b[39mreturn\u001b[39;00m func(\u001b[39m*\u001b[39;49m\u001b[39m*\u001b[39;49mkwargs)\n",
      "File \u001b[1;32mc:\\Python311\\Lib\\site-packages\\xgboost\\sklearn.py:1490\u001b[0m, in \u001b[0;36mXGBClassifier.fit\u001b[1;34m(self, X, y, sample_weight, base_margin, eval_set, eval_metric, early_stopping_rounds, verbose, xgb_model, sample_weight_eval_set, base_margin_eval_set, feature_weights, callbacks)\u001b[0m\n\u001b[0;32m   1462\u001b[0m (\n\u001b[0;32m   1463\u001b[0m     model,\n\u001b[0;32m   1464\u001b[0m     metric,\n\u001b[1;32m   (...)\u001b[0m\n\u001b[0;32m   1469\u001b[0m     xgb_model, eval_metric, params, early_stopping_rounds, callbacks\n\u001b[0;32m   1470\u001b[0m )\n\u001b[0;32m   1471\u001b[0m train_dmatrix, evals \u001b[39m=\u001b[39m _wrap_evaluation_matrices(\n\u001b[0;32m   1472\u001b[0m     missing\u001b[39m=\u001b[39m\u001b[39mself\u001b[39m\u001b[39m.\u001b[39mmissing,\n\u001b[0;32m   1473\u001b[0m     X\u001b[39m=\u001b[39mX,\n\u001b[1;32m   (...)\u001b[0m\n\u001b[0;32m   1487\u001b[0m     feature_types\u001b[39m=\u001b[39m\u001b[39mself\u001b[39m\u001b[39m.\u001b[39mfeature_types,\n\u001b[0;32m   1488\u001b[0m )\n\u001b[1;32m-> 1490\u001b[0m \u001b[39mself\u001b[39m\u001b[39m.\u001b[39m_Booster \u001b[39m=\u001b[39m train(\n\u001b[0;32m   1491\u001b[0m     params,\n\u001b[0;32m   1492\u001b[0m     train_dmatrix,\n\u001b[0;32m   1493\u001b[0m     \u001b[39mself\u001b[39;49m\u001b[39m.\u001b[39;49mget_num_boosting_rounds(),\n\u001b[0;32m   1494\u001b[0m     evals\u001b[39m=\u001b[39;49mevals,\n\u001b[0;32m   1495\u001b[0m     early_stopping_rounds\u001b[39m=\u001b[39;49mearly_stopping_rounds,\n\u001b[0;32m   1496\u001b[0m     evals_result\u001b[39m=\u001b[39;49mevals_result,\n\u001b[0;32m   1497\u001b[0m     obj\u001b[39m=\u001b[39;49mobj,\n\u001b[0;32m   1498\u001b[0m     custom_metric\u001b[39m=\u001b[39;49mmetric,\n\u001b[0;32m   1499\u001b[0m     verbose_eval\u001b[39m=\u001b[39;49mverbose,\n\u001b[0;32m   1500\u001b[0m     xgb_model\u001b[39m=\u001b[39;49mmodel,\n\u001b[0;32m   1501\u001b[0m     callbacks\u001b[39m=\u001b[39;49mcallbacks,\n\u001b[0;32m   1502\u001b[0m )\n\u001b[0;32m   1504\u001b[0m \u001b[39mif\u001b[39;00m \u001b[39mnot\u001b[39;00m \u001b[39mcallable\u001b[39m(\u001b[39mself\u001b[39m\u001b[39m.\u001b[39mobjective):\n\u001b[0;32m   1505\u001b[0m     \u001b[39mself\u001b[39m\u001b[39m.\u001b[39mobjective \u001b[39m=\u001b[39m params[\u001b[39m\"\u001b[39m\u001b[39mobjective\u001b[39m\u001b[39m\"\u001b[39m]\n",
      "File \u001b[1;32mc:\\Python311\\Lib\\site-packages\\xgboost\\core.py:620\u001b[0m, in \u001b[0;36mrequire_keyword_args.<locals>.throw_if.<locals>.inner_f\u001b[1;34m(*args, **kwargs)\u001b[0m\n\u001b[0;32m    618\u001b[0m \u001b[39mfor\u001b[39;00m k, arg \u001b[39min\u001b[39;00m \u001b[39mzip\u001b[39m(sig\u001b[39m.\u001b[39mparameters, args):\n\u001b[0;32m    619\u001b[0m     kwargs[k] \u001b[39m=\u001b[39m arg\n\u001b[1;32m--> 620\u001b[0m \u001b[39mreturn\u001b[39;00m func(\u001b[39m*\u001b[39;49m\u001b[39m*\u001b[39;49mkwargs)\n",
      "File \u001b[1;32mc:\\Python311\\Lib\\site-packages\\xgboost\\training.py:185\u001b[0m, in \u001b[0;36mtrain\u001b[1;34m(params, dtrain, num_boost_round, evals, obj, feval, maximize, early_stopping_rounds, evals_result, verbose_eval, xgb_model, callbacks, custom_metric)\u001b[0m\n\u001b[0;32m    183\u001b[0m \u001b[39mif\u001b[39;00m cb_container\u001b[39m.\u001b[39mbefore_iteration(bst, i, dtrain, evals):\n\u001b[0;32m    184\u001b[0m     \u001b[39mbreak\u001b[39;00m\n\u001b[1;32m--> 185\u001b[0m bst\u001b[39m.\u001b[39;49mupdate(dtrain, i, obj)\n\u001b[0;32m    186\u001b[0m \u001b[39mif\u001b[39;00m cb_container\u001b[39m.\u001b[39mafter_iteration(bst, i, dtrain, evals):\n\u001b[0;32m    187\u001b[0m     \u001b[39mbreak\u001b[39;00m\n",
      "File \u001b[1;32mc:\\Python311\\Lib\\site-packages\\xgboost\\core.py:1918\u001b[0m, in \u001b[0;36mBooster.update\u001b[1;34m(self, dtrain, iteration, fobj)\u001b[0m\n\u001b[0;32m   1915\u001b[0m \u001b[39mself\u001b[39m\u001b[39m.\u001b[39m_validate_dmatrix_features(dtrain)\n\u001b[0;32m   1917\u001b[0m \u001b[39mif\u001b[39;00m fobj \u001b[39mis\u001b[39;00m \u001b[39mNone\u001b[39;00m:\n\u001b[1;32m-> 1918\u001b[0m     _check_call(_LIB\u001b[39m.\u001b[39;49mXGBoosterUpdateOneIter(\u001b[39mself\u001b[39;49m\u001b[39m.\u001b[39;49mhandle,\n\u001b[0;32m   1919\u001b[0m                                             ctypes\u001b[39m.\u001b[39;49mc_int(iteration),\n\u001b[0;32m   1920\u001b[0m                                             dtrain\u001b[39m.\u001b[39;49mhandle))\n\u001b[0;32m   1921\u001b[0m \u001b[39melse\u001b[39;00m:\n\u001b[0;32m   1922\u001b[0m     pred \u001b[39m=\u001b[39m \u001b[39mself\u001b[39m\u001b[39m.\u001b[39mpredict(dtrain, output_margin\u001b[39m=\u001b[39m\u001b[39mTrue\u001b[39;00m, training\u001b[39m=\u001b[39m\u001b[39mTrue\u001b[39;00m)\n",
      "\u001b[1;31mKeyboardInterrupt\u001b[0m: "
     ]
    }
   ],
   "source": [
    "import pandas as pd\n",
    "from sklearn.feature_extraction.text import TfidfVectorizer\n",
    "from sklearn.model_selection import train_test_split, RandomizedSearchCV, GridSearchCV\n",
    "import xgboost as xgb\n",
    "from sklearn.metrics import accuracy_score, precision_score, recall_score, f1_score\n",
    "\n",
    "# XGBoost Classifier with default hyperparameters\n",
    "base_model = xgb.XGBClassifier()\n",
    "\n",
    "# RandomizedSearchCV for hyperparameter tuning\n",
    "random_search_params = {\n",
    "    'n_estimators': [100, 200, 300, 500],\n",
    "    'learning_rate': [0.01, 0.05, 0.1, 0.2],\n",
    "    'max_depth': [3, 5, 7, 10],\n",
    "    'subsample': [0.6, 0.8, 1.0],\n",
    "    'colsample_bytree': [0.6, 0.8, 1.0],\n",
    "}\n",
    "\n",
    "random_search = RandomizedSearchCV(base_model, random_search_params, n_iter=10, scoring='accuracy', cv=3, random_state=42)\n",
    "random_search.fit(X_train, y_train)\n",
    "\n",
    "print(\"Best hyperparameters from RandomizedSearchCV:\")\n",
    "print(random_search.best_params_)\n",
    "\n",
    "# GridSearchCV for further fine-tuning\n",
    "grid_search_params = {\n",
    "    'n_estimators': [100, 200, 300],\n",
    "    'learning_rate': [0.05, 0.1, 0.2],\n",
    "    'max_depth': [5, 7, 10],\n",
    "    'subsample': [0.8, 1.0],\n",
    "    'colsample_bytree': [0.8, 1.0],\n",
    "}\n",
    "\n",
    "grid_search = GridSearchCV(base_model, grid_search_params, scoring='accuracy', cv=3)\n",
    "grid_search.fit(X_train, y_train)\n",
    "\n",
    "print(\"Best hyperparameters from GridSearchCV:\")\n",
    "print(grid_search.best_params_)\n",
    "\n",
    "# Evaluate the model with the best hyperparameters\n",
    "best_model = grid_search.best_estimator_\n",
    "y_pred = best_model.predict(X_test)\n",
    "accuracy = accuracy_score(y_test, y_pred)\n",
    "precision = precision_score(y_test, y_pred, average='weighted')\n",
    "recall = recall_score(y_test, y_pred, average='weighted')\n",
    "f1 = f1_score(y_test, y_pred, average='weighted')\n",
    "\n",
    "print(f\"Accuracy: {accuracy:.4f}\")\n",
    "print(f\"Precision: {precision:.4f}\")\n",
    "print(f\"Recall: {recall:.4f}\")\n",
    "print(f\"F1-score: {f1:.4f}\")\n",
    "\n",
    "# Prediction on New Data\n",
    "new_texts = [\"A person was murdered.\", \"My car was hit by another car.\"]\n",
    "tfidf_new = tfidf_vectorizer.transform(new_texts)\n",
    "new_predictions = best_model.predict(tfidf_new)\n",
    "\n",
    "print(new_predictions)\n"
   ]
  },
  {
   "cell_type": "code",
   "execution_count": 129,
   "metadata": {},
   "outputs": [
    {
     "name": "stdout",
     "output_type": "stream",
     "text": [
      "Testing Accuracy score:  0.7291666666666666\n",
      "Testing Precision score:  0.7543876925770308\n",
      "Testing Recall score:  0.7291666666666666\n",
      "Testing F1 score:  0.7313232703268081\n"
     ]
    }
   ],
   "source": [
    "test_pred = best_model.predict(testX)\n",
    "accuracy= accuracy_score(testy, test_pred)\n",
    "precision= precision_score(testy, test_pred, average='weighted')\n",
    "recall= recall_score(testy, test_pred, average='weighted')\n",
    "f1= f1_score(testy, test_pred, average='weighted')\n",
    "print(\"Testing Accuracy score: \",accuracy)\n",
    "print(\"Testing Precision score: \",precision)\n",
    "print(\"Testing Recall score: \",recall)\n",
    "print(\"Testing F1 score: \",f1)\n"
   ]
  },
  {
   "cell_type": "code",
   "execution_count": 130,
   "metadata": {},
   "outputs": [
    {
     "name": "stdout",
     "output_type": "stream",
     "text": [
      "Accuracy: 0.8667\n",
      "Precision: 0.8685\n",
      "Recall: 0.8667\n",
      "F1-score: 0.8667\n",
      "[3 1]\n"
     ]
    }
   ],
   "source": [
    "\n",
    "# Evaluate the model with the best hyperparameters\n",
    "best_model = random_search.best_estimator_\n",
    "y_pred = best_model.predict(X_test)\n",
    "accuracy = accuracy_score(y_test, y_pred)\n",
    "precision = precision_score(y_test, y_pred, average='weighted')\n",
    "recall = recall_score(y_test, y_pred, average='weighted')\n",
    "f1 = f1_score(y_test, y_pred, average='weighted')\n",
    "\n",
    "print(f\"Accuracy: {accuracy:.4f}\")\n",
    "print(f\"Precision: {precision:.4f}\")\n",
    "print(f\"Recall: {recall:.4f}\")\n",
    "print(f\"F1-score: {f1:.4f}\")\n",
    "\n",
    "# Prediction on New Data\n",
    "new_texts = [\"A person was murdered.\", \"My car was hit by another car.\"]\n",
    "tfidf_new = tfidf_vectorizer.transform(new_texts)\n",
    "new_predictions = best_model.predict(tfidf_new)\n",
    "\n",
    "print(new_predictions)"
   ]
  },
  {
   "cell_type": "code",
   "execution_count": 131,
   "metadata": {},
   "outputs": [
    {
     "name": "stdout",
     "output_type": "stream",
     "text": [
      "Testing Accuracy score:  0.7708333333333334\n",
      "Testing Precision score:  0.8129076086956522\n",
      "Testing Recall score:  0.7708333333333334\n",
      "Testing F1 score:  0.7792506105006104\n"
     ]
    }
   ],
   "source": [
    "test_pred = best_model.predict(testX)\n",
    "accuracy= accuracy_score(testy, test_pred)\n",
    "precision= precision_score(testy, test_pred, average='weighted')\n",
    "recall= recall_score(testy, test_pred, average='weighted')\n",
    "f1= f1_score(testy, test_pred, average='weighted')\n",
    "print(\"Testing Accuracy score: \",accuracy)\n",
    "print(\"Testing Precision score: \",precision)\n",
    "print(\"Testing Recall score: \",recall)\n",
    "print(\"Testing F1 score: \",f1)\n"
   ]
  }
 ],
 "metadata": {
  "kernelspec": {
   "display_name": "Python 3",
   "language": "python",
   "name": "python3"
  },
  "language_info": {
   "codemirror_mode": {
    "name": "ipython",
    "version": 3
   },
   "file_extension": ".py",
   "mimetype": "text/x-python",
   "name": "python",
   "nbconvert_exporter": "python",
   "pygments_lexer": "ipython3",
   "version": "3.11.3"
  },
  "orig_nbformat": 4
 },
 "nbformat": 4,
 "nbformat_minor": 2
}
