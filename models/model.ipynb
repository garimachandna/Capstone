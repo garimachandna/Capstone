{
 "cells": [
  {
   "cell_type": "code",
   "execution_count": 105,
   "metadata": {},
   "outputs": [],
   "source": [
    "import pandas as pd\n",
    "from googletrans import Translator\n",
    "import numpy as np\n",
    "import pandas as pd \n",
    "\n",
    "import matplotlib as mpl \n",
    "import matplotlib.cm as cm \n",
    "import matplotlib.pyplot as plt \n",
    "import plotly.graph_objects as go\n",
    "import seaborn as sns\n",
    "\n",
    "from sklearn.feature_extraction.text import CountVectorizer\n",
    "from sklearn.feature_extraction import _stop_words\n",
    "from nltk.stem import WordNetLemmatizer\n",
    "from sklearn.feature_extraction.text import TfidfVectorizer \n",
    "\n",
    "import string\n",
    "import re\n",
    "\n",
    "from sklearn.naive_bayes import MultinomialNB\n",
    "from sklearn.naive_bayes import GaussianNB\n",
    "from sklearn.linear_model import LogisticRegression\n",
    "from sklearn.svm import LinearSVC\n",
    "\n",
    "from sklearn.metrics import accuracy_score\n",
    "import sklearn.metrics as metrics\n",
    "from sklearn.model_selection import train_test_split\n",
    "from sklearn.metrics import confusion_matrix \n",
    "from sklearn.metrics import classification_report\n",
    "from sklearn import metrics\n",
    "\n",
    "from time import time\n",
    "\n",
    "import warnings\n",
    "warnings.filterwarnings(\"ignore\")"
   ]
  },
  {
   "cell_type": "code",
   "execution_count": 106,
   "metadata": {},
   "outputs": [
    {
     "name": "stdout",
     "output_type": "stream",
     "text": [
      "                                               hindi  complaint category\n",
      "0  सोनीपत में दो बच्चों पांच साल के लड़के और दो स...        NaN   kidnap\n",
      "1  पंचकुला में जहां शादी की पूर्व संध्या पर दुल्ह...        NaN   murder\n",
      "2  सोनीपत से अपने रिश्तेदार के सात वर्षीय बच्चे क...        NaN   kidnap\n",
      "3  थानेसर मे शादी के महज छह महीने बाद ही एक नवविव...        NaN   murder\n",
      "4  मवार को डकैती के मामलों में वांछित दो लोगों को...        NaN    theft\n",
      "                                               hindi  complaint category\n",
      "0  करनाल के एक रेस्टोरेंट में अनजान व्यक्तियों ने...        NaN    theft\n",
      "1  अम्बाला के एक नगर निगम कर्मचारी को उनके आवास क...        NaN   murder\n",
      "2  सोनीपत में एक युवक अपनी प्रेमिका से मिलने पहुं...        NaN   murder\n",
      "3  हिसार में एक दलित व्यक्ति को उसके घर पर हत्या ...        NaN   murder\n",
      "4  अम्बाला के एक गाँव में किसानों की खेत से फसल च...        NaN    theft\n"
     ]
    }
   ],
   "source": [
    "# translating the data into english\n",
    "# using google translate api\n",
    "df = pd.read_csv(\"../data/data.csv\")\n",
    "print(df.head())\n",
    "test = pd.read_csv(\"../data/test.csv\")\n",
    "print(test.head())"
   ]
  },
  {
   "cell_type": "code",
   "execution_count": 80,
   "metadata": {},
   "outputs": [],
   "source": [
    "def translate(data):\n",
    "    translator = Translator()\n",
    "    translations = {}\n",
    "        #print(column)\n",
    "       # print(unique)\n",
    "    for element in data['hindi']:\n",
    "            # print(element)\n",
    "            translations[element] = translator.translate(element).text\n",
    "    data['complaint'] = data['hindi'].map(translations)\n",
    "    return data"
   ]
  },
  {
   "cell_type": "code",
   "execution_count": 92,
   "metadata": {},
   "outputs": [
    {
     "name": "stdout",
     "output_type": "stream",
     "text": [
      "                                               hindi  \\\n",
      "0  सोनीपत में दो बच्चों पांच साल के लड़के और दो स...   \n",
      "1  पंचकुला में जहां शादी की पूर्व संध्या पर दुल्ह...   \n",
      "2  सोनीपत से अपने रिश्तेदार के सात वर्षीय बच्चे क...   \n",
      "3  थानेसर मे शादी के महज छह महीने बाद ही एक नवविव...   \n",
      "4  मवार को डकैती के मामलों में वांछित दो लोगों को...   \n",
      "\n",
      "                                           complaint  category  \n",
      "0  Two children, a five-year-old boy and a two-ye...         2  \n",
      "1  In Panchkula, where the bride's neighbor alleg...         3  \n",
      "2  After kidnapping the seven-year-old child of h...         2  \n",
      "3  A newlywed hanged himself just six months afte...         3  \n",
      "4  Two men wanted in robbery cases have been arre...         0  \n",
      "                                               hindi  \\\n",
      "0  करनाल के एक रेस्टोरेंट में अनजान व्यक्तियों ने...   \n",
      "1  अम्बाला के एक नगर निगम कर्मचारी को उनके आवास क...   \n",
      "2  सोनीपत में एक युवक अपनी प्रेमिका से मिलने पहुं...   \n",
      "3  हिसार में एक दलित व्यक्ति को उसके घर पर हत्या ...   \n",
      "4  अम्बाला के एक गाँव में किसानों की खेत से फसल च...   \n",
      "\n",
      "                                           complaint  category  \n",
      "0  Unknown persons stole the day's earnings from ...         0  \n",
      "1  A Municipal Corporation employee of Ambala was...         3  \n",
      "2  A young man came to meet his girlfriend in Son...         3  \n",
      "3  A Dalit man was found murdered at his home in ...         3  \n",
      "4  Crops were stolen from farmers' fields in a vi...         0  \n"
     ]
    }
   ],
   "source": [
    "df= translate(df)\n",
    "test = translate(test)\n",
    "\n",
    "print(df.head())\n",
    "print(test.head())\n"
   ]
  },
  {
   "cell_type": "code",
   "execution_count": 93,
   "metadata": {},
   "outputs": [],
   "source": [
    "df.to_csv(\"../data/translated data.csv\",encoding=\"utf-8\",index=False)\n",
    "test.to_csv(\"../data/translated test.csv\",encoding=\"utf-8\",index=False)"
   ]
  },
  {
   "cell_type": "code",
   "execution_count": 107,
   "metadata": {},
   "outputs": [
    {
     "name": "stdout",
     "output_type": "stream",
     "text": [
      "                                               hindi  \\\n",
      "0  सोनीपत में दो बच्चों पांच साल के लड़के और दो स...   \n",
      "1  पंचकुला में जहां शादी की पूर्व संध्या पर दुल्ह...   \n",
      "2  सोनीपत से अपने रिश्तेदार के सात वर्षीय बच्चे क...   \n",
      "3  थानेसर मे शादी के महज छह महीने बाद ही एक नवविव...   \n",
      "4  मवार को डकैती के मामलों में वांछित दो लोगों को...   \n",
      "\n",
      "                                           complaint category  \n",
      "0  Two children, a five-year-old boy and a two-ye...   kidnap  \n",
      "1  In Panchkula, where the bride's neighbor alleg...   murder  \n",
      "2  After kidnapping the seven-year-old child of h...   kidnap  \n",
      "3  A newlywed hanged himself just six months afte...   murder  \n",
      "4  Two men wanted in robbery cases have been arre...    theft  \n",
      "                                               hindi  \\\n",
      "0  करनाल के एक रेस्टोरेंट में अनजान व्यक्तियों ने...   \n",
      "1  अम्बाला के एक नगर निगम कर्मचारी को उनके आवास क...   \n",
      "2  सोनीपत में एक युवक अपनी प्रेमिका से मिलने पहुं...   \n",
      "3  हिसार में एक दलित व्यक्ति को उसके घर पर हत्या ...   \n",
      "4  अम्बाला के एक गाँव में किसानों की खेत से फसल च...   \n",
      "\n",
      "                                           complaint category  \n",
      "0  Unknown persons stole the day's earnings from ...    theft  \n",
      "1  A Municipal Corporation employee of Ambala was...   murder  \n",
      "2  A young man came to meet his girlfriend in Son...   murder  \n",
      "3  A Dalit man was found murdered at his home in ...   murder  \n",
      "4  Crops were stolen from farmers' fields in a vi...    theft  \n"
     ]
    }
   ],
   "source": [
    "translated_data= pd.read_csv(\"../data/translated data.csv\")\n",
    "translated_test = pd.read_csv(\"../data/translated test.csv\")\n",
    "\n",
    "\n",
    "df['complaint'] = translated_data['complaint']\n",
    "test['complaint'] = translated_test['complaint']\n",
    "\n",
    "print(df.head())\n",
    "print(test.head()) "
   ]
  },
  {
   "cell_type": "code",
   "execution_count": 108,
   "metadata": {},
   "outputs": [],
   "source": [
    "df['category'] = df.category.map({'rape': 4, 'murder': 3, 'kidnap': 2, 'accident':1, 'theft':0})\n",
    "test['category'] = test.category.map({'rape': 4, 'murder': 3, 'kidnap': 2, 'accident':1, 'theft':0})\n"
   ]
  },
  {
   "cell_type": "code",
   "execution_count": 109,
   "metadata": {},
   "outputs": [
    {
     "data": {
      "text/plain": [
       "(442, 3)"
      ]
     },
     "metadata": {},
     "output_type": "display_data"
    }
   ],
   "source": [
    "# data = pd.read_csv('complaint with manual labels.csv')\n",
    "data= df\n",
    "display(data.shape) "
   ]
  },
  {
   "cell_type": "code",
   "execution_count": 110,
   "metadata": {},
   "outputs": [
    {
     "data": {
      "text/html": [
       "<div>\n",
       "<style scoped>\n",
       "    .dataframe tbody tr th:only-of-type {\n",
       "        vertical-align: middle;\n",
       "    }\n",
       "\n",
       "    .dataframe tbody tr th {\n",
       "        vertical-align: top;\n",
       "    }\n",
       "\n",
       "    .dataframe thead th {\n",
       "        text-align: right;\n",
       "    }\n",
       "</style>\n",
       "<table border=\"1\" class=\"dataframe\">\n",
       "  <thead>\n",
       "    <tr style=\"text-align: right;\">\n",
       "      <th></th>\n",
       "      <th>hindi</th>\n",
       "      <th>complaint</th>\n",
       "      <th>category</th>\n",
       "    </tr>\n",
       "  </thead>\n",
       "  <tbody>\n",
       "    <tr>\n",
       "      <th>0</th>\n",
       "      <td>सोनीपत में दो बच्चों पांच साल के लड़के और दो स...</td>\n",
       "      <td>Two children, a five-year-old boy and a two-ye...</td>\n",
       "      <td>2</td>\n",
       "    </tr>\n",
       "    <tr>\n",
       "      <th>1</th>\n",
       "      <td>पंचकुला में जहां शादी की पूर्व संध्या पर दुल्ह...</td>\n",
       "      <td>In Panchkula, where the bride's neighbor alleg...</td>\n",
       "      <td>3</td>\n",
       "    </tr>\n",
       "    <tr>\n",
       "      <th>2</th>\n",
       "      <td>सोनीपत से अपने रिश्तेदार के सात वर्षीय बच्चे क...</td>\n",
       "      <td>After kidnapping the seven-year-old child of h...</td>\n",
       "      <td>2</td>\n",
       "    </tr>\n",
       "    <tr>\n",
       "      <th>3</th>\n",
       "      <td>थानेसर मे शादी के महज छह महीने बाद ही एक नवविव...</td>\n",
       "      <td>A newlywed hanged himself just six months afte...</td>\n",
       "      <td>3</td>\n",
       "    </tr>\n",
       "    <tr>\n",
       "      <th>4</th>\n",
       "      <td>मवार को डकैती के मामलों में वांछित दो लोगों को...</td>\n",
       "      <td>Two men wanted in robbery cases have been arre...</td>\n",
       "      <td>0</td>\n",
       "    </tr>\n",
       "  </tbody>\n",
       "</table>\n",
       "</div>"
      ],
      "text/plain": [
       "                                               hindi  \\\n",
       "0  सोनीपत में दो बच्चों पांच साल के लड़के और दो स...   \n",
       "1  पंचकुला में जहां शादी की पूर्व संध्या पर दुल्ह...   \n",
       "2  सोनीपत से अपने रिश्तेदार के सात वर्षीय बच्चे क...   \n",
       "3  थानेसर मे शादी के महज छह महीने बाद ही एक नवविव...   \n",
       "4  मवार को डकैती के मामलों में वांछित दो लोगों को...   \n",
       "\n",
       "                                           complaint  category  \n",
       "0  Two children, a five-year-old boy and a two-ye...         2  \n",
       "1  In Panchkula, where the bride's neighbor alleg...         3  \n",
       "2  After kidnapping the seven-year-old child of h...         2  \n",
       "3  A newlywed hanged himself just six months afte...         3  \n",
       "4  Two men wanted in robbery cases have been arre...         0  "
      ]
     },
     "execution_count": 110,
     "metadata": {},
     "output_type": "execute_result"
    }
   ],
   "source": [
    "data.head()"
   ]
  },
  {
   "cell_type": "code",
   "execution_count": 111,
   "metadata": {},
   "outputs": [
    {
     "data": {
      "text/plain": [
       "Index(['hindi', 'complaint', 'category'], dtype='object')"
      ]
     },
     "execution_count": 111,
     "metadata": {},
     "output_type": "execute_result"
    }
   ],
   "source": [
    "data.columns"
   ]
  },
  {
   "cell_type": "code",
   "execution_count": 112,
   "metadata": {},
   "outputs": [
    {
     "data": {
      "text/plain": [
       "category\n",
       "4    91\n",
       "2    90\n",
       "3    90\n",
       "0    90\n",
       "1    81\n",
       "Name: count, dtype: int64"
      ]
     },
     "execution_count": 112,
     "metadata": {},
     "output_type": "execute_result"
    }
   ],
   "source": [
    "data[\"category\"].value_counts()"
   ]
  },
  {
   "cell_type": "code",
   "execution_count": 113,
   "metadata": {},
   "outputs": [
    {
     "data": {
      "text/plain": [
       "category\n",
       "4    0.205882\n",
       "2    0.203620\n",
       "3    0.203620\n",
       "0    0.203620\n",
       "1    0.183258\n",
       "Name: count, dtype: float64"
      ]
     },
     "execution_count": 113,
     "metadata": {},
     "output_type": "execute_result"
    }
   ],
   "source": [
    "data[\"category\"].value_counts()/data.shape[0] "
   ]
  },
  {
   "cell_type": "code",
   "execution_count": 114,
   "metadata": {},
   "outputs": [
    {
     "data": {
      "text/plain": [
       "(442, 2)"
      ]
     },
     "execution_count": 114,
     "metadata": {},
     "output_type": "execute_result"
    }
   ],
   "source": [
    "# df['category'] = df.category.map({'rape': 4, 'murder': 3, 'kidnap': 2, 'accident':1, 'theft':0})\n",
    "# test['category'] = test.category.map({'rape': 4, 'murder': 3, 'kidnap': 2, 'accident':1, 'theft':0})\n",
    "\n",
    "data = data[[\"complaint\",\"category\"]] # taking text input and output variable as relevance\n",
    "# data = data[:1000]\n",
    "data.shape"
   ]
  },
  {
   "cell_type": "code",
   "execution_count": 115,
   "metadata": {},
   "outputs": [
    {
     "data": {
      "text/html": [
       "<div>\n",
       "<style scoped>\n",
       "    .dataframe tbody tr th:only-of-type {\n",
       "        vertical-align: middle;\n",
       "    }\n",
       "\n",
       "    .dataframe tbody tr th {\n",
       "        vertical-align: top;\n",
       "    }\n",
       "\n",
       "    .dataframe thead th {\n",
       "        text-align: right;\n",
       "    }\n",
       "</style>\n",
       "<table border=\"1\" class=\"dataframe\">\n",
       "  <thead>\n",
       "    <tr style=\"text-align: right;\">\n",
       "      <th></th>\n",
       "      <th>complaint</th>\n",
       "      <th>category</th>\n",
       "    </tr>\n",
       "  </thead>\n",
       "  <tbody>\n",
       "    <tr>\n",
       "      <th>0</th>\n",
       "      <td>Two children, a five-year-old boy and a two-ye...</td>\n",
       "      <td>2</td>\n",
       "    </tr>\n",
       "    <tr>\n",
       "      <th>1</th>\n",
       "      <td>In Panchkula, where the bride's neighbor alleg...</td>\n",
       "      <td>3</td>\n",
       "    </tr>\n",
       "    <tr>\n",
       "      <th>2</th>\n",
       "      <td>After kidnapping the seven-year-old child of h...</td>\n",
       "      <td>2</td>\n",
       "    </tr>\n",
       "    <tr>\n",
       "      <th>3</th>\n",
       "      <td>A newlywed hanged himself just six months afte...</td>\n",
       "      <td>3</td>\n",
       "    </tr>\n",
       "    <tr>\n",
       "      <th>4</th>\n",
       "      <td>Two men wanted in robbery cases have been arre...</td>\n",
       "      <td>0</td>\n",
       "    </tr>\n",
       "  </tbody>\n",
       "</table>\n",
       "</div>"
      ],
      "text/plain": [
       "                                           complaint  category\n",
       "0  Two children, a five-year-old boy and a two-ye...         2\n",
       "1  In Panchkula, where the bride's neighbor alleg...         3\n",
       "2  After kidnapping the seven-year-old child of h...         2\n",
       "3  A newlywed hanged himself just six months afte...         3\n",
       "4  Two men wanted in robbery cases have been arre...         0"
      ]
     },
     "execution_count": 115,
     "metadata": {},
     "output_type": "execute_result"
    }
   ],
   "source": [
    "data.head()\n"
   ]
  },
  {
   "cell_type": "code",
   "execution_count": 116,
   "metadata": {},
   "outputs": [],
   "source": [
    "import spacy\n",
    "nlp = spacy.load('en_core_web_sm')\n",
    "\n",
    "stopwords = _stop_words.ENGLISH_STOP_WORDS\n",
    "lemmatizer = WordNetLemmatizer()\n",
    "\n",
    "def clean(doc):\n",
    "    text_no_namedentities = []\n",
    "    document = nlp(doc)\n",
    "    ents = [e.text for e in document.ents]\n",
    "    for item in document:\n",
    "        if item.text in ents:\n",
    "            pass\n",
    "        else:\n",
    "            text_no_namedentities.append(item.text)\n",
    "    doc = (\" \".join(text_no_namedentities))\n",
    "\n",
    "    doc = doc.lower().strip()\n",
    "    doc = doc.replace(\"</br>\", \" \") \n",
    "    doc = doc.replace(\"-\", \" \") \n",
    "    doc = \"\".join([char for char in doc if char not in string.punctuation and not char.isdigit()])\n",
    "    doc = \" \".join([token for token in doc.split() if token not in stopwords])    \n",
    "    doc = \"\".join([lemmatizer.lemmatize(word) for word in doc])\n",
    "    return doc"
   ]
  },
  {
   "cell_type": "code",
   "execution_count": 117,
   "metadata": {},
   "outputs": [
    {
     "data": {
      "text/html": [
       "<div>\n",
       "<style scoped>\n",
       "    .dataframe tbody tr th:only-of-type {\n",
       "        vertical-align: middle;\n",
       "    }\n",
       "\n",
       "    .dataframe tbody tr th {\n",
       "        vertical-align: top;\n",
       "    }\n",
       "\n",
       "    .dataframe thead th {\n",
       "        text-align: right;\n",
       "    }\n",
       "</style>\n",
       "<table border=\"1\" class=\"dataframe\">\n",
       "  <thead>\n",
       "    <tr style=\"text-align: right;\">\n",
       "      <th></th>\n",
       "      <th>complaint</th>\n",
       "      <th>category</th>\n",
       "    </tr>\n",
       "  </thead>\n",
       "  <tbody>\n",
       "    <tr>\n",
       "      <th>0</th>\n",
       "      <td>children year old boy year old girl allegedly ...</td>\n",
       "      <td>2</td>\n",
       "    </tr>\n",
       "    <tr>\n",
       "      <th>1</th>\n",
       "      <td>bride s neighbor allegedly killed father eve w...</td>\n",
       "      <td>3</td>\n",
       "    </tr>\n",
       "    <tr>\n",
       "      <th>2</th>\n",
       "      <td>kidnapping seven year old child relative child...</td>\n",
       "      <td>2</td>\n",
       "    </tr>\n",
       "    <tr>\n",
       "      <th>3</th>\n",
       "      <td>newlywed hanged just months marriage suicide g...</td>\n",
       "      <td>3</td>\n",
       "    </tr>\n",
       "    <tr>\n",
       "      <th>4</th>\n",
       "      <td>men wanted robbery cases arrested allegedly sh...</td>\n",
       "      <td>0</td>\n",
       "    </tr>\n",
       "  </tbody>\n",
       "</table>\n",
       "</div>"
      ],
      "text/plain": [
       "                                           complaint  category\n",
       "0  children year old boy year old girl allegedly ...         2\n",
       "1  bride s neighbor allegedly killed father eve w...         3\n",
       "2  kidnapping seven year old child relative child...         2\n",
       "3  newlywed hanged just months marriage suicide g...         3\n",
       "4  men wanted robbery cases arrested allegedly sh...         0"
      ]
     },
     "execution_count": 117,
     "metadata": {},
     "output_type": "execute_result"
    }
   ],
   "source": [
    "data['complaint'] = data['complaint'].apply(clean)\n",
    "data.head()"
   ]
  },
  {
   "cell_type": "code",
   "execution_count": 118,
   "metadata": {},
   "outputs": [
    {
     "name": "stdout",
     "output_type": "stream",
     "text": [
      "(442,) (442,)\n"
     ]
    }
   ],
   "source": [
    "X = data ['complaint']\n",
    "y = data['category']\n",
    "print(X.shape, y.shape)"
   ]
  },
  {
   "cell_type": "code",
   "execution_count": 119,
   "metadata": {},
   "outputs": [
    {
     "name": "stdout",
     "output_type": "stream",
     "text": [
      "(397,) (397,)\n",
      "(45,) (45,)\n"
     ]
    }
   ],
   "source": [
    "SEED=246\n",
    "X_train,X_test,y_train,y_test=train_test_split(X, y, test_size=0.1, random_state=SEED, stratify=y)\n",
    "print(X_train.shape, y_train.shape)\n",
    "print(X_test.shape, y_test.shape)"
   ]
  },
  {
   "cell_type": "code",
   "execution_count": 171,
   "metadata": {},
   "outputs": [],
   "source": [
    "tfidf_vectorizer = TfidfVectorizer(use_idf=True, max_features = 20000) \n",
    "tfidf_vectorizer_vectors = tfidf_vectorizer.fit_transform(X_train)\n",
    "docs_tf = tfidf_vectorizer_vectors.toarray()"
   ]
  },
  {
   "cell_type": "code",
   "execution_count": 217,
   "metadata": {},
   "outputs": [],
   "source": [
    "cv= CountVectorizer()\n",
    "cv_vectorizer = cv.fit_transform(X_train)\n",
    "docs_cv = cv_vectorizer.toarray()"
   ]
  },
  {
   "cell_type": "code",
   "execution_count": 17,
   "metadata": {},
   "outputs": [
    {
     "data": {
      "text/plain": [
       "['vectorizer.pkl']"
      ]
     },
     "execution_count": 17,
     "metadata": {},
     "output_type": "execute_result"
    }
   ],
   "source": [
    "import joblib\n",
    "import pickle\n",
    "import gzip\n",
    "\n",
    "# option #1\n",
    "joblib.dump(tfidf_vectorizer, 'vectorizer.pkl', compress=True)\n",
    "\n",
    "# option #2\n",
    "# with gzip.open('vectorizer.pkl', 'wb') as f:\n",
    "#     pickle.dump(tvec, f)"
   ]
  },
  {
   "cell_type": "code",
   "execution_count": 18,
   "metadata": {},
   "outputs": [],
   "source": [
    "# X_train= docs\n"
   ]
  },
  {
   "cell_type": "code",
   "execution_count": 172,
   "metadata": {},
   "outputs": [],
   "source": [
    "tfidf_vectorizer_vectors_test = tfidf_vectorizer.transform(X_test)\n",
    "docs_test_tf = tfidf_vectorizer_vectors_test.toarray()\n"
   ]
  },
  {
   "cell_type": "code",
   "execution_count": 218,
   "metadata": {},
   "outputs": [],
   "source": [
    "cv_vectorizer_test = cv.transform(X_test)\n",
    "docs_test_cv = cv_vectorizer_test.toarray()"
   ]
  },
  {
   "cell_type": "code",
   "execution_count": 20,
   "metadata": {},
   "outputs": [],
   "source": [
    "# X_test= docs_test"
   ]
  },
  {
   "cell_type": "code",
   "execution_count": 173,
   "metadata": {},
   "outputs": [
    {
     "data": {
      "text/html": [
       "<div>\n",
       "<style scoped>\n",
       "    .dataframe tbody tr th:only-of-type {\n",
       "        vertical-align: middle;\n",
       "    }\n",
       "\n",
       "    .dataframe tbody tr th {\n",
       "        vertical-align: top;\n",
       "    }\n",
       "\n",
       "    .dataframe thead th {\n",
       "        text-align: right;\n",
       "    }\n",
       "</style>\n",
       "<table border=\"1\" class=\"dataframe\">\n",
       "  <thead>\n",
       "    <tr style=\"text-align: right;\">\n",
       "      <th></th>\n",
       "      <th>Mean Accuracy</th>\n",
       "      <th>Standard deviation</th>\n",
       "    </tr>\n",
       "    <tr>\n",
       "      <th>model_name</th>\n",
       "      <th></th>\n",
       "      <th></th>\n",
       "    </tr>\n",
       "  </thead>\n",
       "  <tbody>\n",
       "    <tr>\n",
       "      <th>AdaBoostClassifier</th>\n",
       "      <td>0.385380</td>\n",
       "      <td>0.057422</td>\n",
       "    </tr>\n",
       "    <tr>\n",
       "      <th>DecisionTreeClassifier</th>\n",
       "      <td>0.715348</td>\n",
       "      <td>0.062366</td>\n",
       "    </tr>\n",
       "    <tr>\n",
       "      <th>GaussianNB</th>\n",
       "      <td>0.702848</td>\n",
       "      <td>0.046989</td>\n",
       "    </tr>\n",
       "    <tr>\n",
       "      <th>GradientBoostingClassifier</th>\n",
       "      <td>0.838734</td>\n",
       "      <td>0.042508</td>\n",
       "    </tr>\n",
       "    <tr>\n",
       "      <th>KNeighborsClassifier</th>\n",
       "      <td>0.743228</td>\n",
       "      <td>0.037045</td>\n",
       "    </tr>\n",
       "    <tr>\n",
       "      <th>LinearSVC</th>\n",
       "      <td>0.831266</td>\n",
       "      <td>0.037239</td>\n",
       "    </tr>\n",
       "    <tr>\n",
       "      <th>LogisticRegression</th>\n",
       "      <td>0.851361</td>\n",
       "      <td>0.044027</td>\n",
       "    </tr>\n",
       "    <tr>\n",
       "      <th>MultinomialNB</th>\n",
       "      <td>0.808418</td>\n",
       "      <td>0.050559</td>\n",
       "    </tr>\n",
       "    <tr>\n",
       "      <th>RandomForestClassifier</th>\n",
       "      <td>0.821171</td>\n",
       "      <td>0.027230</td>\n",
       "    </tr>\n",
       "    <tr>\n",
       "      <th>SGDClassifier</th>\n",
       "      <td>0.785854</td>\n",
       "      <td>0.034754</td>\n",
       "    </tr>\n",
       "  </tbody>\n",
       "</table>\n",
       "</div>"
      ],
      "text/plain": [
       "                            Mean Accuracy  Standard deviation\n",
       "model_name                                                   \n",
       "AdaBoostClassifier               0.385380            0.057422\n",
       "DecisionTreeClassifier           0.715348            0.062366\n",
       "GaussianNB                       0.702848            0.046989\n",
       "GradientBoostingClassifier       0.838734            0.042508\n",
       "KNeighborsClassifier             0.743228            0.037045\n",
       "LinearSVC                        0.831266            0.037239\n",
       "LogisticRegression               0.851361            0.044027\n",
       "MultinomialNB                    0.808418            0.050559\n",
       "RandomForestClassifier           0.821171            0.027230\n",
       "SGDClassifier                    0.785854            0.034754"
      ]
     },
     "execution_count": 173,
     "metadata": {},
     "output_type": "execute_result"
    }
   ],
   "source": [
    "from sklearn.model_selection import cross_val_score\n",
    "from sklearn.tree import DecisionTreeClassifier\n",
    "from sklearn.ensemble import RandomForestClassifier\n",
    "from sklearn.ensemble import AdaBoostClassifier, GradientBoostingClassifier\n",
    "from sklearn.neighbors import KNeighborsClassifier\n",
    "from sklearn.linear_model import SGDClassifier\n",
    "from sklearn.linear_model import LogisticRegression\n",
    "\n",
    "\n",
    "models = [LinearSVC(), MultinomialNB(), GaussianNB(), DecisionTreeClassifier(), RandomForestClassifier(), AdaBoostClassifier(), GradientBoostingClassifier(), KNeighborsClassifier(), LogisticRegression(), SGDClassifier()]\n",
    "\n",
    "# 5 Cross-validation\n",
    "CV = 5\n",
    "cv_df = pd.DataFrame(index=range(CV * len(models)))\n",
    "entries = []\n",
    "for model in models:\n",
    "  model_name = model.__class__.__name__\n",
    "  accuracies = cross_val_score(model, docs_tf, y_train, scoring='accuracy', cv=CV)\n",
    "  for fold_idx, accuracy in enumerate(accuracies):\n",
    "    entries.append((model_name, fold_idx, accuracy))\n",
    "    \n",
    "cv_df = pd.DataFrame(entries, columns=['model_name', 'fold_idx', 'accuracy'])\n",
    "\n",
    "mean_accuracy = cv_df.groupby('model_name').accuracy.mean()\n",
    "std_accuracy = cv_df.groupby('model_name').accuracy.std()\n",
    "acc = pd.concat([mean_accuracy, std_accuracy], axis= 1, ignore_index=True)\n",
    "acc.columns = ['Mean Accuracy', 'Standard deviation']\n",
    "acc"
   ]
  },
  {
   "cell_type": "code",
   "execution_count": 219,
   "metadata": {},
   "outputs": [
    {
     "data": {
      "text/html": [
       "<div>\n",
       "<style scoped>\n",
       "    .dataframe tbody tr th:only-of-type {\n",
       "        vertical-align: middle;\n",
       "    }\n",
       "\n",
       "    .dataframe tbody tr th {\n",
       "        vertical-align: top;\n",
       "    }\n",
       "\n",
       "    .dataframe thead th {\n",
       "        text-align: right;\n",
       "    }\n",
       "</style>\n",
       "<table border=\"1\" class=\"dataframe\">\n",
       "  <thead>\n",
       "    <tr style=\"text-align: right;\">\n",
       "      <th></th>\n",
       "      <th>Mean Accuracy</th>\n",
       "      <th>Standard deviation</th>\n",
       "    </tr>\n",
       "    <tr>\n",
       "      <th>model_name</th>\n",
       "      <th></th>\n",
       "      <th></th>\n",
       "    </tr>\n",
       "  </thead>\n",
       "  <tbody>\n",
       "    <tr>\n",
       "      <th>AdaBoostClassifier</th>\n",
       "      <td>0.510886</td>\n",
       "      <td>0.108461</td>\n",
       "    </tr>\n",
       "    <tr>\n",
       "      <th>DecisionTreeClassifier</th>\n",
       "      <td>0.750506</td>\n",
       "      <td>0.060203</td>\n",
       "    </tr>\n",
       "    <tr>\n",
       "      <th>GaussianNB</th>\n",
       "      <td>0.733070</td>\n",
       "      <td>0.063645</td>\n",
       "    </tr>\n",
       "    <tr>\n",
       "      <th>GradientBoostingClassifier</th>\n",
       "      <td>0.826108</td>\n",
       "      <td>0.056974</td>\n",
       "    </tr>\n",
       "    <tr>\n",
       "      <th>KNeighborsClassifier</th>\n",
       "      <td>0.551646</td>\n",
       "      <td>0.081034</td>\n",
       "    </tr>\n",
       "    <tr>\n",
       "      <th>LinearSVC</th>\n",
       "      <td>0.818671</td>\n",
       "      <td>0.016495</td>\n",
       "    </tr>\n",
       "    <tr>\n",
       "      <th>LogisticRegression</th>\n",
       "      <td>0.828671</td>\n",
       "      <td>0.024856</td>\n",
       "    </tr>\n",
       "    <tr>\n",
       "      <th>MultinomialNB</th>\n",
       "      <td>0.826108</td>\n",
       "      <td>0.043406</td>\n",
       "    </tr>\n",
       "    <tr>\n",
       "      <th>RandomForestClassifier</th>\n",
       "      <td>0.826171</td>\n",
       "      <td>0.016655</td>\n",
       "    </tr>\n",
       "    <tr>\n",
       "      <th>SGDClassifier</th>\n",
       "      <td>0.808608</td>\n",
       "      <td>0.012983</td>\n",
       "    </tr>\n",
       "  </tbody>\n",
       "</table>\n",
       "</div>"
      ],
      "text/plain": [
       "                            Mean Accuracy  Standard deviation\n",
       "model_name                                                   \n",
       "AdaBoostClassifier               0.510886            0.108461\n",
       "DecisionTreeClassifier           0.750506            0.060203\n",
       "GaussianNB                       0.733070            0.063645\n",
       "GradientBoostingClassifier       0.826108            0.056974\n",
       "KNeighborsClassifier             0.551646            0.081034\n",
       "LinearSVC                        0.818671            0.016495\n",
       "LogisticRegression               0.828671            0.024856\n",
       "MultinomialNB                    0.826108            0.043406\n",
       "RandomForestClassifier           0.826171            0.016655\n",
       "SGDClassifier                    0.808608            0.012983"
      ]
     },
     "execution_count": 219,
     "metadata": {},
     "output_type": "execute_result"
    }
   ],
   "source": [
    "from sklearn.model_selection import cross_val_score\n",
    "from sklearn.tree import DecisionTreeClassifier\n",
    "from sklearn.ensemble import RandomForestClassifier\n",
    "from sklearn.ensemble import AdaBoostClassifier, GradientBoostingClassifier\n",
    "from sklearn.neighbors import KNeighborsClassifier\n",
    "from sklearn.linear_model import SGDClassifier\n",
    "from sklearn.linear_model import LogisticRegression\n",
    "\n",
    "\n",
    "models = [LinearSVC(), MultinomialNB(), GaussianNB(), DecisionTreeClassifier(), RandomForestClassifier(), AdaBoostClassifier(), GradientBoostingClassifier(), KNeighborsClassifier(), LogisticRegression(), SGDClassifier()]\n",
    "\n",
    "# 5 Cross-validation\n",
    "CV = 5\n",
    "cv_df = pd.DataFrame(index=range(CV * len(models)))\n",
    "entries = []\n",
    "for model in models:\n",
    "  model_name = model.__class__.__name__\n",
    "  accuracies = cross_val_score(model, docs_cv, y_train, scoring='accuracy', cv=CV)\n",
    "  for fold_idx, accuracy in enumerate(accuracies):\n",
    "    entries.append((model_name, fold_idx, accuracy))\n",
    "    \n",
    "cv_df = pd.DataFrame(entries, columns=['model_name', 'fold_idx', 'accuracy'])\n",
    "\n",
    "mean_accuracy = cv_df.groupby('model_name').accuracy.mean()\n",
    "std_accuracy = cv_df.groupby('model_name').accuracy.std()\n",
    "acc = pd.concat([mean_accuracy, std_accuracy], axis= 1, ignore_index=True)\n",
    "acc.columns = ['Mean Accuracy', 'Standard deviation']\n",
    "acc"
   ]
  },
  {
   "cell_type": "markdown",
   "metadata": {},
   "source": [
    "Gaussian Nb with tf-idf, count vectorizer"
   ]
  },
  {
   "cell_type": "code",
   "execution_count": 174,
   "metadata": {},
   "outputs": [
    {
     "name": "stdout",
     "output_type": "stream",
     "text": [
      "CPU times: total: 0 ns\n",
      "Wall time: 20.9 ms\n",
      "\n",
      "Training Accuracy score: 0.9949622166246851\n",
      "Testing Accuracy score: 0.7111111111111111\n"
     ]
    }
   ],
   "source": [
    "gnb = GaussianNB() \n",
    "%time gnb.fit(docs, y_train)\n",
    "\n",
    "y_pred_train = gnb.predict(docs_tf)\n",
    "y_pred_test = gnb.predict(docs_test_tf)\n",
    "print(\"\\nTraining Accuracy score:\",accuracy_score(y_train, y_pred_train))\n",
    "print(\"Testing Accuracy score:\",accuracy_score(y_test, y_pred_test))"
   ]
  },
  {
   "cell_type": "code",
   "execution_count": 179,
   "metadata": {},
   "outputs": [
    {
     "name": "stdout",
     "output_type": "stream",
     "text": [
      "(96, 1905) (96,)\n"
     ]
    }
   ],
   "source": [
    "#testing on unseen data\n",
    "# test = pd.read_csv('testdata.csv')\n",
    "# test['category'] = test.category.map({'rape': 4, 'murder': 3, 'kidnap': 2, 'accident':1, 'theft':0})\n",
    "test['complaint'] = test['complaint'].apply(clean)\n",
    "tdocs = list(test['complaint'])\n",
    "tfidf_vectorizer_vectors = tfidf_vectorizer.transform(tdocs)\n",
    "tdocs = tfidf_vectorizer_vectors.toarray()\n",
    "testX_tf = np.array(tdocs )\n",
    "testy = test['category']\n",
    "print(testX_tf.shape, testy.shape)"
   ]
  },
  {
   "cell_type": "code",
   "execution_count": 180,
   "metadata": {},
   "outputs": [
    {
     "data": {
      "text/plain": [
       "array([0.        , 0.42183558, 0.43594482, 0.49697994, 0.62049802])"
      ]
     },
     "execution_count": 180,
     "metadata": {},
     "output_type": "execute_result"
    }
   ],
   "source": [
    "#print unique values of textX[0] \n",
    "np.unique(testX_tf[0])"
   ]
  },
  {
   "cell_type": "code",
   "execution_count": 181,
   "metadata": {},
   "outputs": [
    {
     "name": "stdout",
     "output_type": "stream",
     "text": [
      "\n",
      "Testing Accuracy score: 0.6354166666666666\n"
     ]
    }
   ],
   "source": [
    "test_pred = gnb.predict(testX_tf)\n",
    "print(\"\\nTesting Accuracy score:\",accuracy_score(testy, test_pred))\n"
   ]
  },
  {
   "cell_type": "code",
   "execution_count": 182,
   "metadata": {},
   "outputs": [
    {
     "name": "stdout",
     "output_type": "stream",
     "text": [
      "              precision    recall  f1-score   support\n",
      "\n",
      "        rape       0.70      0.78      0.74         9\n",
      "      murder       0.88      0.88      0.88         8\n",
      "      kidnap       0.54      0.78      0.64         9\n",
      "    accident       0.57      0.44      0.50         9\n",
      "       theft       1.00      0.70      0.82        10\n",
      "\n",
      "    accuracy                           0.71        45\n",
      "   macro avg       0.74      0.72      0.71        45\n",
      "weighted avg       0.74      0.71      0.71        45\n",
      "\n"
     ]
    }
   ],
   "source": [
    "print(classification_report(y_test, y_pred_test, target_names=['rape', 'murder', 'kidnap', 'accident', 'theft']))"
   ]
  },
  {
   "cell_type": "code",
   "execution_count": 183,
   "metadata": {},
   "outputs": [
    {
     "data": {
      "image/png": "[encoded data removed]",
      "text/plain": [
       "<Figure size 640x480 with 2 Axes>"
      ]
     },
     "metadata": {},
     "output_type": "display_data"
    }
   ],
   "source": [
    "cm = confusion_matrix(y_test, y_pred_test)\n",
    "# print('Confusion matrix\\n', cm)\n",
    "\n",
    "cm_matrix = pd.DataFrame(data=cm, columns=['rape', 'murder', 'kidnap', 'accident', 'rape'], \n",
    "                        index=['rape', 'murder','kidnap', 'accident', 'rape'])\n",
    "sns.heatmap(cm_matrix, annot=True, fmt='d', cmap='YlGnBu')\n",
    "plt.show()"
   ]
  },
  {
   "cell_type": "code",
   "execution_count": 184,
   "metadata": {},
   "outputs": [
    {
     "name": "stdout",
     "output_type": "stream",
     "text": [
      "              precision    recall  f1-score   support\n",
      "\n",
      "        rape       0.71      0.86      0.78        29\n",
      "      murder       0.85      0.89      0.87        19\n",
      "      kidnap       0.38      0.50      0.43        10\n",
      "    accident       0.73      0.28      0.40        29\n",
      "       theft       0.35      0.67      0.46         9\n",
      "\n",
      "    accuracy                           0.64        96\n",
      "   macro avg       0.61      0.64      0.59        96\n",
      "weighted avg       0.68      0.64      0.62        96\n",
      "\n",
      "0.6354166666666666\n"
     ]
    }
   ],
   "source": [
    "print(classification_report(testy, test_pred, target_names=['rape', 'murder','kidnap', 'accident', 'theft']))\n",
    "print(accuracy_score(testy, test_pred))"
   ]
  },
  {
   "cell_type": "markdown",
   "metadata": {},
   "source": [
    "with count vectorizer"
   ]
  },
  {
   "cell_type": "code",
   "execution_count": 220,
   "metadata": {},
   "outputs": [
    {
     "name": "stdout",
     "output_type": "stream",
     "text": [
      "CPU times: total: 15.6 ms\n",
      "Wall time: 26.9 ms\n",
      "\n",
      "Training Accuracy score: 0.9949622166246851\n",
      "Testing Accuracy score: 0.8222222222222222\n"
     ]
    }
   ],
   "source": [
    "gnb = GaussianNB() \n",
    "%time gnb.fit(docs_cv, y_train)\n",
    "\n",
    "y_pred_train = gnb.predict(docs_cv)\n",
    "y_pred_test = gnb.predict(docs_test_cv)\n",
    "print(\"\\nTraining Accuracy score:\",accuracy_score(y_train, y_pred_train))\n",
    "print(\"Testing Accuracy score:\",accuracy_score(y_test, y_pred_test))"
   ]
  },
  {
   "cell_type": "code",
   "execution_count": 222,
   "metadata": {},
   "outputs": [
    {
     "name": "stdout",
     "output_type": "stream",
     "text": [
      "(96, 1905) (96,)\n"
     ]
    }
   ],
   "source": [
    "#testing on unseen data\n",
    "# test = pd.read_csv('testdata.csv')\n",
    "# test['category'] = test.category.map({'rape': 4, 'murder': 3, 'kidnap': 2, 'accident':1, 'theft':0})\n",
    "test['complaint'] = test['complaint'].apply(clean)\n",
    "tdocs = list(test['complaint'])\n",
    "cv_vectorizer= cv.transform(tdocs)\n",
    "tdocs = cv_vectorizer.toarray()\n",
    "testX_cv = np.array(tdocs )\n",
    "testy = test['category']\n",
    "print(testX_cv.shape, testy.shape)"
   ]
  },
  {
   "cell_type": "code",
   "execution_count": 223,
   "metadata": {},
   "outputs": [
    {
     "name": "stdout",
     "output_type": "stream",
     "text": [
      "\n",
      "Testing Accuracy score: 0.6041666666666666\n"
     ]
    }
   ],
   "source": [
    "test_pred = gnb.predict(testX_cv)\n",
    "print(\"\\nTesting Accuracy score:\",accuracy_score(testy, test_pred))\n"
   ]
  },
  {
   "cell_type": "markdown",
   "metadata": {},
   "source": [
    "MULTINOMIAL NB with tf-idf and count vectorizer"
   ]
  },
  {
   "cell_type": "code",
   "execution_count": 185,
   "metadata": {},
   "outputs": [
    {
     "name": "stdout",
     "output_type": "stream",
     "text": [
      "CPU times: total: 0 ns\n",
      "Wall time: 5.99 ms\n",
      "\n",
      "Training Accuracy score: 0.9748110831234257\n",
      "Testing Accuracy score: 0.9111111111111111\n"
     ]
    }
   ],
   "source": [
    "mnb = MultinomialNB() \n",
    "%time mnb.fit(docs, y_train)\n",
    "\n",
    "y_pred_train = mnb.predict(docs_tf)\n",
    "y_pred_test = mnb.predict(docs_test_tf)\n",
    "print(\"\\nTraining Accuracy score:\",accuracy_score(y_train, y_pred_train))\n",
    "print(\"Testing Accuracy score:\",accuracy_score(y_test, y_pred_test))"
   ]
  },
  {
   "cell_type": "code",
   "execution_count": 186,
   "metadata": {},
   "outputs": [
    {
     "name": "stdout",
     "output_type": "stream",
     "text": [
      "\n",
      "Testing Accuracy score: 0.7083333333333334\n"
     ]
    }
   ],
   "source": [
    "test_pred = mnb.predict(testX_tf)\n",
    "print(\"\\nTesting Accuracy score:\",accuracy_score(testy, test_pred))"
   ]
  },
  {
   "cell_type": "code",
   "execution_count": 187,
   "metadata": {},
   "outputs": [
    {
     "name": "stdout",
     "output_type": "stream",
     "text": [
      "              precision    recall  f1-score   support\n",
      "\n",
      "        rape       0.83      0.69      0.75        29\n",
      "      murder       0.75      0.95      0.84        19\n",
      "      kidnap       0.45      0.50      0.48        10\n",
      "    accident       0.89      0.59      0.71        29\n",
      "       theft       0.44      0.89      0.59         9\n",
      "\n",
      "    accuracy                           0.71        96\n",
      "   macro avg       0.68      0.72      0.67        96\n",
      "weighted avg       0.76      0.71      0.71        96\n",
      "\n",
      "0.7083333333333334\n"
     ]
    }
   ],
   "source": [
    "print(classification_report(testy, test_pred, target_names=['rape', 'murder', 'kidnap','accident', 'theft']))\n",
    "print(accuracy_score(testy, test_pred))"
   ]
  },
  {
   "cell_type": "markdown",
   "metadata": {},
   "source": [
    "with count vectorizer"
   ]
  },
  {
   "cell_type": "code",
   "execution_count": 224,
   "metadata": {},
   "outputs": [
    {
     "name": "stdout",
     "output_type": "stream",
     "text": [
      "CPU times: total: 0 ns\n",
      "Wall time: 23.9 ms\n",
      "\n",
      "Training Accuracy score: 0.9773299748110831\n",
      "Testing Accuracy score: 0.9111111111111111\n"
     ]
    }
   ],
   "source": [
    "mnb = MultinomialNB() \n",
    "%time mnb.fit(docs_cv, y_train)\n",
    "\n",
    "y_pred_train = mnb.predict(docs_cv)\n",
    "y_pred_test = mnb.predict(docs_test_cv)\n",
    "print(\"\\nTraining Accuracy score:\",accuracy_score(y_train, y_pred_train))\n",
    "print(\"Testing Accuracy score:\",accuracy_score(y_test, y_pred_test))"
   ]
  },
  {
   "cell_type": "code",
   "execution_count": 225,
   "metadata": {},
   "outputs": [
    {
     "name": "stdout",
     "output_type": "stream",
     "text": [
      "\n",
      "Testing Accuracy score: 0.6979166666666666\n"
     ]
    }
   ],
   "source": [
    "test_pred = mnb.predict(testX_cv)\n",
    "print(\"\\nTesting Accuracy score:\",accuracy_score(testy, test_pred))"
   ]
  },
  {
   "cell_type": "markdown",
   "metadata": {},
   "source": [
    "LOGISITIC REGRESSION WITH tf-idf and count vectorizer"
   ]
  },
  {
   "cell_type": "code",
   "execution_count": 188,
   "metadata": {},
   "outputs": [
    {
     "name": "stdout",
     "output_type": "stream",
     "text": [
      "CPU times: total: 391 ms\n",
      "Wall time: 1.24 s\n",
      "\n",
      "Training Accuracy score: 0.9874055415617129\n",
      "Testing Accuracy score: 0.9333333333333333\n"
     ]
    }
   ],
   "source": [
    "lr = LogisticRegression(random_state=SEED)\n",
    "%time lr.fit(docs, y_train)\n",
    "\n",
    "y_pred_train = lr.predict(docs_tf)\n",
    "y_pred_test = lr.predict(docs_test_tf)\n",
    "print(\"\\nTraining Accuracy score:\",accuracy_score(y_train, y_pred_train))\n",
    "print(\"Testing Accuracy score:\",accuracy_score(y_test, y_pred_test))"
   ]
  },
  {
   "cell_type": "code",
   "execution_count": 190,
   "metadata": {},
   "outputs": [
    {
     "name": "stdout",
     "output_type": "stream",
     "text": [
      "\n",
      "Testing Accuracy score: 0.8125\n"
     ]
    }
   ],
   "source": [
    "test_pred = lr.predict(testX_tf)\n",
    "print(\"\\nTesting Accuracy score:\",accuracy_score(testy, test_pred))"
   ]
  },
  {
   "cell_type": "markdown",
   "metadata": {},
   "source": [
    "with count vectorizer"
   ]
  },
  {
   "cell_type": "code",
   "execution_count": 226,
   "metadata": {},
   "outputs": [
    {
     "name": "stdout",
     "output_type": "stream",
     "text": [
      "CPU times: total: 31.2 ms\n",
      "Wall time: 143 ms\n",
      "\n",
      "Training Accuracy score: 0.9949622166246851\n",
      "Testing Accuracy score: 0.9111111111111111\n"
     ]
    }
   ],
   "source": [
    "lr = LogisticRegression(random_state=SEED)\n",
    "%time lr.fit(docs_cv, y_train)\n",
    "\n",
    "y_pred_train = lr.predict(docs_cv)\n",
    "y_pred_test = lr.predict(docs_test_cv)\n",
    "print(\"\\nTraining Accuracy score:\",accuracy_score(y_train, y_pred_train))\n",
    "print(\"Testing Accuracy score:\",accuracy_score(y_test, y_pred_test))"
   ]
  },
  {
   "cell_type": "code",
   "execution_count": 227,
   "metadata": {},
   "outputs": [
    {
     "name": "stdout",
     "output_type": "stream",
     "text": [
      "\n",
      "Testing Accuracy score: 0.78125\n"
     ]
    }
   ],
   "source": [
    "test_pred = lr.predict(testX_cv)\n",
    "print(\"\\nTesting Accuracy score:\",accuracy_score(testy, test_pred))"
   ]
  },
  {
   "cell_type": "markdown",
   "metadata": {},
   "source": [
    "SVM WITH tf-idf and count vectorizer"
   ]
  },
  {
   "cell_type": "code",
   "execution_count": 191,
   "metadata": {},
   "outputs": [
    {
     "name": "stdout",
     "output_type": "stream",
     "text": [
      "CPU times: total: 0 ns\n",
      "Wall time: 17.9 ms\n",
      "\n",
      "Training Accuracy score: 0.9949622166246851\n",
      "Testing Accuracy score: 0.8888888888888888\n"
     ]
    }
   ],
   "source": [
    "svc =  LinearSVC(class_weight='balanced') \n",
    "%time svc.fit(docs, y_train)\n",
    "\n",
    "y_pred_train = svc.predict(docs_tf)\n",
    "y_pred_test = svc.predict(docs_test_tf)\n",
    "print(\"\\nTraining Accuracy score:\",accuracy_score(y_train, y_pred_train))\n",
    "print(\"Testing Accuracy score:\",accuracy_score(y_test, y_pred_test))"
   ]
  },
  {
   "cell_type": "code",
   "execution_count": 192,
   "metadata": {},
   "outputs": [
    {
     "name": "stdout",
     "output_type": "stream",
     "text": [
      "\n",
      "Testing Accuracy score: 0.8020833333333334\n"
     ]
    }
   ],
   "source": [
    "test_pred = svc.predict(testX_tf)\n",
    "print(\"\\nTesting Accuracy score:\",accuracy_score(testy, test_pred))"
   ]
  },
  {
   "cell_type": "code",
   "execution_count": 193,
   "metadata": {},
   "outputs": [],
   "source": [
    "from sklearn.calibration import CalibratedClassifierCV\n",
    "calibrated_svc= CalibratedClassifierCV(base_estimator=svc, cv=5)\n"
   ]
  },
  {
   "cell_type": "code",
   "execution_count": 194,
   "metadata": {},
   "outputs": [
    {
     "name": "stdout",
     "output_type": "stream",
     "text": [
      "Accuracy: 0.8888888888888888\n"
     ]
    }
   ],
   "source": [
    "calibrated_svc.fit(docs_tf, y_train)\n",
    "predicted= calibrated_svc.predict(docs_test_tf)\n",
    "print(\"Accuracy:\",metrics.accuracy_score(y_test, predicted))"
   ]
  },
  {
   "cell_type": "code",
   "execution_count": 195,
   "metadata": {},
   "outputs": [
    {
     "name": "stdout",
     "output_type": "stream",
     "text": [
      "Accuracy: 0.8125\n"
     ]
    }
   ],
   "source": [
    "predicted= calibrated_svc.predict(testX_tf)\n",
    "print(\"Accuracy:\",metrics.accuracy_score(testy, predicted))"
   ]
  },
  {
   "cell_type": "code",
   "execution_count": 196,
   "metadata": {},
   "outputs": [
    {
     "data": {
      "text/plain": [
       "array([[56.27548286, 18.01063682,  8.82131619, 13.42319508,  3.46936904],\n",
       "       [18.97712719,  2.17340302,  8.51157569, 69.2354112 ,  1.10248291],\n",
       "       [ 1.16595955,  0.51894738,  4.91810869, 87.29608102,  6.10090336],\n",
       "       [ 1.40138946,  1.43225859,  4.07843277, 90.30857811,  2.77934108],\n",
       "       [43.8361407 ,  6.92393933,  5.15777951,  6.60261863, 37.47952183],\n",
       "       [57.33592398,  1.47675089,  9.04463048,  6.2174141 , 25.92528055],\n",
       "       [ 1.01955152,  1.31597001, 27.24187263, 14.7021913 , 55.72041454],\n",
       "       [15.18914758,  3.24457568, 18.00847048, 58.3017452 ,  5.25606106],\n",
       "       [ 1.16444194,  2.47117448, 28.31236325, 52.91821562, 15.13380471],\n",
       "       [ 0.85963045, 18.136467  , 18.65490506, 60.95491747,  1.39408002],\n",
       "       [20.21649482,  0.99242892, 52.13641311,  8.97836085, 17.6763023 ],\n",
       "       [33.35804522, 17.79258307, 41.8472507 ,  3.40744617,  3.59467485],\n",
       "       [ 5.20447454,  2.69897114, 10.38568764, 71.87565531,  9.83521136],\n",
       "       [ 4.62453182, 80.33935229,  9.19151681,  4.3990233 ,  1.44557577],\n",
       "       [ 1.31052663, 80.55499876, 13.40533443,  2.111913  ,  2.61722718],\n",
       "       [ 6.74505536, 76.7778564 , 13.39520952,  0.95591276,  2.12596595],\n",
       "       [ 0.71885927,  0.22816686, 69.78480716,  3.23294713, 26.03521957],\n",
       "       [ 1.35979665, 84.81911982,  8.73749652,  3.96278415,  1.12080285],\n",
       "       [ 4.18643504, 79.49181206,  5.60092964,  8.47044956,  2.2503737 ],\n",
       "       [11.10047574,  1.68175828, 81.72517688,  1.75638252,  3.73620657],\n",
       "       [19.59982131,  4.86956462, 20.81043154, 53.57512655,  1.14505598],\n",
       "       [41.51113868, 10.5062412 , 38.5366211 ,  8.20387783,  1.24212119],\n",
       "       [87.67304299,  1.1517477 ,  6.14226206,  3.83709912,  1.19584814],\n",
       "       [47.32443728,  0.33535502,  9.49258081, 35.88207796,  6.96554893],\n",
       "       [ 0.35775075, 78.96062692, 13.25920683,  6.86137318,  0.56104231],\n",
       "       [55.49008384, 40.22730773,  2.4587611 ,  0.72178116,  1.10206616],\n",
       "       [21.75696789,  1.48487961, 68.8241273 ,  7.17424705,  0.75977815],\n",
       "       [34.19483094, 24.42946835, 17.63800415, 17.55096479,  6.18673177],\n",
       "       [ 1.33644375,  2.02309516,  9.03703882,  2.97679143, 84.62663085],\n",
       "       [ 8.69034205,  0.9109028 , 33.52014731, 45.12121906, 11.75738878],\n",
       "       [ 2.40490611,  1.10185915, 13.93346295, 11.42406403, 71.13570777],\n",
       "       [16.09751541, 38.9388714 , 32.65846716,  8.56009697,  3.74504907],\n",
       "       [ 3.50738547,  2.31175689, 11.52449864, 81.43927829,  1.21708072],\n",
       "       [71.66667586, 11.99877418,  8.63746653,  7.08044343,  0.61664001],\n",
       "       [ 1.33541293,  0.88738202,  5.32611114,  3.07630596, 89.37478795],\n",
       "       [18.74802249,  1.94254914,  2.67698965, 75.54017178,  1.09226693],\n",
       "       [76.50431159,  0.46035304,  8.6315471 , 10.07923215,  4.3245561 ],\n",
       "       [ 0.76102822,  0.34092031,  0.72002594, 19.52866859, 78.64935695],\n",
       "       [44.73198365,  4.63291662, 32.55568164, 14.38402719,  3.69539089],\n",
       "       [ 0.33658946, 22.44198777,  1.12140151,  9.938424  , 66.16159724],\n",
       "       [27.16769023, 20.66410846, 10.82584717, 37.66236882,  3.67998532],\n",
       "       [63.89524979,  3.31078756, 26.74465017,  4.88719205,  1.16212043],\n",
       "       [81.1955656 ,  1.17592799,  7.85531748,  8.73038029,  1.04280864],\n",
       "       [ 1.35093008, 93.85119079,  2.68429916,  1.50549472,  0.60808525],\n",
       "       [ 1.65284826, 86.22338788,  1.00969919,  9.31634537,  1.7977193 ],\n",
       "       [ 1.32653904,  6.84057858, 36.34407049, 54.90832928,  0.58048261],\n",
       "       [ 8.96543732,  4.43801488, 17.55233934, 35.47522275, 33.56898571],\n",
       "       [ 1.68366046,  0.37873573, 17.41159964, 66.08084468, 14.4451595 ],\n",
       "       [ 0.66643905, 39.82208828, 16.89688128, 35.73631319,  6.87827819],\n",
       "       [ 2.5997699 , 92.10700244,  1.34338342,  2.36291865,  1.5869256 ],\n",
       "       [29.71630871, 43.67845545, 18.14254413,  2.26266162,  6.20003008],\n",
       "       [ 2.69011276, 87.46651627,  2.87911276,  4.07989459,  2.88436362],\n",
       "       [ 6.98356553,  1.13370455,  1.91052377, 67.3365857 , 22.63562045],\n",
       "       [ 4.87057253,  8.46472269, 24.41972465,  8.1201141 , 54.12486603],\n",
       "       [91.37410622,  2.403902  ,  2.78211185,  2.25194984,  1.18793009],\n",
       "       [ 4.94268303, 84.50185536,  6.83552067,  3.33681261,  0.38312833],\n",
       "       [73.09388588,  5.0932971 ,  7.66400718,  8.35097596,  5.79783387],\n",
       "       [19.35165158, 10.98511793, 13.3697113 , 51.58372707,  4.70979211],\n",
       "       [84.28689198,  3.50765035,  3.00272478,  5.15315786,  4.04957503],\n",
       "       [ 6.42792032, 22.32571482,  3.14851585, 63.5689638 ,  4.5288852 ],\n",
       "       [ 6.75721186,  6.44870575,  7.75043395, 78.93673727,  0.10691117],\n",
       "       [47.17570692, 27.39924911,  8.05485074,  7.95302891,  9.41716431],\n",
       "       [24.66661699,  3.76688114,  9.52911274, 51.78377861, 10.25361052],\n",
       "       [ 5.69859325, 56.91329906, 29.66145581,  5.85196858,  1.8746833 ],\n",
       "       [76.05228986,  0.15848148, 20.46794002,  2.33910014,  0.9821885 ],\n",
       "       [ 1.81317446, 90.07896902,  3.75349607,  2.99291208,  1.36144837],\n",
       "       [14.1977291 ,  7.90833469, 27.40013114, 12.52708293, 37.96672213],\n",
       "       [61.71998847,  4.95064646,  9.78333376, 16.70758756,  6.83844376],\n",
       "       [77.78237612,  3.14700578,  5.62988636, 11.26214144,  2.1785903 ],\n",
       "       [ 3.42315172,  2.83035468,  6.41660553,  5.58283167, 81.74705641],\n",
       "       [ 1.55079696, 11.70299837, 58.10474262,  6.87792681, 21.76353523],\n",
       "       [ 3.47610941,  1.32133017, 10.54633561, 80.84285676,  3.81336805],\n",
       "       [36.83379847,  2.3831629 ,  9.15637108, 48.43770411,  3.18896344],\n",
       "       [10.70898029, 65.96419832,  8.75173916,  9.32000688,  5.25507535],\n",
       "       [ 0.54554274, 89.25922397,  7.05253334,  0.55054617,  2.59215378],\n",
       "       [30.98232475,  2.12332771, 17.7228815 , 46.62949727,  2.54196877],\n",
       "       [ 6.64593457,  0.3444371 , 84.84706147,  7.67771102,  0.48485585],\n",
       "       [88.26956904,  1.04096275,  5.8326454 ,  4.72796146,  0.12886136],\n",
       "       [16.52155203, 32.95677783,  8.13264232, 39.74789349,  2.64113433],\n",
       "       [44.17829683, 12.10262926, 36.20088985,  2.43381612,  5.08436795],\n",
       "       [89.07491595,  0.35339374,  5.48254933,  2.98580431,  2.10333668],\n",
       "       [88.7472413 ,  0.41147296,  3.17884133,  6.37550576,  1.28693865],\n",
       "       [25.92011244,  3.67924153, 54.07249293,  7.76633158,  8.56182152],\n",
       "       [ 1.60217246,  0.7465143 ,  8.56920501,  9.64407107, 79.43803716],\n",
       "       [ 1.09795144, 93.2143891 ,  3.16157224,  1.82592752,  0.7001597 ],\n",
       "       [ 4.10408611, 87.80894958,  4.18094794,  2.97022438,  0.93579198],\n",
       "       [ 7.65542023, 79.47119787,  2.61437934,  9.07815297,  1.18084958],\n",
       "       [52.46251992, 16.09950899, 20.92563185,  5.62949774,  4.8828415 ],\n",
       "       [ 0.45484349,  0.69559446, 28.87097134, 59.33919511, 10.63939559],\n",
       "       [13.22463922,  3.41801156,  7.06498365,  2.81289318, 73.47947239],\n",
       "       [ 3.02436401, 87.07116344,  4.52327489,  5.11186991,  0.26932775],\n",
       "       [ 6.41859666,  2.65864418,  9.14873955, 80.37399067,  1.40002894],\n",
       "       [ 5.37252789,  1.01882925, 48.44896443,  2.13613327, 43.02354516],\n",
       "       [ 3.18818975, 70.88653213, 12.44947634,  3.55547613,  9.92032565],\n",
       "       [75.53646653,  2.05428185,  8.84516668, 11.37827576,  2.18580918],\n",
       "       [38.7815208 ,  6.21843433,  9.72094963, 28.09061288, 17.18848236]])"
      ]
     },
     "execution_count": 196,
     "metadata": {},
     "output_type": "execute_result"
    }
   ],
   "source": [
    "calibrated_svc.predict_proba(testX_tf)*100"
   ]
  },
  {
   "cell_type": "code",
   "execution_count": 197,
   "metadata": {},
   "outputs": [],
   "source": [
    "from sklearn import svm\n",
    "\n",
    "rbf= svm.SVC(kernel='rbf', gamma=0.5, C=0.1).fit(docs_tf, y_train)\n",
    "poly= svm.SVC(kernel='poly', degree=3, C=1).fit(docs_tf, y_train)"
   ]
  },
  {
   "cell_type": "code",
   "execution_count": 198,
   "metadata": {},
   "outputs": [
    {
     "name": "stdout",
     "output_type": "stream",
     "text": [
      "RBF Accuracy:  0.7777777777777778\n",
      "Poly Accuracy:  0.8\n"
     ]
    }
   ],
   "source": [
    "rbf_val= rbf.predict(docs_test_tf)\n",
    "poly_val= poly.predict(docs_test_tf)\n",
    "\n",
    "print(\"RBF Accuracy: \", accuracy_score(y_test, rbf_val))\n",
    "print(\"Poly Accuracy: \", accuracy_score(y_test, poly_val))"
   ]
  },
  {
   "cell_type": "code",
   "execution_count": 199,
   "metadata": {},
   "outputs": [
    {
     "name": "stdout",
     "output_type": "stream",
     "text": [
      "\n",
      "RBF Testing Accuracy score: 0.65625\n",
      "\n",
      "Polynomial Testing Accuracy score: 0.6458333333333334\n"
     ]
    }
   ],
   "source": [
    "rbf_test_pred = rbf.predict(testX_tf)\n",
    "poly_test_pred = poly.predict(testX_tf)\n",
    "print(\"\\nRBF Testing Accuracy score:\",accuracy_score(testy, rbf_test_pred))\n",
    "print(\"\\nPolynomial Testing Accuracy score:\",accuracy_score(testy, poly_test_pred))"
   ]
  },
  {
   "cell_type": "markdown",
   "metadata": {},
   "source": [
    "with count vectorizer"
   ]
  },
  {
   "cell_type": "code",
   "execution_count": 228,
   "metadata": {},
   "outputs": [
    {
     "name": "stdout",
     "output_type": "stream",
     "text": [
      "CPU times: total: 15.6 ms\n",
      "Wall time: 26.7 ms\n",
      "\n",
      "Training Accuracy score: 1.0\n",
      "Testing Accuracy score: 0.9111111111111111\n"
     ]
    }
   ],
   "source": [
    "svc =  LinearSVC(class_weight='balanced') \n",
    "%time svc.fit(docs_cv, y_train)\n",
    "\n",
    "y_pred_train = svc.predict(docs_cv)\n",
    "y_pred_test = svc.predict(docs_test_cv)\n",
    "print(\"\\nTraining Accuracy score:\",accuracy_score(y_train, y_pred_train))\n",
    "print(\"Testing Accuracy score:\",accuracy_score(y_test, y_pred_test))"
   ]
  },
  {
   "cell_type": "code",
   "execution_count": 229,
   "metadata": {},
   "outputs": [
    {
     "name": "stdout",
     "output_type": "stream",
     "text": [
      "\n",
      "Testing Accuracy score: 0.7604166666666666\n"
     ]
    }
   ],
   "source": [
    "test_pred = svc.predict(testX_cv)\n",
    "print(\"\\nTesting Accuracy score:\",accuracy_score(testy, test_pred))"
   ]
  },
  {
   "cell_type": "code",
   "execution_count": 230,
   "metadata": {},
   "outputs": [
    {
     "name": "stdout",
     "output_type": "stream",
     "text": [
      "Accuracy: 0.9111111111111111\n"
     ]
    }
   ],
   "source": [
    "from sklearn.calibration import CalibratedClassifierCV\n",
    "calibrated_svc= CalibratedClassifierCV(base_estimator=svc, cv=5)\n",
    "calibrated_svc.fit(docs_cv, y_train)\n",
    "predicted= calibrated_svc.predict(docs_test_cv)\n",
    "print(\"Accuracy:\",metrics.accuracy_score(y_test, predicted))"
   ]
  },
  {
   "cell_type": "code",
   "execution_count": 231,
   "metadata": {},
   "outputs": [
    {
     "name": "stdout",
     "output_type": "stream",
     "text": [
      "Accuracy: 0.7916666666666666\n"
     ]
    }
   ],
   "source": [
    "predicted= calibrated_svc.predict(testX_cv)\n",
    "print(\"Accuracy:\",metrics.accuracy_score(testy, predicted))"
   ]
  },
  {
   "cell_type": "code",
   "execution_count": 232,
   "metadata": {},
   "outputs": [],
   "source": [
    "from sklearn import svm\n",
    "\n",
    "rbf= svm.SVC(kernel='rbf', gamma=0.5, C=0.1).fit(docs_cv, y_train)\n",
    "poly= svm.SVC(kernel='poly', degree=3, C=1).fit(docs_cv, y_train)"
   ]
  },
  {
   "cell_type": "code",
   "execution_count": 233,
   "metadata": {},
   "outputs": [
    {
     "name": "stdout",
     "output_type": "stream",
     "text": [
      "RBF Accuracy:  0.24444444444444444\n",
      "Poly Accuracy:  0.4888888888888889\n"
     ]
    }
   ],
   "source": [
    "rbf_val= rbf.predict(docs_test_cv)\n",
    "poly_val= poly.predict(docs_test_cv)\n",
    "\n",
    "print(\"RBF Accuracy: \", accuracy_score(y_test, rbf_val))\n",
    "print(\"Poly Accuracy: \", accuracy_score(y_test, poly_val))"
   ]
  },
  {
   "cell_type": "code",
   "execution_count": 234,
   "metadata": {},
   "outputs": [
    {
     "name": "stdout",
     "output_type": "stream",
     "text": [
      "\n",
      "RBF Testing Accuracy score: 0.2604166666666667\n",
      "\n",
      "Polynomial Testing Accuracy score: 0.3125\n"
     ]
    }
   ],
   "source": [
    "rbf_test_pred = rbf.predict(testX_cv)\n",
    "poly_test_pred = poly.predict(testX_cv)\n",
    "print(\"\\nRBF Testing Accuracy score:\",accuracy_score(testy, rbf_test_pred))\n",
    "print(\"\\nPolynomial Testing Accuracy score:\",accuracy_score(testy, poly_test_pred))"
   ]
  },
  {
   "cell_type": "markdown",
   "metadata": {},
   "source": [
    "DECISION TREE CLASSIFIER WITH TF-IDF AND COUNT VECTORIZER"
   ]
  },
  {
   "cell_type": "code",
   "execution_count": 200,
   "metadata": {},
   "outputs": [
    {
     "name": "stdout",
     "output_type": "stream",
     "text": [
      "CPU times: total: 31.2 ms\n",
      "Wall time: 59.3 ms\n",
      "\n",
      "Training Accuracy score: 1.0\n",
      "Testing Accuracy score: 0.8888888888888888\n"
     ]
    }
   ],
   "source": [
    "from sklearn.tree import DecisionTreeClassifier\n",
    "\n",
    "dt = DecisionTreeClassifier(random_state=SEED)\n",
    "%time dt.fit(docs_tf, y_train)\n",
    "\n",
    "y_pred_train = dt.predict(docs_tf)\n",
    "y_pred_test = dt.predict(docs_test_tf)\n",
    "print(\"\\nTraining Accuracy score:\",accuracy_score(y_train, y_pred_train))\n",
    "print(\"Testing Accuracy score:\",accuracy_score(y_test, y_pred_test))"
   ]
  },
  {
   "cell_type": "code",
   "execution_count": 201,
   "metadata": {},
   "outputs": [
    {
     "name": "stdout",
     "output_type": "stream",
     "text": [
      "\n",
      "Testing Accuracy score: 0.6458333333333334\n"
     ]
    }
   ],
   "source": [
    "test_pred = dt.predict(testX_tf)\n",
    "print(\"\\nTesting Accuracy score:\",accuracy_score(testy, test_pred))"
   ]
  },
  {
   "cell_type": "markdown",
   "metadata": {},
   "source": [
    "with count vectorizer"
   ]
  },
  {
   "cell_type": "code",
   "execution_count": 235,
   "metadata": {},
   "outputs": [
    {
     "name": "stdout",
     "output_type": "stream",
     "text": [
      "CPU times: total: 46.9 ms\n",
      "Wall time: 56.2 ms\n",
      "\n",
      "Training Accuracy score: 1.0\n",
      "Testing Accuracy score: 0.8666666666666667\n"
     ]
    }
   ],
   "source": [
    "from sklearn.tree import DecisionTreeClassifier\n",
    "\n",
    "dt = DecisionTreeClassifier(random_state=SEED)\n",
    "%time dt.fit(docs_cv, y_train)\n",
    "\n",
    "y_pred_train = dt.predict(docs_cv)\n",
    "y_pred_test = dt.predict(docs_test_cv)\n",
    "print(\"\\nTraining Accuracy score:\",accuracy_score(y_train, y_pred_train))\n",
    "print(\"Testing Accuracy score:\",accuracy_score(y_test, y_pred_test))"
   ]
  },
  {
   "cell_type": "code",
   "execution_count": 236,
   "metadata": {},
   "outputs": [
    {
     "name": "stdout",
     "output_type": "stream",
     "text": [
      "\n",
      "Testing Accuracy score: 0.7083333333333334\n"
     ]
    }
   ],
   "source": [
    "test_pred = dt.predict(testX_cv)\n",
    "print(\"\\nTesting Accuracy score:\",accuracy_score(testy, test_pred))"
   ]
  },
  {
   "cell_type": "markdown",
   "metadata": {},
   "source": [
    "RANDOM FOREST WITH TF-IDF AND COUNT VECTORIZER"
   ]
  },
  {
   "cell_type": "code",
   "execution_count": 252,
   "metadata": {},
   "outputs": [
    {
     "name": "stdout",
     "output_type": "stream",
     "text": [
      "CPU times: total: 141 ms\n",
      "Wall time: 404 ms\n",
      "\n",
      "Training Accuracy score: 1.0\n",
      "Testing Accuracy score: 0.8888888888888888\n"
     ]
    }
   ],
   "source": [
    "from sklearn.ensemble import RandomForestClassifier\n",
    "rf = RandomForestClassifier(random_state=SEED)\n",
    "%time rf.fit(docs_tf, y_train)\n",
    "\n",
    "y_pred_train = rf.predict(docs_tf)\n",
    "y_pred_test = rf.predict(docs_test_tf)\n",
    "print(\"\\nTraining Accuracy score:\",accuracy_score(y_train, y_pred_train))\n",
    "print(\"Testing Accuracy score:\",accuracy_score(y_test, y_pred_test))"
   ]
  },
  {
   "cell_type": "code",
   "execution_count": 253,
   "metadata": {},
   "outputs": [
    {
     "name": "stdout",
     "output_type": "stream",
     "text": [
      "\n",
      "Testing Accuracy score: 0.7916666666666666\n"
     ]
    }
   ],
   "source": [
    "test_pred = rf.predict(testX_tf)\n",
    "print(\"\\nTesting Accuracy score:\",accuracy_score(testy, test_pred))"
   ]
  },
  {
   "cell_type": "markdown",
   "metadata": {},
   "source": [
    "WITH COUNT VECTORIZER"
   ]
  },
  {
   "cell_type": "code",
   "execution_count": null,
   "metadata": {},
   "outputs": [],
   "source": [
    "from sklearn.ensemble import RandomForestClassifier\n",
    "rf = RandomForestClassifier(random_state=SEED)\n",
    "%time rf.fit(docs_cv, y_train)\n",
    "\n",
    "y_pred_train = rf.predict(docs_cv)\n",
    "y_pred_test = rf.predict(docs_test_cv)\n",
    "print(\"\\nTraining Accuracy score:\",accuracy_score(y_train, y_pred_train))\n",
    "print(\"Testing Accuracy score:\",accuracy_score(y_test, y_pred_test))"
   ]
  },
  {
   "cell_type": "code",
   "execution_count": 254,
   "metadata": {},
   "outputs": [
    {
     "name": "stdout",
     "output_type": "stream",
     "text": [
      "\n",
      "Testing Accuracy score: 0.8125\n"
     ]
    }
   ],
   "source": [
    "test_pred = rf.predict(testX_cv)\n",
    "print(\"\\nTesting Accuracy score:\",accuracy_score(testy, test_pred))"
   ]
  },
  {
   "cell_type": "markdown",
   "metadata": {},
   "source": [
    "VOTING CLASSIFIER (DT + LR + NB) WITH TFIDF VECTORIZER AND COUNT VECTORIZER"
   ]
  },
  {
   "cell_type": "code",
   "execution_count": 202,
   "metadata": {},
   "outputs": [
    {
     "name": "stdout",
     "output_type": "stream",
     "text": [
      "Training Accuracy score: 0.9949622166246851\n",
      "Testing Accuracy score: 0.8888888888888888\n"
     ]
    }
   ],
   "source": [
    "from sklearn.ensemble import VotingClassifier\n",
    "\n",
    "classifiers = [('Decision Tree', dt),\n",
    "               ('Logistic Regression', lr),\n",
    "                ('Naive Bayes', gnb)\n",
    "              ]\n",
    "vc = VotingClassifier(estimators=classifiers)\n",
    "# Fit 'vc' to the traing set and predict test set labels\n",
    "vc.fit(docs_tf, y_train)\n",
    "y_pred_train=vc.predict(docs_tf)\n",
    "y_pred_test = vc.predict(docs_test_tf)\n",
    "print(\"Training Accuracy score:\",accuracy_score(y_train, y_pred_train))\n",
    "print(\"Testing Accuracy score:\",accuracy_score(y_test, y_pred_test))"
   ]
  },
  {
   "cell_type": "code",
   "execution_count": 203,
   "metadata": {},
   "outputs": [
    {
     "name": "stdout",
     "output_type": "stream",
     "text": [
      "\n",
      "Testing Accuracy score: 0.78125\n"
     ]
    }
   ],
   "source": [
    "test_pred = vc.predict(testX_tf)\n",
    "print(\"\\nTesting Accuracy score:\",accuracy_score(testy, test_pred))"
   ]
  },
  {
   "cell_type": "markdown",
   "metadata": {},
   "source": [
    "WITH COUNT VECTORIZER"
   ]
  },
  {
   "cell_type": "code",
   "execution_count": 237,
   "metadata": {},
   "outputs": [
    {
     "name": "stdout",
     "output_type": "stream",
     "text": [
      "Training Accuracy score: 0.9949622166246851\n",
      "Testing Accuracy score: 0.9333333333333333\n"
     ]
    }
   ],
   "source": [
    "from sklearn.ensemble import VotingClassifier\n",
    "\n",
    "classifiers = [('Decision Tree', dt),\n",
    "               ('Logistic Regression', lr),\n",
    "                ('Naive Bayes', gnb)\n",
    "              ]\n",
    "vc = VotingClassifier(estimators=classifiers)\n",
    "# Fit 'vc' to the traing set and predict test set labels\n",
    "vc.fit(docs_cv, y_train)\n",
    "y_pred_train=vc.predict(docs_cv)\n",
    "y_pred_test = vc.predict(docs_test_cv)\n",
    "print(\"Training Accuracy score:\",accuracy_score(y_train, y_pred_train))\n",
    "print(\"Testing Accuracy score:\",accuracy_score(y_test, y_pred_test))"
   ]
  },
  {
   "cell_type": "code",
   "execution_count": 238,
   "metadata": {},
   "outputs": [
    {
     "name": "stdout",
     "output_type": "stream",
     "text": [
      "\n",
      "Testing Accuracy score: 0.78125\n"
     ]
    }
   ],
   "source": [
    "test_pred = vc.predict(testX_cv)\n",
    "print(\"\\nTesting Accuracy score:\",accuracy_score(testy, test_pred))"
   ]
  },
  {
   "cell_type": "markdown",
   "metadata": {},
   "source": [
    "VOTING CLASSIFIER (DT + LR+ MNB) WITH TF-IDF AND COUNT VECTORIZER"
   ]
  },
  {
   "cell_type": "code",
   "execution_count": 204,
   "metadata": {},
   "outputs": [
    {
     "name": "stdout",
     "output_type": "stream",
     "text": [
      "Training Accuracy score: 0.9874055415617129\n",
      "Testing Accuracy score: 0.9333333333333333\n"
     ]
    }
   ],
   "source": [
    "from sklearn.ensemble import VotingClassifier\n",
    "\n",
    "classifiers = [('Decision Tree', dt),\n",
    "               ('Logistic Regression', lr),\n",
    "                ('Naive Bayes', mnb)\n",
    "              ]\n",
    "vc = VotingClassifier(estimators=classifiers)\n",
    "# Fit 'vc' to the traing set and predict test set labels\n",
    "vc.fit(docs_tf, y_train)\n",
    "y_pred_train=vc.predict(docs_tf)\n",
    "y_pred_test = vc.predict(docs_test_tf)\n",
    "print(\"Training Accuracy score:\",accuracy_score(y_train, y_pred_train))\n",
    "print(\"Testing Accuracy score:\",accuracy_score(y_test, y_pred_test))"
   ]
  },
  {
   "cell_type": "code",
   "execution_count": 205,
   "metadata": {},
   "outputs": [
    {
     "name": "stdout",
     "output_type": "stream",
     "text": [
      "\n",
      "Testing Accuracy score: 0.7916666666666666\n"
     ]
    }
   ],
   "source": [
    "test_pred = vc.predict(testX_tf)\n",
    "print(\"\\nTesting Accuracy score:\",accuracy_score(testy, test_pred))"
   ]
  },
  {
   "cell_type": "markdown",
   "metadata": {},
   "source": [
    "with count vectorizer"
   ]
  },
  {
   "cell_type": "code",
   "execution_count": 239,
   "metadata": {},
   "outputs": [
    {
     "name": "stdout",
     "output_type": "stream",
     "text": [
      "Training Accuracy score: 0.9949622166246851\n",
      "Testing Accuracy score: 0.9111111111111111\n"
     ]
    }
   ],
   "source": [
    "from sklearn.ensemble import VotingClassifier\n",
    "\n",
    "classifiers = [('Decision Tree', dt),\n",
    "               ('Logistic Regression', lr),\n",
    "                ('Naive Bayes', mnb)\n",
    "              ]\n",
    "vc = VotingClassifier(estimators=classifiers)\n",
    "# Fit 'vc' to the traing set and predict test set labels\n",
    "vc.fit(docs_cv, y_train)\n",
    "y_pred_train=vc.predict(docs_cv)\n",
    "y_pred_test = vc.predict(docs_test_cv)\n",
    "print(\"Training Accuracy score:\",accuracy_score(y_train, y_pred_train))\n",
    "print(\"Testing Accuracy score:\",accuracy_score(y_test, y_pred_test))"
   ]
  },
  {
   "cell_type": "code",
   "execution_count": 240,
   "metadata": {},
   "outputs": [
    {
     "name": "stdout",
     "output_type": "stream",
     "text": [
      "\n",
      "Testing Accuracy score: 0.78125\n"
     ]
    }
   ],
   "source": [
    "test_pred = vc.predict(testX_cv)\n",
    "print(\"\\nTesting Accuracy score:\",accuracy_score(testy, test_pred))"
   ]
  },
  {
   "cell_type": "markdown",
   "metadata": {},
   "source": [
    "VOTING CLASSIFIER (LR+DT+SVM+NB) WITH TF-IDF AND COUNT VECTORIZER"
   ]
  },
  {
   "cell_type": "code",
   "execution_count": 206,
   "metadata": {},
   "outputs": [
    {
     "name": "stdout",
     "output_type": "stream",
     "text": [
      "0.8463461538461539\n"
     ]
    }
   ],
   "source": [
    "from sklearn.linear_model import LinearRegression\n",
    "from sklearn.tree import DecisionTreeClassifier\n",
    "from sklearn.svm import SVC\n",
    "from sklearn.naive_bayes import GaussianNB\n",
    "from sklearn.ensemble import VotingClassifier\n",
    "import sklearn.model_selection as model_selection\n",
    "\n",
    "kfold= model_selection.KFold(n_splits=10)\n",
    "\n",
    "# create the sub models\n",
    "estimators = []\n",
    "model1 = LogisticRegression()\n",
    "estimators.append(('logistic', model1))\n",
    "model2 = DecisionTreeClassifier()\n",
    "estimators.append(('cart', model2))\n",
    "model3 = SVC()\n",
    "estimators.append(('svm', model3))\n",
    "model4 = GaussianNB()\n",
    "estimators.append(('nb', model4))\n",
    "\n",
    "# create the ensemble model\n",
    "ensemble = VotingClassifier(estimators)\n",
    "results = model_selection.cross_val_score(ensemble, docs_tf, y_train, cv=kfold)\n",
    "print(results.mean())\n"
   ]
  },
  {
   "cell_type": "code",
   "execution_count": 207,
   "metadata": {},
   "outputs": [
    {
     "name": "stdout",
     "output_type": "stream",
     "text": [
      "Training Accuracy score: 0.9949622166246851\n",
      "Testing Accuracy score: 0.9333333333333333\n"
     ]
    }
   ],
   "source": [
    "ensemble.fit(docs_tf, y_train)\n",
    "y_pred_train=ensemble.predict(docs_tf)\n",
    "y_pred_test = ensemble.predict(docs_test_tf)\n",
    "print(\"Training Accuracy score:\",accuracy_score(y_train, y_pred_train))\n",
    "print(\"Testing Accuracy score:\",accuracy_score(y_test, y_pred_test))"
   ]
  },
  {
   "cell_type": "code",
   "execution_count": 208,
   "metadata": {},
   "outputs": [
    {
     "name": "stdout",
     "output_type": "stream",
     "text": [
      "\n",
      "Testing Accuracy score: 0.8229166666666666\n"
     ]
    }
   ],
   "source": [
    "test_pred = ensemble.predict(testX_tf)\n",
    "print(\"\\nTesting Accuracy score:\",accuracy_score(testy, test_pred))"
   ]
  },
  {
   "cell_type": "markdown",
   "metadata": {},
   "source": [
    "WITH COUNT VECTORIZER"
   ]
  },
  {
   "cell_type": "code",
   "execution_count": 241,
   "metadata": {},
   "outputs": [
    {
     "name": "stdout",
     "output_type": "stream",
     "text": [
      "0.8385897435897436\n"
     ]
    }
   ],
   "source": [
    "from sklearn.linear_model import LinearRegression\n",
    "from sklearn.tree import DecisionTreeClassifier\n",
    "from sklearn.svm import SVC\n",
    "from sklearn.naive_bayes import GaussianNB\n",
    "from sklearn.ensemble import VotingClassifier\n",
    "import sklearn.model_selection as model_selection\n",
    "\n",
    "kfold= model_selection.KFold(n_splits=10)\n",
    "\n",
    "# create the sub models\n",
    "estimators = []\n",
    "model1 = LogisticRegression()\n",
    "estimators.append(('logistic', model1))\n",
    "model2 = DecisionTreeClassifier()\n",
    "estimators.append(('cart', model2))\n",
    "model3 = SVC()\n",
    "estimators.append(('svm', model3))\n",
    "model4 = GaussianNB()\n",
    "estimators.append(('nb', model4))\n",
    "\n",
    "# create the ensemble model\n",
    "ensemble = VotingClassifier(estimators)\n",
    "results = model_selection.cross_val_score(ensemble, docs_cv, y_train, cv=kfold)\n",
    "print(results.mean())\n"
   ]
  },
  {
   "cell_type": "code",
   "execution_count": 242,
   "metadata": {},
   "outputs": [
    {
     "name": "stdout",
     "output_type": "stream",
     "text": [
      "Training Accuracy score: 0.9949622166246851\n",
      "Testing Accuracy score: 0.9111111111111111\n"
     ]
    }
   ],
   "source": [
    "ensemble.fit(docs_cv, y_train)\n",
    "y_pred_train=ensemble.predict(docs_cv)\n",
    "y_pred_test = ensemble.predict(docs_test_cv)\n",
    "print(\"Training Accuracy score:\",accuracy_score(y_train, y_pred_train))\n",
    "print(\"Testing Accuracy score:\",accuracy_score(y_test, y_pred_test))"
   ]
  },
  {
   "cell_type": "code",
   "execution_count": 243,
   "metadata": {},
   "outputs": [
    {
     "name": "stdout",
     "output_type": "stream",
     "text": [
      "\n",
      "Testing Accuracy score: 0.78125\n"
     ]
    }
   ],
   "source": [
    "test_pred = ensemble.predict(testX_cv)\n",
    "print(\"\\nTesting Accuracy score:\",accuracy_score(testy, test_pred))"
   ]
  },
  {
   "cell_type": "markdown",
   "metadata": {},
   "source": [
    "VOTING CLASSIFIER (LR+RF+XGB+SVM+NB) WITH TF-IDF AND COUNT VECTORIZER"
   ]
  },
  {
   "cell_type": "code",
   "execution_count": 209,
   "metadata": {},
   "outputs": [
    {
     "name": "stdout",
     "output_type": "stream",
     "text": [
      "0.8413461538461539\n"
     ]
    }
   ],
   "source": [
    "from sklearn.tree import DecisionTreeClassifier\n",
    "from sklearn.svm import SVC\n",
    "from sklearn.naive_bayes import GaussianNB\n",
    "from sklearn.ensemble import VotingClassifier\n",
    "import sklearn.model_selection as model_selection\n",
    "import xgboost as xgb\n",
    "kfold= model_selection.KFold(n_splits=10)\n",
    "\n",
    "# create the sub models\n",
    "estimators = []\n",
    "model1 = LogisticRegression()\n",
    "estimators.append(('logistic', model1))\n",
    "model2 = LinearSVC()\n",
    "estimators.append(('svm', model2))\n",
    "model3 = MultinomialNB()\n",
    "estimators.append(('nb', model3))\n",
    "model4 = RandomForestClassifier()\n",
    "estimators.append(('rf', model4))\n",
    "model5= xgb.XGBClassifier()\n",
    "estimators.append(('xgb', model5))\n",
    "\n",
    "# create the ensemble model\n",
    "ensemble = VotingClassifier(estimators)\n",
    "results = model_selection.cross_val_score(ensemble, docs_tf, y_train, cv=kfold)\n",
    "print(results.mean())\n"
   ]
  },
  {
   "cell_type": "code",
   "execution_count": 210,
   "metadata": {},
   "outputs": [
    {
     "data": {
      "text/html": [
       "<style>#sk-container-id-3 {color: black;}#sk-container-id-3 pre{padding: 0;}#sk-container-id-3 div.sk-toggleable {background-color: white;}#sk-container-id-3 label.sk-toggleable__label {cursor: pointer;display: block;width: 100%;margin-bottom: 0;padding: 0.3em;box-sizing: border-box;text-align: center;}#sk-container-id-3 label.sk-toggleable__label-arrow:before {content: \"▸\";float: left;margin-right: 0.25em;color: #696969;}#sk-container-id-3 label.sk-toggleable__label-arrow:hover:before {color: black;}#sk-container-id-3 div.sk-estimator:hover label.sk-toggleable__label-arrow:before {color: black;}#sk-container-id-3 div.sk-toggleable__content {max-height: 0;max-width: 0;overflow: hidden;text-align: left;background-color: #f0f8ff;}#sk-container-id-3 div.sk-toggleable__content pre {margin: 0.2em;color: black;border-radius: 0.25em;background-color: #f0f8ff;}#sk-container-id-3 input.sk-toggleable__control:checked~div.sk-toggleable__content {max-height: 200px;max-width: 100%;overflow: auto;}#sk-container-id-3 input.sk-toggleable__control:checked~label.sk-toggleable__label-arrow:before {content: \"▾\";}#sk-container-id-3 div.sk-estimator input.sk-toggleable__control:checked~label.sk-toggleable__label {background-color: #d4ebff;}#sk-container-id-3 div.sk-label input.sk-toggleable__control:checked~label.sk-toggleable__label {background-color: #d4ebff;}#sk-container-id-3 input.sk-hidden--visually {border: 0;clip: rect(1px 1px 1px 1px);clip: rect(1px, 1px, 1px, 1px);height: 1px;margin: -1px;overflow: hidden;padding: 0;position: absolute;width: 1px;}#sk-container-id-3 div.sk-estimator {font-family: monospace;background-color: #f0f8ff;border: 1px dotted black;border-radius: 0.25em;box-sizing: border-box;margin-bottom: 0.5em;}#sk-container-id-3 div.sk-estimator:hover {background-color: #d4ebff;}#sk-container-id-3 div.sk-parallel-item::after {content: \"\";width: 100%;border-bottom: 1px solid gray;flex-grow: 1;}#sk-container-id-3 div.sk-label:hover label.sk-toggleable__label {background-color: #d4ebff;}#sk-container-id-3 div.sk-serial::before {content: \"\";position: absolute;border-left: 1px solid gray;box-sizing: border-box;top: 0;bottom: 0;left: 50%;z-index: 0;}#sk-container-id-3 div.sk-serial {display: flex;flex-direction: column;align-items: center;background-color: white;padding-right: 0.2em;padding-left: 0.2em;position: relative;}#sk-container-id-3 div.sk-item {position: relative;z-index: 1;}#sk-container-id-3 div.sk-parallel {display: flex;align-items: stretch;justify-content: center;background-color: white;position: relative;}#sk-container-id-3 div.sk-item::before, #sk-container-id-3 div.sk-parallel-item::before {content: \"\";position: absolute;border-left: 1px solid gray;box-sizing: border-box;top: 0;bottom: 0;left: 50%;z-index: -1;}#sk-container-id-3 div.sk-parallel-item {display: flex;flex-direction: column;z-index: 1;position: relative;background-color: white;}#sk-container-id-3 div.sk-parallel-item:first-child::after {align-self: flex-end;width: 50%;}#sk-container-id-3 div.sk-parallel-item:last-child::after {align-self: flex-start;width: 50%;}#sk-container-id-3 div.sk-parallel-item:only-child::after {width: 0;}#sk-container-id-3 div.sk-dashed-wrapped {border: 1px dashed gray;margin: 0 0.4em 0.5em 0.4em;box-sizing: border-box;padding-bottom: 0.4em;background-color: white;}#sk-container-id-3 div.sk-label label {font-family: monospace;font-weight: bold;display: inline-block;line-height: 1.2em;}#sk-container-id-3 div.sk-label-container {text-align: center;}#sk-container-id-3 div.sk-container {/* jupyter's `normalize.less` sets `[hidden] { display: none; }` but bootstrap.min.css set `[hidden] { display: none !important; }` so we also need the `!important` here to be able to override the default hidden behavior on the sphinx rendered scikit-learn.org. See: https://github.com/scikit-learn/scikit-learn/issues/21755 */display: inline-block !important;position: relative;}#sk-container-id-3 div.sk-text-repr-fallback {display: none;}</style><div id=\"sk-container-id-3\" class=\"sk-top-container\"><div class=\"sk-text-repr-fallback\"><pre>VotingClassifier(estimators=[(&#x27;logistic&#x27;, LogisticRegression()),\n",
       "                             (&#x27;svm&#x27;, LinearSVC()), (&#x27;nb&#x27;, MultinomialNB()),\n",
       "                             (&#x27;rf&#x27;, RandomForestClassifier()),\n",
       "                             (&#x27;xgb&#x27;,\n",
       "                              XGBClassifier(base_score=None, booster=None,\n",
       "                                            callbacks=None,\n",
       "                                            colsample_bylevel=None,\n",
       "                                            colsample_bynode=None,\n",
       "                                            colsample_bytree=None,\n",
       "                                            early_stopping_rounds=None,\n",
       "                                            enable_categorical=False,\n",
       "                                            eval_metric=None,\n",
       "                                            feature_typ...\n",
       "                                            gpu_id=None, grow_policy=None,\n",
       "                                            importance_type=None,\n",
       "                                            interaction_constraints=None,\n",
       "                                            learning_rate=None, max_bin=None,\n",
       "                                            max_cat_threshold=None,\n",
       "                                            max_cat_to_onehot=None,\n",
       "                                            max_delta_step=None, max_depth=None,\n",
       "                                            max_leaves=None,\n",
       "                                            min_child_weight=None, missing=nan,\n",
       "                                            monotone_constraints=None,\n",
       "                                            n_estimators=100, n_jobs=None,\n",
       "                                            num_parallel_tree=None,\n",
       "                                            predictor=None, random_state=None, ...))])</pre><b>In a Jupyter environment, please rerun this cell to show the HTML representation or trust the notebook. <br />On GitHub, the HTML representation is unable to render, please try loading this page with nbviewer.org.</b></div><div class=\"sk-container\" hidden><div class=\"sk-item sk-dashed-wrapped\"><div class=\"sk-label-container\"><div class=\"sk-label sk-toggleable\"><input class=\"sk-toggleable__control sk-hidden--visually\" id=\"sk-estimator-id-13\" type=\"checkbox\" ><label for=\"sk-estimator-id-13\" class=\"sk-toggleable__label sk-toggleable__label-arrow\">VotingClassifier</label><div class=\"sk-toggleable__content\"><pre>VotingClassifier(estimators=[(&#x27;logistic&#x27;, LogisticRegression()),\n",
       "                             (&#x27;svm&#x27;, LinearSVC()), (&#x27;nb&#x27;, MultinomialNB()),\n",
       "                             (&#x27;rf&#x27;, RandomForestClassifier()),\n",
       "                             (&#x27;xgb&#x27;,\n",
       "                              XGBClassifier(base_score=None, booster=None,\n",
       "                                            callbacks=None,\n",
       "                                            colsample_bylevel=None,\n",
       "                                            colsample_bynode=None,\n",
       "                                            colsample_bytree=None,\n",
       "                                            early_stopping_rounds=None,\n",
       "                                            enable_categorical=False,\n",
       "                                            eval_metric=None,\n",
       "                                            feature_typ...\n",
       "                                            gpu_id=None, grow_policy=None,\n",
       "                                            importance_type=None,\n",
       "                                            interaction_constraints=None,\n",
       "                                            learning_rate=None, max_bin=None,\n",
       "                                            max_cat_threshold=None,\n",
       "                                            max_cat_to_onehot=None,\n",
       "                                            max_delta_step=None, max_depth=None,\n",
       "                                            max_leaves=None,\n",
       "                                            min_child_weight=None, missing=nan,\n",
       "                                            monotone_constraints=None,\n",
       "                                            n_estimators=100, n_jobs=None,\n",
       "                                            num_parallel_tree=None,\n",
       "                                            predictor=None, random_state=None, ...))])</pre></div></div></div><div class=\"sk-parallel\"><div class=\"sk-parallel-item\"><div class=\"sk-item\"><div class=\"sk-label-container\"><div class=\"sk-label sk-toggleable\"><label>logistic</label></div></div><div class=\"sk-serial\"><div class=\"sk-item\"><div class=\"sk-estimator sk-toggleable\"><input class=\"sk-toggleable__control sk-hidden--visually\" id=\"sk-estimator-id-14\" type=\"checkbox\" ><label for=\"sk-estimator-id-14\" class=\"sk-toggleable__label sk-toggleable__label-arrow\">LogisticRegression</label><div class=\"sk-toggleable__content\"><pre>LogisticRegression()</pre></div></div></div></div></div></div><div class=\"sk-parallel-item\"><div class=\"sk-item\"><div class=\"sk-label-container\"><div class=\"sk-label sk-toggleable\"><label>svm</label></div></div><div class=\"sk-serial\"><div class=\"sk-item\"><div class=\"sk-estimator sk-toggleable\"><input class=\"sk-toggleable__control sk-hidden--visually\" id=\"sk-estimator-id-15\" type=\"checkbox\" ><label for=\"sk-estimator-id-15\" class=\"sk-toggleable__label sk-toggleable__label-arrow\">LinearSVC</label><div class=\"sk-toggleable__content\"><pre>LinearSVC()</pre></div></div></div></div></div></div><div class=\"sk-parallel-item\"><div class=\"sk-item\"><div class=\"sk-label-container\"><div class=\"sk-label sk-toggleable\"><label>nb</label></div></div><div class=\"sk-serial\"><div class=\"sk-item\"><div class=\"sk-estimator sk-toggleable\"><input class=\"sk-toggleable__control sk-hidden--visually\" id=\"sk-estimator-id-16\" type=\"checkbox\" ><label for=\"sk-estimator-id-16\" class=\"sk-toggleable__label sk-toggleable__label-arrow\">MultinomialNB</label><div class=\"sk-toggleable__content\"><pre>MultinomialNB()</pre></div></div></div></div></div></div><div class=\"sk-parallel-item\"><div class=\"sk-item\"><div class=\"sk-label-container\"><div class=\"sk-label sk-toggleable\"><label>rf</label></div></div><div class=\"sk-serial\"><div class=\"sk-item\"><div class=\"sk-estimator sk-toggleable\"><input class=\"sk-toggleable__control sk-hidden--visually\" id=\"sk-estimator-id-17\" type=\"checkbox\" ><label for=\"sk-estimator-id-17\" class=\"sk-toggleable__label sk-toggleable__label-arrow\">RandomForestClassifier</label><div class=\"sk-toggleable__content\"><pre>RandomForestClassifier()</pre></div></div></div></div></div></div><div class=\"sk-parallel-item\"><div class=\"sk-item\"><div class=\"sk-label-container\"><div class=\"sk-label sk-toggleable\"><label>xgb</label></div></div><div class=\"sk-serial\"><div class=\"sk-item\"><div class=\"sk-estimator sk-toggleable\"><input class=\"sk-toggleable__control sk-hidden--visually\" id=\"sk-estimator-id-18\" type=\"checkbox\" ><label for=\"sk-estimator-id-18\" class=\"sk-toggleable__label sk-toggleable__label-arrow\">XGBClassifier</label><div class=\"sk-toggleable__content\"><pre>XGBClassifier(base_score=None, booster=None, callbacks=None,\n",
       "              colsample_bylevel=None, colsample_bynode=None,\n",
       "              colsample_bytree=None, early_stopping_rounds=None,\n",
       "              enable_categorical=False, eval_metric=None, feature_types=None,\n",
       "              gamma=None, gpu_id=None, grow_policy=None, importance_type=None,\n",
       "              interaction_constraints=None, learning_rate=None, max_bin=None,\n",
       "              max_cat_threshold=None, max_cat_to_onehot=None,\n",
       "              max_delta_step=None, max_depth=None, max_leaves=None,\n",
       "              min_child_weight=None, missing=nan, monotone_constraints=None,\n",
       "              n_estimators=100, n_jobs=None, num_parallel_tree=None,\n",
       "              predictor=None, random_state=None, ...)</pre></div></div></div></div></div></div></div></div></div></div>"
      ],
      "text/plain": [
       "VotingClassifier(estimators=[('logistic', LogisticRegression()),\n",
       "                             ('svm', LinearSVC()), ('nb', MultinomialNB()),\n",
       "                             ('rf', RandomForestClassifier()),\n",
       "                             ('xgb',\n",
       "                              XGBClassifier(base_score=None, booster=None,\n",
       "                                            callbacks=None,\n",
       "                                            colsample_bylevel=None,\n",
       "                                            colsample_bynode=None,\n",
       "                                            colsample_bytree=None,\n",
       "                                            early_stopping_rounds=None,\n",
       "                                            enable_categorical=False,\n",
       "                                            eval_metric=None,\n",
       "                                            feature_typ...\n",
       "                                            gpu_id=None, grow_policy=None,\n",
       "                                            importance_type=None,\n",
       "                                            interaction_constraints=None,\n",
       "                                            learning_rate=None, max_bin=None,\n",
       "                                            max_cat_threshold=None,\n",
       "                                            max_cat_to_onehot=None,\n",
       "                                            max_delta_step=None, max_depth=None,\n",
       "                                            max_leaves=None,\n",
       "                                            min_child_weight=None, missing=nan,\n",
       "                                            monotone_constraints=None,\n",
       "                                            n_estimators=100, n_jobs=None,\n",
       "                                            num_parallel_tree=None,\n",
       "                                            predictor=None, random_state=None, ...))])"
      ]
     },
     "execution_count": 210,
     "metadata": {},
     "output_type": "execute_result"
    }
   ],
   "source": [
    "ensemble.fit(docs_tf, y_train)"
   ]
  },
  {
   "cell_type": "code",
   "execution_count": 211,
   "metadata": {},
   "outputs": [
    {
     "name": "stdout",
     "output_type": "stream",
     "text": [
      "Accuracy: 0.9333\n",
      "Precision: 0.9405\n",
      "Recall: 0.9333\n",
      "F1-score: 0.9331\n"
     ]
    }
   ],
   "source": [
    "\n",
    "# Model Evaluation\n",
    "from sklearn.metrics import f1_score\n",
    "from sklearn.metrics import precision_score, recall_score\n",
    "from sklearn.metrics import confusion_matrix\n",
    "from sklearn.metrics import classification_report\n",
    "\n",
    "y_pred = ensemble.predict(docs_test_tf)\n",
    "accuracy = accuracy_score(y_test, y_pred)\n",
    "precision = precision_score(y_test, y_pred, average='weighted')\n",
    "recall = recall_score(y_test, y_pred, average='weighted')\n",
    "f1 = f1_score(y_test, y_pred, average='weighted')\n",
    "\n",
    "print(f\"Accuracy: {accuracy:.4f}\")\n",
    "print(f\"Precision: {precision:.4f}\")\n",
    "print(f\"Recall: {recall:.4f}\")\n",
    "print(f\"F1-score: {f1:.4f}\")"
   ]
  },
  {
   "cell_type": "code",
   "execution_count": 212,
   "metadata": {},
   "outputs": [
    {
     "name": "stdout",
     "output_type": "stream",
     "text": [
      "Testing Accuracy score:  0.8020833333333334\n",
      "Testing Precision score:  0.805821165716999\n",
      "Testing Recall score:  0.8020833333333334\n",
      "Testing F1 score:  0.8002410641429155\n"
     ]
    }
   ],
   "source": [
    "test_pred = ensemble.predict(testX_tf)\n",
    "accuracy= accuracy_score(testy, test_pred)\n",
    "precision= precision_score(testy, test_pred, average='weighted')\n",
    "recall= recall_score(testy, test_pred, average='weighted')\n",
    "f1= f1_score(testy, test_pred, average='weighted')\n",
    "print(\"Testing Accuracy score: \",accuracy)\n",
    "print(\"Testing Precision score: \",precision)\n",
    "print(\"Testing Recall score: \",recall)\n",
    "print(\"Testing F1 score: \",f1)\n"
   ]
  },
  {
   "cell_type": "markdown",
   "metadata": {},
   "source": [
    "WITH COUNT VECTORIZER"
   ]
  },
  {
   "cell_type": "code",
   "execution_count": 244,
   "metadata": {},
   "outputs": [
    {
     "name": "stdout",
     "output_type": "stream",
     "text": [
      "0.8412179487179487\n"
     ]
    }
   ],
   "source": [
    "from sklearn.tree import DecisionTreeClassifier\n",
    "from sklearn.svm import SVC\n",
    "from sklearn.naive_bayes import GaussianNB\n",
    "from sklearn.ensemble import VotingClassifier\n",
    "import sklearn.model_selection as model_selection\n",
    "import xgboost as xgb\n",
    "kfold= model_selection.KFold(n_splits=10)\n",
    "\n",
    "# create the sub models\n",
    "estimators = []\n",
    "model1 = LogisticRegression()\n",
    "estimators.append(('logistic', model1))\n",
    "model2 = LinearSVC()\n",
    "estimators.append(('svm', model2))\n",
    "model3 = MultinomialNB()\n",
    "estimators.append(('nb', model3))\n",
    "model4 = RandomForestClassifier()\n",
    "estimators.append(('rf', model4))\n",
    "model5= xgb.XGBClassifier()\n",
    "estimators.append(('xgb', model5))\n",
    "\n",
    "# create the ensemble model\n",
    "ensemble = VotingClassifier(estimators)\n",
    "results = model_selection.cross_val_score(ensemble, docs_cv, y_train, cv=kfold)\n",
    "print(results.mean())\n"
   ]
  },
  {
   "cell_type": "code",
   "execution_count": 245,
   "metadata": {},
   "outputs": [
    {
     "data": {
      "text/html": [
       "<style>#sk-container-id-4 {color: black;}#sk-container-id-4 pre{padding: 0;}#sk-container-id-4 div.sk-toggleable {background-color: white;}#sk-container-id-4 label.sk-toggleable__label {cursor: pointer;display: block;width: 100%;margin-bottom: 0;padding: 0.3em;box-sizing: border-box;text-align: center;}#sk-container-id-4 label.sk-toggleable__label-arrow:before {content: \"▸\";float: left;margin-right: 0.25em;color: #696969;}#sk-container-id-4 label.sk-toggleable__label-arrow:hover:before {color: black;}#sk-container-id-4 div.sk-estimator:hover label.sk-toggleable__label-arrow:before {color: black;}#sk-container-id-4 div.sk-toggleable__content {max-height: 0;max-width: 0;overflow: hidden;text-align: left;background-color: #f0f8ff;}#sk-container-id-4 div.sk-toggleable__content pre {margin: 0.2em;color: black;border-radius: 0.25em;background-color: #f0f8ff;}#sk-container-id-4 input.sk-toggleable__control:checked~div.sk-toggleable__content {max-height: 200px;max-width: 100%;overflow: auto;}#sk-container-id-4 input.sk-toggleable__control:checked~label.sk-toggleable__label-arrow:before {content: \"▾\";}#sk-container-id-4 div.sk-estimator input.sk-toggleable__control:checked~label.sk-toggleable__label {background-color: #d4ebff;}#sk-container-id-4 div.sk-label input.sk-toggleable__control:checked~label.sk-toggleable__label {background-color: #d4ebff;}#sk-container-id-4 input.sk-hidden--visually {border: 0;clip: rect(1px 1px 1px 1px);clip: rect(1px, 1px, 1px, 1px);height: 1px;margin: -1px;overflow: hidden;padding: 0;position: absolute;width: 1px;}#sk-container-id-4 div.sk-estimator {font-family: monospace;background-color: #f0f8ff;border: 1px dotted black;border-radius: 0.25em;box-sizing: border-box;margin-bottom: 0.5em;}#sk-container-id-4 div.sk-estimator:hover {background-color: #d4ebff;}#sk-container-id-4 div.sk-parallel-item::after {content: \"\";width: 100%;border-bottom: 1px solid gray;flex-grow: 1;}#sk-container-id-4 div.sk-label:hover label.sk-toggleable__label {background-color: #d4ebff;}#sk-container-id-4 div.sk-serial::before {content: \"\";position: absolute;border-left: 1px solid gray;box-sizing: border-box;top: 0;bottom: 0;left: 50%;z-index: 0;}#sk-container-id-4 div.sk-serial {display: flex;flex-direction: column;align-items: center;background-color: white;padding-right: 0.2em;padding-left: 0.2em;position: relative;}#sk-container-id-4 div.sk-item {position: relative;z-index: 1;}#sk-container-id-4 div.sk-parallel {display: flex;align-items: stretch;justify-content: center;background-color: white;position: relative;}#sk-container-id-4 div.sk-item::before, #sk-container-id-4 div.sk-parallel-item::before {content: \"\";position: absolute;border-left: 1px solid gray;box-sizing: border-box;top: 0;bottom: 0;left: 50%;z-index: -1;}#sk-container-id-4 div.sk-parallel-item {display: flex;flex-direction: column;z-index: 1;position: relative;background-color: white;}#sk-container-id-4 div.sk-parallel-item:first-child::after {align-self: flex-end;width: 50%;}#sk-container-id-4 div.sk-parallel-item:last-child::after {align-self: flex-start;width: 50%;}#sk-container-id-4 div.sk-parallel-item:only-child::after {width: 0;}#sk-container-id-4 div.sk-dashed-wrapped {border: 1px dashed gray;margin: 0 0.4em 0.5em 0.4em;box-sizing: border-box;padding-bottom: 0.4em;background-color: white;}#sk-container-id-4 div.sk-label label {font-family: monospace;font-weight: bold;display: inline-block;line-height: 1.2em;}#sk-container-id-4 div.sk-label-container {text-align: center;}#sk-container-id-4 div.sk-container {/* jupyter's `normalize.less` sets `[hidden] { display: none; }` but bootstrap.min.css set `[hidden] { display: none !important; }` so we also need the `!important` here to be able to override the default hidden behavior on the sphinx rendered scikit-learn.org. See: https://github.com/scikit-learn/scikit-learn/issues/21755 */display: inline-block !important;position: relative;}#sk-container-id-4 div.sk-text-repr-fallback {display: none;}</style><div id=\"sk-container-id-4\" class=\"sk-top-container\"><div class=\"sk-text-repr-fallback\"><pre>VotingClassifier(estimators=[(&#x27;logistic&#x27;, LogisticRegression()),\n",
       "                             (&#x27;svm&#x27;, LinearSVC()), (&#x27;nb&#x27;, MultinomialNB()),\n",
       "                             (&#x27;rf&#x27;, RandomForestClassifier()),\n",
       "                             (&#x27;xgb&#x27;,\n",
       "                              XGBClassifier(base_score=None, booster=None,\n",
       "                                            callbacks=None,\n",
       "                                            colsample_bylevel=None,\n",
       "                                            colsample_bynode=None,\n",
       "                                            colsample_bytree=None,\n",
       "                                            early_stopping_rounds=None,\n",
       "                                            enable_categorical=False,\n",
       "                                            eval_metric=None,\n",
       "                                            feature_typ...\n",
       "                                            gpu_id=None, grow_policy=None,\n",
       "                                            importance_type=None,\n",
       "                                            interaction_constraints=None,\n",
       "                                            learning_rate=None, max_bin=None,\n",
       "                                            max_cat_threshold=None,\n",
       "                                            max_cat_to_onehot=None,\n",
       "                                            max_delta_step=None, max_depth=None,\n",
       "                                            max_leaves=None,\n",
       "                                            min_child_weight=None, missing=nan,\n",
       "                                            monotone_constraints=None,\n",
       "                                            n_estimators=100, n_jobs=None,\n",
       "                                            num_parallel_tree=None,\n",
       "                                            predictor=None, random_state=None, ...))])</pre><b>In a Jupyter environment, please rerun this cell to show the HTML representation or trust the notebook. <br />On GitHub, the HTML representation is unable to render, please try loading this page with nbviewer.org.</b></div><div class=\"sk-container\" hidden><div class=\"sk-item sk-dashed-wrapped\"><div class=\"sk-label-container\"><div class=\"sk-label sk-toggleable\"><input class=\"sk-toggleable__control sk-hidden--visually\" id=\"sk-estimator-id-19\" type=\"checkbox\" ><label for=\"sk-estimator-id-19\" class=\"sk-toggleable__label sk-toggleable__label-arrow\">VotingClassifier</label><div class=\"sk-toggleable__content\"><pre>VotingClassifier(estimators=[(&#x27;logistic&#x27;, LogisticRegression()),\n",
       "                             (&#x27;svm&#x27;, LinearSVC()), (&#x27;nb&#x27;, MultinomialNB()),\n",
       "                             (&#x27;rf&#x27;, RandomForestClassifier()),\n",
       "                             (&#x27;xgb&#x27;,\n",
       "                              XGBClassifier(base_score=None, booster=None,\n",
       "                                            callbacks=None,\n",
       "                                            colsample_bylevel=None,\n",
       "                                            colsample_bynode=None,\n",
       "                                            colsample_bytree=None,\n",
       "                                            early_stopping_rounds=None,\n",
       "                                            enable_categorical=False,\n",
       "                                            eval_metric=None,\n",
       "                                            feature_typ...\n",
       "                                            gpu_id=None, grow_policy=None,\n",
       "                                            importance_type=None,\n",
       "                                            interaction_constraints=None,\n",
       "                                            learning_rate=None, max_bin=None,\n",
       "                                            max_cat_threshold=None,\n",
       "                                            max_cat_to_onehot=None,\n",
       "                                            max_delta_step=None, max_depth=None,\n",
       "                                            max_leaves=None,\n",
       "                                            min_child_weight=None, missing=nan,\n",
       "                                            monotone_constraints=None,\n",
       "                                            n_estimators=100, n_jobs=None,\n",
       "                                            num_parallel_tree=None,\n",
       "                                            predictor=None, random_state=None, ...))])</pre></div></div></div><div class=\"sk-parallel\"><div class=\"sk-parallel-item\"><div class=\"sk-item\"><div class=\"sk-label-container\"><div class=\"sk-label sk-toggleable\"><label>logistic</label></div></div><div class=\"sk-serial\"><div class=\"sk-item\"><div class=\"sk-estimator sk-toggleable\"><input class=\"sk-toggleable__control sk-hidden--visually\" id=\"sk-estimator-id-20\" type=\"checkbox\" ><label for=\"sk-estimator-id-20\" class=\"sk-toggleable__label sk-toggleable__label-arrow\">LogisticRegression</label><div class=\"sk-toggleable__content\"><pre>LogisticRegression()</pre></div></div></div></div></div></div><div class=\"sk-parallel-item\"><div class=\"sk-item\"><div class=\"sk-label-container\"><div class=\"sk-label sk-toggleable\"><label>svm</label></div></div><div class=\"sk-serial\"><div class=\"sk-item\"><div class=\"sk-estimator sk-toggleable\"><input class=\"sk-toggleable__control sk-hidden--visually\" id=\"sk-estimator-id-21\" type=\"checkbox\" ><label for=\"sk-estimator-id-21\" class=\"sk-toggleable__label sk-toggleable__label-arrow\">LinearSVC</label><div class=\"sk-toggleable__content\"><pre>LinearSVC()</pre></div></div></div></div></div></div><div class=\"sk-parallel-item\"><div class=\"sk-item\"><div class=\"sk-label-container\"><div class=\"sk-label sk-toggleable\"><label>nb</label></div></div><div class=\"sk-serial\"><div class=\"sk-item\"><div class=\"sk-estimator sk-toggleable\"><input class=\"sk-toggleable__control sk-hidden--visually\" id=\"sk-estimator-id-22\" type=\"checkbox\" ><label for=\"sk-estimator-id-22\" class=\"sk-toggleable__label sk-toggleable__label-arrow\">MultinomialNB</label><div class=\"sk-toggleable__content\"><pre>MultinomialNB()</pre></div></div></div></div></div></div><div class=\"sk-parallel-item\"><div class=\"sk-item\"><div class=\"sk-label-container\"><div class=\"sk-label sk-toggleable\"><label>rf</label></div></div><div class=\"sk-serial\"><div class=\"sk-item\"><div class=\"sk-estimator sk-toggleable\"><input class=\"sk-toggleable__control sk-hidden--visually\" id=\"sk-estimator-id-23\" type=\"checkbox\" ><label for=\"sk-estimator-id-23\" class=\"sk-toggleable__label sk-toggleable__label-arrow\">RandomForestClassifier</label><div class=\"sk-toggleable__content\"><pre>RandomForestClassifier()</pre></div></div></div></div></div></div><div class=\"sk-parallel-item\"><div class=\"sk-item\"><div class=\"sk-label-container\"><div class=\"sk-label sk-toggleable\"><label>xgb</label></div></div><div class=\"sk-serial\"><div class=\"sk-item\"><div class=\"sk-estimator sk-toggleable\"><input class=\"sk-toggleable__control sk-hidden--visually\" id=\"sk-estimator-id-24\" type=\"checkbox\" ><label for=\"sk-estimator-id-24\" class=\"sk-toggleable__label sk-toggleable__label-arrow\">XGBClassifier</label><div class=\"sk-toggleable__content\"><pre>XGBClassifier(base_score=None, booster=None, callbacks=None,\n",
       "              colsample_bylevel=None, colsample_bynode=None,\n",
       "              colsample_bytree=None, early_stopping_rounds=None,\n",
       "              enable_categorical=False, eval_metric=None, feature_types=None,\n",
       "              gamma=None, gpu_id=None, grow_policy=None, importance_type=None,\n",
       "              interaction_constraints=None, learning_rate=None, max_bin=None,\n",
       "              max_cat_threshold=None, max_cat_to_onehot=None,\n",
       "              max_delta_step=None, max_depth=None, max_leaves=None,\n",
       "              min_child_weight=None, missing=nan, monotone_constraints=None,\n",
       "              n_estimators=100, n_jobs=None, num_parallel_tree=None,\n",
       "              predictor=None, random_state=None, ...)</pre></div></div></div></div></div></div></div></div></div></div>"
      ],
      "text/plain": [
       "VotingClassifier(estimators=[('logistic', LogisticRegression()),\n",
       "                             ('svm', LinearSVC()), ('nb', MultinomialNB()),\n",
       "                             ('rf', RandomForestClassifier()),\n",
       "                             ('xgb',\n",
       "                              XGBClassifier(base_score=None, booster=None,\n",
       "                                            callbacks=None,\n",
       "                                            colsample_bylevel=None,\n",
       "                                            colsample_bynode=None,\n",
       "                                            colsample_bytree=None,\n",
       "                                            early_stopping_rounds=None,\n",
       "                                            enable_categorical=False,\n",
       "                                            eval_metric=None,\n",
       "                                            feature_typ...\n",
       "                                            gpu_id=None, grow_policy=None,\n",
       "                                            importance_type=None,\n",
       "                                            interaction_constraints=None,\n",
       "                                            learning_rate=None, max_bin=None,\n",
       "                                            max_cat_threshold=None,\n",
       "                                            max_cat_to_onehot=None,\n",
       "                                            max_delta_step=None, max_depth=None,\n",
       "                                            max_leaves=None,\n",
       "                                            min_child_weight=None, missing=nan,\n",
       "                                            monotone_constraints=None,\n",
       "                                            n_estimators=100, n_jobs=None,\n",
       "                                            num_parallel_tree=None,\n",
       "                                            predictor=None, random_state=None, ...))])"
      ]
     },
     "execution_count": 245,
     "metadata": {},
     "output_type": "execute_result"
    }
   ],
   "source": [
    "ensemble.fit(docs_cv, y_train)"
   ]
  },
  {
   "cell_type": "code",
   "execution_count": 246,
   "metadata": {},
   "outputs": [
    {
     "name": "stdout",
     "output_type": "stream",
     "text": [
      "Accuracy: 0.9333\n",
      "Precision: 0.9405\n",
      "Recall: 0.9333\n",
      "F1-score: 0.9331\n"
     ]
    }
   ],
   "source": [
    "\n",
    "# Model Evaluation\n",
    "from sklearn.metrics import f1_score\n",
    "from sklearn.metrics import precision_score, recall_score\n",
    "from sklearn.metrics import confusion_matrix\n",
    "from sklearn.metrics import classification_report\n",
    "\n",
    "y_pred = ensemble.predict(docs_test_cv)\n",
    "accuracy = accuracy_score(y_test, y_pred)\n",
    "precision = precision_score(y_test, y_pred, average='weighted')\n",
    "recall = recall_score(y_test, y_pred, average='weighted')\n",
    "f1 = f1_score(y_test, y_pred, average='weighted')\n",
    "\n",
    "print(f\"Accuracy: {accuracy:.4f}\")\n",
    "print(f\"Precision: {precision:.4f}\")\n",
    "print(f\"Recall: {recall:.4f}\")\n",
    "print(f\"F1-score: {f1:.4f}\")"
   ]
  },
  {
   "cell_type": "code",
   "execution_count": 247,
   "metadata": {},
   "outputs": [
    {
     "name": "stdout",
     "output_type": "stream",
     "text": [
      "Testing Accuracy score:  0.78125\n",
      "Testing Precision score:  0.7852254689754689\n",
      "Testing Recall score:  0.78125\n",
      "Testing F1 score:  0.7807870370370371\n"
     ]
    }
   ],
   "source": [
    "test_pred = ensemble.predict(testX_cv)\n",
    "accuracy= accuracy_score(testy, test_pred)\n",
    "precision= precision_score(testy, test_pred, average='weighted')\n",
    "recall= recall_score(testy, test_pred, average='weighted')\n",
    "f1= f1_score(testy, test_pred, average='weighted')\n",
    "print(\"Testing Accuracy score: \",accuracy)\n",
    "print(\"Testing Precision score: \",precision)\n",
    "print(\"Testing Recall score: \",recall)\n",
    "print(\"Testing F1 score: \",f1)\n"
   ]
  },
  {
   "cell_type": "markdown",
   "metadata": {},
   "source": [
    "XG BOOST CLASSIFIER WITH TF-IDF + COUNT VECTORIZER"
   ]
  },
  {
   "cell_type": "code",
   "execution_count": 213,
   "metadata": {},
   "outputs": [
    {
     "name": "stdout",
     "output_type": "stream",
     "text": [
      "Accuracy: 0.8444\n",
      "Precision: 0.8492\n",
      "Recall: 0.8444\n",
      "F1-score: 0.8415\n"
     ]
    }
   ],
   "source": [
    "#IMPORT xgboost\n",
    "from sklearn.metrics import f1_score\n",
    "import xgboost as xgb\n",
    "\n",
    "# XGBoost Classifier\n",
    "model = xgb.XGBClassifier()\n",
    "model.fit(docs_tf, y_train)\n",
    "\n",
    "# Model Evaluation\n",
    "y_pred = model.predict(docs_test_tf)\n",
    "accuracy = accuracy_score(y_test, y_pred)\n",
    "precision = precision_score(y_test, y_pred, average='weighted')\n",
    "recall = recall_score(y_test, y_pred, average='weighted')\n",
    "f1 = f1_score(y_test, y_pred, average='weighted')\n",
    "\n",
    "print(f\"Accuracy: {accuracy:.4f}\")\n",
    "print(f\"Precision: {precision:.4f}\")\n",
    "print(f\"Recall: {recall:.4f}\")\n",
    "print(f\"F1-score: {f1:.4f}\")\n",
    "\n"
   ]
  },
  {
   "cell_type": "code",
   "execution_count": 214,
   "metadata": {},
   "outputs": [
    {
     "name": "stdout",
     "output_type": "stream",
     "text": [
      "Testing Accuracy score:  0.7291666666666666\n",
      "Testing Precision score:  0.761609172654569\n",
      "Testing Recall score:  0.7291666666666666\n",
      "Testing F1 score:  0.7330194805194804\n"
     ]
    }
   ],
   "source": [
    "test_pred = model.predict(testX_tf)\n",
    "accuracy= accuracy_score(testy, test_pred)\n",
    "precision= precision_score(testy, test_pred, average='weighted')\n",
    "recall= recall_score(testy, test_pred, average='weighted')\n",
    "f1= f1_score(testy, test_pred, average='weighted')\n",
    "print(\"Testing Accuracy score: \",accuracy)\n",
    "print(\"Testing Precision score: \",precision)\n",
    "print(\"Testing Recall score: \",recall)\n",
    "print(\"Testing F1 score: \",f1)\n"
   ]
  },
  {
   "cell_type": "markdown",
   "metadata": {},
   "source": [
    "WITH COUNT VECTORIZER"
   ]
  },
  {
   "cell_type": "code",
   "execution_count": 248,
   "metadata": {},
   "outputs": [
    {
     "name": "stdout",
     "output_type": "stream",
     "text": [
      "Accuracy: 0.8667\n",
      "Precision: 0.8756\n",
      "Recall: 0.8667\n",
      "F1-score: 0.8689\n"
     ]
    }
   ],
   "source": [
    "#IMPORT xgboost\n",
    "from sklearn.metrics import f1_score\n",
    "import xgboost as xgb\n",
    "\n",
    "# XGBoost Classifier\n",
    "model = xgb.XGBClassifier()\n",
    "model.fit(docs_cv, y_train)\n",
    "\n",
    "# Model Evaluation\n",
    "y_pred = model.predict(docs_test_cv)\n",
    "accuracy = accuracy_score(y_test, y_pred)\n",
    "precision = precision_score(y_test, y_pred, average='weighted')\n",
    "recall = recall_score(y_test, y_pred, average='weighted')\n",
    "f1 = f1_score(y_test, y_pred, average='weighted')\n",
    "\n",
    "print(f\"Accuracy: {accuracy:.4f}\")\n",
    "print(f\"Precision: {precision:.4f}\")\n",
    "print(f\"Recall: {recall:.4f}\")\n",
    "print(f\"F1-score: {f1:.4f}\")\n",
    "\n"
   ]
  },
  {
   "cell_type": "code",
   "execution_count": 249,
   "metadata": {},
   "outputs": [
    {
     "name": "stdout",
     "output_type": "stream",
     "text": [
      "Testing Accuracy score:  0.7291666666666666\n",
      "Testing Precision score:  0.7571350020946794\n",
      "Testing Recall score:  0.7291666666666666\n",
      "Testing F1 score:  0.7347643173122907\n"
     ]
    }
   ],
   "source": [
    "test_pred = model.predict(testX_cv)\n",
    "accuracy= accuracy_score(testy, test_pred)\n",
    "precision= precision_score(testy, test_pred, average='weighted')\n",
    "recall= recall_score(testy, test_pred, average='weighted')\n",
    "f1= f1_score(testy, test_pred, average='weighted')\n",
    "print(\"Testing Accuracy score: \",accuracy)\n",
    "print(\"Testing Precision score: \",precision)\n",
    "print(\"Testing Recall score: \",recall)\n",
    "print(\"Testing F1 score: \",f1)\n"
   ]
  },
  {
   "cell_type": "markdown",
   "metadata": {},
   "source": [
    "-- **BEST MODEL**"
   ]
  },
  {
   "cell_type": "markdown",
   "metadata": {},
   "source": [
    "vc with tf-idf"
   ]
  },
  {
   "cell_type": "code",
   "execution_count": 215,
   "metadata": {},
   "outputs": [
    {
     "name": "stdout",
     "output_type": "stream",
     "text": [
      "Training Accuracy score: 0.9949622166246851\n",
      "Testing Accuracy score: 0.8888888888888888\n"
     ]
    }
   ],
   "source": [
    "from sklearn.ensemble import VotingClassifier\n",
    "\n",
    "classifiers = [('Decision Tree', dt),\n",
    "               ('Logistic Regression', lr),\n",
    "                ('Naive Bayes', gnb)\n",
    "              ]\n",
    "vc = VotingClassifier(estimators=classifiers)\n",
    "# Fit 'vc' to the traing set and predict test set labels\n",
    "vc.fit(docs_tf, y_train)\n",
    "y_pred_train=vc.predict(docs_tf)\n",
    "y_pred_test = vc.predict(docs_test_tf)\n",
    "print(\"Training Accuracy score:\",accuracy_score(y_train, y_pred_train))\n",
    "print(\"Testing Accuracy score:\",accuracy_score(y_test, y_pred_test))\n"
   ]
  },
  {
   "cell_type": "code",
   "execution_count": 216,
   "metadata": {},
   "outputs": [
    {
     "name": "stdout",
     "output_type": "stream",
     "text": [
      "\n",
      "Testing Accuracy score: 0.78125\n"
     ]
    }
   ],
   "source": [
    "test_pred = vc.predict(testX_tf)\n",
    "print(\"\\nTesting Accuracy score:\",accuracy_score(testy, test_pred))"
   ]
  },
  {
   "cell_type": "code",
   "execution_count": 161,
   "metadata": {},
   "outputs": [
    {
     "data": {
      "text/plain": [
       "array([0, 3, 3, 3, 0, 0, 2, 3, 0, 3, 2, 0, 3, 1, 1, 1, 2, 1, 1, 2, 3, 0,\n",
       "       0, 3, 1, 0, 2, 0, 4, 0, 4, 1, 3, 0, 4, 3, 0, 4, 0, 4, 3, 0, 0, 1,\n",
       "       1, 3, 3, 3, 1, 1, 0, 1, 3, 4, 0, 1, 0, 3, 0, 1, 3, 0, 0, 1, 0, 1,\n",
       "       2, 0, 0, 4, 2, 3, 3, 1, 1, 3, 2, 0, 3, 0, 0, 0, 2, 4, 1, 1, 1, 0,\n",
       "       2, 0, 1, 3, 2, 1, 0, 0], dtype=int64)"
      ]
     },
     "execution_count": 161,
     "metadata": {},
     "output_type": "execute_result"
    }
   ],
   "source": [
    "test_pred"
   ]
  },
  {
   "cell_type": "code",
   "execution_count": 162,
   "metadata": {},
   "outputs": [
    {
     "data": {
      "text/plain": [
       "array([[24,  2,  2,  1,  0],\n",
       "       [ 0, 18,  0,  1,  0],\n",
       "       [ 1,  0,  7,  1,  1],\n",
       "       [ 7,  3,  0, 19,  0],\n",
       "       [ 0,  0,  2,  0,  7]], dtype=int64)"
      ]
     },
     "execution_count": 162,
     "metadata": {},
     "output_type": "execute_result"
    }
   ],
   "source": [
    "confusion_matrix(testy, test_pred)"
   ]
  },
  {
   "cell_type": "code",
   "execution_count": 32,
   "metadata": {},
   "outputs": [],
   "source": [
    "import pickle\n",
    "\n",
    "# save the iris classification model as a pickle file\n",
    "model_pkl_file = \"model.pkl\"  \n",
    "\n",
    "with open(model_pkl_file, 'wb') as file:  \n",
    "    pickle.dump(vc, file)"
   ]
  },
  {
   "cell_type": "code",
   "execution_count": 33,
   "metadata": {},
   "outputs": [
    {
     "name": "stdout",
     "output_type": "stream",
     "text": [
      "              precision    recall  f1-score   support\n",
      "\n",
      "           0       0.84      0.90      0.87        29\n",
      "           1       0.82      0.95      0.88        19\n",
      "           2       0.78      0.70      0.74        10\n",
      "           3       0.88      0.76      0.81        29\n",
      "           4       0.89      0.89      0.89         9\n",
      "\n",
      "    accuracy                           0.84        96\n",
      "   macro avg       0.84      0.84      0.84        96\n",
      "weighted avg       0.85      0.84      0.84        96\n",
      "\n"
     ]
    }
   ],
   "source": [
    "# load model from pickle file\n",
    "with open(model_pkl_file, 'rb') as file:  \n",
    "    model = pickle.load(file)\n",
    "\n",
    "# evaluate model \n",
    "y_predict = model.predict(testX_tf)\n",
    "\n",
    "# check results\n",
    "print(classification_report(testy, y_predict)) "
   ]
  },
  {
   "cell_type": "code",
   "execution_count": 34,
   "metadata": {},
   "outputs": [
    {
     "name": "stdout",
     "output_type": "stream",
     "text": [
      "                                               hindi complaint\n",
      "0  करनाल के एक रेस्टोरेंट में अनजान व्यक्तियों ने...          \n",
      "1  जय प्रकाश ने पड़ोस में रहने वाली नाबालिग को बह...          \n"
     ]
    }
   ],
   "source": [
    "complaint= {'hindi': ['करनाल के एक रेस्टोरेंट में अनजान व्यक्तियों ने दिनभर की कमाई चुरा ली।', 'जय प्रकाश ने पड़ोस में रहने वाली नाबालिग को बहला फुसला कर दुष्कर्म किया। यहां तक कि पीड़िता को डरा धमका कर कई महीनों तक जबरन संबंध बनाता रहा। मंगलवार को पीड़िता को पेट में दर्द होने पर जब डॉक्टर के पास ले जाया गया, तो पता चला कि वह चार माह से गर्भवती है। परिवार के लोगों ने उससे पूछताछ की तो जानकारी मिली कि आरोपी ने दुष्कर्म किया था। वह डर से बता नहीं पा रही थी।']}\n",
    "complaint['complaint'] = ''\n",
    "complaint = pd.DataFrame(complaint)\n",
    "print(complaint)\n"
   ]
  },
  {
   "cell_type": "code",
   "execution_count": 35,
   "metadata": {},
   "outputs": [],
   "source": [
    "from googletrans import Translator\n",
    "\n",
    "complaint['complaint'] = complaint['hindi'].apply(lambda x: Translator().translate(x, dest='en').text)\n"
   ]
  },
  {
   "cell_type": "code",
   "execution_count": 36,
   "metadata": {},
   "outputs": [
    {
     "data": {
      "text/html": [
       "<div>\n",
       "<style scoped>\n",
       "    .dataframe tbody tr th:only-of-type {\n",
       "        vertical-align: middle;\n",
       "    }\n",
       "\n",
       "    .dataframe tbody tr th {\n",
       "        vertical-align: top;\n",
       "    }\n",
       "\n",
       "    .dataframe thead th {\n",
       "        text-align: right;\n",
       "    }\n",
       "</style>\n",
       "<table border=\"1\" class=\"dataframe\">\n",
       "  <thead>\n",
       "    <tr style=\"text-align: right;\">\n",
       "      <th></th>\n",
       "      <th>hindi</th>\n",
       "      <th>complaint</th>\n",
       "    </tr>\n",
       "  </thead>\n",
       "  <tbody>\n",
       "    <tr>\n",
       "      <th>0</th>\n",
       "      <td>करनाल के एक रेस्टोरेंट में अनजान व्यक्तियों ने...</td>\n",
       "      <td>Unknown persons stole the day's earnings from ...</td>\n",
       "    </tr>\n",
       "    <tr>\n",
       "      <th>1</th>\n",
       "      <td>जय प्रकाश ने पड़ोस में रहने वाली नाबालिग को बह...</td>\n",
       "      <td>Jai Prakash raped a minor living in the neighb...</td>\n",
       "    </tr>\n",
       "  </tbody>\n",
       "</table>\n",
       "</div>"
      ],
      "text/plain": [
       "                                               hindi  \\\n",
       "0  करनाल के एक रेस्टोरेंट में अनजान व्यक्तियों ने...   \n",
       "1  जय प्रकाश ने पड़ोस में रहने वाली नाबालिग को बह...   \n",
       "\n",
       "                                           complaint  \n",
       "0  Unknown persons stole the day's earnings from ...  \n",
       "1  Jai Prakash raped a minor living in the neighb...  "
      ]
     },
     "execution_count": 36,
     "metadata": {},
     "output_type": "execute_result"
    }
   ],
   "source": [
    "complaint"
   ]
  },
  {
   "cell_type": "code",
   "execution_count": 37,
   "metadata": {},
   "outputs": [
    {
     "name": "stdout",
     "output_type": "stream",
     "text": [
      "[[0. 0. 0. ... 0. 0. 0.]\n",
      " [0. 0. 0. ... 0. 0. 0.]]\n"
     ]
    }
   ],
   "source": [
    "\n",
    "complaint['complaint']= complaint['complaint'].apply(clean)\n",
    "docs = list(complaint['complaint'])\n",
    "tfidf_vectorizer_vectors = tfidf_vectorizer.transform(docs)\n",
    "docs = tfidf_vectorizer_vectors.toarray()\n",
    "print(docs)\n"
   ]
  },
  {
   "cell_type": "code",
   "execution_count": 38,
   "metadata": {},
   "outputs": [
    {
     "data": {
      "text/plain": [
       "0          unknown persons stole s earnings restaurant\n",
       "1    jai prakash raped minor living neighborhood se...\n",
       "Name: complaint, dtype: object"
      ]
     },
     "execution_count": 38,
     "metadata": {},
     "output_type": "execute_result"
    }
   ],
   "source": [
    "complaint['complaint']"
   ]
  },
  {
   "cell_type": "code",
   "execution_count": 39,
   "metadata": {},
   "outputs": [],
   "source": [
    "complaint['category'] = model.predict(docs)"
   ]
  },
  {
   "cell_type": "code",
   "execution_count": 40,
   "metadata": {},
   "outputs": [
    {
     "data": {
      "text/html": [
       "<div>\n",
       "<style scoped>\n",
       "    .dataframe tbody tr th:only-of-type {\n",
       "        vertical-align: middle;\n",
       "    }\n",
       "\n",
       "    .dataframe tbody tr th {\n",
       "        vertical-align: top;\n",
       "    }\n",
       "\n",
       "    .dataframe thead th {\n",
       "        text-align: right;\n",
       "    }\n",
       "</style>\n",
       "<table border=\"1\" class=\"dataframe\">\n",
       "  <thead>\n",
       "    <tr style=\"text-align: right;\">\n",
       "      <th></th>\n",
       "      <th>hindi</th>\n",
       "      <th>complaint</th>\n",
       "      <th>category</th>\n",
       "    </tr>\n",
       "  </thead>\n",
       "  <tbody>\n",
       "    <tr>\n",
       "      <th>0</th>\n",
       "      <td>करनाल के एक रेस्टोरेंट में अनजान व्यक्तियों ने...</td>\n",
       "      <td>unknown persons stole s earnings restaurant</td>\n",
       "      <td>0</td>\n",
       "    </tr>\n",
       "    <tr>\n",
       "      <th>1</th>\n",
       "      <td>जय प्रकाश ने पड़ोस में रहने वाली नाबालिग को बह...</td>\n",
       "      <td>jai prakash raped minor living neighborhood se...</td>\n",
       "      <td>4</td>\n",
       "    </tr>\n",
       "  </tbody>\n",
       "</table>\n",
       "</div>"
      ],
      "text/plain": [
       "                                               hindi  \\\n",
       "0  करनाल के एक रेस्टोरेंट में अनजान व्यक्तियों ने...   \n",
       "1  जय प्रकाश ने पड़ोस में रहने वाली नाबालिग को बह...   \n",
       "\n",
       "                                           complaint  category  \n",
       "0        unknown persons stole s earnings restaurant         0  \n",
       "1  jai prakash raped minor living neighborhood se...         4  "
      ]
     },
     "execution_count": 40,
     "metadata": {},
     "output_type": "execute_result"
    }
   ],
   "source": [
    "complaint"
   ]
  },
  {
   "cell_type": "code",
   "execution_count": 62,
   "metadata": {},
   "outputs": [
    {
     "name": "stdout",
     "output_type": "stream",
     "text": [
      "[0.         0.55417703 0.83239883]\n"
     ]
    },
    {
     "data": {
      "text/plain": [
       "array([0.])"
      ]
     },
     "execution_count": 62,
     "metadata": {},
     "output_type": "execute_result"
    }
   ],
   "source": [
    "#print unique values of textX[0] \n",
    "print(np.unique(testX_tf[1]))\n",
    "np.unique(docs[1])"
   ]
  },
  {
   "cell_type": "code",
   "execution_count": 64,
   "metadata": {},
   "outputs": [
    {
     "data": {
      "text/html": [
       "<div>\n",
       "<style scoped>\n",
       "    .dataframe tbody tr th:only-of-type {\n",
       "        vertical-align: middle;\n",
       "    }\n",
       "\n",
       "    .dataframe tbody tr th {\n",
       "        vertical-align: top;\n",
       "    }\n",
       "\n",
       "    .dataframe thead th {\n",
       "        text-align: right;\n",
       "    }\n",
       "</style>\n",
       "<table border=\"1\" class=\"dataframe\">\n",
       "  <thead>\n",
       "    <tr style=\"text-align: right;\">\n",
       "      <th></th>\n",
       "      <th>complaint</th>\n",
       "    </tr>\n",
       "  </thead>\n",
       "  <tbody>\n",
       "    <tr>\n",
       "      <th>0</th>\n",
       "      <td>करनाल के एक रेस्टोरेंट में अनजान व्यक्तियों ने...</td>\n",
       "    </tr>\n",
       "    <tr>\n",
       "      <th>1</th>\n",
       "      <td>जय प्रकाश ने पड़ोस में रहने वाली नाबालिग को बह...</td>\n",
       "    </tr>\n",
       "  </tbody>\n",
       "</table>\n",
       "</div>"
      ],
      "text/plain": [
       "                                           complaint\n",
       "0  करनाल के एक रेस्टोरेंट में अनजान व्यक्तियों ने...\n",
       "1  जय प्रकाश ने पड़ोस में रहने वाली नाबालिग को बह..."
      ]
     },
     "execution_count": 64,
     "metadata": {},
     "output_type": "execute_result"
    }
   ],
   "source": [
    "print(test['complaint'][0])\n",
    "print(complaint)\n"
   ]
  },
  {
   "cell_type": "code",
   "execution_count": 39,
   "metadata": {},
   "outputs": [
    {
     "name": "stdout",
     "output_type": "stream",
     "text": [
      "[3 3]\n"
     ]
    }
   ],
   "source": [
    "prediction= vc.predict(complaint)\n",
    "print(prediction)\n"
   ]
  }
 ],
 "metadata": {
  "kernelspec": {
   "display_name": "Python 3",
   "language": "python",
   "name": "python3"
  },
  "language_info": {
   "codemirror_mode": {
    "name": "ipython",
    "version": 3
   },
   "file_extension": ".py",
   "mimetype": "text/x-python",
   "name": "python",
   "nbconvert_exporter": "python",
   "pygments_lexer": "ipython3",
   "version": "3.11.3"
  },
  "orig_nbformat": 4
 },
 "nbformat": 4,
 "nbformat_minor": 2
}
