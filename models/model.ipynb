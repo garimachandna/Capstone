{
 "cells": [
  {
   "cell_type": "code",
   "execution_count": 1,
   "metadata": {},
   "outputs": [],
   "source": [
    "import pandas as pd\n",
    "from googletrans import Translator\n",
    "import numpy as np\n",
    "import pandas as pd \n",
    "\n",
    "import matplotlib as mpl \n",
    "import matplotlib.cm as cm \n",
    "import matplotlib.pyplot as plt \n",
    "import plotly.graph_objects as go\n",
    "import seaborn as sns\n",
    "\n",
    "from sklearn.feature_extraction.text import CountVectorizer\n",
    "from sklearn.feature_extraction import _stop_words\n",
    "from nltk.stem import WordNetLemmatizer\n",
    "from sklearn.feature_extraction.text import TfidfVectorizer \n",
    "\n",
    "import string\n",
    "import re\n",
    "\n",
    "from sklearn.naive_bayes import MultinomialNB\n",
    "from sklearn.naive_bayes import GaussianNB\n",
    "from sklearn.linear_model import LogisticRegression\n",
    "from sklearn.svm import LinearSVC\n",
    "\n",
    "from sklearn.metrics import accuracy_score\n",
    "import sklearn.metrics as metrics\n",
    "from sklearn.model_selection import train_test_split\n",
    "from sklearn.metrics import confusion_matrix \n",
    "from sklearn.metrics import classification_report\n",
    "from sklearn import metrics\n",
    "\n",
    "from time import time\n",
    "\n",
    "import warnings\n",
    "warnings.filterwarnings(\"ignore\")"
   ]
  },
  {
   "cell_type": "code",
   "execution_count": 2,
   "metadata": {},
   "outputs": [
    {
     "name": "stdout",
     "output_type": "stream",
     "text": [
      "                                               hindi  complaint category\n",
      "0  सोनीपत में दो बच्चों पांच साल के लड़के और दो स...        NaN   kidnap\n",
      "1  पंचकुला में जहां शादी की पूर्व संध्या पर दुल्ह...        NaN   murder\n",
      "2  सोनीपत से अपने रिश्तेदार के सात वर्षीय बच्चे क...        NaN   kidnap\n",
      "3  थानेसर मे शादी के महज छह महीने बाद ही एक नवविव...        NaN   murder\n",
      "4  मवार को डकैती के मामलों में वांछित दो लोगों को...        NaN    theft\n",
      "                                               hindi  complaint category\n",
      "0  करनाल के एक रेस्टोरेंट में अनजान व्यक्तियों ने...        NaN    theft\n",
      "1  अम्बाला के एक नगर निगम कर्मचारी को उनके आवास क...        NaN   murder\n",
      "2  सोनीपत में एक युवक अपनी प्रेमिका से मिलने पहुं...        NaN   murder\n",
      "3  हिसार में एक दलित व्यक्ति को उसके घर पर हत्या ...        NaN   murder\n",
      "4  अम्बाला के एक गाँव में किसानों की खेत से फसल च...        NaN    theft\n"
     ]
    }
   ],
   "source": [
    "# translating the data into english\n",
    "# using google translate api\n",
    "df = pd.read_csv(\"../data/data.csv\")\n",
    "print(df.head())\n",
    "test = pd.read_csv(\"../data/test.csv\")\n",
    "print(test.head())"
   ]
  },
  {
   "cell_type": "code",
   "execution_count": 80,
   "metadata": {},
   "outputs": [],
   "source": [
    "def translate(data):\n",
    "    translator = Translator()\n",
    "    translations = {}\n",
    "        #print(column)\n",
    "       # print(unique)\n",
    "    for element in data['hindi']:\n",
    "            # print(element)\n",
    "            translations[element] = translator.translate(element).text\n",
    "    data['complaint'] = data['hindi'].map(translations)\n",
    "    return data"
   ]
  },
  {
   "cell_type": "code",
   "execution_count": 92,
   "metadata": {},
   "outputs": [
    {
     "name": "stdout",
     "output_type": "stream",
     "text": [
      "                                               hindi  \\\n",
      "0  सोनीपत में दो बच्चों पांच साल के लड़के और दो स...   \n",
      "1  पंचकुला में जहां शादी की पूर्व संध्या पर दुल्ह...   \n",
      "2  सोनीपत से अपने रिश्तेदार के सात वर्षीय बच्चे क...   \n",
      "3  थानेसर मे शादी के महज छह महीने बाद ही एक नवविव...   \n",
      "4  मवार को डकैती के मामलों में वांछित दो लोगों को...   \n",
      "\n",
      "                                           complaint  category  \n",
      "0  Two children, a five-year-old boy and a two-ye...         2  \n",
      "1  In Panchkula, where the bride's neighbor alleg...         3  \n",
      "2  After kidnapping the seven-year-old child of h...         2  \n",
      "3  A newlywed hanged himself just six months afte...         3  \n",
      "4  Two men wanted in robbery cases have been arre...         0  \n",
      "                                               hindi  \\\n",
      "0  करनाल के एक रेस्टोरेंट में अनजान व्यक्तियों ने...   \n",
      "1  अम्बाला के एक नगर निगम कर्मचारी को उनके आवास क...   \n",
      "2  सोनीपत में एक युवक अपनी प्रेमिका से मिलने पहुं...   \n",
      "3  हिसार में एक दलित व्यक्ति को उसके घर पर हत्या ...   \n",
      "4  अम्बाला के एक गाँव में किसानों की खेत से फसल च...   \n",
      "\n",
      "                                           complaint  category  \n",
      "0  Unknown persons stole the day's earnings from ...         0  \n",
      "1  A Municipal Corporation employee of Ambala was...         3  \n",
      "2  A young man came to meet his girlfriend in Son...         3  \n",
      "3  A Dalit man was found murdered at his home in ...         3  \n",
      "4  Crops were stolen from farmers' fields in a vi...         0  \n"
     ]
    }
   ],
   "source": [
    "df= translate(df)\n",
    "test = translate(test)\n",
    "\n",
    "print(df.head())\n",
    "print(test.head())\n"
   ]
  },
  {
   "cell_type": "code",
   "execution_count": 93,
   "metadata": {},
   "outputs": [],
   "source": [
    "df.to_csv(\"../data/translated data.csv\",encoding=\"utf-8\",index=False)\n",
    "test.to_csv(\"../data/translated test.csv\",encoding=\"utf-8\",index=False)"
   ]
  },
  {
   "cell_type": "code",
   "execution_count": 3,
   "metadata": {},
   "outputs": [
    {
     "name": "stdout",
     "output_type": "stream",
     "text": [
      "                                               hindi  \\\n",
      "0  सोनीपत में दो बच्चों पांच साल के लड़के और दो स...   \n",
      "1  पंचकुला में जहां शादी की पूर्व संध्या पर दुल्ह...   \n",
      "2  सोनीपत से अपने रिश्तेदार के सात वर्षीय बच्चे क...   \n",
      "3  थानेसर मे शादी के महज छह महीने बाद ही एक नवविव...   \n",
      "4  मवार को डकैती के मामलों में वांछित दो लोगों को...   \n",
      "\n",
      "                                           complaint category  \n",
      "0  Two children, a five-year-old boy and a two-ye...   kidnap  \n",
      "1  In Panchkula, where the bride's neighbor alleg...   murder  \n",
      "2  After kidnapping the seven-year-old child of h...   kidnap  \n",
      "3  A newlywed hanged himself just six months afte...   murder  \n",
      "4  Two men wanted in robbery cases have been arre...    theft  \n",
      "                                               hindi  \\\n",
      "0  करनाल के एक रेस्टोरेंट में अनजान व्यक्तियों ने...   \n",
      "1  अम्बाला के एक नगर निगम कर्मचारी को उनके आवास क...   \n",
      "2  सोनीपत में एक युवक अपनी प्रेमिका से मिलने पहुं...   \n",
      "3  हिसार में एक दलित व्यक्ति को उसके घर पर हत्या ...   \n",
      "4  अम्बाला के एक गाँव में किसानों की खेत से फसल च...   \n",
      "\n",
      "                                           complaint category  \n",
      "0  Unknown persons stole the day's earnings from ...    theft  \n",
      "1  A Municipal Corporation employee of Ambala was...   murder  \n",
      "2  A young man came to meet his girlfriend in Son...   murder  \n",
      "3  A Dalit man was found murdered at his home in ...   murder  \n",
      "4  Crops were stolen from farmers' fields in a vi...    theft  \n"
     ]
    }
   ],
   "source": [
    "translated_data= pd.read_csv(\"../data/translated data.csv\")\n",
    "translated_test = pd.read_csv(\"../data/translated test.csv\")\n",
    "\n",
    "\n",
    "df['complaint'] = translated_data['complaint']\n",
    "test['complaint'] = translated_test['complaint']\n",
    "\n",
    "print(df.head())\n",
    "print(test.head()) "
   ]
  },
  {
   "cell_type": "code",
   "execution_count": 4,
   "metadata": {},
   "outputs": [
    {
     "data": {
      "text/plain": [
       "category\n",
       "rape        91\n",
       "kidnap      90\n",
       "murder      90\n",
       "theft       90\n",
       "accident    81\n",
       "Name: count, dtype: int64"
      ]
     },
     "execution_count": 4,
     "metadata": {},
     "output_type": "execute_result"
    }
   ],
   "source": [
    "df[\"category\"].value_counts() "
   ]
  },
  {
   "cell_type": "code",
   "execution_count": 5,
   "metadata": {},
   "outputs": [
    {
     "data": {
      "text/plain": [
       "category\n",
       "rape        0.205882\n",
       "kidnap      0.203620\n",
       "murder      0.203620\n",
       "theft       0.203620\n",
       "accident    0.183258\n",
       "Name: count, dtype: float64"
      ]
     },
     "execution_count": 5,
     "metadata": {},
     "output_type": "execute_result"
    }
   ],
   "source": [
    "df[\"category\"].value_counts()/df.shape[0] "
   ]
  },
  {
   "cell_type": "code",
   "execution_count": 6,
   "metadata": {},
   "outputs": [
    {
     "data": {
      "text/plain": [
       "category\n",
       "theft       29\n",
       "murder      29\n",
       "accident    19\n",
       "kidnap      10\n",
       "rape         9\n",
       "Name: count, dtype: int64"
      ]
     },
     "execution_count": 6,
     "metadata": {},
     "output_type": "execute_result"
    }
   ],
   "source": [
    "test[\"category\"].value_counts()"
   ]
  },
  {
   "cell_type": "code",
   "execution_count": 7,
   "metadata": {},
   "outputs": [
    {
     "data": {
      "text/plain": [
       "category\n",
       "theft       0.302083\n",
       "murder      0.302083\n",
       "accident    0.197917\n",
       "kidnap      0.104167\n",
       "rape        0.093750\n",
       "Name: count, dtype: float64"
      ]
     },
     "execution_count": 7,
     "metadata": {},
     "output_type": "execute_result"
    }
   ],
   "source": [
    "test[\"category\"].value_counts()/test.shape[0]"
   ]
  },
  {
   "cell_type": "code",
   "execution_count": 148,
   "metadata": {},
   "outputs": [
    {
     "data": {
      "image/png": "[encoded data removed]",
      "text/plain": [
       "<Figure size 1200x600 with 1 Axes>"
      ]
     },
     "metadata": {},
     "output_type": "display_data"
    }
   ],
   "source": [
    "# plot the distribution of the categories\n",
    "plt.figure(figsize=(12,6))\n",
    "sns.countplot(x='category', data=df)\n",
    "plt.title('Distribution of Categories')\n",
    "plt.show()\n",
    "\n"
   ]
  },
  {
   "cell_type": "code",
   "execution_count": 158,
   "metadata": {},
   "outputs": [
    {
     "data": {
      "image/png": "[encoded data removed]",
      "text/plain": [
       "<Figure size 1000x1000 with 1 Axes>"
      ]
     },
     "metadata": {},
     "output_type": "display_data"
    }
   ],
   "source": [
    "# plot the distribution of the categories as pie chart\n",
    "labels_idx = df.category.value_counts().index.to_list()\n",
    "labels_names= ['theft', 'accident', 'kidnap', 'murder', 'rape']\n",
    "labels= [labels_names[idx] for idx in labels_idx]\n",
    "\n",
    "\n",
    "sizes = df.category.value_counts()\n",
    "explode = (0.1, 0, 0, 0,0)  # explode 1st slice\n",
    "plt.figure(figsize=(10,10))\n",
    "plt.pie(sizes, explode=explode, labels=labels, autopct='%1.1f%%', shadow=True, startangle=140)\n",
    "plt.title('Distribution of Categories')\n",
    "plt.show()\n"
   ]
  },
  {
   "cell_type": "code",
   "execution_count": 8,
   "metadata": {},
   "outputs": [],
   "source": [
    "df['category'] = df.category.map({'rape': 4, 'murder': 3, 'kidnap': 2, 'accident':1, 'theft':0})\n",
    "test['category'] = test.category.map({'rape': 4, 'murder': 3, 'kidnap': 2, 'accident':1, 'theft':0})\n"
   ]
  },
  {
   "cell_type": "code",
   "execution_count": 9,
   "metadata": {},
   "outputs": [
    {
     "data": {
      "text/plain": [
       "(442, 3)"
      ]
     },
     "metadata": {},
     "output_type": "display_data"
    }
   ],
   "source": [
    "# data = pd.read_csv('complaint with manual labels.csv')\n",
    "data= df\n",
    "display(data.shape) "
   ]
  },
  {
   "cell_type": "code",
   "execution_count": 10,
   "metadata": {},
   "outputs": [
    {
     "data": {
      "text/html": [
       "<div>\n",
       "<style scoped>\n",
       "    .dataframe tbody tr th:only-of-type {\n",
       "        vertical-align: middle;\n",
       "    }\n",
       "\n",
       "    .dataframe tbody tr th {\n",
       "        vertical-align: top;\n",
       "    }\n",
       "\n",
       "    .dataframe thead th {\n",
       "        text-align: right;\n",
       "    }\n",
       "</style>\n",
       "<table border=\"1\" class=\"dataframe\">\n",
       "  <thead>\n",
       "    <tr style=\"text-align: right;\">\n",
       "      <th></th>\n",
       "      <th>hindi</th>\n",
       "      <th>complaint</th>\n",
       "      <th>category</th>\n",
       "    </tr>\n",
       "  </thead>\n",
       "  <tbody>\n",
       "    <tr>\n",
       "      <th>0</th>\n",
       "      <td>सोनीपत में दो बच्चों पांच साल के लड़के और दो स...</td>\n",
       "      <td>Two children, a five-year-old boy and a two-ye...</td>\n",
       "      <td>2</td>\n",
       "    </tr>\n",
       "    <tr>\n",
       "      <th>1</th>\n",
       "      <td>पंचकुला में जहां शादी की पूर्व संध्या पर दुल्ह...</td>\n",
       "      <td>In Panchkula, where the bride's neighbor alleg...</td>\n",
       "      <td>3</td>\n",
       "    </tr>\n",
       "    <tr>\n",
       "      <th>2</th>\n",
       "      <td>सोनीपत से अपने रिश्तेदार के सात वर्षीय बच्चे क...</td>\n",
       "      <td>After kidnapping the seven-year-old child of h...</td>\n",
       "      <td>2</td>\n",
       "    </tr>\n",
       "    <tr>\n",
       "      <th>3</th>\n",
       "      <td>थानेसर मे शादी के महज छह महीने बाद ही एक नवविव...</td>\n",
       "      <td>A newlywed hanged himself just six months afte...</td>\n",
       "      <td>3</td>\n",
       "    </tr>\n",
       "    <tr>\n",
       "      <th>4</th>\n",
       "      <td>मवार को डकैती के मामलों में वांछित दो लोगों को...</td>\n",
       "      <td>Two men wanted in robbery cases have been arre...</td>\n",
       "      <td>0</td>\n",
       "    </tr>\n",
       "  </tbody>\n",
       "</table>\n",
       "</div>"
      ],
      "text/plain": [
       "                                               hindi  \\\n",
       "0  सोनीपत में दो बच्चों पांच साल के लड़के और दो स...   \n",
       "1  पंचकुला में जहां शादी की पूर्व संध्या पर दुल्ह...   \n",
       "2  सोनीपत से अपने रिश्तेदार के सात वर्षीय बच्चे क...   \n",
       "3  थानेसर मे शादी के महज छह महीने बाद ही एक नवविव...   \n",
       "4  मवार को डकैती के मामलों में वांछित दो लोगों को...   \n",
       "\n",
       "                                           complaint  category  \n",
       "0  Two children, a five-year-old boy and a two-ye...         2  \n",
       "1  In Panchkula, where the bride's neighbor alleg...         3  \n",
       "2  After kidnapping the seven-year-old child of h...         2  \n",
       "3  A newlywed hanged himself just six months afte...         3  \n",
       "4  Two men wanted in robbery cases have been arre...         0  "
      ]
     },
     "execution_count": 10,
     "metadata": {},
     "output_type": "execute_result"
    }
   ],
   "source": [
    "data.head()"
   ]
  },
  {
   "cell_type": "code",
   "execution_count": 11,
   "metadata": {},
   "outputs": [
    {
     "data": {
      "text/plain": [
       "Index(['hindi', 'complaint', 'category'], dtype='object')"
      ]
     },
     "execution_count": 11,
     "metadata": {},
     "output_type": "execute_result"
    }
   ],
   "source": [
    "data.columns"
   ]
  },
  {
   "cell_type": "code",
   "execution_count": 12,
   "metadata": {},
   "outputs": [
    {
     "data": {
      "text/plain": [
       "(442, 2)"
      ]
     },
     "execution_count": 12,
     "metadata": {},
     "output_type": "execute_result"
    }
   ],
   "source": [
    "# df['category'] = df.category.map({'rape': 4, 'murder': 3, 'kidnap': 2, 'accident':1, 'theft':0})\n",
    "# test['category'] = test.category.map({'rape': 4, 'murder': 3, 'kidnap': 2, 'accident':1, 'theft':0})\n",
    "\n",
    "data = data[[\"complaint\",\"category\"]] # taking text input and output variable as relevance\n",
    "# data = data[:1000]\n",
    "data.shape"
   ]
  },
  {
   "cell_type": "code",
   "execution_count": 13,
   "metadata": {},
   "outputs": [
    {
     "data": {
      "text/html": [
       "<div>\n",
       "<style scoped>\n",
       "    .dataframe tbody tr th:only-of-type {\n",
       "        vertical-align: middle;\n",
       "    }\n",
       "\n",
       "    .dataframe tbody tr th {\n",
       "        vertical-align: top;\n",
       "    }\n",
       "\n",
       "    .dataframe thead th {\n",
       "        text-align: right;\n",
       "    }\n",
       "</style>\n",
       "<table border=\"1\" class=\"dataframe\">\n",
       "  <thead>\n",
       "    <tr style=\"text-align: right;\">\n",
       "      <th></th>\n",
       "      <th>complaint</th>\n",
       "      <th>category</th>\n",
       "    </tr>\n",
       "  </thead>\n",
       "  <tbody>\n",
       "    <tr>\n",
       "      <th>0</th>\n",
       "      <td>Two children, a five-year-old boy and a two-ye...</td>\n",
       "      <td>2</td>\n",
       "    </tr>\n",
       "    <tr>\n",
       "      <th>1</th>\n",
       "      <td>In Panchkula, where the bride's neighbor alleg...</td>\n",
       "      <td>3</td>\n",
       "    </tr>\n",
       "    <tr>\n",
       "      <th>2</th>\n",
       "      <td>After kidnapping the seven-year-old child of h...</td>\n",
       "      <td>2</td>\n",
       "    </tr>\n",
       "    <tr>\n",
       "      <th>3</th>\n",
       "      <td>A newlywed hanged himself just six months afte...</td>\n",
       "      <td>3</td>\n",
       "    </tr>\n",
       "    <tr>\n",
       "      <th>4</th>\n",
       "      <td>Two men wanted in robbery cases have been arre...</td>\n",
       "      <td>0</td>\n",
       "    </tr>\n",
       "  </tbody>\n",
       "</table>\n",
       "</div>"
      ],
      "text/plain": [
       "                                           complaint  category\n",
       "0  Two children, a five-year-old boy and a two-ye...         2\n",
       "1  In Panchkula, where the bride's neighbor alleg...         3\n",
       "2  After kidnapping the seven-year-old child of h...         2\n",
       "3  A newlywed hanged himself just six months afte...         3\n",
       "4  Two men wanted in robbery cases have been arre...         0"
      ]
     },
     "execution_count": 13,
     "metadata": {},
     "output_type": "execute_result"
    }
   ],
   "source": [
    "data.head()\n"
   ]
  },
  {
   "cell_type": "code",
   "execution_count": 14,
   "metadata": {},
   "outputs": [],
   "source": [
    "import spacy\n",
    "nlp = spacy.load('en_core_web_sm')\n",
    "\n",
    "stopwords = _stop_words.ENGLISH_STOP_WORDS\n",
    "lemmatizer = WordNetLemmatizer()\n",
    "\n",
    "def clean(doc):\n",
    "    text_no_namedentities = []\n",
    "    document = nlp(doc)\n",
    "    ents = [e.text for e in document.ents]\n",
    "    for item in document:\n",
    "        if item.text in ents:\n",
    "            pass\n",
    "        else:\n",
    "            text_no_namedentities.append(item.text)\n",
    "    doc = (\" \".join(text_no_namedentities))\n",
    "\n",
    "    doc = doc.lower().strip()\n",
    "    doc = doc.replace(\"</br>\", \" \") \n",
    "    doc = doc.replace(\"-\", \" \") \n",
    "    doc = \"\".join([char for char in doc if char not in string.punctuation and not char.isdigit()])\n",
    "    doc = \" \".join([token for token in doc.split() if token not in stopwords])    \n",
    "    doc = \"\".join([lemmatizer.lemmatize(word) for word in doc])\n",
    "    return doc"
   ]
  },
  {
   "cell_type": "code",
   "execution_count": 15,
   "metadata": {},
   "outputs": [
    {
     "data": {
      "text/html": [
       "<div>\n",
       "<style scoped>\n",
       "    .dataframe tbody tr th:only-of-type {\n",
       "        vertical-align: middle;\n",
       "    }\n",
       "\n",
       "    .dataframe tbody tr th {\n",
       "        vertical-align: top;\n",
       "    }\n",
       "\n",
       "    .dataframe thead th {\n",
       "        text-align: right;\n",
       "    }\n",
       "</style>\n",
       "<table border=\"1\" class=\"dataframe\">\n",
       "  <thead>\n",
       "    <tr style=\"text-align: right;\">\n",
       "      <th></th>\n",
       "      <th>complaint</th>\n",
       "      <th>category</th>\n",
       "    </tr>\n",
       "  </thead>\n",
       "  <tbody>\n",
       "    <tr>\n",
       "      <th>0</th>\n",
       "      <td>children year old boy year old girl allegedly ...</td>\n",
       "      <td>2</td>\n",
       "    </tr>\n",
       "    <tr>\n",
       "      <th>1</th>\n",
       "      <td>bride s neighbor allegedly killed father eve w...</td>\n",
       "      <td>3</td>\n",
       "    </tr>\n",
       "    <tr>\n",
       "      <th>2</th>\n",
       "      <td>kidnapping seven year old child relative child...</td>\n",
       "      <td>2</td>\n",
       "    </tr>\n",
       "    <tr>\n",
       "      <th>3</th>\n",
       "      <td>newlywed hanged just months marriage suicide g...</td>\n",
       "      <td>3</td>\n",
       "    </tr>\n",
       "    <tr>\n",
       "      <th>4</th>\n",
       "      <td>men wanted robbery cases arrested allegedly sh...</td>\n",
       "      <td>0</td>\n",
       "    </tr>\n",
       "  </tbody>\n",
       "</table>\n",
       "</div>"
      ],
      "text/plain": [
       "                                           complaint  category\n",
       "0  children year old boy year old girl allegedly ...         2\n",
       "1  bride s neighbor allegedly killed father eve w...         3\n",
       "2  kidnapping seven year old child relative child...         2\n",
       "3  newlywed hanged just months marriage suicide g...         3\n",
       "4  men wanted robbery cases arrested allegedly sh...         0"
      ]
     },
     "execution_count": 15,
     "metadata": {},
     "output_type": "execute_result"
    }
   ],
   "source": [
    "data['complaint'] = data['complaint'].apply(clean)\n",
    "data.head()"
   ]
  },
  {
   "cell_type": "code",
   "execution_count": 16,
   "metadata": {},
   "outputs": [
    {
     "name": "stdout",
     "output_type": "stream",
     "text": [
      "(442,) (442,)\n"
     ]
    }
   ],
   "source": [
    "X = data ['complaint']\n",
    "y = data['category']\n",
    "print(X.shape, y.shape)"
   ]
  },
  {
   "cell_type": "code",
   "execution_count": 17,
   "metadata": {},
   "outputs": [
    {
     "name": "stdout",
     "output_type": "stream",
     "text": [
      "(397,) (397,)\n",
      "(45,) (45,)\n"
     ]
    }
   ],
   "source": [
    "SEED=246\n",
    "X_train,X_test,y_train,y_test=train_test_split(X, y, test_size=0.1, random_state=SEED, stratify=y)\n",
    "print(X_train.shape, y_train.shape)\n",
    "print(X_test.shape, y_test.shape)"
   ]
  },
  {
   "cell_type": "code",
   "execution_count": 18,
   "metadata": {},
   "outputs": [],
   "source": [
    "tfidf_vectorizer = TfidfVectorizer(use_idf=True, max_features = 20000) \n",
    "tfidf_vectorizer_vectors = tfidf_vectorizer.fit_transform(X_train)\n",
    "docs_tf = tfidf_vectorizer_vectors.toarray()"
   ]
  },
  {
   "cell_type": "code",
   "execution_count": 19,
   "metadata": {},
   "outputs": [],
   "source": [
    "cv= CountVectorizer()\n",
    "cv_vectorizer = cv.fit_transform(X_train)\n",
    "docs_cv = cv_vectorizer.toarray()"
   ]
  },
  {
   "cell_type": "code",
   "execution_count": 17,
   "metadata": {},
   "outputs": [
    {
     "data": {
      "text/plain": [
       "['vectorizer.pkl']"
      ]
     },
     "execution_count": 17,
     "metadata": {},
     "output_type": "execute_result"
    }
   ],
   "source": [
    "import joblib\n",
    "import pickle\n",
    "import gzip\n",
    "\n",
    "# option #1\n",
    "joblib.dump(tfidf_vectorizer, 'vectorizer.pkl', compress=True)\n",
    "\n",
    "# option #2\n",
    "# with gzip.open('vectorizer.pkl', 'wb') as f:\n",
    "#     pickle.dump(tvec, f)"
   ]
  },
  {
   "cell_type": "code",
   "execution_count": 18,
   "metadata": {},
   "outputs": [],
   "source": [
    "# X_train= docs\n"
   ]
  },
  {
   "cell_type": "code",
   "execution_count": 20,
   "metadata": {},
   "outputs": [],
   "source": [
    "tfidf_vectorizer_vectors_test = tfidf_vectorizer.transform(X_test)\n",
    "docs_test_tf = tfidf_vectorizer_vectors_test.toarray()\n"
   ]
  },
  {
   "cell_type": "code",
   "execution_count": 21,
   "metadata": {},
   "outputs": [],
   "source": [
    "cv_vectorizer_test = cv.transform(X_test)\n",
    "docs_test_cv = cv_vectorizer_test.toarray()"
   ]
  },
  {
   "cell_type": "code",
   "execution_count": 20,
   "metadata": {},
   "outputs": [],
   "source": [
    "# X_test= docs_test"
   ]
  },
  {
   "cell_type": "code",
   "execution_count": 22,
   "metadata": {},
   "outputs": [
    {
     "data": {
      "text/html": [
       "<div>\n",
       "<style scoped>\n",
       "    .dataframe tbody tr th:only-of-type {\n",
       "        vertical-align: middle;\n",
       "    }\n",
       "\n",
       "    .dataframe tbody tr th {\n",
       "        vertical-align: top;\n",
       "    }\n",
       "\n",
       "    .dataframe thead th {\n",
       "        text-align: right;\n",
       "    }\n",
       "</style>\n",
       "<table border=\"1\" class=\"dataframe\">\n",
       "  <thead>\n",
       "    <tr style=\"text-align: right;\">\n",
       "      <th></th>\n",
       "      <th>Mean Accuracy</th>\n",
       "      <th>Standard deviation</th>\n",
       "    </tr>\n",
       "    <tr>\n",
       "      <th>model_name</th>\n",
       "      <th></th>\n",
       "      <th></th>\n",
       "    </tr>\n",
       "  </thead>\n",
       "  <tbody>\n",
       "    <tr>\n",
       "      <th>AdaBoostClassifier</th>\n",
       "      <td>0.385380</td>\n",
       "      <td>0.057422</td>\n",
       "    </tr>\n",
       "    <tr>\n",
       "      <th>DecisionTreeClassifier</th>\n",
       "      <td>0.735570</td>\n",
       "      <td>0.070134</td>\n",
       "    </tr>\n",
       "    <tr>\n",
       "      <th>GaussianNB</th>\n",
       "      <td>0.702848</td>\n",
       "      <td>0.046989</td>\n",
       "    </tr>\n",
       "    <tr>\n",
       "      <th>GradientBoostingClassifier</th>\n",
       "      <td>0.838797</td>\n",
       "      <td>0.032583</td>\n",
       "    </tr>\n",
       "    <tr>\n",
       "      <th>KNeighborsClassifier</th>\n",
       "      <td>0.743228</td>\n",
       "      <td>0.037045</td>\n",
       "    </tr>\n",
       "    <tr>\n",
       "      <th>LinearSVC</th>\n",
       "      <td>0.831266</td>\n",
       "      <td>0.037239</td>\n",
       "    </tr>\n",
       "    <tr>\n",
       "      <th>LogisticRegression</th>\n",
       "      <td>0.851361</td>\n",
       "      <td>0.044027</td>\n",
       "    </tr>\n",
       "    <tr>\n",
       "      <th>MultinomialNB</th>\n",
       "      <td>0.808418</td>\n",
       "      <td>0.050559</td>\n",
       "    </tr>\n",
       "    <tr>\n",
       "      <th>RandomForestClassifier</th>\n",
       "      <td>0.831171</td>\n",
       "      <td>0.019792</td>\n",
       "    </tr>\n",
       "    <tr>\n",
       "      <th>SGDClassifier</th>\n",
       "      <td>0.796044</td>\n",
       "      <td>0.027884</td>\n",
       "    </tr>\n",
       "  </tbody>\n",
       "</table>\n",
       "</div>"
      ],
      "text/plain": [
       "                            Mean Accuracy  Standard deviation\n",
       "model_name                                                   \n",
       "AdaBoostClassifier               0.385380            0.057422\n",
       "DecisionTreeClassifier           0.735570            0.070134\n",
       "GaussianNB                       0.702848            0.046989\n",
       "GradientBoostingClassifier       0.838797            0.032583\n",
       "KNeighborsClassifier             0.743228            0.037045\n",
       "LinearSVC                        0.831266            0.037239\n",
       "LogisticRegression               0.851361            0.044027\n",
       "MultinomialNB                    0.808418            0.050559\n",
       "RandomForestClassifier           0.831171            0.019792\n",
       "SGDClassifier                    0.796044            0.027884"
      ]
     },
     "execution_count": 22,
     "metadata": {},
     "output_type": "execute_result"
    }
   ],
   "source": [
    "from sklearn.model_selection import cross_val_score\n",
    "from sklearn.tree import DecisionTreeClassifier\n",
    "from sklearn.ensemble import RandomForestClassifier\n",
    "from sklearn.ensemble import AdaBoostClassifier, GradientBoostingClassifier\n",
    "from sklearn.neighbors import KNeighborsClassifier\n",
    "from sklearn.linear_model import SGDClassifier\n",
    "from sklearn.linear_model import LogisticRegression\n",
    "\n",
    "\n",
    "models = [LinearSVC(), MultinomialNB(), GaussianNB(), DecisionTreeClassifier(), RandomForestClassifier(), AdaBoostClassifier(), GradientBoostingClassifier(), KNeighborsClassifier(), LogisticRegression(), SGDClassifier()]\n",
    "\n",
    "# 5 Cross-validation\n",
    "CV = 5\n",
    "cv_df = pd.DataFrame(index=range(CV * len(models)))\n",
    "entries = []\n",
    "for model in models:\n",
    "  model_name = model.__class__.__name__\n",
    "  accuracies = cross_val_score(model, docs_tf, y_train, scoring='accuracy', cv=CV)\n",
    "  for fold_idx, accuracy in enumerate(accuracies):\n",
    "    entries.append((model_name, fold_idx, accuracy))\n",
    "    \n",
    "cv_df = pd.DataFrame(entries, columns=['model_name', 'fold_idx', 'accuracy'])\n",
    "\n",
    "mean_accuracy = cv_df.groupby('model_name').accuracy.mean()\n",
    "std_accuracy = cv_df.groupby('model_name').accuracy.std()\n",
    "acc = pd.concat([mean_accuracy, std_accuracy], axis= 1, ignore_index=True)\n",
    "acc.columns = ['Mean Accuracy', 'Standard deviation']\n",
    "acc"
   ]
  },
  {
   "cell_type": "code",
   "execution_count": 23,
   "metadata": {},
   "outputs": [
    {
     "data": {
      "text/html": [
       "<div>\n",
       "<style scoped>\n",
       "    .dataframe tbody tr th:only-of-type {\n",
       "        vertical-align: middle;\n",
       "    }\n",
       "\n",
       "    .dataframe tbody tr th {\n",
       "        vertical-align: top;\n",
       "    }\n",
       "\n",
       "    .dataframe thead th {\n",
       "        text-align: right;\n",
       "    }\n",
       "</style>\n",
       "<table border=\"1\" class=\"dataframe\">\n",
       "  <thead>\n",
       "    <tr style=\"text-align: right;\">\n",
       "      <th></th>\n",
       "      <th>Mean Accuracy</th>\n",
       "      <th>Standard deviation</th>\n",
       "    </tr>\n",
       "    <tr>\n",
       "      <th>model_name</th>\n",
       "      <th></th>\n",
       "      <th></th>\n",
       "    </tr>\n",
       "  </thead>\n",
       "  <tbody>\n",
       "    <tr>\n",
       "      <th>AdaBoostClassifier</th>\n",
       "      <td>0.510886</td>\n",
       "      <td>0.108461</td>\n",
       "    </tr>\n",
       "    <tr>\n",
       "      <th>DecisionTreeClassifier</th>\n",
       "      <td>0.745443</td>\n",
       "      <td>0.072341</td>\n",
       "    </tr>\n",
       "    <tr>\n",
       "      <th>GaussianNB</th>\n",
       "      <td>0.733070</td>\n",
       "      <td>0.063645</td>\n",
       "    </tr>\n",
       "    <tr>\n",
       "      <th>GradientBoostingClassifier</th>\n",
       "      <td>0.823544</td>\n",
       "      <td>0.058276</td>\n",
       "    </tr>\n",
       "    <tr>\n",
       "      <th>KNeighborsClassifier</th>\n",
       "      <td>0.551646</td>\n",
       "      <td>0.081034</td>\n",
       "    </tr>\n",
       "    <tr>\n",
       "      <th>LinearSVC</th>\n",
       "      <td>0.818671</td>\n",
       "      <td>0.016495</td>\n",
       "    </tr>\n",
       "    <tr>\n",
       "      <th>LogisticRegression</th>\n",
       "      <td>0.828671</td>\n",
       "      <td>0.024856</td>\n",
       "    </tr>\n",
       "    <tr>\n",
       "      <th>MultinomialNB</th>\n",
       "      <td>0.826108</td>\n",
       "      <td>0.043406</td>\n",
       "    </tr>\n",
       "    <tr>\n",
       "      <th>RandomForestClassifier</th>\n",
       "      <td>0.846266</td>\n",
       "      <td>0.029199</td>\n",
       "    </tr>\n",
       "    <tr>\n",
       "      <th>SGDClassifier</th>\n",
       "      <td>0.806171</td>\n",
       "      <td>0.036418</td>\n",
       "    </tr>\n",
       "  </tbody>\n",
       "</table>\n",
       "</div>"
      ],
      "text/plain": [
       "                            Mean Accuracy  Standard deviation\n",
       "model_name                                                   \n",
       "AdaBoostClassifier               0.510886            0.108461\n",
       "DecisionTreeClassifier           0.745443            0.072341\n",
       "GaussianNB                       0.733070            0.063645\n",
       "GradientBoostingClassifier       0.823544            0.058276\n",
       "KNeighborsClassifier             0.551646            0.081034\n",
       "LinearSVC                        0.818671            0.016495\n",
       "LogisticRegression               0.828671            0.024856\n",
       "MultinomialNB                    0.826108            0.043406\n",
       "RandomForestClassifier           0.846266            0.029199\n",
       "SGDClassifier                    0.806171            0.036418"
      ]
     },
     "execution_count": 23,
     "metadata": {},
     "output_type": "execute_result"
    }
   ],
   "source": [
    "from sklearn.model_selection import cross_val_score\n",
    "from sklearn.tree import DecisionTreeClassifier\n",
    "from sklearn.ensemble import RandomForestClassifier\n",
    "from sklearn.ensemble import AdaBoostClassifier, GradientBoostingClassifier\n",
    "from sklearn.neighbors import KNeighborsClassifier\n",
    "from sklearn.linear_model import SGDClassifier\n",
    "from sklearn.linear_model import LogisticRegression\n",
    "\n",
    "\n",
    "models = [LinearSVC(), MultinomialNB(), GaussianNB(), DecisionTreeClassifier(), RandomForestClassifier(), AdaBoostClassifier(), GradientBoostingClassifier(), KNeighborsClassifier(), LogisticRegression(), SGDClassifier()]\n",
    "\n",
    "# 5 Cross-validation\n",
    "CV = 5\n",
    "cv_df = pd.DataFrame(index=range(CV * len(models)))\n",
    "entries = []\n",
    "for model in models:\n",
    "  model_name = model.__class__.__name__\n",
    "  accuracies = cross_val_score(model, docs_cv, y_train, scoring='accuracy', cv=CV)\n",
    "  for fold_idx, accuracy in enumerate(accuracies):\n",
    "    entries.append((model_name, fold_idx, accuracy))\n",
    "    \n",
    "cv_df = pd.DataFrame(entries, columns=['model_name', 'fold_idx', 'accuracy'])\n",
    "\n",
    "mean_accuracy = cv_df.groupby('model_name').accuracy.mean()\n",
    "std_accuracy = cv_df.groupby('model_name').accuracy.std()\n",
    "acc = pd.concat([mean_accuracy, std_accuracy], axis= 1, ignore_index=True)\n",
    "acc.columns = ['Mean Accuracy', 'Standard deviation']\n",
    "acc"
   ]
  },
  {
   "cell_type": "markdown",
   "metadata": {},
   "source": [
    "Gaussian Nb with tf-idf, count vectorizer"
   ]
  },
  {
   "cell_type": "code",
   "execution_count": 27,
   "metadata": {},
   "outputs": [
    {
     "name": "stdout",
     "output_type": "stream",
     "text": [
      "CPU times: total: 15.6 ms\n",
      "Wall time: 25.7 ms\n",
      "\n",
      "Training Accuracy score: 0.9949622166246851\n",
      "Testing Accuracy score: 0.7111111111111111\n"
     ]
    }
   ],
   "source": [
    "gnb = GaussianNB() \n",
    "%time gnb.fit(docs_tf, y_train)\n",
    "\n",
    "y_pred_train = gnb.predict(docs_tf)\n",
    "y_pred_test = gnb.predict(docs_test_tf)\n",
    "print(\"\\nTraining Accuracy score:\",accuracy_score(y_train, y_pred_train))\n",
    "print(\"Testing Accuracy score:\",accuracy_score(y_test, y_pred_test))"
   ]
  },
  {
   "cell_type": "code",
   "execution_count": 28,
   "metadata": {},
   "outputs": [
    {
     "name": "stdout",
     "output_type": "stream",
     "text": [
      "(96, 1905) (96,)\n"
     ]
    }
   ],
   "source": [
    "#testing on unseen data\n",
    "# test = pd.read_csv('testdata.csv')\n",
    "# test['category'] = test.category.map({'rape': 4, 'murder': 3, 'kidnap': 2, 'accident':1, 'theft':0})\n",
    "test['complaint'] = test['complaint'].apply(clean)\n",
    "tdocs = list(test['complaint'])\n",
    "tfidf_vectorizer_vectors = tfidf_vectorizer.transform(tdocs)\n",
    "tdocs = tfidf_vectorizer_vectors.toarray()\n",
    "testX_tf = np.array(tdocs )\n",
    "testy = test['category']\n",
    "print(testX_tf.shape, testy.shape)"
   ]
  },
  {
   "cell_type": "code",
   "execution_count": 29,
   "metadata": {},
   "outputs": [
    {
     "data": {
      "text/plain": [
       "array([0.        , 0.42183558, 0.43594482, 0.49697994, 0.62049802])"
      ]
     },
     "execution_count": 29,
     "metadata": {},
     "output_type": "execute_result"
    }
   ],
   "source": [
    "#print unique values of textX[0] \n",
    "np.unique(testX_tf[0])"
   ]
  },
  {
   "cell_type": "code",
   "execution_count": 30,
   "metadata": {},
   "outputs": [
    {
     "name": "stdout",
     "output_type": "stream",
     "text": [
      "\n",
      "Testing Accuracy score: 0.625\n"
     ]
    }
   ],
   "source": [
    "test_pred = gnb.predict(testX_tf)\n",
    "print(\"\\nTesting Accuracy score:\",accuracy_score(testy, test_pred))\n"
   ]
  },
  {
   "cell_type": "code",
   "execution_count": 31,
   "metadata": {},
   "outputs": [
    {
     "name": "stdout",
     "output_type": "stream",
     "text": [
      "              precision    recall  f1-score   support\n",
      "\n",
      "        rape       0.70      0.78      0.74         9\n",
      "      murder       0.88      0.88      0.88         8\n",
      "      kidnap       0.54      0.78      0.64         9\n",
      "    accident       0.57      0.44      0.50         9\n",
      "       theft       1.00      0.70      0.82        10\n",
      "\n",
      "    accuracy                           0.71        45\n",
      "   macro avg       0.74      0.72      0.71        45\n",
      "weighted avg       0.74      0.71      0.71        45\n",
      "\n"
     ]
    }
   ],
   "source": [
    "print(classification_report(y_test, y_pred_test, target_names=['rape', 'murder', 'kidnap', 'accident', 'theft']))"
   ]
  },
  {
   "cell_type": "code",
   "execution_count": 32,
   "metadata": {},
   "outputs": [
    {
     "data": {
      "image/png": "[encoded data removed]",
      "text/plain": [
       "<Figure size 640x480 with 2 Axes>"
      ]
     },
     "metadata": {},
     "output_type": "display_data"
    }
   ],
   "source": [
    "cm = confusion_matrix(y_test, y_pred_test)\n",
    "# print('Confusion matrix\\n', cm)\n",
    "\n",
    "cm_matrix = pd.DataFrame(data=cm, columns=['rape', 'murder', 'kidnap', 'accident', 'rape'], \n",
    "                        index=['rape', 'murder','kidnap', 'accident', 'rape'])\n",
    "sns.heatmap(cm_matrix, annot=True, fmt='d', cmap='YlGnBu')\n",
    "plt.show()"
   ]
  },
  {
   "cell_type": "code",
   "execution_count": 33,
   "metadata": {},
   "outputs": [
    {
     "name": "stdout",
     "output_type": "stream",
     "text": [
      "              precision    recall  f1-score   support\n",
      "\n",
      "        rape       0.71      0.83      0.76        29\n",
      "      murder       0.85      0.89      0.87        19\n",
      "      kidnap       0.36      0.50      0.42        10\n",
      "    accident       0.73      0.28      0.40        29\n",
      "       theft       0.35      0.67      0.46         9\n",
      "\n",
      "    accuracy                           0.62        96\n",
      "   macro avg       0.60      0.63      0.58        96\n",
      "weighted avg       0.67      0.62      0.61        96\n",
      "\n",
      "0.625\n"
     ]
    }
   ],
   "source": [
    "print(classification_report(testy, test_pred, target_names=['rape', 'murder','kidnap', 'accident', 'theft']))\n",
    "print(accuracy_score(testy, test_pred))"
   ]
  },
  {
   "cell_type": "markdown",
   "metadata": {},
   "source": [
    "with count vectorizer"
   ]
  },
  {
   "cell_type": "code",
   "execution_count": 34,
   "metadata": {},
   "outputs": [
    {
     "name": "stdout",
     "output_type": "stream",
     "text": [
      "CPU times: total: 0 ns\n",
      "Wall time: 25 ms\n",
      "\n",
      "Training Accuracy score: 0.9949622166246851\n",
      "Testing Accuracy score: 0.8222222222222222\n"
     ]
    }
   ],
   "source": [
    "gnb = GaussianNB() \n",
    "%time gnb.fit(docs_cv, y_train)\n",
    "\n",
    "y_pred_train = gnb.predict(docs_cv)\n",
    "y_pred_test = gnb.predict(docs_test_cv)\n",
    "print(\"\\nTraining Accuracy score:\",accuracy_score(y_train, y_pred_train))\n",
    "print(\"Testing Accuracy score:\",accuracy_score(y_test, y_pred_test))"
   ]
  },
  {
   "cell_type": "code",
   "execution_count": 35,
   "metadata": {},
   "outputs": [
    {
     "name": "stdout",
     "output_type": "stream",
     "text": [
      "(96, 1905) (96,)\n"
     ]
    }
   ],
   "source": [
    "#testing on unseen data\n",
    "# test = pd.read_csv('testdata.csv')\n",
    "# test['category'] = test.category.map({'rape': 4, 'murder': 3, 'kidnap': 2, 'accident':1, 'theft':0})\n",
    "test['complaint'] = test['complaint'].apply(clean)\n",
    "tdocs = list(test['complaint'])\n",
    "cv_vectorizer= cv.transform(tdocs)\n",
    "tdocs = cv_vectorizer.toarray()\n",
    "testX_cv = np.array(tdocs )\n",
    "testy = test['category']\n",
    "print(testX_cv.shape, testy.shape)"
   ]
  },
  {
   "cell_type": "code",
   "execution_count": 36,
   "metadata": {},
   "outputs": [
    {
     "name": "stdout",
     "output_type": "stream",
     "text": [
      "\n",
      "Testing Accuracy score: 0.6041666666666666\n"
     ]
    }
   ],
   "source": [
    "test_pred = gnb.predict(testX_cv)\n",
    "print(\"\\nTesting Accuracy score:\",accuracy_score(testy, test_pred))\n"
   ]
  },
  {
   "cell_type": "markdown",
   "metadata": {},
   "source": [
    "MULTINOMIAL NB with tf-idf and count vectorizer"
   ]
  },
  {
   "cell_type": "code",
   "execution_count": 38,
   "metadata": {},
   "outputs": [
    {
     "name": "stdout",
     "output_type": "stream",
     "text": [
      "CPU times: total: 0 ns\n",
      "Wall time: 4.48 ms\n",
      "\n",
      "Training Accuracy score: 0.9748110831234257\n",
      "Testing Accuracy score: 0.9111111111111111\n"
     ]
    }
   ],
   "source": [
    "mnb = MultinomialNB() \n",
    "%time mnb.fit(docs_tf, y_train)\n",
    "\n",
    "y_pred_train = mnb.predict(docs_tf)\n",
    "y_pred_test = mnb.predict(docs_test_tf)\n",
    "print(\"\\nTraining Accuracy score:\",accuracy_score(y_train, y_pred_train))\n",
    "print(\"Testing Accuracy score:\",accuracy_score(y_test, y_pred_test))"
   ]
  },
  {
   "cell_type": "code",
   "execution_count": 39,
   "metadata": {},
   "outputs": [
    {
     "name": "stdout",
     "output_type": "stream",
     "text": [
      "\n",
      "Testing Accuracy score: 0.7083333333333334\n"
     ]
    }
   ],
   "source": [
    "test_pred = mnb.predict(testX_tf)\n",
    "print(\"\\nTesting Accuracy score:\",accuracy_score(testy, test_pred))"
   ]
  },
  {
   "cell_type": "code",
   "execution_count": 40,
   "metadata": {},
   "outputs": [
    {
     "name": "stdout",
     "output_type": "stream",
     "text": [
      "              precision    recall  f1-score   support\n",
      "\n",
      "        rape       0.83      0.69      0.75        29\n",
      "      murder       0.75      0.95      0.84        19\n",
      "      kidnap       0.45      0.50      0.48        10\n",
      "    accident       0.89      0.59      0.71        29\n",
      "       theft       0.44      0.89      0.59         9\n",
      "\n",
      "    accuracy                           0.71        96\n",
      "   macro avg       0.68      0.72      0.67        96\n",
      "weighted avg       0.76      0.71      0.71        96\n",
      "\n",
      "0.7083333333333334\n"
     ]
    }
   ],
   "source": [
    "print(classification_report(testy, test_pred, target_names=['rape', 'murder', 'kidnap','accident', 'theft']))\n",
    "print(accuracy_score(testy, test_pred))"
   ]
  },
  {
   "cell_type": "markdown",
   "metadata": {},
   "source": [
    "with count vectorizer"
   ]
  },
  {
   "cell_type": "code",
   "execution_count": 41,
   "metadata": {},
   "outputs": [
    {
     "name": "stdout",
     "output_type": "stream",
     "text": [
      "CPU times: total: 0 ns\n",
      "Wall time: 19 ms\n",
      "\n",
      "Training Accuracy score: 0.9773299748110831\n",
      "Testing Accuracy score: 0.9111111111111111\n"
     ]
    }
   ],
   "source": [
    "mnb = MultinomialNB() \n",
    "%time mnb.fit(docs_cv, y_train)\n",
    "\n",
    "y_pred_train = mnb.predict(docs_cv)\n",
    "y_pred_test = mnb.predict(docs_test_cv)\n",
    "print(\"\\nTraining Accuracy score:\",accuracy_score(y_train, y_pred_train))\n",
    "print(\"Testing Accuracy score:\",accuracy_score(y_test, y_pred_test))"
   ]
  },
  {
   "cell_type": "code",
   "execution_count": 42,
   "metadata": {},
   "outputs": [
    {
     "name": "stdout",
     "output_type": "stream",
     "text": [
      "\n",
      "Testing Accuracy score: 0.6979166666666666\n"
     ]
    }
   ],
   "source": [
    "test_pred = mnb.predict(testX_cv)\n",
    "print(\"\\nTesting Accuracy score:\",accuracy_score(testy, test_pred))"
   ]
  },
  {
   "cell_type": "markdown",
   "metadata": {},
   "source": [
    "LOGISITIC REGRESSION WITH tf-idf and count vectorizer"
   ]
  },
  {
   "cell_type": "code",
   "execution_count": 44,
   "metadata": {},
   "outputs": [
    {
     "name": "stdout",
     "output_type": "stream",
     "text": [
      "CPU times: total: 62.5 ms\n",
      "Wall time: 200 ms\n",
      "\n",
      "Training Accuracy score: 0.9874055415617129\n",
      "Testing Accuracy score: 0.9333333333333333\n"
     ]
    }
   ],
   "source": [
    "lr = LogisticRegression(random_state=SEED)\n",
    "%time lr.fit(docs_tf, y_train)\n",
    "\n",
    "y_pred_train = lr.predict(docs_tf)\n",
    "y_pred_test = lr.predict(docs_test_tf)\n",
    "print(\"\\nTraining Accuracy score:\",accuracy_score(y_train, y_pred_train))\n",
    "print(\"Testing Accuracy score:\",accuracy_score(y_test, y_pred_test))"
   ]
  },
  {
   "cell_type": "code",
   "execution_count": 45,
   "metadata": {},
   "outputs": [
    {
     "name": "stdout",
     "output_type": "stream",
     "text": [
      "\n",
      "Testing Accuracy score: 0.8229166666666666\n"
     ]
    }
   ],
   "source": [
    "test_pred = lr.predict(testX_tf)\n",
    "print(\"\\nTesting Accuracy score:\",accuracy_score(testy, test_pred))"
   ]
  },
  {
   "cell_type": "markdown",
   "metadata": {},
   "source": [
    "with count vectorizer"
   ]
  },
  {
   "cell_type": "code",
   "execution_count": 46,
   "metadata": {},
   "outputs": [
    {
     "name": "stdout",
     "output_type": "stream",
     "text": [
      "CPU times: total: 109 ms\n",
      "Wall time: 188 ms\n",
      "\n",
      "Training Accuracy score: 0.9949622166246851\n",
      "Testing Accuracy score: 0.9111111111111111\n"
     ]
    }
   ],
   "source": [
    "lr = LogisticRegression(random_state=SEED)\n",
    "%time lr.fit(docs_cv, y_train)\n",
    "\n",
    "y_pred_train = lr.predict(docs_cv)\n",
    "y_pred_test = lr.predict(docs_test_cv)\n",
    "print(\"\\nTraining Accuracy score:\",accuracy_score(y_train, y_pred_train))\n",
    "print(\"Testing Accuracy score:\",accuracy_score(y_test, y_pred_test))"
   ]
  },
  {
   "cell_type": "code",
   "execution_count": 47,
   "metadata": {},
   "outputs": [
    {
     "name": "stdout",
     "output_type": "stream",
     "text": [
      "\n",
      "Testing Accuracy score: 0.78125\n"
     ]
    }
   ],
   "source": [
    "test_pred = lr.predict(testX_cv)\n",
    "print(\"\\nTesting Accuracy score:\",accuracy_score(testy, test_pred))"
   ]
  },
  {
   "cell_type": "markdown",
   "metadata": {},
   "source": [
    "SVM WITH tf-idf and count vectorizer"
   ]
  },
  {
   "cell_type": "code",
   "execution_count": 49,
   "metadata": {},
   "outputs": [
    {
     "name": "stdout",
     "output_type": "stream",
     "text": [
      "CPU times: total: 0 ns\n",
      "Wall time: 10 ms\n",
      "\n",
      "Training Accuracy score: 0.9949622166246851\n",
      "Testing Accuracy score: 0.8888888888888888\n"
     ]
    }
   ],
   "source": [
    "svc =  LinearSVC(class_weight='balanced') \n",
    "%time svc.fit(docs_tf, y_train)\n",
    "\n",
    "y_pred_train = svc.predict(docs_tf)\n",
    "y_pred_test = svc.predict(docs_test_tf)\n",
    "print(\"\\nTraining Accuracy score:\",accuracy_score(y_train, y_pred_train))\n",
    "print(\"Testing Accuracy score:\",accuracy_score(y_test, y_pred_test))"
   ]
  },
  {
   "cell_type": "code",
   "execution_count": 52,
   "metadata": {},
   "outputs": [
    {
     "name": "stdout",
     "output_type": "stream",
     "text": [
      "\n",
      "Testing Accuracy score: 0.7916666666666666\n"
     ]
    }
   ],
   "source": [
    "test_pred = svc.predict(testX_tf)\n",
    "print(\"\\nTesting Accuracy score:\",accuracy_score(testy, test_pred))"
   ]
  },
  {
   "cell_type": "code",
   "execution_count": 53,
   "metadata": {},
   "outputs": [],
   "source": [
    "from sklearn.calibration import CalibratedClassifierCV\n",
    "calibrated_svc= CalibratedClassifierCV(base_estimator=svc, cv=5)\n"
   ]
  },
  {
   "cell_type": "code",
   "execution_count": 54,
   "metadata": {},
   "outputs": [
    {
     "name": "stdout",
     "output_type": "stream",
     "text": [
      "Accuracy: 0.8888888888888888\n"
     ]
    }
   ],
   "source": [
    "calibrated_svc.fit(docs_tf, y_train)\n",
    "predicted= calibrated_svc.predict(docs_test_tf)\n",
    "print(\"Accuracy:\",metrics.accuracy_score(y_test, predicted))"
   ]
  },
  {
   "cell_type": "code",
   "execution_count": 55,
   "metadata": {},
   "outputs": [
    {
     "name": "stdout",
     "output_type": "stream",
     "text": [
      "Accuracy: 0.8020833333333334\n"
     ]
    }
   ],
   "source": [
    "predicted= calibrated_svc.predict(testX_tf)\n",
    "print(\"Accuracy:\",metrics.accuracy_score(testy, predicted))"
   ]
  },
  {
   "cell_type": "code",
   "execution_count": 56,
   "metadata": {},
   "outputs": [
    {
     "data": {
      "text/plain": [
       "array([[56.27563915, 18.01059991,  8.82125704, 13.42314828,  3.46935562],\n",
       "       [18.97711045,  2.17340606,  8.51158441, 69.23541565,  1.10248343],\n",
       "       [ 1.16595597,  0.51894869,  4.91810626, 87.29608502,  6.10090407],\n",
       "       [ 1.40138661,  1.43226288,  4.07842644, 90.30857831,  2.77934575],\n",
       "       [43.83609696,  6.92394679,  5.15777438,  6.60262071, 37.47956116],\n",
       "       [57.33601636,  1.47675422,  9.04460449,  6.21740446, 25.92522046],\n",
       "       [ 1.01955157,  1.31596597, 27.24189008, 14.70221319, 55.72037918],\n",
       "       [15.18915265,  3.24459007, 18.00845108, 58.30175116,  5.25605505],\n",
       "       [ 1.16443292,  2.47117588, 28.31238631, 52.91823859, 15.13376629],\n",
       "       [ 0.85963049, 18.13651276, 18.65487443, 60.95490662,  1.3940757 ],\n",
       "       [20.21651786,  0.99243039, 52.13636605,  8.97836094, 17.67632475],\n",
       "       [33.84916014, 16.41278041, 43.36736946,  3.12925703,  3.24143295],\n",
       "       [ 5.20446795,  2.69897434, 10.38571641, 71.87564519,  9.83519611],\n",
       "       [ 4.62452538, 80.33935445,  9.1915297 ,  4.39901628,  1.44557419],\n",
       "       [ 1.31052869, 80.55497944, 13.40534737,  2.11190482,  2.61723968],\n",
       "       [ 6.53169083, 79.05852583, 11.28834882,  0.90106477,  2.22036975],\n",
       "       [ 0.71885535,  0.22816684, 69.78483541,  3.23295732, 26.03518508],\n",
       "       [ 1.27836852, 85.39315007,  7.52028975,  4.72392508,  1.08426659],\n",
       "       [ 4.18644682, 79.49185151,  5.60092391,  8.47041161,  2.25036614],\n",
       "       [11.10046651,  1.68175905, 81.72516865,  1.75637987,  3.73622591],\n",
       "       [19.59982198,  4.86956109, 20.81048305, 53.5750813 ,  1.14505258],\n",
       "       [41.51106432, 10.50623057, 38.53669987,  8.20388596,  1.24211928],\n",
       "       [87.67306803,  1.15174836,  6.14224264,  3.83708534,  1.19585563],\n",
       "       [47.3243626 ,  0.33535421,  9.49258367, 35.88213197,  6.96556755],\n",
       "       [ 0.35775169, 78.96065079, 13.25920824,  6.86134404,  0.56104523],\n",
       "       [55.49012804, 40.22725991,  2.45876621,  0.72177773,  1.10206812],\n",
       "       [19.01339688,  1.7906353 , 65.36483559, 13.11457581,  0.71655641],\n",
       "       [34.19481408, 24.42951304, 17.63799473, 17.55095347,  6.18672469],\n",
       "       [ 1.20190113,  1.85805582,  6.07007857,  5.85203346, 85.01793101],\n",
       "       [ 8.69033715,  0.91090634, 33.52011052, 45.12122647, 11.75741952],\n",
       "       [ 2.40491087,  1.10185929, 13.93342742, 11.42406563, 71.13573679],\n",
       "       [14.89775642, 43.05653173, 30.47112464,  7.95763296,  3.61695426],\n",
       "       [ 3.50738475,  2.31175293, 11.52448083, 81.43930472,  1.21707676],\n",
       "       [71.66666395, 11.99880045,  8.6374734 ,  7.08042277,  0.61663945],\n",
       "       [ 1.33541182,  0.88738323,  5.3261076 ,  3.07630392, 89.37479342],\n",
       "       [18.74803455,  1.94255459,  2.67698914, 75.54015498,  1.09226674],\n",
       "       [76.50428575,  0.46035229,  8.63154778, 10.07925989,  4.32455429],\n",
       "       [ 0.76102834,  0.34092008,  0.72002514, 19.52864475, 78.64938168],\n",
       "       [44.73199493,  4.63292952, 32.55568444, 14.3840014 ,  3.69538971],\n",
       "       [ 0.33659063, 22.44201499,  1.12139354,  9.93837536, 66.16162547],\n",
       "       [27.1677451 , 20.66413826, 10.82582439, 37.6623147 ,  3.67997755],\n",
       "       [63.8952847 ,  3.31079002, 26.74462607,  4.88717884,  1.16212038],\n",
       "       [81.19557981,  1.17592894,  7.85532609,  8.73035626,  1.0428089 ],\n",
       "       [ 1.35093482, 93.85119372,  2.68429918,  1.50548491,  0.60808737],\n",
       "       [ 1.65285489, 86.22339061,  1.00969789,  9.3163225 ,  1.79773411],\n",
       "       [ 1.32653768,  6.84058921, 36.3440154 , 54.90837457,  0.58048313],\n",
       "       [10.0340034 ,  3.64737714, 22.49267988, 29.67215988, 34.1537797 ],\n",
       "       [ 1.68365993,  0.37873558, 17.41159462, 66.08085446, 14.44515542],\n",
       "       [ 0.66643919, 39.82216383, 16.89686397, 35.73624909,  6.87828392],\n",
       "       [ 2.47005193, 92.43973273,  0.95364167,  2.45357513,  1.68299853],\n",
       "       [25.15056097, 37.16108727, 31.44184982,  1.72523325,  4.52126868],\n",
       "       [ 2.70727743, 88.02370038,  2.51562185,  3.58539631,  3.16800402],\n",
       "       [ 6.98353136,  1.13370379,  1.91052602, 67.33660943, 22.63562941],\n",
       "       [ 4.87056981,  8.4647509 , 24.41970898,  8.12008347, 54.12488684],\n",
       "       [91.37410872,  2.4039073 ,  2.78211028,  2.25194127,  1.18793242],\n",
       "       [ 4.94267609, 84.5018724 ,  6.83551453,  3.33680904,  0.38312794],\n",
       "       [73.09388099,  5.09329184,  7.6640151 ,  8.35098031,  5.79783176],\n",
       "       [19.35165025, 10.98514009, 13.36971613, 51.5837027 ,  4.70979084],\n",
       "       [84.28690584,  3.50764053,  3.00272099,  5.15315937,  4.04957327],\n",
       "       [ 6.42792646, 22.3256779 ,  3.14851743, 63.56900301,  4.52887521],\n",
       "       [ 6.75721337,  6.4487309 ,  7.75044009, 78.9367045 ,  0.10691114],\n",
       "       [47.17570972, 27.39925878,  8.05487438,  7.95301634,  9.41714078],\n",
       "       [24.66662051,  3.76689361,  9.52909659, 51.78380286, 10.25358644],\n",
       "       [ 5.69859723, 56.91334813, 29.66140845,  5.85196649,  1.87467969],\n",
       "       [75.87549919,  0.15509081, 19.95052794,  3.23978073,  0.77910134],\n",
       "       [ 1.7500828 , 90.47767265,  3.06811608,  3.3358337 ,  1.36829477],\n",
       "       [14.19773306,  7.90832793, 27.4002323 , 12.5270525 , 37.9666542 ],\n",
       "       [61.72001438,  4.95065109,  9.78333532, 16.70756852,  6.8384307 ],\n",
       "       [77.84388596,  4.56569663,  7.35681114,  7.5635795 ,  2.67002677],\n",
       "       [ 3.42315888,  2.83036193,  6.41661253,  5.5828141 , 81.74705256],\n",
       "       [ 1.55079809, 11.70298202, 58.10474797,  6.87790284, 21.76356908],\n",
       "       [ 3.74765781,  1.4113677 , 10.34265397, 81.44165278,  3.05666775],\n",
       "       [36.83380915,  2.38315675,  9.15635723, 48.43771765,  3.18895923],\n",
       "       [10.70897202, 65.96422266,  8.75171977,  9.32000314,  5.25508242],\n",
       "       [ 0.54554477, 89.25921535,  7.05254092,  0.55054536,  2.5921536 ],\n",
       "       [30.982379  ,  2.12332756, 17.72282802, 46.62950037,  2.54196505],\n",
       "       [ 6.64591334,  0.34443861, 84.84705605,  7.6777363 ,  0.4848557 ],\n",
       "       [88.26955753,  1.04096498,  5.83265957,  4.72795619,  0.12886172],\n",
       "       [16.52157727, 32.95680603,  8.13263141, 39.74785733,  2.64112795],\n",
       "       [36.57038335, 10.8500379 , 46.4209871 ,  2.33325782,  3.82533383],\n",
       "       [89.07492835,  0.35339291,  5.48253583,  2.98580292,  2.10334   ],\n",
       "       [88.74722376,  0.41147243,  3.17885037,  6.37551498,  1.28693846],\n",
       "       [24.615139  ,  5.25235364, 51.0585284 , 10.3564952 ,  8.71748376],\n",
       "       [ 1.60681271,  0.7376575 ,  8.42794131, 14.49931682, 74.72827166],\n",
       "       [ 1.09795093, 93.21440434,  3.16156354,  1.82592451,  0.70015667],\n",
       "       [ 3.93124593, 87.80647037,  3.7230098 ,  3.63013183,  0.90914207],\n",
       "       [ 7.65541718, 79.47121197,  2.61438956,  9.07813435,  1.18084694],\n",
       "       [52.46256979, 16.09953037, 20.92558851,  5.62948979,  4.88282153],\n",
       "       [ 0.45484231,  0.69559404, 28.87095404, 59.33923174, 10.63937788],\n",
       "       [13.224643  ,  3.41803053,  7.06497105,  2.81287821, 73.4794772 ],\n",
       "       [ 2.99476164, 88.10524899,  4.10495321,  4.38056031,  0.41447584],\n",
       "       [ 6.41858218,  2.65864941,  9.14873459, 80.37400712,  1.4000267 ],\n",
       "       [ 5.37250422,  1.01882644, 48.44904484,  2.1361312 , 43.0234933 ],\n",
       "       [ 3.18819505, 70.88656426, 12.44949561,  3.55545601,  9.92028906],\n",
       "       [75.53647242,  2.05428671,  8.84517472, 11.37825681,  2.18580934],\n",
       "       [38.78149809,  6.21846597,  9.72095122, 28.09060906, 17.18847566]])"
      ]
     },
     "execution_count": 56,
     "metadata": {},
     "output_type": "execute_result"
    }
   ],
   "source": [
    "calibrated_svc.predict_proba(testX_tf)*100"
   ]
  },
  {
   "cell_type": "code",
   "execution_count": 57,
   "metadata": {},
   "outputs": [],
   "source": [
    "from sklearn import svm\n",
    "\n",
    "rbf= svm.SVC(kernel='rbf', gamma=0.5, C=0.1).fit(docs_tf, y_train)\n",
    "poly= svm.SVC(kernel='poly', degree=3, C=1).fit(docs_tf, y_train)"
   ]
  },
  {
   "cell_type": "code",
   "execution_count": 58,
   "metadata": {},
   "outputs": [
    {
     "name": "stdout",
     "output_type": "stream",
     "text": [
      "RBF Accuracy:  0.7777777777777778\n",
      "Poly Accuracy:  0.8\n"
     ]
    }
   ],
   "source": [
    "rbf_val= rbf.predict(docs_test_tf)\n",
    "poly_val= poly.predict(docs_test_tf)\n",
    "\n",
    "print(\"RBF Accuracy: \", accuracy_score(y_test, rbf_val))\n",
    "print(\"Poly Accuracy: \", accuracy_score(y_test, poly_val))"
   ]
  },
  {
   "cell_type": "code",
   "execution_count": 59,
   "metadata": {},
   "outputs": [
    {
     "name": "stdout",
     "output_type": "stream",
     "text": [
      "\n",
      "RBF Testing Accuracy score: 0.6354166666666666\n",
      "\n",
      "Polynomial Testing Accuracy score: 0.6458333333333334\n"
     ]
    }
   ],
   "source": [
    "rbf_test_pred = rbf.predict(testX_tf)\n",
    "poly_test_pred = poly.predict(testX_tf)\n",
    "print(\"\\nRBF Testing Accuracy score:\",accuracy_score(testy, rbf_test_pred))\n",
    "print(\"\\nPolynomial Testing Accuracy score:\",accuracy_score(testy, poly_test_pred))"
   ]
  },
  {
   "cell_type": "markdown",
   "metadata": {},
   "source": [
    "with count vectorizer"
   ]
  },
  {
   "cell_type": "code",
   "execution_count": 60,
   "metadata": {},
   "outputs": [
    {
     "name": "stdout",
     "output_type": "stream",
     "text": [
      "CPU times: total: 15.6 ms\n",
      "Wall time: 20 ms\n",
      "\n",
      "Training Accuracy score: 1.0\n",
      "Testing Accuracy score: 0.9111111111111111\n"
     ]
    }
   ],
   "source": [
    "svc =  LinearSVC(class_weight='balanced') \n",
    "%time svc.fit(docs_cv, y_train)\n",
    "\n",
    "y_pred_train = svc.predict(docs_cv)\n",
    "y_pred_test = svc.predict(docs_test_cv)\n",
    "print(\"\\nTraining Accuracy score:\",accuracy_score(y_train, y_pred_train))\n",
    "print(\"Testing Accuracy score:\",accuracy_score(y_test, y_pred_test))"
   ]
  },
  {
   "cell_type": "code",
   "execution_count": 61,
   "metadata": {},
   "outputs": [
    {
     "name": "stdout",
     "output_type": "stream",
     "text": [
      "\n",
      "Testing Accuracy score: 0.7604166666666666\n"
     ]
    }
   ],
   "source": [
    "test_pred = svc.predict(testX_cv)\n",
    "print(\"\\nTesting Accuracy score:\",accuracy_score(testy, test_pred))"
   ]
  },
  {
   "cell_type": "code",
   "execution_count": 62,
   "metadata": {},
   "outputs": [
    {
     "name": "stdout",
     "output_type": "stream",
     "text": [
      "Accuracy: 0.9111111111111111\n"
     ]
    }
   ],
   "source": [
    "from sklearn.calibration import CalibratedClassifierCV\n",
    "calibrated_svc= CalibratedClassifierCV(base_estimator=svc, cv=5)\n",
    "calibrated_svc.fit(docs_cv, y_train)\n",
    "predicted= calibrated_svc.predict(docs_test_cv)\n",
    "print(\"Accuracy:\",metrics.accuracy_score(y_test, predicted))"
   ]
  },
  {
   "cell_type": "code",
   "execution_count": 63,
   "metadata": {},
   "outputs": [
    {
     "name": "stdout",
     "output_type": "stream",
     "text": [
      "Accuracy: 0.7916666666666666\n"
     ]
    }
   ],
   "source": [
    "predicted= calibrated_svc.predict(testX_cv)\n",
    "print(\"Accuracy:\",metrics.accuracy_score(testy, predicted))"
   ]
  },
  {
   "cell_type": "code",
   "execution_count": 64,
   "metadata": {},
   "outputs": [],
   "source": [
    "from sklearn import svm\n",
    "\n",
    "rbf= svm.SVC(kernel='rbf', gamma=0.5, C=0.1).fit(docs_cv, y_train)\n",
    "poly= svm.SVC(kernel='poly', degree=3, C=1).fit(docs_cv, y_train)"
   ]
  },
  {
   "cell_type": "code",
   "execution_count": 65,
   "metadata": {},
   "outputs": [
    {
     "name": "stdout",
     "output_type": "stream",
     "text": [
      "RBF Accuracy:  0.24444444444444444\n",
      "Poly Accuracy:  0.4888888888888889\n"
     ]
    }
   ],
   "source": [
    "rbf_val= rbf.predict(docs_test_cv)\n",
    "poly_val= poly.predict(docs_test_cv)\n",
    "\n",
    "print(\"RBF Accuracy: \", accuracy_score(y_test, rbf_val))\n",
    "print(\"Poly Accuracy: \", accuracy_score(y_test, poly_val))"
   ]
  },
  {
   "cell_type": "code",
   "execution_count": 66,
   "metadata": {},
   "outputs": [
    {
     "name": "stdout",
     "output_type": "stream",
     "text": [
      "\n",
      "RBF Testing Accuracy score: 0.2604166666666667\n",
      "\n",
      "Polynomial Testing Accuracy score: 0.3125\n"
     ]
    }
   ],
   "source": [
    "rbf_test_pred = rbf.predict(testX_cv)\n",
    "poly_test_pred = poly.predict(testX_cv)\n",
    "print(\"\\nRBF Testing Accuracy score:\",accuracy_score(testy, rbf_test_pred))\n",
    "print(\"\\nPolynomial Testing Accuracy score:\",accuracy_score(testy, poly_test_pred))"
   ]
  },
  {
   "cell_type": "markdown",
   "metadata": {},
   "source": [
    "DECISION TREE CLASSIFIER WITH TF-IDF AND COUNT VECTORIZER"
   ]
  },
  {
   "cell_type": "code",
   "execution_count": 67,
   "metadata": {},
   "outputs": [
    {
     "name": "stdout",
     "output_type": "stream",
     "text": [
      "CPU times: total: 31.2 ms\n",
      "Wall time: 59.6 ms\n",
      "\n",
      "Training Accuracy score: 1.0\n",
      "Testing Accuracy score: 0.8888888888888888\n"
     ]
    }
   ],
   "source": [
    "from sklearn.tree import DecisionTreeClassifier\n",
    "\n",
    "dt = DecisionTreeClassifier(random_state=SEED)\n",
    "%time dt.fit(docs_tf, y_train)\n",
    "\n",
    "y_pred_train = dt.predict(docs_tf)\n",
    "y_pred_test = dt.predict(docs_test_tf)\n",
    "print(\"\\nTraining Accuracy score:\",accuracy_score(y_train, y_pred_train))\n",
    "print(\"Testing Accuracy score:\",accuracy_score(y_test, y_pred_test))"
   ]
  },
  {
   "cell_type": "code",
   "execution_count": 68,
   "metadata": {},
   "outputs": [
    {
     "name": "stdout",
     "output_type": "stream",
     "text": [
      "\n",
      "Testing Accuracy score: 0.6458333333333334\n"
     ]
    }
   ],
   "source": [
    "test_pred = dt.predict(testX_tf)\n",
    "print(\"\\nTesting Accuracy score:\",accuracy_score(testy, test_pred))"
   ]
  },
  {
   "cell_type": "markdown",
   "metadata": {},
   "source": [
    "with count vectorizer"
   ]
  },
  {
   "cell_type": "code",
   "execution_count": 69,
   "metadata": {},
   "outputs": [
    {
     "name": "stdout",
     "output_type": "stream",
     "text": [
      "CPU times: total: 31.2 ms\n",
      "Wall time: 51.5 ms\n",
      "\n",
      "Training Accuracy score: 1.0\n",
      "Testing Accuracy score: 0.8666666666666667\n"
     ]
    }
   ],
   "source": [
    "from sklearn.tree import DecisionTreeClassifier\n",
    "\n",
    "dt = DecisionTreeClassifier(random_state=SEED)\n",
    "%time dt.fit(docs_cv, y_train)\n",
    "\n",
    "y_pred_train = dt.predict(docs_cv)\n",
    "y_pred_test = dt.predict(docs_test_cv)\n",
    "print(\"\\nTraining Accuracy score:\",accuracy_score(y_train, y_pred_train))\n",
    "print(\"Testing Accuracy score:\",accuracy_score(y_test, y_pred_test))"
   ]
  },
  {
   "cell_type": "code",
   "execution_count": 70,
   "metadata": {},
   "outputs": [
    {
     "name": "stdout",
     "output_type": "stream",
     "text": [
      "\n",
      "Testing Accuracy score: 0.7083333333333334\n"
     ]
    }
   ],
   "source": [
    "test_pred = dt.predict(testX_cv)\n",
    "print(\"\\nTesting Accuracy score:\",accuracy_score(testy, test_pred))"
   ]
  },
  {
   "cell_type": "markdown",
   "metadata": {},
   "source": [
    "RANDOM FOREST WITH TF-IDF AND COUNT VECTORIZER"
   ]
  },
  {
   "cell_type": "code",
   "execution_count": 71,
   "metadata": {},
   "outputs": [
    {
     "name": "stdout",
     "output_type": "stream",
     "text": [
      "CPU times: total: 219 ms\n",
      "Wall time: 427 ms\n",
      "\n",
      "Training Accuracy score: 1.0\n",
      "Testing Accuracy score: 0.8888888888888888\n"
     ]
    }
   ],
   "source": [
    "from sklearn.ensemble import RandomForestClassifier\n",
    "rf = RandomForestClassifier(random_state=SEED)\n",
    "%time rf.fit(docs_tf, y_train)\n",
    "\n",
    "y_pred_train = rf.predict(docs_tf)\n",
    "y_pred_test = rf.predict(docs_test_tf)\n",
    "print(\"\\nTraining Accuracy score:\",accuracy_score(y_train, y_pred_train))\n",
    "print(\"Testing Accuracy score:\",accuracy_score(y_test, y_pred_test))"
   ]
  },
  {
   "cell_type": "code",
   "execution_count": 72,
   "metadata": {},
   "outputs": [
    {
     "name": "stdout",
     "output_type": "stream",
     "text": [
      "\n",
      "Testing Accuracy score: 0.7916666666666666\n"
     ]
    }
   ],
   "source": [
    "test_pred = rf.predict(testX_tf)\n",
    "print(\"\\nTesting Accuracy score:\",accuracy_score(testy, test_pred))"
   ]
  },
  {
   "cell_type": "markdown",
   "metadata": {},
   "source": [
    "WITH COUNT VECTORIZER"
   ]
  },
  {
   "cell_type": "code",
   "execution_count": 73,
   "metadata": {},
   "outputs": [
    {
     "name": "stdout",
     "output_type": "stream",
     "text": [
      "CPU times: total: 234 ms\n",
      "Wall time: 402 ms\n",
      "\n",
      "Training Accuracy score: 1.0\n",
      "Testing Accuracy score: 0.9111111111111111\n"
     ]
    }
   ],
   "source": [
    "from sklearn.ensemble import RandomForestClassifier\n",
    "rf = RandomForestClassifier(random_state=SEED)\n",
    "%time rf.fit(docs_cv, y_train)\n",
    "\n",
    "y_pred_train = rf.predict(docs_cv)\n",
    "y_pred_test = rf.predict(docs_test_cv)\n",
    "print(\"\\nTraining Accuracy score:\",accuracy_score(y_train, y_pred_train))\n",
    "print(\"Testing Accuracy score:\",accuracy_score(y_test, y_pred_test))"
   ]
  },
  {
   "cell_type": "code",
   "execution_count": 74,
   "metadata": {},
   "outputs": [
    {
     "name": "stdout",
     "output_type": "stream",
     "text": [
      "\n",
      "Testing Accuracy score: 0.8229166666666666\n"
     ]
    }
   ],
   "source": [
    "test_pred = rf.predict(testX_cv)\n",
    "print(\"\\nTesting Accuracy score:\",accuracy_score(testy, test_pred))"
   ]
  },
  {
   "cell_type": "markdown",
   "metadata": {},
   "source": [
    "VOTING CLASSIFIER (LR+RF+SVM+NB) WITH TF-IDF AND COUNT VECTORIZER"
   ]
  },
  {
   "cell_type": "code",
   "execution_count": 115,
   "metadata": {},
   "outputs": [
    {
     "name": "stdout",
     "output_type": "stream",
     "text": [
      "0.8389102564102563\n"
     ]
    }
   ],
   "source": [
    "from sklearn.tree import DecisionTreeClassifier\n",
    "from sklearn.svm import SVC\n",
    "from sklearn.naive_bayes import GaussianNB\n",
    "from sklearn.ensemble import VotingClassifier\n",
    "import sklearn.model_selection as model_selection\n",
    "import xgboost as xgb\n",
    "kfold= model_selection.KFold(n_splits=10)\n",
    "\n",
    "# create the sub models\n",
    "estimators = []\n",
    "model1 = LogisticRegression()\n",
    "estimators.append(('logistic', model1))\n",
    "model2 = LinearSVC()\n",
    "estimators.append(('svm', model2))\n",
    "model3 = MultinomialNB()\n",
    "estimators.append(('nb', model3))\n",
    "model4 = RandomForestClassifier()\n",
    "estimators.append(('rf', model4))\n",
    "\n",
    "# create the ensemble model\n",
    "ensemble = VotingClassifier(estimators)\n",
    "results = model_selection.cross_val_score(ensemble, docs_tf, y_train, cv=kfold)\n",
    "print(results.mean())\n"
   ]
  },
  {
   "cell_type": "code",
   "execution_count": 116,
   "metadata": {},
   "outputs": [
    {
     "data": {
      "text/html": [
       "<style>#sk-container-id-3 {color: black;}#sk-container-id-3 pre{padding: 0;}#sk-container-id-3 div.sk-toggleable {background-color: white;}#sk-container-id-3 label.sk-toggleable__label {cursor: pointer;display: block;width: 100%;margin-bottom: 0;padding: 0.3em;box-sizing: border-box;text-align: center;}#sk-container-id-3 label.sk-toggleable__label-arrow:before {content: \"▸\";float: left;margin-right: 0.25em;color: #696969;}#sk-container-id-3 label.sk-toggleable__label-arrow:hover:before {color: black;}#sk-container-id-3 div.sk-estimator:hover label.sk-toggleable__label-arrow:before {color: black;}#sk-container-id-3 div.sk-toggleable__content {max-height: 0;max-width: 0;overflow: hidden;text-align: left;background-color: #f0f8ff;}#sk-container-id-3 div.sk-toggleable__content pre {margin: 0.2em;color: black;border-radius: 0.25em;background-color: #f0f8ff;}#sk-container-id-3 input.sk-toggleable__control:checked~div.sk-toggleable__content {max-height: 200px;max-width: 100%;overflow: auto;}#sk-container-id-3 input.sk-toggleable__control:checked~label.sk-toggleable__label-arrow:before {content: \"▾\";}#sk-container-id-3 div.sk-estimator input.sk-toggleable__control:checked~label.sk-toggleable__label {background-color: #d4ebff;}#sk-container-id-3 div.sk-label input.sk-toggleable__control:checked~label.sk-toggleable__label {background-color: #d4ebff;}#sk-container-id-3 input.sk-hidden--visually {border: 0;clip: rect(1px 1px 1px 1px);clip: rect(1px, 1px, 1px, 1px);height: 1px;margin: -1px;overflow: hidden;padding: 0;position: absolute;width: 1px;}#sk-container-id-3 div.sk-estimator {font-family: monospace;background-color: #f0f8ff;border: 1px dotted black;border-radius: 0.25em;box-sizing: border-box;margin-bottom: 0.5em;}#sk-container-id-3 div.sk-estimator:hover {background-color: #d4ebff;}#sk-container-id-3 div.sk-parallel-item::after {content: \"\";width: 100%;border-bottom: 1px solid gray;flex-grow: 1;}#sk-container-id-3 div.sk-label:hover label.sk-toggleable__label {background-color: #d4ebff;}#sk-container-id-3 div.sk-serial::before {content: \"\";position: absolute;border-left: 1px solid gray;box-sizing: border-box;top: 0;bottom: 0;left: 50%;z-index: 0;}#sk-container-id-3 div.sk-serial {display: flex;flex-direction: column;align-items: center;background-color: white;padding-right: 0.2em;padding-left: 0.2em;position: relative;}#sk-container-id-3 div.sk-item {position: relative;z-index: 1;}#sk-container-id-3 div.sk-parallel {display: flex;align-items: stretch;justify-content: center;background-color: white;position: relative;}#sk-container-id-3 div.sk-item::before, #sk-container-id-3 div.sk-parallel-item::before {content: \"\";position: absolute;border-left: 1px solid gray;box-sizing: border-box;top: 0;bottom: 0;left: 50%;z-index: -1;}#sk-container-id-3 div.sk-parallel-item {display: flex;flex-direction: column;z-index: 1;position: relative;background-color: white;}#sk-container-id-3 div.sk-parallel-item:first-child::after {align-self: flex-end;width: 50%;}#sk-container-id-3 div.sk-parallel-item:last-child::after {align-self: flex-start;width: 50%;}#sk-container-id-3 div.sk-parallel-item:only-child::after {width: 0;}#sk-container-id-3 div.sk-dashed-wrapped {border: 1px dashed gray;margin: 0 0.4em 0.5em 0.4em;box-sizing: border-box;padding-bottom: 0.4em;background-color: white;}#sk-container-id-3 div.sk-label label {font-family: monospace;font-weight: bold;display: inline-block;line-height: 1.2em;}#sk-container-id-3 div.sk-label-container {text-align: center;}#sk-container-id-3 div.sk-container {/* jupyter's `normalize.less` sets `[hidden] { display: none; }` but bootstrap.min.css set `[hidden] { display: none !important; }` so we also need the `!important` here to be able to override the default hidden behavior on the sphinx rendered scikit-learn.org. See: https://github.com/scikit-learn/scikit-learn/issues/21755 */display: inline-block !important;position: relative;}#sk-container-id-3 div.sk-text-repr-fallback {display: none;}</style><div id=\"sk-container-id-3\" class=\"sk-top-container\"><div class=\"sk-text-repr-fallback\"><pre>VotingClassifier(estimators=[(&#x27;logistic&#x27;, LogisticRegression()),\n",
       "                             (&#x27;svm&#x27;, LinearSVC()), (&#x27;nb&#x27;, MultinomialNB()),\n",
       "                             (&#x27;rf&#x27;, RandomForestClassifier())])</pre><b>In a Jupyter environment, please rerun this cell to show the HTML representation or trust the notebook. <br />On GitHub, the HTML representation is unable to render, please try loading this page with nbviewer.org.</b></div><div class=\"sk-container\" hidden><div class=\"sk-item sk-dashed-wrapped\"><div class=\"sk-label-container\"><div class=\"sk-label sk-toggleable\"><input class=\"sk-toggleable__control sk-hidden--visually\" id=\"sk-estimator-id-13\" type=\"checkbox\" ><label for=\"sk-estimator-id-13\" class=\"sk-toggleable__label sk-toggleable__label-arrow\">VotingClassifier</label><div class=\"sk-toggleable__content\"><pre>VotingClassifier(estimators=[(&#x27;logistic&#x27;, LogisticRegression()),\n",
       "                             (&#x27;svm&#x27;, LinearSVC()), (&#x27;nb&#x27;, MultinomialNB()),\n",
       "                             (&#x27;rf&#x27;, RandomForestClassifier())])</pre></div></div></div><div class=\"sk-parallel\"><div class=\"sk-parallel-item\"><div class=\"sk-item\"><div class=\"sk-label-container\"><div class=\"sk-label sk-toggleable\"><label>logistic</label></div></div><div class=\"sk-serial\"><div class=\"sk-item\"><div class=\"sk-estimator sk-toggleable\"><input class=\"sk-toggleable__control sk-hidden--visually\" id=\"sk-estimator-id-14\" type=\"checkbox\" ><label for=\"sk-estimator-id-14\" class=\"sk-toggleable__label sk-toggleable__label-arrow\">LogisticRegression</label><div class=\"sk-toggleable__content\"><pre>LogisticRegression()</pre></div></div></div></div></div></div><div class=\"sk-parallel-item\"><div class=\"sk-item\"><div class=\"sk-label-container\"><div class=\"sk-label sk-toggleable\"><label>svm</label></div></div><div class=\"sk-serial\"><div class=\"sk-item\"><div class=\"sk-estimator sk-toggleable\"><input class=\"sk-toggleable__control sk-hidden--visually\" id=\"sk-estimator-id-15\" type=\"checkbox\" ><label for=\"sk-estimator-id-15\" class=\"sk-toggleable__label sk-toggleable__label-arrow\">LinearSVC</label><div class=\"sk-toggleable__content\"><pre>LinearSVC()</pre></div></div></div></div></div></div><div class=\"sk-parallel-item\"><div class=\"sk-item\"><div class=\"sk-label-container\"><div class=\"sk-label sk-toggleable\"><label>nb</label></div></div><div class=\"sk-serial\"><div class=\"sk-item\"><div class=\"sk-estimator sk-toggleable\"><input class=\"sk-toggleable__control sk-hidden--visually\" id=\"sk-estimator-id-16\" type=\"checkbox\" ><label for=\"sk-estimator-id-16\" class=\"sk-toggleable__label sk-toggleable__label-arrow\">MultinomialNB</label><div class=\"sk-toggleable__content\"><pre>MultinomialNB()</pre></div></div></div></div></div></div><div class=\"sk-parallel-item\"><div class=\"sk-item\"><div class=\"sk-label-container\"><div class=\"sk-label sk-toggleable\"><label>rf</label></div></div><div class=\"sk-serial\"><div class=\"sk-item\"><div class=\"sk-estimator sk-toggleable\"><input class=\"sk-toggleable__control sk-hidden--visually\" id=\"sk-estimator-id-17\" type=\"checkbox\" ><label for=\"sk-estimator-id-17\" class=\"sk-toggleable__label sk-toggleable__label-arrow\">RandomForestClassifier</label><div class=\"sk-toggleable__content\"><pre>RandomForestClassifier()</pre></div></div></div></div></div></div></div></div></div></div>"
      ],
      "text/plain": [
       "VotingClassifier(estimators=[('logistic', LogisticRegression()),\n",
       "                             ('svm', LinearSVC()), ('nb', MultinomialNB()),\n",
       "                             ('rf', RandomForestClassifier())])"
      ]
     },
     "execution_count": 116,
     "metadata": {},
     "output_type": "execute_result"
    }
   ],
   "source": [
    "ensemble.fit(docs_tf, y_train)"
   ]
  },
  {
   "cell_type": "code",
   "execution_count": 117,
   "metadata": {},
   "outputs": [
    {
     "name": "stdout",
     "output_type": "stream",
     "text": [
      "Accuracy: 0.9333\n",
      "Precision: 0.9405\n",
      "Recall: 0.9333\n",
      "F1-score: 0.9331\n"
     ]
    }
   ],
   "source": [
    "\n",
    "# Model Evaluation\n",
    "from sklearn.metrics import f1_score\n",
    "from sklearn.metrics import precision_score, recall_score\n",
    "from sklearn.metrics import confusion_matrix\n",
    "from sklearn.metrics import classification_report\n",
    "\n",
    "y_pred = ensemble.predict(docs_test_tf)\n",
    "accuracy = accuracy_score(y_test, y_pred)\n",
    "precision = precision_score(y_test, y_pred, average='weighted')\n",
    "recall = recall_score(y_test, y_pred, average='weighted')\n",
    "f1 = f1_score(y_test, y_pred, average='weighted')\n",
    "\n",
    "print(f\"Accuracy: {accuracy:.4f}\")\n",
    "print(f\"Precision: {precision:.4f}\")\n",
    "print(f\"Recall: {recall:.4f}\")\n",
    "print(f\"F1-score: {f1:.4f}\")"
   ]
  },
  {
   "cell_type": "code",
   "execution_count": 118,
   "metadata": {},
   "outputs": [
    {
     "name": "stdout",
     "output_type": "stream",
     "text": [
      "Testing Accuracy score:  0.8020833333333334\n",
      "Testing Precision score:  0.8141312734836285\n",
      "Testing Recall score:  0.8020833333333334\n",
      "Testing F1 score:  0.8024974730458222\n"
     ]
    }
   ],
   "source": [
    "test_pred = ensemble.predict(testX_tf)\n",
    "accuracy= accuracy_score(testy, test_pred)\n",
    "precision= precision_score(testy, test_pred, average='weighted')\n",
    "recall= recall_score(testy, test_pred, average='weighted')\n",
    "f1= f1_score(testy, test_pred, average='weighted')\n",
    "print(\"Testing Accuracy score: \",accuracy)\n",
    "print(\"Testing Precision score: \",precision)\n",
    "print(\"Testing Recall score: \",recall)\n",
    "print(\"Testing F1 score: \",f1)\n"
   ]
  },
  {
   "cell_type": "markdown",
   "metadata": {},
   "source": [
    "WITH COUNT VECTORIZER"
   ]
  },
  {
   "cell_type": "code",
   "execution_count": 119,
   "metadata": {},
   "outputs": [
    {
     "name": "stdout",
     "output_type": "stream",
     "text": [
      "0.8385897435897436\n"
     ]
    }
   ],
   "source": [
    "from sklearn.tree import DecisionTreeClassifier\n",
    "from sklearn.svm import SVC\n",
    "from sklearn.naive_bayes import GaussianNB\n",
    "from sklearn.ensemble import VotingClassifier\n",
    "import sklearn.model_selection as model_selection\n",
    "import xgboost as xgb\n",
    "kfold= model_selection.KFold(n_splits=10)\n",
    "\n",
    "# create the sub models\n",
    "estimators = []\n",
    "model1 = LogisticRegression()\n",
    "estimators.append(('logistic', model1))\n",
    "model2 = LinearSVC()\n",
    "estimators.append(('svm', model2))\n",
    "model3 = MultinomialNB()\n",
    "estimators.append(('nb', model3))\n",
    "model4 = RandomForestClassifier()\n",
    "estimators.append(('rf', model4))\n",
    "\n",
    "# create the ensemble model\n",
    "ensemble = VotingClassifier(estimators)\n",
    "results = model_selection.cross_val_score(ensemble, docs_cv, y_train, cv=kfold)\n",
    "print(results.mean())\n"
   ]
  },
  {
   "cell_type": "code",
   "execution_count": 120,
   "metadata": {},
   "outputs": [
    {
     "data": {
      "text/html": [
       "<style>#sk-container-id-4 {color: black;}#sk-container-id-4 pre{padding: 0;}#sk-container-id-4 div.sk-toggleable {background-color: white;}#sk-container-id-4 label.sk-toggleable__label {cursor: pointer;display: block;width: 100%;margin-bottom: 0;padding: 0.3em;box-sizing: border-box;text-align: center;}#sk-container-id-4 label.sk-toggleable__label-arrow:before {content: \"▸\";float: left;margin-right: 0.25em;color: #696969;}#sk-container-id-4 label.sk-toggleable__label-arrow:hover:before {color: black;}#sk-container-id-4 div.sk-estimator:hover label.sk-toggleable__label-arrow:before {color: black;}#sk-container-id-4 div.sk-toggleable__content {max-height: 0;max-width: 0;overflow: hidden;text-align: left;background-color: #f0f8ff;}#sk-container-id-4 div.sk-toggleable__content pre {margin: 0.2em;color: black;border-radius: 0.25em;background-color: #f0f8ff;}#sk-container-id-4 input.sk-toggleable__control:checked~div.sk-toggleable__content {max-height: 200px;max-width: 100%;overflow: auto;}#sk-container-id-4 input.sk-toggleable__control:checked~label.sk-toggleable__label-arrow:before {content: \"▾\";}#sk-container-id-4 div.sk-estimator input.sk-toggleable__control:checked~label.sk-toggleable__label {background-color: #d4ebff;}#sk-container-id-4 div.sk-label input.sk-toggleable__control:checked~label.sk-toggleable__label {background-color: #d4ebff;}#sk-container-id-4 input.sk-hidden--visually {border: 0;clip: rect(1px 1px 1px 1px);clip: rect(1px, 1px, 1px, 1px);height: 1px;margin: -1px;overflow: hidden;padding: 0;position: absolute;width: 1px;}#sk-container-id-4 div.sk-estimator {font-family: monospace;background-color: #f0f8ff;border: 1px dotted black;border-radius: 0.25em;box-sizing: border-box;margin-bottom: 0.5em;}#sk-container-id-4 div.sk-estimator:hover {background-color: #d4ebff;}#sk-container-id-4 div.sk-parallel-item::after {content: \"\";width: 100%;border-bottom: 1px solid gray;flex-grow: 1;}#sk-container-id-4 div.sk-label:hover label.sk-toggleable__label {background-color: #d4ebff;}#sk-container-id-4 div.sk-serial::before {content: \"\";position: absolute;border-left: 1px solid gray;box-sizing: border-box;top: 0;bottom: 0;left: 50%;z-index: 0;}#sk-container-id-4 div.sk-serial {display: flex;flex-direction: column;align-items: center;background-color: white;padding-right: 0.2em;padding-left: 0.2em;position: relative;}#sk-container-id-4 div.sk-item {position: relative;z-index: 1;}#sk-container-id-4 div.sk-parallel {display: flex;align-items: stretch;justify-content: center;background-color: white;position: relative;}#sk-container-id-4 div.sk-item::before, #sk-container-id-4 div.sk-parallel-item::before {content: \"\";position: absolute;border-left: 1px solid gray;box-sizing: border-box;top: 0;bottom: 0;left: 50%;z-index: -1;}#sk-container-id-4 div.sk-parallel-item {display: flex;flex-direction: column;z-index: 1;position: relative;background-color: white;}#sk-container-id-4 div.sk-parallel-item:first-child::after {align-self: flex-end;width: 50%;}#sk-container-id-4 div.sk-parallel-item:last-child::after {align-self: flex-start;width: 50%;}#sk-container-id-4 div.sk-parallel-item:only-child::after {width: 0;}#sk-container-id-4 div.sk-dashed-wrapped {border: 1px dashed gray;margin: 0 0.4em 0.5em 0.4em;box-sizing: border-box;padding-bottom: 0.4em;background-color: white;}#sk-container-id-4 div.sk-label label {font-family: monospace;font-weight: bold;display: inline-block;line-height: 1.2em;}#sk-container-id-4 div.sk-label-container {text-align: center;}#sk-container-id-4 div.sk-container {/* jupyter's `normalize.less` sets `[hidden] { display: none; }` but bootstrap.min.css set `[hidden] { display: none !important; }` so we also need the `!important` here to be able to override the default hidden behavior on the sphinx rendered scikit-learn.org. See: https://github.com/scikit-learn/scikit-learn/issues/21755 */display: inline-block !important;position: relative;}#sk-container-id-4 div.sk-text-repr-fallback {display: none;}</style><div id=\"sk-container-id-4\" class=\"sk-top-container\"><div class=\"sk-text-repr-fallback\"><pre>VotingClassifier(estimators=[(&#x27;logistic&#x27;, LogisticRegression()),\n",
       "                             (&#x27;svm&#x27;, LinearSVC()), (&#x27;nb&#x27;, MultinomialNB()),\n",
       "                             (&#x27;rf&#x27;, RandomForestClassifier())])</pre><b>In a Jupyter environment, please rerun this cell to show the HTML representation or trust the notebook. <br />On GitHub, the HTML representation is unable to render, please try loading this page with nbviewer.org.</b></div><div class=\"sk-container\" hidden><div class=\"sk-item sk-dashed-wrapped\"><div class=\"sk-label-container\"><div class=\"sk-label sk-toggleable\"><input class=\"sk-toggleable__control sk-hidden--visually\" id=\"sk-estimator-id-18\" type=\"checkbox\" ><label for=\"sk-estimator-id-18\" class=\"sk-toggleable__label sk-toggleable__label-arrow\">VotingClassifier</label><div class=\"sk-toggleable__content\"><pre>VotingClassifier(estimators=[(&#x27;logistic&#x27;, LogisticRegression()),\n",
       "                             (&#x27;svm&#x27;, LinearSVC()), (&#x27;nb&#x27;, MultinomialNB()),\n",
       "                             (&#x27;rf&#x27;, RandomForestClassifier())])</pre></div></div></div><div class=\"sk-parallel\"><div class=\"sk-parallel-item\"><div class=\"sk-item\"><div class=\"sk-label-container\"><div class=\"sk-label sk-toggleable\"><label>logistic</label></div></div><div class=\"sk-serial\"><div class=\"sk-item\"><div class=\"sk-estimator sk-toggleable\"><input class=\"sk-toggleable__control sk-hidden--visually\" id=\"sk-estimator-id-19\" type=\"checkbox\" ><label for=\"sk-estimator-id-19\" class=\"sk-toggleable__label sk-toggleable__label-arrow\">LogisticRegression</label><div class=\"sk-toggleable__content\"><pre>LogisticRegression()</pre></div></div></div></div></div></div><div class=\"sk-parallel-item\"><div class=\"sk-item\"><div class=\"sk-label-container\"><div class=\"sk-label sk-toggleable\"><label>svm</label></div></div><div class=\"sk-serial\"><div class=\"sk-item\"><div class=\"sk-estimator sk-toggleable\"><input class=\"sk-toggleable__control sk-hidden--visually\" id=\"sk-estimator-id-20\" type=\"checkbox\" ><label for=\"sk-estimator-id-20\" class=\"sk-toggleable__label sk-toggleable__label-arrow\">LinearSVC</label><div class=\"sk-toggleable__content\"><pre>LinearSVC()</pre></div></div></div></div></div></div><div class=\"sk-parallel-item\"><div class=\"sk-item\"><div class=\"sk-label-container\"><div class=\"sk-label sk-toggleable\"><label>nb</label></div></div><div class=\"sk-serial\"><div class=\"sk-item\"><div class=\"sk-estimator sk-toggleable\"><input class=\"sk-toggleable__control sk-hidden--visually\" id=\"sk-estimator-id-21\" type=\"checkbox\" ><label for=\"sk-estimator-id-21\" class=\"sk-toggleable__label sk-toggleable__label-arrow\">MultinomialNB</label><div class=\"sk-toggleable__content\"><pre>MultinomialNB()</pre></div></div></div></div></div></div><div class=\"sk-parallel-item\"><div class=\"sk-item\"><div class=\"sk-label-container\"><div class=\"sk-label sk-toggleable\"><label>rf</label></div></div><div class=\"sk-serial\"><div class=\"sk-item\"><div class=\"sk-estimator sk-toggleable\"><input class=\"sk-toggleable__control sk-hidden--visually\" id=\"sk-estimator-id-22\" type=\"checkbox\" ><label for=\"sk-estimator-id-22\" class=\"sk-toggleable__label sk-toggleable__label-arrow\">RandomForestClassifier</label><div class=\"sk-toggleable__content\"><pre>RandomForestClassifier()</pre></div></div></div></div></div></div></div></div></div></div>"
      ],
      "text/plain": [
       "VotingClassifier(estimators=[('logistic', LogisticRegression()),\n",
       "                             ('svm', LinearSVC()), ('nb', MultinomialNB()),\n",
       "                             ('rf', RandomForestClassifier())])"
      ]
     },
     "execution_count": 120,
     "metadata": {},
     "output_type": "execute_result"
    }
   ],
   "source": [
    "ensemble.fit(docs_cv, y_train)"
   ]
  },
  {
   "cell_type": "code",
   "execution_count": 121,
   "metadata": {},
   "outputs": [
    {
     "name": "stdout",
     "output_type": "stream",
     "text": [
      "Accuracy: 0.9333\n",
      "Precision: 0.9405\n",
      "Recall: 0.9333\n",
      "F1-score: 0.9331\n"
     ]
    }
   ],
   "source": [
    "\n",
    "# Model Evaluation\n",
    "from sklearn.metrics import f1_score\n",
    "from sklearn.metrics import precision_score, recall_score\n",
    "from sklearn.metrics import confusion_matrix\n",
    "from sklearn.metrics import classification_report\n",
    "\n",
    "y_pred = ensemble.predict(docs_test_cv)\n",
    "accuracy = accuracy_score(y_test, y_pred)\n",
    "precision = precision_score(y_test, y_pred, average='weighted')\n",
    "recall = recall_score(y_test, y_pred, average='weighted')\n",
    "f1 = f1_score(y_test, y_pred, average='weighted')\n",
    "\n",
    "print(f\"Accuracy: {accuracy:.4f}\")\n",
    "print(f\"Precision: {precision:.4f}\")\n",
    "print(f\"Recall: {recall:.4f}\")\n",
    "print(f\"F1-score: {f1:.4f}\")"
   ]
  },
  {
   "cell_type": "code",
   "execution_count": 122,
   "metadata": {},
   "outputs": [
    {
     "name": "stdout",
     "output_type": "stream",
     "text": [
      "Testing Accuracy score:  0.78125\n",
      "Testing Precision score:  0.7862522893772893\n",
      "Testing Recall score:  0.78125\n",
      "Testing F1 score:  0.7819847550110709\n"
     ]
    }
   ],
   "source": [
    "test_pred = ensemble.predict(testX_cv)\n",
    "accuracy= accuracy_score(testy, test_pred)\n",
    "precision= precision_score(testy, test_pred, average='weighted')\n",
    "recall= recall_score(testy, test_pred, average='weighted')\n",
    "f1= f1_score(testy, test_pred, average='weighted')\n",
    "print(\"Testing Accuracy score: \",accuracy)\n",
    "print(\"Testing Precision score: \",precision)\n",
    "print(\"Testing Recall score: \",recall)\n",
    "print(\"Testing F1 score: \",f1)\n"
   ]
  },
  {
   "cell_type": "code",
   "execution_count": 131,
   "metadata": {},
   "outputs": [
    {
     "name": "stdout",
     "output_type": "stream",
     "text": [
      "Gaussian Naive Bayes\n",
      "Multinomial Naive Bayes\n",
      "Logistic Regression\n",
      "Support Vector Machine\n",
      "Decision Tree\n",
      "Random Forest\n",
      "Ensemble (Logistic + NB + RF + SVM)\n"
     ]
    },
    {
     "data": {
      "text/html": [
       "<div>\n",
       "<style scoped>\n",
       "    .dataframe tbody tr th:only-of-type {\n",
       "        vertical-align: middle;\n",
       "    }\n",
       "\n",
       "    .dataframe tbody tr th {\n",
       "        vertical-align: top;\n",
       "    }\n",
       "\n",
       "    .dataframe thead th {\n",
       "        text-align: right;\n",
       "    }\n",
       "</style>\n",
       "<table border=\"1\" class=\"dataframe\">\n",
       "  <thead>\n",
       "    <tr style=\"text-align: right;\">\n",
       "      <th></th>\n",
       "      <th>Model</th>\n",
       "      <th>TF-IDF</th>\n",
       "      <th>Bag of Words</th>\n",
       "    </tr>\n",
       "  </thead>\n",
       "  <tbody>\n",
       "    <tr>\n",
       "      <th>0</th>\n",
       "      <td>Gaussian Naive Bayes</td>\n",
       "      <td>0.625000</td>\n",
       "      <td>0.604167</td>\n",
       "    </tr>\n",
       "    <tr>\n",
       "      <th>1</th>\n",
       "      <td>Multinomial Naive Bayes</td>\n",
       "      <td>0.708333</td>\n",
       "      <td>0.697917</td>\n",
       "    </tr>\n",
       "    <tr>\n",
       "      <th>2</th>\n",
       "      <td>Logistic Regression</td>\n",
       "      <td>0.822917</td>\n",
       "      <td>0.781250</td>\n",
       "    </tr>\n",
       "    <tr>\n",
       "      <th>3</th>\n",
       "      <td>Support Vector Machine</td>\n",
       "      <td>0.802083</td>\n",
       "      <td>0.791667</td>\n",
       "    </tr>\n",
       "    <tr>\n",
       "      <th>4</th>\n",
       "      <td>Decision Tree</td>\n",
       "      <td>0.645833</td>\n",
       "      <td>0.708333</td>\n",
       "    </tr>\n",
       "    <tr>\n",
       "      <th>5</th>\n",
       "      <td>Random Forest</td>\n",
       "      <td>0.791667</td>\n",
       "      <td>0.822917</td>\n",
       "    </tr>\n",
       "    <tr>\n",
       "      <th>6</th>\n",
       "      <td>Ensemble (Logistic + NB + RF + SVM)</td>\n",
       "      <td>0.802083</td>\n",
       "      <td>0.791667</td>\n",
       "    </tr>\n",
       "  </tbody>\n",
       "</table>\n",
       "</div>"
      ],
      "text/plain": [
       "                                 Model    TF-IDF  Bag of Words\n",
       "0                 Gaussian Naive Bayes  0.625000      0.604167\n",
       "1              Multinomial Naive Bayes  0.708333      0.697917\n",
       "2                  Logistic Regression  0.822917      0.781250\n",
       "3               Support Vector Machine  0.802083      0.791667\n",
       "4                        Decision Tree  0.645833      0.708333\n",
       "5                        Random Forest  0.791667      0.822917\n",
       "6  Ensemble (Logistic + NB + RF + SVM)  0.802083      0.791667"
      ]
     },
     "execution_count": 131,
     "metadata": {},
     "output_type": "execute_result"
    }
   ],
   "source": [
    "# write code to create a table for the accuracies of all models with tf-idf vectorizer and count vectorizer and compare them \n",
    "# rows will be the models and columns will be tf-idf and count vectorizer\n",
    "# use the table to write the report\n",
    "\n",
    "def find_accuracy(model,X_train, Y_train, X_test, testy):\n",
    "    model.fit(X_train, Y_train)\n",
    "    y_pred_test = model.predict(X_test)\n",
    "    test_acc = accuracy_score(testy, y_pred_test)\n",
    "    return test_acc\n",
    "\n",
    "def tabulate(models, testX_tf, testX_cv):\n",
    "    table= []\n",
    "    for model_name in models.keys():\n",
    "        model = models[model_name]\n",
    "        print(model_name)\n",
    "        table.append([model_name, find_accuracy(model,docs_tf, y_train, testX_tf, testy), find_accuracy(model, docs_cv, y_train, testX_cv, testy)])\n",
    "    return pd.DataFrame(table, columns=['Model', 'TF-IDF', 'Bag of Words'])\n",
    "\n",
    "\n",
    "models={\n",
    "    \"Gaussian Naive Bayes\": gnb,\n",
    "    \"Multinomial Naive Bayes\": mnb,\n",
    "    \"Logistic Regression\": lr,\n",
    "    # \"Linear SVC\": svc,\n",
    "    \"Support Vector Machine\": calibrated_svc,\n",
    "    \"Decision Tree\": dt,\n",
    "    \"Random Forest\": rf,\n",
    "    \"Ensemble (Logistic + NB + RF + SVM)\": ensemble,\n",
    "}\n",
    "\n",
    "table = tabulate(models, testX_tf, testX_cv)\n",
    "table"
   ]
  },
  {
   "cell_type": "code",
   "execution_count": 143,
   "metadata": {},
   "outputs": [
    {
     "name": "stdout",
     "output_type": "stream",
     "text": [
      "Models accuracy on validation and test data with TF-IDF vectorizer\n"
     ]
    },
    {
     "data": {
      "text/html": [
       "<div>\n",
       "<style scoped>\n",
       "    .dataframe tbody tr th:only-of-type {\n",
       "        vertical-align: middle;\n",
       "    }\n",
       "\n",
       "    .dataframe tbody tr th {\n",
       "        vertical-align: top;\n",
       "    }\n",
       "\n",
       "    .dataframe thead th {\n",
       "        text-align: right;\n",
       "    }\n",
       "</style>\n",
       "<table border=\"1\" class=\"dataframe\">\n",
       "  <thead>\n",
       "    <tr style=\"text-align: right;\">\n",
       "      <th></th>\n",
       "      <th>Model</th>\n",
       "      <th>Validation Accuracy</th>\n",
       "      <th>Test Accuracy</th>\n",
       "    </tr>\n",
       "  </thead>\n",
       "  <tbody>\n",
       "    <tr>\n",
       "      <th>0</th>\n",
       "      <td>Gaussian Naive Bayes</td>\n",
       "      <td>0.711111</td>\n",
       "      <td>0.625000</td>\n",
       "    </tr>\n",
       "    <tr>\n",
       "      <th>1</th>\n",
       "      <td>Multinomial Naive Bayes</td>\n",
       "      <td>0.911111</td>\n",
       "      <td>0.708333</td>\n",
       "    </tr>\n",
       "    <tr>\n",
       "      <th>2</th>\n",
       "      <td>Logistic Regression</td>\n",
       "      <td>0.933333</td>\n",
       "      <td>0.822917</td>\n",
       "    </tr>\n",
       "    <tr>\n",
       "      <th>3</th>\n",
       "      <td>Support Vector Machine</td>\n",
       "      <td>0.888889</td>\n",
       "      <td>0.802083</td>\n",
       "    </tr>\n",
       "    <tr>\n",
       "      <th>4</th>\n",
       "      <td>Decision Tree</td>\n",
       "      <td>0.888889</td>\n",
       "      <td>0.645833</td>\n",
       "    </tr>\n",
       "    <tr>\n",
       "      <th>5</th>\n",
       "      <td>Random Forest</td>\n",
       "      <td>0.888889</td>\n",
       "      <td>0.791667</td>\n",
       "    </tr>\n",
       "    <tr>\n",
       "      <th>6</th>\n",
       "      <td>Ensemble (Logistic + NB + RF + SVM)</td>\n",
       "      <td>0.933333</td>\n",
       "      <td>0.812500</td>\n",
       "    </tr>\n",
       "  </tbody>\n",
       "</table>\n",
       "</div>"
      ],
      "text/plain": [
       "                                 Model  Validation Accuracy  Test Accuracy\n",
       "0                 Gaussian Naive Bayes             0.711111       0.625000\n",
       "1              Multinomial Naive Bayes             0.911111       0.708333\n",
       "2                  Logistic Regression             0.933333       0.822917\n",
       "3               Support Vector Machine             0.888889       0.802083\n",
       "4                        Decision Tree             0.888889       0.645833\n",
       "5                        Random Forest             0.888889       0.791667\n",
       "6  Ensemble (Logistic + NB + RF + SVM)             0.933333       0.812500"
      ]
     },
     "execution_count": 143,
     "metadata": {},
     "output_type": "execute_result"
    }
   ],
   "source": [
    "table=[]\n",
    "for model_name in models.keys():\n",
    "        model = models[model_name]\n",
    "        # print(model_name)\n",
    "        table.append([model_name, find_accuracy(model,docs_tf, y_train, docs_test_tf, y_test), find_accuracy(model, docs_tf, y_train, testX_tf, testy)])\n",
    "comparison= pd.DataFrame(table, columns=['Model', 'Validation Accuracy', 'Test Accuracy'])\n",
    "print(\"Models accuracy on validation and test data with TF-IDF vectorizer\")\n",
    "comparison"
   ]
  },
  {
   "cell_type": "code",
   "execution_count": 144,
   "metadata": {},
   "outputs": [
    {
     "name": "stdout",
     "output_type": "stream",
     "text": [
      "Models accuracy on validation and test data with Bag of Words vectorizer\n"
     ]
    },
    {
     "data": {
      "text/html": [
       "<div>\n",
       "<style scoped>\n",
       "    .dataframe tbody tr th:only-of-type {\n",
       "        vertical-align: middle;\n",
       "    }\n",
       "\n",
       "    .dataframe tbody tr th {\n",
       "        vertical-align: top;\n",
       "    }\n",
       "\n",
       "    .dataframe thead th {\n",
       "        text-align: right;\n",
       "    }\n",
       "</style>\n",
       "<table border=\"1\" class=\"dataframe\">\n",
       "  <thead>\n",
       "    <tr style=\"text-align: right;\">\n",
       "      <th></th>\n",
       "      <th>Model</th>\n",
       "      <th>Validation Accuracy</th>\n",
       "      <th>Test Accuracy</th>\n",
       "    </tr>\n",
       "  </thead>\n",
       "  <tbody>\n",
       "    <tr>\n",
       "      <th>0</th>\n",
       "      <td>Gaussian Naive Bayes</td>\n",
       "      <td>0.822222</td>\n",
       "      <td>0.604167</td>\n",
       "    </tr>\n",
       "    <tr>\n",
       "      <th>1</th>\n",
       "      <td>Multinomial Naive Bayes</td>\n",
       "      <td>0.911111</td>\n",
       "      <td>0.697917</td>\n",
       "    </tr>\n",
       "    <tr>\n",
       "      <th>2</th>\n",
       "      <td>Logistic Regression</td>\n",
       "      <td>0.911111</td>\n",
       "      <td>0.781250</td>\n",
       "    </tr>\n",
       "    <tr>\n",
       "      <th>3</th>\n",
       "      <td>Support Vector Machine</td>\n",
       "      <td>0.911111</td>\n",
       "      <td>0.791667</td>\n",
       "    </tr>\n",
       "    <tr>\n",
       "      <th>4</th>\n",
       "      <td>Decision Tree</td>\n",
       "      <td>0.866667</td>\n",
       "      <td>0.708333</td>\n",
       "    </tr>\n",
       "    <tr>\n",
       "      <th>5</th>\n",
       "      <td>Random Forest</td>\n",
       "      <td>0.911111</td>\n",
       "      <td>0.822917</td>\n",
       "    </tr>\n",
       "    <tr>\n",
       "      <th>6</th>\n",
       "      <td>Ensemble (Logistic + NB + RF + SVM)</td>\n",
       "      <td>0.933333</td>\n",
       "      <td>0.802083</td>\n",
       "    </tr>\n",
       "  </tbody>\n",
       "</table>\n",
       "</div>"
      ],
      "text/plain": [
       "                                 Model  Validation Accuracy  Test Accuracy\n",
       "0                 Gaussian Naive Bayes             0.822222       0.604167\n",
       "1              Multinomial Naive Bayes             0.911111       0.697917\n",
       "2                  Logistic Regression             0.911111       0.781250\n",
       "3               Support Vector Machine             0.911111       0.791667\n",
       "4                        Decision Tree             0.866667       0.708333\n",
       "5                        Random Forest             0.911111       0.822917\n",
       "6  Ensemble (Logistic + NB + RF + SVM)             0.933333       0.802083"
      ]
     },
     "execution_count": 144,
     "metadata": {},
     "output_type": "execute_result"
    }
   ],
   "source": [
    "table=[]\n",
    "for model_name in models.keys():\n",
    "        model = models[model_name]\n",
    "        # print(model_name)\n",
    "        table.append([model_name, find_accuracy(model,docs_cv, y_train, docs_test_cv, y_test), find_accuracy(model, docs_cv, y_train, testX_cv, testy)])\n",
    "comparison= pd.DataFrame(table, columns=['Model', 'Validation Accuracy', 'Test Accuracy'])\n",
    "print(\"Models accuracy on validation and test data with Bag of Words vectorizer\")\n",
    "comparison"
   ]
  },
  {
   "cell_type": "code",
   "execution_count": 159,
   "metadata": {},
   "outputs": [
    {
     "name": "stdout",
     "output_type": "stream",
     "text": [
      "Logistic Regression\n",
      "Support Vector Machine\n",
      "Random Forest\n",
      "Ensemble (Logistic + NB + RF + SVM)\n"
     ]
    },
    {
     "data": {
      "text/html": [
       "<div>\n",
       "<style scoped>\n",
       "    .dataframe tbody tr th:only-of-type {\n",
       "        vertical-align: middle;\n",
       "    }\n",
       "\n",
       "    .dataframe tbody tr th {\n",
       "        vertical-align: top;\n",
       "    }\n",
       "\n",
       "    .dataframe thead th {\n",
       "        text-align: right;\n",
       "    }\n",
       "</style>\n",
       "<table border=\"1\" class=\"dataframe\">\n",
       "  <thead>\n",
       "    <tr style=\"text-align: right;\">\n",
       "      <th></th>\n",
       "      <th>Model</th>\n",
       "      <th>Runtime</th>\n",
       "      <th>Precision</th>\n",
       "      <th>Recall</th>\n",
       "      <th>F1-score</th>\n",
       "    </tr>\n",
       "  </thead>\n",
       "  <tbody>\n",
       "    <tr>\n",
       "      <th>0</th>\n",
       "      <td>Logistic Regression</td>\n",
       "      <td>0.008132</td>\n",
       "      <td>0.822635</td>\n",
       "      <td>0.822917</td>\n",
       "      <td>0.821043</td>\n",
       "    </tr>\n",
       "    <tr>\n",
       "      <th>1</th>\n",
       "      <td>Support Vector Machine</td>\n",
       "      <td>0.010740</td>\n",
       "      <td>0.813417</td>\n",
       "      <td>0.802083</td>\n",
       "      <td>0.802568</td>\n",
       "    </tr>\n",
       "    <tr>\n",
       "      <th>2</th>\n",
       "      <td>Random Forest</td>\n",
       "      <td>0.010922</td>\n",
       "      <td>0.838609</td>\n",
       "      <td>0.822917</td>\n",
       "      <td>0.820260</td>\n",
       "    </tr>\n",
       "    <tr>\n",
       "      <th>3</th>\n",
       "      <td>Ensemble (Logistic + NB + RF + SVM)</td>\n",
       "      <td>0.010850</td>\n",
       "      <td>0.845043</td>\n",
       "      <td>0.843750</td>\n",
       "      <td>0.842876</td>\n",
       "    </tr>\n",
       "  </tbody>\n",
       "</table>\n",
       "</div>"
      ],
      "text/plain": [
       "                                 Model   Runtime  Precision    Recall  \\\n",
       "0                  Logistic Regression  0.008132   0.822635  0.822917   \n",
       "1               Support Vector Machine  0.010740   0.813417  0.802083   \n",
       "2                        Random Forest  0.010922   0.838609  0.822917   \n",
       "3  Ensemble (Logistic + NB + RF + SVM)  0.010850   0.845043  0.843750   \n",
       "\n",
       "   F1-score  \n",
       "0  0.821043  \n",
       "1  0.802568  \n",
       "2  0.820260  \n",
       "3  0.842876  "
      ]
     },
     "execution_count": 159,
     "metadata": {},
     "output_type": "execute_result"
    }
   ],
   "source": [
    "# write code to compare the running time, precision, recall, f1-score of all models with tf-idf vectorizer and count vectorizer\n",
    "# use the table to write the report\n",
    "\n",
    "def find_params(model,X_train, Y_train, X_test, testy):\n",
    "    model.fit(X_train, Y_train)\n",
    "    start= time()\n",
    "    y_pred_test = model.predict(X_test)\n",
    "    test_precision = precision_score(testy, y_pred_test, average='weighted')\n",
    "    test_recall = recall_score(testy, y_pred_test, average='weighted')\n",
    "    test_f1 = f1_score(testy, y_pred_test, average='weighted')\n",
    "    test_runtime= time()-start\n",
    "    return test_runtime, test_precision, test_recall, test_f1\n",
    "\n",
    "def tabulate(models):\n",
    "    table= []\n",
    "    for model_name in models.keys():\n",
    "        model = models[model_name][0]\n",
    "        docs_test = models[model_name][1]\n",
    "        testx= models[model_name][2]\n",
    "        print(model_name)\n",
    "        runtime, precision, recall, f1= find_params(model,docs_test, y_train, testx, testy)\n",
    "        table.append([model_name, runtime, precision, recall, f1])\n",
    "    return pd.DataFrame(table, columns=['Model', 'Runtime', 'Precision', 'Recall', 'F1-score'])\n",
    "\n",
    "\n",
    "models={\n",
    "    \"Logistic Regression\": [lr, docs_tf, testX_tf],\n",
    "    # \"Linear SVC\": svc,\n",
    "    \"Support Vector Machine\": [calibrated_svc, docs_tf, testX_tf],\n",
    "    \"Random Forest\": [rf, docs_cv, testX_cv],\n",
    "    \"Ensemble (Logistic + NB + RF + SVM)\": [ensemble , docs_tf, testX_tf],\n",
    "}\n",
    "\n",
    "table = tabulate(models)\n",
    "table\n"
   ]
  },
  {
   "cell_type": "markdown",
   "metadata": {},
   "source": [
    "-- **BEST MODEL**"
   ]
  },
  {
   "cell_type": "code",
   "execution_count": 32,
   "metadata": {},
   "outputs": [],
   "source": [
    "import pickle\n",
    "\n",
    "# save the iris classification model as a pickle file\n",
    "model_pkl_file = \"model.pkl\"  \n",
    "\n",
    "with open(model_pkl_file, 'wb') as file:  \n",
    "    pickle.dump(rf, file)"
   ]
  },
  {
   "cell_type": "code",
   "execution_count": 33,
   "metadata": {},
   "outputs": [
    {
     "name": "stdout",
     "output_type": "stream",
     "text": [
      "              precision    recall  f1-score   support\n",
      "\n",
      "           0       0.84      0.90      0.87        29\n",
      "           1       0.82      0.95      0.88        19\n",
      "           2       0.78      0.70      0.74        10\n",
      "           3       0.88      0.76      0.81        29\n",
      "           4       0.89      0.89      0.89         9\n",
      "\n",
      "    accuracy                           0.84        96\n",
      "   macro avg       0.84      0.84      0.84        96\n",
      "weighted avg       0.85      0.84      0.84        96\n",
      "\n"
     ]
    }
   ],
   "source": [
    "# load model from pickle file\n",
    "with open(model_pkl_file, 'rb') as file:  \n",
    "    model = pickle.load(file)\n",
    "\n",
    "# evaluate model \n",
    "y_predict = model.predict(testX_tf)\n",
    "\n",
    "# check results\n",
    "print(classification_report(testy, y_predict)) "
   ]
  },
  {
   "cell_type": "code",
   "execution_count": 34,
   "metadata": {},
   "outputs": [
    {
     "name": "stdout",
     "output_type": "stream",
     "text": [
      "                                               hindi complaint\n",
      "0  करनाल के एक रेस्टोरेंट में अनजान व्यक्तियों ने...          \n",
      "1  जय प्रकाश ने पड़ोस में रहने वाली नाबालिग को बह...          \n"
     ]
    }
   ],
   "source": [
    "complaint= {'hindi': ['करनाल के एक रेस्टोरेंट में अनजान व्यक्तियों ने दिनभर की कमाई चुरा ली।', 'जय प्रकाश ने पड़ोस में रहने वाली नाबालिग को बहला फुसला कर दुष्कर्म किया। यहां तक कि पीड़िता को डरा धमका कर कई महीनों तक जबरन संबंध बनाता रहा। मंगलवार को पीड़िता को पेट में दर्द होने पर जब डॉक्टर के पास ले जाया गया, तो पता चला कि वह चार माह से गर्भवती है। परिवार के लोगों ने उससे पूछताछ की तो जानकारी मिली कि आरोपी ने दुष्कर्म किया था। वह डर से बता नहीं पा रही थी।']}\n",
    "complaint['complaint'] = ''\n",
    "complaint = pd.DataFrame(complaint)\n",
    "print(complaint)\n"
   ]
  },
  {
   "cell_type": "code",
   "execution_count": 35,
   "metadata": {},
   "outputs": [],
   "source": [
    "from googletrans import Translator\n",
    "\n",
    "complaint['complaint'] = complaint['hindi'].apply(lambda x: Translator().translate(x, dest='en').text)\n"
   ]
  },
  {
   "cell_type": "code",
   "execution_count": 36,
   "metadata": {},
   "outputs": [
    {
     "data": {
      "text/html": [
       "<div>\n",
       "<style scoped>\n",
       "    .dataframe tbody tr th:only-of-type {\n",
       "        vertical-align: middle;\n",
       "    }\n",
       "\n",
       "    .dataframe tbody tr th {\n",
       "        vertical-align: top;\n",
       "    }\n",
       "\n",
       "    .dataframe thead th {\n",
       "        text-align: right;\n",
       "    }\n",
       "</style>\n",
       "<table border=\"1\" class=\"dataframe\">\n",
       "  <thead>\n",
       "    <tr style=\"text-align: right;\">\n",
       "      <th></th>\n",
       "      <th>hindi</th>\n",
       "      <th>complaint</th>\n",
       "    </tr>\n",
       "  </thead>\n",
       "  <tbody>\n",
       "    <tr>\n",
       "      <th>0</th>\n",
       "      <td>करनाल के एक रेस्टोरेंट में अनजान व्यक्तियों ने...</td>\n",
       "      <td>Unknown persons stole the day's earnings from ...</td>\n",
       "    </tr>\n",
       "    <tr>\n",
       "      <th>1</th>\n",
       "      <td>जय प्रकाश ने पड़ोस में रहने वाली नाबालिग को बह...</td>\n",
       "      <td>Jai Prakash raped a minor living in the neighb...</td>\n",
       "    </tr>\n",
       "  </tbody>\n",
       "</table>\n",
       "</div>"
      ],
      "text/plain": [
       "                                               hindi  \\\n",
       "0  करनाल के एक रेस्टोरेंट में अनजान व्यक्तियों ने...   \n",
       "1  जय प्रकाश ने पड़ोस में रहने वाली नाबालिग को बह...   \n",
       "\n",
       "                                           complaint  \n",
       "0  Unknown persons stole the day's earnings from ...  \n",
       "1  Jai Prakash raped a minor living in the neighb...  "
      ]
     },
     "execution_count": 36,
     "metadata": {},
     "output_type": "execute_result"
    }
   ],
   "source": [
    "complaint"
   ]
  },
  {
   "cell_type": "code",
   "execution_count": 37,
   "metadata": {},
   "outputs": [
    {
     "name": "stdout",
     "output_type": "stream",
     "text": [
      "[[0. 0. 0. ... 0. 0. 0.]\n",
      " [0. 0. 0. ... 0. 0. 0.]]\n"
     ]
    }
   ],
   "source": [
    "\n",
    "complaint['complaint']= complaint['complaint'].apply(clean)\n",
    "docs = list(complaint['complaint'])\n",
    "tfidf_vectorizer_vectors = tfidf_vectorizer.transform(docs)\n",
    "docs = tfidf_vectorizer_vectors.toarray()\n",
    "print(docs)\n"
   ]
  },
  {
   "cell_type": "code",
   "execution_count": 38,
   "metadata": {},
   "outputs": [
    {
     "data": {
      "text/plain": [
       "0          unknown persons stole s earnings restaurant\n",
       "1    jai prakash raped minor living neighborhood se...\n",
       "Name: complaint, dtype: object"
      ]
     },
     "execution_count": 38,
     "metadata": {},
     "output_type": "execute_result"
    }
   ],
   "source": [
    "complaint['complaint']"
   ]
  },
  {
   "cell_type": "code",
   "execution_count": 39,
   "metadata": {},
   "outputs": [],
   "source": [
    "complaint['category'] = model.predict(docs)"
   ]
  },
  {
   "cell_type": "code",
   "execution_count": 40,
   "metadata": {},
   "outputs": [
    {
     "data": {
      "text/html": [
       "<div>\n",
       "<style scoped>\n",
       "    .dataframe tbody tr th:only-of-type {\n",
       "        vertical-align: middle;\n",
       "    }\n",
       "\n",
       "    .dataframe tbody tr th {\n",
       "        vertical-align: top;\n",
       "    }\n",
       "\n",
       "    .dataframe thead th {\n",
       "        text-align: right;\n",
       "    }\n",
       "</style>\n",
       "<table border=\"1\" class=\"dataframe\">\n",
       "  <thead>\n",
       "    <tr style=\"text-align: right;\">\n",
       "      <th></th>\n",
       "      <th>hindi</th>\n",
       "      <th>complaint</th>\n",
       "      <th>category</th>\n",
       "    </tr>\n",
       "  </thead>\n",
       "  <tbody>\n",
       "    <tr>\n",
       "      <th>0</th>\n",
       "      <td>करनाल के एक रेस्टोरेंट में अनजान व्यक्तियों ने...</td>\n",
       "      <td>unknown persons stole s earnings restaurant</td>\n",
       "      <td>0</td>\n",
       "    </tr>\n",
       "    <tr>\n",
       "      <th>1</th>\n",
       "      <td>जय प्रकाश ने पड़ोस में रहने वाली नाबालिग को बह...</td>\n",
       "      <td>jai prakash raped minor living neighborhood se...</td>\n",
       "      <td>4</td>\n",
       "    </tr>\n",
       "  </tbody>\n",
       "</table>\n",
       "</div>"
      ],
      "text/plain": [
       "                                               hindi  \\\n",
       "0  करनाल के एक रेस्टोरेंट में अनजान व्यक्तियों ने...   \n",
       "1  जय प्रकाश ने पड़ोस में रहने वाली नाबालिग को बह...   \n",
       "\n",
       "                                           complaint  category  \n",
       "0        unknown persons stole s earnings restaurant         0  \n",
       "1  jai prakash raped minor living neighborhood se...         4  "
      ]
     },
     "execution_count": 40,
     "metadata": {},
     "output_type": "execute_result"
    }
   ],
   "source": [
    "complaint"
   ]
  },
  {
   "cell_type": "code",
   "execution_count": 62,
   "metadata": {},
   "outputs": [
    {
     "name": "stdout",
     "output_type": "stream",
     "text": [
      "[0.         0.55417703 0.83239883]\n"
     ]
    },
    {
     "data": {
      "text/plain": [
       "array([0.])"
      ]
     },
     "execution_count": 62,
     "metadata": {},
     "output_type": "execute_result"
    }
   ],
   "source": [
    "#print unique values of textX[0] \n",
    "print(np.unique(testX_tf[1]))\n",
    "np.unique(docs[1])"
   ]
  },
  {
   "cell_type": "code",
   "execution_count": 64,
   "metadata": {},
   "outputs": [
    {
     "data": {
      "text/html": [
       "<div>\n",
       "<style scoped>\n",
       "    .dataframe tbody tr th:only-of-type {\n",
       "        vertical-align: middle;\n",
       "    }\n",
       "\n",
       "    .dataframe tbody tr th {\n",
       "        vertical-align: top;\n",
       "    }\n",
       "\n",
       "    .dataframe thead th {\n",
       "        text-align: right;\n",
       "    }\n",
       "</style>\n",
       "<table border=\"1\" class=\"dataframe\">\n",
       "  <thead>\n",
       "    <tr style=\"text-align: right;\">\n",
       "      <th></th>\n",
       "      <th>complaint</th>\n",
       "    </tr>\n",
       "  </thead>\n",
       "  <tbody>\n",
       "    <tr>\n",
       "      <th>0</th>\n",
       "      <td>करनाल के एक रेस्टोरेंट में अनजान व्यक्तियों ने...</td>\n",
       "    </tr>\n",
       "    <tr>\n",
       "      <th>1</th>\n",
       "      <td>जय प्रकाश ने पड़ोस में रहने वाली नाबालिग को बह...</td>\n",
       "    </tr>\n",
       "  </tbody>\n",
       "</table>\n",
       "</div>"
      ],
      "text/plain": [
       "                                           complaint\n",
       "0  करनाल के एक रेस्टोरेंट में अनजान व्यक्तियों ने...\n",
       "1  जय प्रकाश ने पड़ोस में रहने वाली नाबालिग को बह..."
      ]
     },
     "execution_count": 64,
     "metadata": {},
     "output_type": "execute_result"
    }
   ],
   "source": [
    "print(test['complaint'][0])\n",
    "print(complaint)\n"
   ]
  },
  {
   "cell_type": "code",
   "execution_count": 39,
   "metadata": {},
   "outputs": [
    {
     "name": "stdout",
     "output_type": "stream",
     "text": [
      "[3 3]\n"
     ]
    }
   ],
   "source": [
    "prediction= rf.predict(complaint)\n",
    "print(prediction)\n"
   ]
  }
 ],
 "metadata": {
  "kernelspec": {
   "display_name": "Python 3",
   "language": "python",
   "name": "python3"
  },
  "language_info": {
   "codemirror_mode": {
    "name": "ipython",
    "version": 3
   },
   "file_extension": ".py",
   "mimetype": "text/x-python",
   "name": "python",
   "nbconvert_exporter": "python",
   "pygments_lexer": "ipython3",
   "version": "3.11.3"
  },
  "orig_nbformat": 4
 },
 "nbformat": 4,
 "nbformat_minor": 2
}
