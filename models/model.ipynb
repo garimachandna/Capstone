{
 "cells": [
  {
   "cell_type": "code",
   "execution_count": 1,
   "metadata": {},
   "outputs": [],
   "source": [
    "import pandas as pd\n",
    "from googletrans import Translator\n",
    "import numpy as np\n",
    "import pandas as pd \n",
    "\n",
    "import matplotlib as mpl \n",
    "import matplotlib.cm as cm \n",
    "import matplotlib.pyplot as plt \n",
    "import plotly.graph_objects as go\n",
    "import seaborn as sns\n",
    "\n",
    "from sklearn.feature_extraction.text import CountVectorizer\n",
    "from sklearn.feature_extraction import _stop_words\n",
    "from nltk.stem import WordNetLemmatizer\n",
    "from sklearn.feature_extraction.text import TfidfVectorizer \n",
    "\n",
    "import string\n",
    "import re\n",
    "\n",
    "from sklearn.naive_bayes import MultinomialNB\n",
    "from sklearn.naive_bayes import GaussianNB\n",
    "from sklearn.linear_model import LogisticRegression\n",
    "from sklearn.svm import LinearSVC\n",
    "\n",
    "from sklearn.metrics import accuracy_score\n",
    "import sklearn.metrics as metrics\n",
    "from sklearn.model_selection import train_test_split\n",
    "from sklearn.metrics import confusion_matrix \n",
    "from sklearn.metrics import classification_report\n",
    "from sklearn import metrics\n",
    "\n",
    "from time import time\n",
    "\n",
    "import warnings\n",
    "warnings.filterwarnings(\"ignore\")"
   ]
  },
  {
   "cell_type": "code",
   "execution_count": 2,
   "metadata": {},
   "outputs": [
    {
     "name": "stdout",
     "output_type": "stream",
     "text": [
      "                                               hindi  complaint category\n",
      "0  सोनीपत में दो बच्चों पांच साल के लड़के और दो स...        NaN   kidnap\n",
      "1  पंचकुला में जहां शादी की पूर्व संध्या पर दुल्ह...        NaN   murder\n",
      "2  सोनीपत से अपने रिश्तेदार के सात वर्षीय बच्चे क...        NaN   kidnap\n",
      "3  थानेसर मे शादी के महज छह महीने बाद ही एक नवविव...        NaN   murder\n",
      "4  मवार को डकैती के मामलों में वांछित दो लोगों को...        NaN    theft\n",
      "                                               hindi  complaint category\n",
      "0  करनाल के एक रेस्टोरेंट में अनजान व्यक्तियों ने...        NaN    theft\n",
      "1  अम्बाला के एक नगर निगम कर्मचारी को उनके आवास क...        NaN   murder\n",
      "2  सोनीपत में एक युवक अपनी प्रेमिका से मिलने पहुं...        NaN   murder\n",
      "3  हिसार में एक दलित व्यक्ति को उसके घर पर हत्या ...        NaN   murder\n",
      "4  अम्बाला के एक गाँव में किसानों की खेत से फसल च...        NaN    theft\n"
     ]
    }
   ],
   "source": [
    "# translating the data into english\n",
    "# using google translate api\n",
    "df = pd.read_csv(\"../data/data.csv\")\n",
    "print(df.head())\n",
    "test = pd.read_csv(\"../data/test.csv\")\n",
    "print(test.head())"
   ]
  },
  {
   "cell_type": "code",
   "execution_count": 3,
   "metadata": {},
   "outputs": [],
   "source": [
    "def translate(data):\n",
    "    translator = Translator()\n",
    "    translations = {}\n",
    "        #print(column)\n",
    "       # print(unique)\n",
    "    for element in data['hindi']:\n",
    "            # print(element)\n",
    "            translations[element] = translator.translate(element).text\n",
    "    data['complaint'] = data['hindi'].map(translations)\n",
    "    return data"
   ]
  },
  {
   "cell_type": "code",
   "execution_count": 92,
   "metadata": {},
   "outputs": [
    {
     "name": "stdout",
     "output_type": "stream",
     "text": [
      "                                               hindi  \\\n",
      "0  सोनीपत में दो बच्चों पांच साल के लड़के और दो स...   \n",
      "1  पंचकुला में जहां शादी की पूर्व संध्या पर दुल्ह...   \n",
      "2  सोनीपत से अपने रिश्तेदार के सात वर्षीय बच्चे क...   \n",
      "3  थानेसर मे शादी के महज छह महीने बाद ही एक नवविव...   \n",
      "4  मवार को डकैती के मामलों में वांछित दो लोगों को...   \n",
      "\n",
      "                                           complaint  category  \n",
      "0  Two children, a five-year-old boy and a two-ye...         2  \n",
      "1  In Panchkula, where the bride's neighbor alleg...         3  \n",
      "2  After kidnapping the seven-year-old child of h...         2  \n",
      "3  A newlywed hanged himself just six months afte...         3  \n",
      "4  Two men wanted in robbery cases have been arre...         0  \n",
      "                                               hindi  \\\n",
      "0  करनाल के एक रेस्टोरेंट में अनजान व्यक्तियों ने...   \n",
      "1  अम्बाला के एक नगर निगम कर्मचारी को उनके आवास क...   \n",
      "2  सोनीपत में एक युवक अपनी प्रेमिका से मिलने पहुं...   \n",
      "3  हिसार में एक दलित व्यक्ति को उसके घर पर हत्या ...   \n",
      "4  अम्बाला के एक गाँव में किसानों की खेत से फसल च...   \n",
      "\n",
      "                                           complaint  category  \n",
      "0  Unknown persons stole the day's earnings from ...         0  \n",
      "1  A Municipal Corporation employee of Ambala was...         3  \n",
      "2  A young man came to meet his girlfriend in Son...         3  \n",
      "3  A Dalit man was found murdered at his home in ...         3  \n",
      "4  Crops were stolen from farmers' fields in a vi...         0  \n"
     ]
    }
   ],
   "source": [
    "df= translate(df)\n",
    "test = translate(test)\n",
    "\n",
    "print(df.head())\n",
    "print(test.head())\n"
   ]
  },
  {
   "cell_type": "code",
   "execution_count": 93,
   "metadata": {},
   "outputs": [],
   "source": [
    "df.to_csv(\"../data/translated data.csv\",encoding=\"utf-8\",index=False)\n",
    "test.to_csv(\"../data/translated test.csv\",encoding=\"utf-8\",index=False)"
   ]
  },
  {
   "cell_type": "code",
   "execution_count": 4,
   "metadata": {},
   "outputs": [
    {
     "name": "stdout",
     "output_type": "stream",
     "text": [
      "                                               hindi  \\\n",
      "0  सोनीपत में दो बच्चों पांच साल के लड़के और दो स...   \n",
      "1  पंचकुला में जहां शादी की पूर्व संध्या पर दुल्ह...   \n",
      "2  सोनीपत से अपने रिश्तेदार के सात वर्षीय बच्चे क...   \n",
      "3  थानेसर मे शादी के महज छह महीने बाद ही एक नवविव...   \n",
      "4  मवार को डकैती के मामलों में वांछित दो लोगों को...   \n",
      "\n",
      "                                           complaint category  \n",
      "0  Two children, a five-year-old boy and a two-ye...   kidnap  \n",
      "1  In Panchkula, where the bride's neighbor alleg...   murder  \n",
      "2  After kidnapping the seven-year-old child of h...   kidnap  \n",
      "3  A newlywed hanged himself just six months afte...   murder  \n",
      "4  Two men wanted in robbery cases have been arre...    theft  \n",
      "                                               hindi  \\\n",
      "0  करनाल के एक रेस्टोरेंट में अनजान व्यक्तियों ने...   \n",
      "1  अम्बाला के एक नगर निगम कर्मचारी को उनके आवास क...   \n",
      "2  सोनीपत में एक युवक अपनी प्रेमिका से मिलने पहुं...   \n",
      "3  हिसार में एक दलित व्यक्ति को उसके घर पर हत्या ...   \n",
      "4  अम्बाला के एक गाँव में किसानों की खेत से फसल च...   \n",
      "\n",
      "                                           complaint category  \n",
      "0  Unknown persons stole the day's earnings from ...    theft  \n",
      "1  A Municipal Corporation employee of Ambala was...   murder  \n",
      "2  A young man came to meet his girlfriend in Son...   murder  \n",
      "3  A Dalit man was found murdered at his home in ...   murder  \n",
      "4  Crops were stolen from farmers' fields in a vi...    theft  \n"
     ]
    }
   ],
   "source": [
    "translated_data= pd.read_csv(\"../data/translated data.csv\")\n",
    "translated_test = pd.read_csv(\"../data/translated test.csv\")\n",
    "\n",
    "\n",
    "df['complaint'] = translated_data['complaint']\n",
    "test['complaint'] = translated_test['complaint']\n",
    "\n",
    "print(df.head())\n",
    "print(test.head()) "
   ]
  },
  {
   "cell_type": "code",
   "execution_count": 5,
   "metadata": {},
   "outputs": [
    {
     "data": {
      "text/plain": [
       "category\n",
       "rape        91\n",
       "kidnap      90\n",
       "murder      90\n",
       "theft       90\n",
       "accident    81\n",
       "Name: count, dtype: int64"
      ]
     },
     "execution_count": 5,
     "metadata": {},
     "output_type": "execute_result"
    }
   ],
   "source": [
    "df[\"category\"].value_counts() "
   ]
  },
  {
   "cell_type": "code",
   "execution_count": 6,
   "metadata": {},
   "outputs": [
    {
     "data": {
      "text/plain": [
       "category\n",
       "rape        0.205882\n",
       "kidnap      0.203620\n",
       "murder      0.203620\n",
       "theft       0.203620\n",
       "accident    0.183258\n",
       "Name: count, dtype: float64"
      ]
     },
     "execution_count": 6,
     "metadata": {},
     "output_type": "execute_result"
    }
   ],
   "source": [
    "df[\"category\"].value_counts()/df.shape[0] "
   ]
  },
  {
   "cell_type": "code",
   "execution_count": 7,
   "metadata": {},
   "outputs": [
    {
     "data": {
      "text/plain": [
       "category\n",
       "theft       29\n",
       "murder      29\n",
       "accident    19\n",
       "kidnap      10\n",
       "rape         9\n",
       "Name: count, dtype: int64"
      ]
     },
     "execution_count": 7,
     "metadata": {},
     "output_type": "execute_result"
    }
   ],
   "source": [
    "test[\"category\"].value_counts()"
   ]
  },
  {
   "cell_type": "code",
   "execution_count": 8,
   "metadata": {},
   "outputs": [
    {
     "data": {
      "text/plain": [
       "category\n",
       "theft       0.302083\n",
       "murder      0.302083\n",
       "accident    0.197917\n",
       "kidnap      0.104167\n",
       "rape        0.093750\n",
       "Name: count, dtype: float64"
      ]
     },
     "execution_count": 8,
     "metadata": {},
     "output_type": "execute_result"
    }
   ],
   "source": [
    "test[\"category\"].value_counts()/test.shape[0]"
   ]
  },
  {
   "cell_type": "code",
   "execution_count": 9,
   "metadata": {},
   "outputs": [
    {
     "data": {
      "image/png": "[encoded data removed]",
      "text/plain": [
       "<Figure size 1200x600 with 1 Axes>"
      ]
     },
     "metadata": {},
     "output_type": "display_data"
    }
   ],
   "source": [
    "# plot the distribution of the categories\n",
    "plt.figure(figsize=(12,6))\n",
    "sns.countplot(x='category', data=df)\n",
    "plt.title('Distribution of Categories')\n",
    "plt.show()\n",
    "\n"
   ]
  },
  {
   "cell_type": "code",
   "execution_count": 10,
   "metadata": {},
   "outputs": [
    {
     "data": {
      "image/png": "[encoded data removed]",
      "text/plain": [
       "<Figure size 1000x1000 with 1 Axes>"
      ]
     },
     "metadata": {},
     "output_type": "display_data"
    }
   ],
   "source": [
    "# plot the distribution of the categories as pie chart\n",
    "labels = df.category.value_counts().index.to_list()\n",
    "\n",
    "sizes = df.category.value_counts()\n",
    "explode = (0.1, 0, 0, 0,0)  # explode 1st slice\n",
    "plt.figure(figsize=(10,10))\n",
    "plt.pie(sizes, explode=explode, labels=labels, textprops={'fontsize': 20}, autopct='%1.1f%%', shadow=True, startangle=140)\n",
    "plt.title('Distribution of Categories', fontsize=20)\n",
    "plt.show()\n"
   ]
  },
  {
   "cell_type": "code",
   "execution_count": 11,
   "metadata": {},
   "outputs": [],
   "source": [
    "df['category'] = df.category.map({'rape': 4, 'murder': 3, 'kidnap': 2, 'accident':1, 'theft':0})\n",
    "test['category'] = test.category.map({'rape': 4, 'murder': 3, 'kidnap': 2, 'accident':1, 'theft':0})\n"
   ]
  },
  {
   "cell_type": "code",
   "execution_count": 12,
   "metadata": {},
   "outputs": [
    {
     "data": {
      "text/plain": [
       "(442, 3)"
      ]
     },
     "metadata": {},
     "output_type": "display_data"
    }
   ],
   "source": [
    "# data = pd.read_csv('complaint with manual labels.csv')\n",
    "data= df\n",
    "display(data.shape) "
   ]
  },
  {
   "cell_type": "code",
   "execution_count": 13,
   "metadata": {},
   "outputs": [
    {
     "data": {
      "text/html": [
       "<div>\n",
       "<style scoped>\n",
       "    .dataframe tbody tr th:only-of-type {\n",
       "        vertical-align: middle;\n",
       "    }\n",
       "\n",
       "    .dataframe tbody tr th {\n",
       "        vertical-align: top;\n",
       "    }\n",
       "\n",
       "    .dataframe thead th {\n",
       "        text-align: right;\n",
       "    }\n",
       "</style>\n",
       "<table border=\"1\" class=\"dataframe\">\n",
       "  <thead>\n",
       "    <tr style=\"text-align: right;\">\n",
       "      <th></th>\n",
       "      <th>hindi</th>\n",
       "      <th>complaint</th>\n",
       "      <th>category</th>\n",
       "    </tr>\n",
       "  </thead>\n",
       "  <tbody>\n",
       "    <tr>\n",
       "      <th>0</th>\n",
       "      <td>सोनीपत में दो बच्चों पांच साल के लड़के और दो स...</td>\n",
       "      <td>Two children, a five-year-old boy and a two-ye...</td>\n",
       "      <td>2</td>\n",
       "    </tr>\n",
       "    <tr>\n",
       "      <th>1</th>\n",
       "      <td>पंचकुला में जहां शादी की पूर्व संध्या पर दुल्ह...</td>\n",
       "      <td>In Panchkula, where the bride's neighbor alleg...</td>\n",
       "      <td>3</td>\n",
       "    </tr>\n",
       "    <tr>\n",
       "      <th>2</th>\n",
       "      <td>सोनीपत से अपने रिश्तेदार के सात वर्षीय बच्चे क...</td>\n",
       "      <td>After kidnapping the seven-year-old child of h...</td>\n",
       "      <td>2</td>\n",
       "    </tr>\n",
       "    <tr>\n",
       "      <th>3</th>\n",
       "      <td>थानेसर मे शादी के महज छह महीने बाद ही एक नवविव...</td>\n",
       "      <td>A newlywed hanged himself just six months afte...</td>\n",
       "      <td>3</td>\n",
       "    </tr>\n",
       "    <tr>\n",
       "      <th>4</th>\n",
       "      <td>मवार को डकैती के मामलों में वांछित दो लोगों को...</td>\n",
       "      <td>Two men wanted in robbery cases have been arre...</td>\n",
       "      <td>0</td>\n",
       "    </tr>\n",
       "  </tbody>\n",
       "</table>\n",
       "</div>"
      ],
      "text/plain": [
       "                                               hindi  \\\n",
       "0  सोनीपत में दो बच्चों पांच साल के लड़के और दो स...   \n",
       "1  पंचकुला में जहां शादी की पूर्व संध्या पर दुल्ह...   \n",
       "2  सोनीपत से अपने रिश्तेदार के सात वर्षीय बच्चे क...   \n",
       "3  थानेसर मे शादी के महज छह महीने बाद ही एक नवविव...   \n",
       "4  मवार को डकैती के मामलों में वांछित दो लोगों को...   \n",
       "\n",
       "                                           complaint  category  \n",
       "0  Two children, a five-year-old boy and a two-ye...         2  \n",
       "1  In Panchkula, where the bride's neighbor alleg...         3  \n",
       "2  After kidnapping the seven-year-old child of h...         2  \n",
       "3  A newlywed hanged himself just six months afte...         3  \n",
       "4  Two men wanted in robbery cases have been arre...         0  "
      ]
     },
     "execution_count": 13,
     "metadata": {},
     "output_type": "execute_result"
    }
   ],
   "source": [
    "data.head()"
   ]
  },
  {
   "cell_type": "code",
   "execution_count": 14,
   "metadata": {},
   "outputs": [
    {
     "data": {
      "text/plain": [
       "Index(['hindi', 'complaint', 'category'], dtype='object')"
      ]
     },
     "execution_count": 14,
     "metadata": {},
     "output_type": "execute_result"
    }
   ],
   "source": [
    "data.columns"
   ]
  },
  {
   "cell_type": "code",
   "execution_count": 15,
   "metadata": {},
   "outputs": [
    {
     "data": {
      "text/plain": [
       "(442, 2)"
      ]
     },
     "execution_count": 15,
     "metadata": {},
     "output_type": "execute_result"
    }
   ],
   "source": [
    "# df['category'] = df.category.map({'rape': 4, 'murder': 3, 'kidnap': 2, 'accident':1, 'theft':0})\n",
    "# test['category'] = test.category.map({'rape': 4, 'murder': 3, 'kidnap': 2, 'accident':1, 'theft':0})\n",
    "\n",
    "data = data[[\"complaint\",\"category\"]] # taking text input and output variable as relevance\n",
    "# data = data[:1000]\n",
    "data.shape"
   ]
  },
  {
   "cell_type": "code",
   "execution_count": 16,
   "metadata": {},
   "outputs": [
    {
     "data": {
      "text/html": [
       "<div>\n",
       "<style scoped>\n",
       "    .dataframe tbody tr th:only-of-type {\n",
       "        vertical-align: middle;\n",
       "    }\n",
       "\n",
       "    .dataframe tbody tr th {\n",
       "        vertical-align: top;\n",
       "    }\n",
       "\n",
       "    .dataframe thead th {\n",
       "        text-align: right;\n",
       "    }\n",
       "</style>\n",
       "<table border=\"1\" class=\"dataframe\">\n",
       "  <thead>\n",
       "    <tr style=\"text-align: right;\">\n",
       "      <th></th>\n",
       "      <th>complaint</th>\n",
       "      <th>category</th>\n",
       "    </tr>\n",
       "  </thead>\n",
       "  <tbody>\n",
       "    <tr>\n",
       "      <th>0</th>\n",
       "      <td>Two children, a five-year-old boy and a two-ye...</td>\n",
       "      <td>2</td>\n",
       "    </tr>\n",
       "    <tr>\n",
       "      <th>1</th>\n",
       "      <td>In Panchkula, where the bride's neighbor alleg...</td>\n",
       "      <td>3</td>\n",
       "    </tr>\n",
       "    <tr>\n",
       "      <th>2</th>\n",
       "      <td>After kidnapping the seven-year-old child of h...</td>\n",
       "      <td>2</td>\n",
       "    </tr>\n",
       "    <tr>\n",
       "      <th>3</th>\n",
       "      <td>A newlywed hanged himself just six months afte...</td>\n",
       "      <td>3</td>\n",
       "    </tr>\n",
       "    <tr>\n",
       "      <th>4</th>\n",
       "      <td>Two men wanted in robbery cases have been arre...</td>\n",
       "      <td>0</td>\n",
       "    </tr>\n",
       "  </tbody>\n",
       "</table>\n",
       "</div>"
      ],
      "text/plain": [
       "                                           complaint  category\n",
       "0  Two children, a five-year-old boy and a two-ye...         2\n",
       "1  In Panchkula, where the bride's neighbor alleg...         3\n",
       "2  After kidnapping the seven-year-old child of h...         2\n",
       "3  A newlywed hanged himself just six months afte...         3\n",
       "4  Two men wanted in robbery cases have been arre...         0"
      ]
     },
     "execution_count": 16,
     "metadata": {},
     "output_type": "execute_result"
    }
   ],
   "source": [
    "data.head()\n"
   ]
  },
  {
   "cell_type": "code",
   "execution_count": 16,
   "metadata": {},
   "outputs": [],
   "source": [
    "import spacy\n",
    "nlp = spacy.load('en_core_web_sm')\n",
    "\n",
    "stopwords = _stop_words.ENGLISH_STOP_WORDS\n",
    "lemmatizer = WordNetLemmatizer()\n",
    "\n",
    "def clean(doc):\n",
    "    text_no_namedentities = []\n",
    "    document = nlp(doc)\n",
    "    ents = [e.text for e in document.ents]\n",
    "    for item in document:\n",
    "        if item.text in ents:\n",
    "            pass\n",
    "        else:\n",
    "            text_no_namedentities.append(item.text)\n",
    "    doc = (\" \".join(text_no_namedentities))\n",
    "\n",
    "    doc = doc.lower().strip()\n",
    "    doc = doc.replace(\"</br>\", \" \") \n",
    "    doc = doc.replace(\"-\", \" \") \n",
    "    doc = \"\".join([char for char in doc if char not in string.punctuation and not char.isdigit()])\n",
    "    doc = \" \".join([token for token in doc.split() if token not in stopwords])    \n",
    "    doc = \"\".join([lemmatizer.lemmatize(word) for word in doc])\n",
    "    return doc"
   ]
  },
  {
   "cell_type": "code",
   "execution_count": 17,
   "metadata": {},
   "outputs": [
    {
     "data": {
      "text/html": [
       "<div>\n",
       "<style scoped>\n",
       "    .dataframe tbody tr th:only-of-type {\n",
       "        vertical-align: middle;\n",
       "    }\n",
       "\n",
       "    .dataframe tbody tr th {\n",
       "        vertical-align: top;\n",
       "    }\n",
       "\n",
       "    .dataframe thead th {\n",
       "        text-align: right;\n",
       "    }\n",
       "</style>\n",
       "<table border=\"1\" class=\"dataframe\">\n",
       "  <thead>\n",
       "    <tr style=\"text-align: right;\">\n",
       "      <th></th>\n",
       "      <th>complaint</th>\n",
       "      <th>category</th>\n",
       "    </tr>\n",
       "  </thead>\n",
       "  <tbody>\n",
       "    <tr>\n",
       "      <th>0</th>\n",
       "      <td>children year old boy year old girl allegedly ...</td>\n",
       "      <td>2</td>\n",
       "    </tr>\n",
       "    <tr>\n",
       "      <th>1</th>\n",
       "      <td>bride s neighbor allegedly killed father eve w...</td>\n",
       "      <td>3</td>\n",
       "    </tr>\n",
       "    <tr>\n",
       "      <th>2</th>\n",
       "      <td>kidnapping seven year old child relative child...</td>\n",
       "      <td>2</td>\n",
       "    </tr>\n",
       "    <tr>\n",
       "      <th>3</th>\n",
       "      <td>newlywed hanged just months marriage suicide g...</td>\n",
       "      <td>3</td>\n",
       "    </tr>\n",
       "    <tr>\n",
       "      <th>4</th>\n",
       "      <td>men wanted robbery cases arrested allegedly sh...</td>\n",
       "      <td>0</td>\n",
       "    </tr>\n",
       "  </tbody>\n",
       "</table>\n",
       "</div>"
      ],
      "text/plain": [
       "                                           complaint  category\n",
       "0  children year old boy year old girl allegedly ...         2\n",
       "1  bride s neighbor allegedly killed father eve w...         3\n",
       "2  kidnapping seven year old child relative child...         2\n",
       "3  newlywed hanged just months marriage suicide g...         3\n",
       "4  men wanted robbery cases arrested allegedly sh...         0"
      ]
     },
     "execution_count": 17,
     "metadata": {},
     "output_type": "execute_result"
    }
   ],
   "source": [
    "data['complaint'] = data['complaint'].apply(clean)\n",
    "data.head()"
   ]
  },
  {
   "cell_type": "code",
   "execution_count": 18,
   "metadata": {},
   "outputs": [
    {
     "name": "stdout",
     "output_type": "stream",
     "text": [
      "(442,) (442,)\n"
     ]
    }
   ],
   "source": [
    "X = data ['complaint']\n",
    "y = data['category']\n",
    "print(X.shape, y.shape)"
   ]
  },
  {
   "cell_type": "code",
   "execution_count": 19,
   "metadata": {},
   "outputs": [
    {
     "name": "stdout",
     "output_type": "stream",
     "text": [
      "(397,) (397,)\n",
      "(45,) (45,)\n"
     ]
    }
   ],
   "source": [
    "SEED=246\n",
    "X_train,X_test,y_train,y_test=train_test_split(X, y, test_size=0.1, random_state=SEED, stratify=y)\n",
    "print(X_train.shape, y_train.shape)\n",
    "print(X_test.shape, y_test.shape)"
   ]
  },
  {
   "cell_type": "code",
   "execution_count": 20,
   "metadata": {},
   "outputs": [],
   "source": [
    "tfidf_vectorizer = TfidfVectorizer(use_idf=True, max_features = 20000) \n",
    "tfidf_vectorizer_vectors = tfidf_vectorizer.fit_transform(X_train)\n",
    "docs_tf = tfidf_vectorizer_vectors.toarray()"
   ]
  },
  {
   "cell_type": "code",
   "execution_count": 21,
   "metadata": {},
   "outputs": [],
   "source": [
    "cv= CountVectorizer()\n",
    "cv_vectorizer = cv.fit_transform(X_train)\n",
    "docs_cv = cv_vectorizer.toarray()"
   ]
  },
  {
   "cell_type": "code",
   "execution_count": 17,
   "metadata": {},
   "outputs": [
    {
     "data": {
      "text/plain": [
       "['vectorizer.pkl']"
      ]
     },
     "execution_count": 17,
     "metadata": {},
     "output_type": "execute_result"
    }
   ],
   "source": [
    "import joblib\n",
    "import pickle\n",
    "import gzip\n",
    "\n",
    "# option #1\n",
    "joblib.dump(tfidf_vectorizer, 'vectorizer.pkl', compress=True)\n",
    "\n",
    "# option #2\n",
    "# with gzip.open('vectorizer.pkl', 'wb') as f:\n",
    "#     pickle.dump(tvec, f)"
   ]
  },
  {
   "cell_type": "code",
   "execution_count": 18,
   "metadata": {},
   "outputs": [],
   "source": [
    "# X_train= docs\n"
   ]
  },
  {
   "cell_type": "code",
   "execution_count": 22,
   "metadata": {},
   "outputs": [],
   "source": [
    "tfidf_vectorizer_vectors_test = tfidf_vectorizer.transform(X_test)\n",
    "docs_test_tf = tfidf_vectorizer_vectors_test.toarray()\n"
   ]
  },
  {
   "cell_type": "code",
   "execution_count": 23,
   "metadata": {},
   "outputs": [],
   "source": [
    "cv_vectorizer_test = cv.transform(X_test)\n",
    "docs_test_cv = cv_vectorizer_test.toarray()"
   ]
  },
  {
   "cell_type": "code",
   "execution_count": 20,
   "metadata": {},
   "outputs": [],
   "source": [
    "# X_test= docs_test"
   ]
  },
  {
   "cell_type": "code",
   "execution_count": 24,
   "metadata": {},
   "outputs": [
    {
     "data": {
      "text/html": [
       "<div>\n",
       "<style scoped>\n",
       "    .dataframe tbody tr th:only-of-type {\n",
       "        vertical-align: middle;\n",
       "    }\n",
       "\n",
       "    .dataframe tbody tr th {\n",
       "        vertical-align: top;\n",
       "    }\n",
       "\n",
       "    .dataframe thead th {\n",
       "        text-align: right;\n",
       "    }\n",
       "</style>\n",
       "<table border=\"1\" class=\"dataframe\">\n",
       "  <thead>\n",
       "    <tr style=\"text-align: right;\">\n",
       "      <th></th>\n",
       "      <th>Mean Accuracy</th>\n",
       "      <th>Standard deviation</th>\n",
       "    </tr>\n",
       "    <tr>\n",
       "      <th>model_name</th>\n",
       "      <th></th>\n",
       "      <th></th>\n",
       "    </tr>\n",
       "  </thead>\n",
       "  <tbody>\n",
       "    <tr>\n",
       "      <th>AdaBoostClassifier</th>\n",
       "      <td>0.385380</td>\n",
       "      <td>0.057422</td>\n",
       "    </tr>\n",
       "    <tr>\n",
       "      <th>DecisionTreeClassifier</th>\n",
       "      <td>0.730443</td>\n",
       "      <td>0.075328</td>\n",
       "    </tr>\n",
       "    <tr>\n",
       "      <th>GaussianNB</th>\n",
       "      <td>0.702848</td>\n",
       "      <td>0.046989</td>\n",
       "    </tr>\n",
       "    <tr>\n",
       "      <th>GradientBoostingClassifier</th>\n",
       "      <td>0.836234</td>\n",
       "      <td>0.026875</td>\n",
       "    </tr>\n",
       "    <tr>\n",
       "      <th>KNeighborsClassifier</th>\n",
       "      <td>0.743228</td>\n",
       "      <td>0.037045</td>\n",
       "    </tr>\n",
       "    <tr>\n",
       "      <th>LinearSVC</th>\n",
       "      <td>0.831266</td>\n",
       "      <td>0.037239</td>\n",
       "    </tr>\n",
       "    <tr>\n",
       "      <th>LogisticRegression</th>\n",
       "      <td>0.851361</td>\n",
       "      <td>0.044027</td>\n",
       "    </tr>\n",
       "    <tr>\n",
       "      <th>MultinomialNB</th>\n",
       "      <td>0.808418</td>\n",
       "      <td>0.050559</td>\n",
       "    </tr>\n",
       "    <tr>\n",
       "      <th>RandomForestClassifier</th>\n",
       "      <td>0.831234</td>\n",
       "      <td>0.022955</td>\n",
       "    </tr>\n",
       "    <tr>\n",
       "      <th>SGDClassifier</th>\n",
       "      <td>0.823734</td>\n",
       "      <td>0.024589</td>\n",
       "    </tr>\n",
       "  </tbody>\n",
       "</table>\n",
       "</div>"
      ],
      "text/plain": [
       "                            Mean Accuracy  Standard deviation\n",
       "model_name                                                   \n",
       "AdaBoostClassifier               0.385380            0.057422\n",
       "DecisionTreeClassifier           0.730443            0.075328\n",
       "GaussianNB                       0.702848            0.046989\n",
       "GradientBoostingClassifier       0.836234            0.026875\n",
       "KNeighborsClassifier             0.743228            0.037045\n",
       "LinearSVC                        0.831266            0.037239\n",
       "LogisticRegression               0.851361            0.044027\n",
       "MultinomialNB                    0.808418            0.050559\n",
       "RandomForestClassifier           0.831234            0.022955\n",
       "SGDClassifier                    0.823734            0.024589"
      ]
     },
     "execution_count": 24,
     "metadata": {},
     "output_type": "execute_result"
    }
   ],
   "source": [
    "from sklearn.model_selection import cross_val_score\n",
    "from sklearn.tree import DecisionTreeClassifier\n",
    "from sklearn.ensemble import RandomForestClassifier\n",
    "from sklearn.ensemble import AdaBoostClassifier, GradientBoostingClassifier\n",
    "from sklearn.neighbors import KNeighborsClassifier\n",
    "from sklearn.linear_model import SGDClassifier\n",
    "from sklearn.linear_model import LogisticRegression\n",
    "\n",
    "\n",
    "models = [LinearSVC(), MultinomialNB(), GaussianNB(), DecisionTreeClassifier(), RandomForestClassifier(), AdaBoostClassifier(), GradientBoostingClassifier(), KNeighborsClassifier(), LogisticRegression(), SGDClassifier()]\n",
    "\n",
    "# 5 Cross-validation\n",
    "CV = 5\n",
    "cv_df = pd.DataFrame(index=range(CV * len(models)))\n",
    "entries = []\n",
    "for model in models:\n",
    "  model_name = model.__class__.__name__\n",
    "  accuracies = cross_val_score(model, docs_tf, y_train, scoring='accuracy', cv=CV)\n",
    "  for fold_idx, accuracy in enumerate(accuracies):\n",
    "    entries.append((model_name, fold_idx, accuracy))\n",
    "    \n",
    "cv_df = pd.DataFrame(entries, columns=['model_name', 'fold_idx', 'accuracy'])\n",
    "\n",
    "mean_accuracy = cv_df.groupby('model_name').accuracy.mean()\n",
    "std_accuracy = cv_df.groupby('model_name').accuracy.std()\n",
    "acc = pd.concat([mean_accuracy, std_accuracy], axis= 1, ignore_index=True)\n",
    "acc.columns = ['Mean Accuracy', 'Standard deviation']\n",
    "acc"
   ]
  },
  {
   "cell_type": "code",
   "execution_count": 25,
   "metadata": {},
   "outputs": [
    {
     "data": {
      "text/html": [
       "<div>\n",
       "<style scoped>\n",
       "    .dataframe tbody tr th:only-of-type {\n",
       "        vertical-align: middle;\n",
       "    }\n",
       "\n",
       "    .dataframe tbody tr th {\n",
       "        vertical-align: top;\n",
       "    }\n",
       "\n",
       "    .dataframe thead th {\n",
       "        text-align: right;\n",
       "    }\n",
       "</style>\n",
       "<table border=\"1\" class=\"dataframe\">\n",
       "  <thead>\n",
       "    <tr style=\"text-align: right;\">\n",
       "      <th></th>\n",
       "      <th>Mean Accuracy</th>\n",
       "      <th>Standard deviation</th>\n",
       "    </tr>\n",
       "    <tr>\n",
       "      <th>model_name</th>\n",
       "      <th></th>\n",
       "      <th></th>\n",
       "    </tr>\n",
       "  </thead>\n",
       "  <tbody>\n",
       "    <tr>\n",
       "      <th>AdaBoostClassifier</th>\n",
       "      <td>0.510886</td>\n",
       "      <td>0.108461</td>\n",
       "    </tr>\n",
       "    <tr>\n",
       "      <th>DecisionTreeClassifier</th>\n",
       "      <td>0.753070</td>\n",
       "      <td>0.072210</td>\n",
       "    </tr>\n",
       "    <tr>\n",
       "      <th>GaussianNB</th>\n",
       "      <td>0.733070</td>\n",
       "      <td>0.063645</td>\n",
       "    </tr>\n",
       "    <tr>\n",
       "      <th>GradientBoostingClassifier</th>\n",
       "      <td>0.833703</td>\n",
       "      <td>0.053202</td>\n",
       "    </tr>\n",
       "    <tr>\n",
       "      <th>KNeighborsClassifier</th>\n",
       "      <td>0.551646</td>\n",
       "      <td>0.081034</td>\n",
       "    </tr>\n",
       "    <tr>\n",
       "      <th>LinearSVC</th>\n",
       "      <td>0.818671</td>\n",
       "      <td>0.016495</td>\n",
       "    </tr>\n",
       "    <tr>\n",
       "      <th>LogisticRegression</th>\n",
       "      <td>0.828671</td>\n",
       "      <td>0.024856</td>\n",
       "    </tr>\n",
       "    <tr>\n",
       "      <th>MultinomialNB</th>\n",
       "      <td>0.826108</td>\n",
       "      <td>0.043406</td>\n",
       "    </tr>\n",
       "    <tr>\n",
       "      <th>RandomForestClassifier</th>\n",
       "      <td>0.843829</td>\n",
       "      <td>0.026138</td>\n",
       "    </tr>\n",
       "    <tr>\n",
       "      <th>SGDClassifier</th>\n",
       "      <td>0.780886</td>\n",
       "      <td>0.047478</td>\n",
       "    </tr>\n",
       "  </tbody>\n",
       "</table>\n",
       "</div>"
      ],
      "text/plain": [
       "                            Mean Accuracy  Standard deviation\n",
       "model_name                                                   \n",
       "AdaBoostClassifier               0.510886            0.108461\n",
       "DecisionTreeClassifier           0.753070            0.072210\n",
       "GaussianNB                       0.733070            0.063645\n",
       "GradientBoostingClassifier       0.833703            0.053202\n",
       "KNeighborsClassifier             0.551646            0.081034\n",
       "LinearSVC                        0.818671            0.016495\n",
       "LogisticRegression               0.828671            0.024856\n",
       "MultinomialNB                    0.826108            0.043406\n",
       "RandomForestClassifier           0.843829            0.026138\n",
       "SGDClassifier                    0.780886            0.047478"
      ]
     },
     "execution_count": 25,
     "metadata": {},
     "output_type": "execute_result"
    }
   ],
   "source": [
    "from sklearn.model_selection import cross_val_score\n",
    "from sklearn.tree import DecisionTreeClassifier\n",
    "from sklearn.ensemble import RandomForestClassifier\n",
    "from sklearn.ensemble import AdaBoostClassifier, GradientBoostingClassifier\n",
    "from sklearn.neighbors import KNeighborsClassifier\n",
    "from sklearn.linear_model import SGDClassifier\n",
    "from sklearn.linear_model import LogisticRegression\n",
    "\n",
    "\n",
    "models = [LinearSVC(), MultinomialNB(), GaussianNB(), DecisionTreeClassifier(), RandomForestClassifier(), AdaBoostClassifier(), GradientBoostingClassifier(), KNeighborsClassifier(), LogisticRegression(), SGDClassifier()]\n",
    "\n",
    "# 5 Cross-validation\n",
    "CV = 5\n",
    "cv_df = pd.DataFrame(index=range(CV * len(models)))\n",
    "entries = []\n",
    "for model in models:\n",
    "  model_name = model.__class__.__name__\n",
    "  accuracies = cross_val_score(model, docs_cv, y_train, scoring='accuracy', cv=CV)\n",
    "  for fold_idx, accuracy in enumerate(accuracies):\n",
    "    entries.append((model_name, fold_idx, accuracy))\n",
    "    \n",
    "cv_df = pd.DataFrame(entries, columns=['model_name', 'fold_idx', 'accuracy'])\n",
    "\n",
    "mean_accuracy = cv_df.groupby('model_name').accuracy.mean()\n",
    "std_accuracy = cv_df.groupby('model_name').accuracy.std()\n",
    "acc = pd.concat([mean_accuracy, std_accuracy], axis= 1, ignore_index=True)\n",
    "acc.columns = ['Mean Accuracy', 'Standard deviation']\n",
    "acc"
   ]
  },
  {
   "cell_type": "markdown",
   "metadata": {},
   "source": [
    "Gaussian Nb with tf-idf, count vectorizer"
   ]
  },
  {
   "cell_type": "code",
   "execution_count": 26,
   "metadata": {},
   "outputs": [
    {
     "name": "stdout",
     "output_type": "stream",
     "text": [
      "CPU times: total: 15.6 ms\n",
      "Wall time: 26.7 ms\n",
      "\n",
      "Training Accuracy score: 0.9949622166246851\n",
      "Testing Accuracy score: 0.7111111111111111\n"
     ]
    }
   ],
   "source": [
    "gnb = GaussianNB() \n",
    "%time gnb.fit(docs_tf, y_train)\n",
    "\n",
    "y_pred_train = gnb.predict(docs_tf)\n",
    "y_pred_test = gnb.predict(docs_test_tf)\n",
    "print(\"\\nTraining Accuracy score:\",accuracy_score(y_train, y_pred_train))\n",
    "print(\"Testing Accuracy score:\",accuracy_score(y_test, y_pred_test))"
   ]
  },
  {
   "cell_type": "code",
   "execution_count": 27,
   "metadata": {},
   "outputs": [
    {
     "name": "stdout",
     "output_type": "stream",
     "text": [
      "(96, 1905) (96,)\n"
     ]
    }
   ],
   "source": [
    "#testing on unseen data\n",
    "# test = pd.read_csv('testdata.csv')\n",
    "# test['category'] = test.category.map({'rape': 4, 'murder': 3, 'kidnap': 2, 'accident':1, 'theft':0})\n",
    "test['complaint'] = test['complaint'].apply(clean)\n",
    "tdocs = list(test['complaint'])\n",
    "tfidf_vectorizer_vectors = tfidf_vectorizer.transform(tdocs)\n",
    "tdocs = tfidf_vectorizer_vectors.toarray()\n",
    "testX_tf = np.array(tdocs )\n",
    "testy = test['category']\n",
    "print(testX_tf.shape, testy.shape)"
   ]
  },
  {
   "cell_type": "code",
   "execution_count": 28,
   "metadata": {},
   "outputs": [
    {
     "data": {
      "text/plain": [
       "array([0.        , 0.42183558, 0.43594482, 0.49697994, 0.62049802])"
      ]
     },
     "execution_count": 28,
     "metadata": {},
     "output_type": "execute_result"
    }
   ],
   "source": [
    "#print unique values of textX[0] \n",
    "np.unique(testX_tf[0])"
   ]
  },
  {
   "cell_type": "code",
   "execution_count": 29,
   "metadata": {},
   "outputs": [
    {
     "name": "stdout",
     "output_type": "stream",
     "text": [
      "\n",
      "Testing Accuracy score: 0.625\n"
     ]
    }
   ],
   "source": [
    "test_pred = gnb.predict(testX_tf)\n",
    "print(\"\\nTesting Accuracy score:\",accuracy_score(testy, test_pred))\n"
   ]
  },
  {
   "cell_type": "code",
   "execution_count": 30,
   "metadata": {},
   "outputs": [
    {
     "name": "stdout",
     "output_type": "stream",
     "text": [
      "              precision    recall  f1-score   support\n",
      "\n",
      "        rape       0.70      0.78      0.74         9\n",
      "      murder       0.88      0.88      0.88         8\n",
      "      kidnap       0.54      0.78      0.64         9\n",
      "    accident       0.57      0.44      0.50         9\n",
      "       theft       1.00      0.70      0.82        10\n",
      "\n",
      "    accuracy                           0.71        45\n",
      "   macro avg       0.74      0.72      0.71        45\n",
      "weighted avg       0.74      0.71      0.71        45\n",
      "\n"
     ]
    }
   ],
   "source": [
    "print(classification_report(y_test, y_pred_test, target_names=['rape', 'murder', 'kidnap', 'accident', 'theft']))"
   ]
  },
  {
   "cell_type": "code",
   "execution_count": 31,
   "metadata": {},
   "outputs": [
    {
     "data": {
      "image/png": "[encoded data removed]",
      "text/plain": [
       "<Figure size 640x480 with 2 Axes>"
      ]
     },
     "metadata": {},
     "output_type": "display_data"
    }
   ],
   "source": [
    "cm = confusion_matrix(y_test, y_pred_test)\n",
    "# print('Confusion matrix\\n', cm)\n",
    "\n",
    "cm_matrix = pd.DataFrame(data=cm, columns=['theft', 'accident', 'kidnap' , 'murder', 'rape'], \n",
    "                        index=['theft', 'accident', 'kidnap' , 'murder', 'rape'])\n",
    "sns.heatmap(cm_matrix, annot=True, fmt='d', cmap='YlGnBu')\n",
    "plt.show()"
   ]
  },
  {
   "cell_type": "code",
   "execution_count": 32,
   "metadata": {},
   "outputs": [
    {
     "name": "stdout",
     "output_type": "stream",
     "text": [
      "              precision    recall  f1-score   support\n",
      "\n",
      "        rape       0.71      0.83      0.76        29\n",
      "      murder       0.85      0.89      0.87        19\n",
      "      kidnap       0.36      0.50      0.42        10\n",
      "    accident       0.73      0.28      0.40        29\n",
      "       theft       0.35      0.67      0.46         9\n",
      "\n",
      "    accuracy                           0.62        96\n",
      "   macro avg       0.60      0.63      0.58        96\n",
      "weighted avg       0.67      0.62      0.61        96\n",
      "\n",
      "0.625\n"
     ]
    }
   ],
   "source": [
    "print(classification_report(testy, test_pred, target_names=['rape', 'murder','kidnap', 'accident', 'theft']))\n",
    "print(accuracy_score(testy, test_pred))"
   ]
  },
  {
   "cell_type": "markdown",
   "metadata": {},
   "source": [
    "with count vectorizer"
   ]
  },
  {
   "cell_type": "code",
   "execution_count": 33,
   "metadata": {},
   "outputs": [
    {
     "name": "stdout",
     "output_type": "stream",
     "text": [
      "CPU times: total: 15.6 ms\n",
      "Wall time: 21 ms\n",
      "\n",
      "Training Accuracy score: 0.9949622166246851\n",
      "Testing Accuracy score: 0.8222222222222222\n"
     ]
    }
   ],
   "source": [
    "gnb = GaussianNB() \n",
    "%time gnb.fit(docs_cv, y_train)\n",
    "\n",
    "y_pred_train = gnb.predict(docs_cv)\n",
    "y_pred_test = gnb.predict(docs_test_cv)\n",
    "print(\"\\nTraining Accuracy score:\",accuracy_score(y_train, y_pred_train))\n",
    "print(\"Testing Accuracy score:\",accuracy_score(y_test, y_pred_test))"
   ]
  },
  {
   "cell_type": "code",
   "execution_count": 34,
   "metadata": {},
   "outputs": [
    {
     "name": "stdout",
     "output_type": "stream",
     "text": [
      "(96, 1905) (96,)\n"
     ]
    }
   ],
   "source": [
    "#testing on unseen data\n",
    "# test = pd.read_csv('testdata.csv')\n",
    "# test['category'] = test.category.map({'rape': 4, 'murder': 3, 'kidnap': 2, 'accident':1, 'theft':0})\n",
    "test['complaint'] = test['complaint'].apply(clean)\n",
    "tdocs = list(test['complaint'])\n",
    "cv_vectorizer= cv.transform(tdocs)\n",
    "tdocs = cv_vectorizer.toarray()\n",
    "testX_cv = np.array(tdocs )\n",
    "testy = test['category']\n",
    "print(testX_cv.shape, testy.shape)"
   ]
  },
  {
   "cell_type": "code",
   "execution_count": 35,
   "metadata": {},
   "outputs": [
    {
     "name": "stdout",
     "output_type": "stream",
     "text": [
      "\n",
      "Testing Accuracy score: 0.6041666666666666\n"
     ]
    }
   ],
   "source": [
    "test_pred = gnb.predict(testX_cv)\n",
    "print(\"\\nTesting Accuracy score:\",accuracy_score(testy, test_pred))\n"
   ]
  },
  {
   "cell_type": "markdown",
   "metadata": {},
   "source": [
    "MULTINOMIAL NB with tf-idf and count vectorizer"
   ]
  },
  {
   "cell_type": "code",
   "execution_count": 36,
   "metadata": {},
   "outputs": [
    {
     "name": "stdout",
     "output_type": "stream",
     "text": [
      "CPU times: total: 0 ns\n",
      "Wall time: 8 ms\n",
      "\n",
      "Training Accuracy score: 0.9748110831234257\n",
      "Testing Accuracy score: 0.9111111111111111\n"
     ]
    }
   ],
   "source": [
    "mnb = MultinomialNB() \n",
    "%time mnb.fit(docs_tf, y_train)\n",
    "\n",
    "y_pred_train = mnb.predict(docs_tf)\n",
    "y_pred_test = mnb.predict(docs_test_tf)\n",
    "print(\"\\nTraining Accuracy score:\",accuracy_score(y_train, y_pred_train))\n",
    "print(\"Testing Accuracy score:\",accuracy_score(y_test, y_pred_test))"
   ]
  },
  {
   "cell_type": "code",
   "execution_count": 37,
   "metadata": {},
   "outputs": [
    {
     "name": "stdout",
     "output_type": "stream",
     "text": [
      "\n",
      "Testing Accuracy score: 0.7083333333333334\n"
     ]
    }
   ],
   "source": [
    "test_pred = mnb.predict(testX_tf)\n",
    "print(\"\\nTesting Accuracy score:\",accuracy_score(testy, test_pred))"
   ]
  },
  {
   "cell_type": "code",
   "execution_count": 38,
   "metadata": {},
   "outputs": [
    {
     "name": "stdout",
     "output_type": "stream",
     "text": [
      "              precision    recall  f1-score   support\n",
      "\n",
      "       theft       0.83      0.69      0.75        29\n",
      "    accident       0.75      0.95      0.84        19\n",
      "      kidnap       0.45      0.50      0.48        10\n",
      "      murder       0.89      0.59      0.71        29\n",
      "        rape       0.44      0.89      0.59         9\n",
      "\n",
      "    accuracy                           0.71        96\n",
      "   macro avg       0.68      0.72      0.67        96\n",
      "weighted avg       0.76      0.71      0.71        96\n",
      "\n",
      "0.7083333333333334\n"
     ]
    }
   ],
   "source": [
    "print(classification_report(testy, test_pred, target_names=['theft', 'accident', 'kidnap' , 'murder', 'rape']))\n",
    "print(accuracy_score(testy, test_pred))"
   ]
  },
  {
   "cell_type": "markdown",
   "metadata": {},
   "source": [
    "with count vectorizer"
   ]
  },
  {
   "cell_type": "code",
   "execution_count": 39,
   "metadata": {},
   "outputs": [
    {
     "name": "stdout",
     "output_type": "stream",
     "text": [
      "CPU times: total: 0 ns\n",
      "Wall time: 24.5 ms\n",
      "\n",
      "Training Accuracy score: 0.9773299748110831\n",
      "Testing Accuracy score: 0.9111111111111111\n"
     ]
    }
   ],
   "source": [
    "mnb = MultinomialNB() \n",
    "%time mnb.fit(docs_cv, y_train)\n",
    "\n",
    "y_pred_train = mnb.predict(docs_cv)\n",
    "y_pred_test = mnb.predict(docs_test_cv)\n",
    "print(\"\\nTraining Accuracy score:\",accuracy_score(y_train, y_pred_train))\n",
    "print(\"Testing Accuracy score:\",accuracy_score(y_test, y_pred_test))"
   ]
  },
  {
   "cell_type": "code",
   "execution_count": 40,
   "metadata": {},
   "outputs": [
    {
     "name": "stdout",
     "output_type": "stream",
     "text": [
      "\n",
      "Testing Accuracy score: 0.6979166666666666\n"
     ]
    }
   ],
   "source": [
    "test_pred = mnb.predict(testX_cv)\n",
    "print(\"\\nTesting Accuracy score:\",accuracy_score(testy, test_pred))"
   ]
  },
  {
   "cell_type": "markdown",
   "metadata": {},
   "source": [
    "LOGISITIC REGRESSION WITH tf-idf and count vectorizer"
   ]
  },
  {
   "cell_type": "code",
   "execution_count": 41,
   "metadata": {},
   "outputs": [
    {
     "name": "stdout",
     "output_type": "stream",
     "text": [
      "CPU times: total: 46.9 ms\n",
      "Wall time: 161 ms\n",
      "\n",
      "Training Accuracy score: 0.9874055415617129\n",
      "Testing Accuracy score: 0.9333333333333333\n"
     ]
    }
   ],
   "source": [
    "lr = LogisticRegression(random_state=SEED)\n",
    "%time lr.fit(docs_tf, y_train)\n",
    "\n",
    "y_pred_train = lr.predict(docs_tf)\n",
    "y_pred_test = lr.predict(docs_test_tf)\n",
    "print(\"\\nTraining Accuracy score:\",accuracy_score(y_train, y_pred_train))\n",
    "print(\"Testing Accuracy score:\",accuracy_score(y_test, y_pred_test))"
   ]
  },
  {
   "cell_type": "code",
   "execution_count": 42,
   "metadata": {},
   "outputs": [
    {
     "name": "stdout",
     "output_type": "stream",
     "text": [
      "\n",
      "Testing Accuracy score: 0.8229166666666666\n"
     ]
    }
   ],
   "source": [
    "test_pred = lr.predict(testX_tf)\n",
    "print(\"\\nTesting Accuracy score:\",accuracy_score(testy, test_pred))"
   ]
  },
  {
   "cell_type": "code",
   "execution_count": 43,
   "metadata": {},
   "outputs": [
    {
     "name": "stdout",
     "output_type": "stream",
     "text": [
      "              precision    recall  f1-score   support\n",
      "\n",
      "       theft       0.86      0.83      0.84        29\n",
      "    accident       0.82      0.95      0.88        19\n",
      "      kidnap       0.67      0.60      0.63        10\n",
      "      murder       0.85      0.79      0.82        29\n",
      "        rape       0.80      0.89      0.84         9\n",
      "\n",
      "    accuracy                           0.82        96\n",
      "   macro avg       0.80      0.81      0.80        96\n",
      "weighted avg       0.82      0.82      0.82        96\n",
      "\n",
      "0.8229166666666666\n"
     ]
    }
   ],
   "source": [
    "print(classification_report(testy, test_pred, target_names=['theft', 'accident', 'kidnap' , 'murder', 'rape']))\n",
    "print(accuracy_score(testy, test_pred))"
   ]
  },
  {
   "cell_type": "code",
   "execution_count": 44,
   "metadata": {},
   "outputs": [
    {
     "data": {
      "image/png": "[encoded data removed]",
      "text/plain": [
       "<Figure size 640x480 with 2 Axes>"
      ]
     },
     "metadata": {},
     "output_type": "display_data"
    }
   ],
   "source": [
    "cm = confusion_matrix(testy, test_pred)\n",
    "# print('Confusion matrix\\n', cm)\n",
    "\n",
    "cm_matrix = pd.DataFrame(data=cm, columns=['theft', 'accident', 'kidnap' , 'murder', 'rape'], \n",
    "                        index=['theft', 'accident', 'kidnap' , 'murder', 'rape'])\n",
    "sns.heatmap(cm_matrix, annot=True, fmt='d', cmap='YlGnBu')\n",
    "plt.show()"
   ]
  },
  {
   "cell_type": "markdown",
   "metadata": {},
   "source": [
    "with count vectorizer"
   ]
  },
  {
   "cell_type": "code",
   "execution_count": 45,
   "metadata": {},
   "outputs": [
    {
     "name": "stdout",
     "output_type": "stream",
     "text": [
      "CPU times: total: 125 ms\n",
      "Wall time: 166 ms\n",
      "\n",
      "Training Accuracy score: 0.9949622166246851\n",
      "Testing Accuracy score: 0.9111111111111111\n"
     ]
    }
   ],
   "source": [
    "lr = LogisticRegression(random_state=SEED)\n",
    "%time lr.fit(docs_cv, y_train)\n",
    "\n",
    "y_pred_train = lr.predict(docs_cv)\n",
    "y_pred_test = lr.predict(docs_test_cv)\n",
    "print(\"\\nTraining Accuracy score:\",accuracy_score(y_train, y_pred_train))\n",
    "print(\"Testing Accuracy score:\",accuracy_score(y_test, y_pred_test))"
   ]
  },
  {
   "cell_type": "code",
   "execution_count": 46,
   "metadata": {},
   "outputs": [
    {
     "name": "stdout",
     "output_type": "stream",
     "text": [
      "\n",
      "Testing Accuracy score: 0.78125\n"
     ]
    }
   ],
   "source": [
    "test_pred = lr.predict(testX_cv)\n",
    "print(\"\\nTesting Accuracy score:\",accuracy_score(testy, test_pred))"
   ]
  },
  {
   "cell_type": "markdown",
   "metadata": {},
   "source": [
    "SVM WITH tf-idf and count vectorizer"
   ]
  },
  {
   "cell_type": "code",
   "execution_count": 47,
   "metadata": {},
   "outputs": [
    {
     "name": "stdout",
     "output_type": "stream",
     "text": [
      "CPU times: total: 0 ns\n",
      "Wall time: 13 ms\n",
      "\n",
      "Training Accuracy score: 0.9949622166246851\n",
      "Testing Accuracy score: 0.8888888888888888\n"
     ]
    }
   ],
   "source": [
    "svc =  LinearSVC(class_weight='balanced') \n",
    "%time svc.fit(docs_tf, y_train)\n",
    "\n",
    "y_pred_train = svc.predict(docs_tf)\n",
    "y_pred_test = svc.predict(docs_test_tf)\n",
    "print(\"\\nTraining Accuracy score:\",accuracy_score(y_train, y_pred_train))\n",
    "print(\"Testing Accuracy score:\",accuracy_score(y_test, y_pred_test))"
   ]
  },
  {
   "cell_type": "code",
   "execution_count": 48,
   "metadata": {},
   "outputs": [
    {
     "name": "stdout",
     "output_type": "stream",
     "text": [
      "\n",
      "Testing Accuracy score: 0.7916666666666666\n"
     ]
    }
   ],
   "source": [
    "test_pred = svc.predict(testX_tf)\n",
    "print(\"\\nTesting Accuracy score:\",accuracy_score(testy, test_pred))"
   ]
  },
  {
   "cell_type": "code",
   "execution_count": 49,
   "metadata": {},
   "outputs": [],
   "source": [
    "from sklearn.calibration import CalibratedClassifierCV\n",
    "calibrated_svc= CalibratedClassifierCV(base_estimator=svc, cv=5)\n"
   ]
  },
  {
   "cell_type": "code",
   "execution_count": 50,
   "metadata": {},
   "outputs": [
    {
     "name": "stdout",
     "output_type": "stream",
     "text": [
      "Accuracy: 0.8888888888888888\n"
     ]
    }
   ],
   "source": [
    "calibrated_svc.fit(docs_tf, y_train)\n",
    "predicted= calibrated_svc.predict(docs_test_tf)\n",
    "print(\"Accuracy:\",metrics.accuracy_score(y_test, predicted))"
   ]
  },
  {
   "cell_type": "code",
   "execution_count": 51,
   "metadata": {},
   "outputs": [
    {
     "name": "stdout",
     "output_type": "stream",
     "text": [
      "Accuracy: 0.8020833333333334\n"
     ]
    }
   ],
   "source": [
    "predicted= calibrated_svc.predict(testX_tf)\n",
    "print(\"Accuracy:\",metrics.accuracy_score(testy, predicted))"
   ]
  },
  {
   "cell_type": "code",
   "execution_count": 52,
   "metadata": {},
   "outputs": [
    {
     "data": {
      "text/plain": [
       "array([[56.27558841, 18.01059417,  8.82126894, 13.42319167,  3.4693568 ],\n",
       "       [18.97711504,  2.1734057 ,  8.51158074, 69.23541724,  1.10248129],\n",
       "       [ 1.16596347,  0.51894542,  4.91810429, 87.29606809,  6.10091873],\n",
       "       [ 1.4013903 ,  1.43226288,  4.07841718, 90.3085961 ,  2.77933354],\n",
       "       [43.83616093,  6.92394259,  5.1577731 ,  6.60261479, 37.47950858],\n",
       "       [57.33591454,  1.47675647,  9.04459574,  6.2174151 , 25.92531816],\n",
       "       [ 1.01955393,  1.3159631 , 27.2418675 , 14.70218395, 55.72043151],\n",
       "       [15.18916612,  3.2445879 , 18.00846732, 58.30170839,  5.25607027],\n",
       "       [ 1.16444432,  2.47117819, 28.3123233 , 52.91829691, 15.13375728],\n",
       "       [ 0.85962949, 18.13649258, 18.65489013, 60.95491014,  1.39407767],\n",
       "       [20.21652072,  0.99242926, 52.13631357,  8.9783506 , 17.67638585],\n",
       "       [33.84915507, 16.41277539, 43.36738624,  3.12926016,  3.24142314],\n",
       "       [ 5.20447801,  2.69896645, 10.38570842, 71.87563337,  9.83521375],\n",
       "       [ 4.62452538, 80.33934843,  9.19153861,  4.39901688,  1.44557069],\n",
       "       [ 1.31052562, 80.55499599, 13.40534264,  2.11190309,  2.61723265],\n",
       "       [ 6.53170474, 79.05846881, 11.28839715,  0.90106341,  2.22036588],\n",
       "       [ 0.71885886,  0.22816734, 69.7848745 ,  3.23294131, 26.03515799],\n",
       "       [ 1.27836409, 85.3931572 ,  7.52027922,  4.72393275,  1.08426674],\n",
       "       [ 4.18643712, 79.49181482,  5.60093692,  8.47043549,  2.25037565],\n",
       "       [11.10046969,  1.68175877, 81.72516781,  1.75638167,  3.73622206],\n",
       "       [19.59980034,  4.86957717, 20.81045175, 53.57511572,  1.14505502],\n",
       "       [41.51113003, 10.50622571, 38.53664734,  8.20388135,  1.24211556],\n",
       "       [87.67306983,  1.15174667,  6.14223859,  3.83709326,  1.19585166],\n",
       "       [47.32444193,  0.3353548 ,  9.49253795, 35.8821458 ,  6.96551952],\n",
       "       [ 0.35774984, 78.96064347, 13.25922457,  6.86133811,  0.561044  ],\n",
       "       [55.49015365, 40.227237  ,  2.45876231,  0.72177773,  1.10206931],\n",
       "       [19.01340623,  1.79063539, 65.36482372, 13.11458231,  0.71655235],\n",
       "       [34.1948394 , 24.42946795, 17.63802019, 17.55095587,  6.18671658],\n",
       "       [ 1.20190223,  1.85805313,  6.07008762,  5.85203212, 85.0179249 ],\n",
       "       [ 8.6903463 ,  0.91090476, 33.52004929, 45.12126906, 11.75743059],\n",
       "       [ 2.40491426,  1.1018564 , 13.93345768, 11.42404163, 71.13573003],\n",
       "       [14.89779605, 43.05643333, 30.47121568,  7.95761397,  3.61694098],\n",
       "       [ 3.50737436,  2.31175457, 11.52449502, 81.43929677,  1.21707928],\n",
       "       [71.66668681, 11.99877816,  8.63745707,  7.08043877,  0.61663918],\n",
       "       [ 1.33542106,  0.88738413,  5.32611094,  3.07630113, 89.37478274],\n",
       "       [18.74799515,  1.94255705,  2.67698789, 75.54019175,  1.09226816],\n",
       "       [76.50425926,  0.46035175,  8.63157306, 10.07925804,  4.32455789],\n",
       "       [ 0.76103121,  0.34092087,  0.72002426, 19.52865065, 78.64937301],\n",
       "       [44.73206018,  4.63291932, 32.55565406, 14.38398529,  3.69538116],\n",
       "       [ 0.3365874 , 22.44202727,  1.12139463,  9.93841448, 66.16157623],\n",
       "       [27.16773138, 20.66411659, 10.82578957, 37.66238953,  3.67997293],\n",
       "       [63.89529211,  3.31078201, 26.74461698,  4.88719046,  1.16211844],\n",
       "       [81.19554948,  1.17592769,  7.8553426 ,  8.73037484,  1.04280539],\n",
       "       [ 1.35092518, 93.85119888,  2.68430436,  1.50548551,  0.60808607],\n",
       "       [ 1.65285008, 86.22340506,  1.00969915,  9.31631922,  1.79772649],\n",
       "       [ 1.32653726,  6.840587  , 36.34404344, 54.90834759,  0.58048471],\n",
       "       [10.03404065,  3.64736439, 22.49262322, 29.67216641, 34.15380533],\n",
       "       [ 1.68365803,  0.37873502, 17.41160906, 66.08082512, 14.44517277],\n",
       "       [ 0.66643784, 39.82207682, 16.89688027, 35.73630946,  6.87829562],\n",
       "       [ 2.47004902, 92.43973721,  0.95363981,  2.45357622,  1.68299773],\n",
       "       [25.15056862, 37.16100538, 31.44192659,  1.72523323,  4.52126618],\n",
       "       [ 2.70727775, 88.02369687,  2.51561812,  3.58540372,  3.16800353],\n",
       "       [ 6.9835755 ,  1.13370957,  1.9105242 , 67.33662074, 22.63556999],\n",
       "       [ 4.87054582,  8.46478489, 24.41967276,  8.12008837, 54.12490816],\n",
       "       [91.37411993,  2.4038982 ,  2.78210684,  2.25194634,  1.18792868],\n",
       "       [ 4.94268457, 84.50184396,  6.83554583,  3.33679783,  0.3831278 ],\n",
       "       [73.09388223,  5.09329478,  7.66399304,  8.35098198,  5.79784797],\n",
       "       [19.35162814, 10.98515378, 13.36970965, 51.58371899,  4.70978943],\n",
       "       [84.286888  ,  3.50765289,  3.00272478,  5.15316764,  4.04956668],\n",
       "       [ 6.42792446, 22.32571717,  3.14851644, 63.56895787,  4.52888406],\n",
       "       [ 6.75720228,  6.44870774,  7.75044492, 78.9367339 ,  0.10691115],\n",
       "       [47.17577306, 27.39920434,  8.05486331,  7.95302156,  9.41713772],\n",
       "       [24.66664547,  3.76689784,  9.52906838, 51.78381357, 10.25357474],\n",
       "       [ 5.69858504, 56.91328898, 29.66148663,  5.85196256,  1.87467679],\n",
       "       [75.8755231 ,  0.15509056, 19.95050663,  3.23977487,  0.77910484],\n",
       "       [ 1.75007777, 90.47768496,  3.06811117,  3.33583157,  1.36829453],\n",
       "       [14.19774885,  7.90830816, 27.40012048, 12.52707121, 37.9667513 ],\n",
       "       [61.72000402,  4.95066119,  9.78335176, 16.7075513 ,  6.83843174],\n",
       "       [77.84387523,  4.56569952,  7.35681167,  7.56358886,  2.67002472],\n",
       "       [ 3.42315114,  2.83035434,  6.41661335,  5.58282667, 81.74705449],\n",
       "       [ 1.55079614, 11.70298235, 58.10477432,  6.87790983, 21.76353737],\n",
       "       [ 3.7476546 ,  1.41136444, 10.34268356, 81.44163285,  3.05666455],\n",
       "       [36.83381245,  2.38316388,  9.1563746 , 48.4376906 ,  3.18895847],\n",
       "       [10.70897252, 65.96418252,  8.75174412,  9.32001844,  5.25508241],\n",
       "       [ 0.54554018, 89.25920509,  7.05255864,  0.55054412,  2.59215197],\n",
       "       [30.98233566,  2.12332936, 17.72290243, 46.62947539,  2.54195716],\n",
       "       [ 6.64594497,  0.34443736, 84.84704152,  7.67772131,  0.48485484],\n",
       "       [88.26957281,  1.04096601,  5.83265714,  4.72794261,  0.12886143],\n",
       "       [16.52155881, 32.95675877,  8.13259896, 39.74795738,  2.64112608],\n",
       "       [36.5703636 , 10.84999058, 46.42107405,  2.33325337,  3.82531841],\n",
       "       [89.07494753,  0.35339383,  5.48252402,  2.98579936,  2.10333526],\n",
       "       [88.74725126,  0.41147188,  3.178842  ,  6.37549605,  1.28693881],\n",
       "       [24.61511368,  5.2523311 , 51.05860338, 10.35648305,  8.71746878],\n",
       "       [ 1.60681406,  0.73765673,  8.42794425, 14.49930015, 74.7282848 ],\n",
       "       [ 1.09795154, 93.21439281,  3.1615728 ,  1.82592723,  0.70015562],\n",
       "       [ 3.93124392, 87.80646524,  3.72301391,  3.63013562,  0.90914132],\n",
       "       [ 7.65544217, 79.47118241,  2.61438288,  9.07814033,  1.18085221],\n",
       "       [52.46256484, 16.09950521, 20.92558709,  5.62950935,  4.88283351],\n",
       "       [ 0.45484203,  0.69559584, 28.87098446, 59.33920473, 10.63937294],\n",
       "       [13.22463931,  3.41802834,  7.06498205,  2.81288602, 73.47946428],\n",
       "       [ 2.99477188, 88.10524051,  4.10495452,  4.38055663,  0.41447646],\n",
       "       [ 6.41859303,  2.65864908,  9.14874096, 80.37398996,  1.40002696],\n",
       "       [ 5.37249642,  1.01882924, 48.44898753,  2.13613373, 43.02355308],\n",
       "       [ 3.1881661 , 70.88655502, 12.44950201,  3.55544712,  9.92032975],\n",
       "       [75.53645408,  2.0542859 ,  8.84518787, 11.3782672 ,  2.18580495],\n",
       "       [38.78147646,  6.21843465,  9.72095591, 28.09064657, 17.18848641]])"
      ]
     },
     "execution_count": 52,
     "metadata": {},
     "output_type": "execute_result"
    }
   ],
   "source": [
    "calibrated_svc.predict_proba(testX_tf)*100"
   ]
  },
  {
   "cell_type": "code",
   "execution_count": 53,
   "metadata": {},
   "outputs": [],
   "source": [
    "from sklearn import svm\n",
    "\n",
    "rbf= svm.SVC(kernel='rbf', gamma=0.5, C=0.1).fit(docs_tf, y_train)\n",
    "poly= svm.SVC(kernel='poly', degree=3, C=1).fit(docs_tf, y_train)"
   ]
  },
  {
   "cell_type": "code",
   "execution_count": 54,
   "metadata": {},
   "outputs": [
    {
     "name": "stdout",
     "output_type": "stream",
     "text": [
      "RBF Accuracy:  0.7777777777777778\n",
      "Poly Accuracy:  0.8\n"
     ]
    }
   ],
   "source": [
    "rbf_val= rbf.predict(docs_test_tf)\n",
    "poly_val= poly.predict(docs_test_tf)\n",
    "\n",
    "print(\"RBF Accuracy: \", accuracy_score(y_test, rbf_val))\n",
    "print(\"Poly Accuracy: \", accuracy_score(y_test, poly_val))"
   ]
  },
  {
   "cell_type": "code",
   "execution_count": 55,
   "metadata": {},
   "outputs": [
    {
     "name": "stdout",
     "output_type": "stream",
     "text": [
      "\n",
      "RBF Testing Accuracy score: 0.6354166666666666\n",
      "\n",
      "Polynomial Testing Accuracy score: 0.6458333333333334\n"
     ]
    }
   ],
   "source": [
    "rbf_test_pred = rbf.predict(testX_tf)\n",
    "poly_test_pred = poly.predict(testX_tf)\n",
    "print(\"\\nRBF Testing Accuracy score:\",accuracy_score(testy, rbf_test_pred))\n",
    "print(\"\\nPolynomial Testing Accuracy score:\",accuracy_score(testy, poly_test_pred))"
   ]
  },
  {
   "cell_type": "markdown",
   "metadata": {},
   "source": [
    "with count vectorizer"
   ]
  },
  {
   "cell_type": "code",
   "execution_count": 56,
   "metadata": {},
   "outputs": [
    {
     "name": "stdout",
     "output_type": "stream",
     "text": [
      "CPU times: total: 0 ns\n",
      "Wall time: 23.1 ms\n",
      "\n",
      "Training Accuracy score: 1.0\n",
      "Testing Accuracy score: 0.9111111111111111\n"
     ]
    }
   ],
   "source": [
    "svc =  LinearSVC(class_weight='balanced') \n",
    "%time svc.fit(docs_cv, y_train)\n",
    "\n",
    "y_pred_train = svc.predict(docs_cv)\n",
    "y_pred_test = svc.predict(docs_test_cv)\n",
    "print(\"\\nTraining Accuracy score:\",accuracy_score(y_train, y_pred_train))\n",
    "print(\"Testing Accuracy score:\",accuracy_score(y_test, y_pred_test))"
   ]
  },
  {
   "cell_type": "code",
   "execution_count": 57,
   "metadata": {},
   "outputs": [
    {
     "name": "stdout",
     "output_type": "stream",
     "text": [
      "\n",
      "Testing Accuracy score: 0.7604166666666666\n"
     ]
    }
   ],
   "source": [
    "test_pred = svc.predict(testX_cv)\n",
    "print(\"\\nTesting Accuracy score:\",accuracy_score(testy, test_pred))"
   ]
  },
  {
   "cell_type": "code",
   "execution_count": 58,
   "metadata": {},
   "outputs": [
    {
     "name": "stdout",
     "output_type": "stream",
     "text": [
      "Accuracy: 0.9111111111111111\n"
     ]
    }
   ],
   "source": [
    "from sklearn.calibration import CalibratedClassifierCV\n",
    "calibrated_svc= CalibratedClassifierCV(base_estimator=svc, cv=5)\n",
    "calibrated_svc.fit(docs_cv, y_train)\n",
    "predicted= calibrated_svc.predict(docs_test_cv)\n",
    "print(\"Accuracy:\",metrics.accuracy_score(y_test, predicted))"
   ]
  },
  {
   "cell_type": "code",
   "execution_count": 59,
   "metadata": {},
   "outputs": [
    {
     "name": "stdout",
     "output_type": "stream",
     "text": [
      "Accuracy: 0.7916666666666666\n"
     ]
    }
   ],
   "source": [
    "predicted= calibrated_svc.predict(testX_cv)\n",
    "print(\"Accuracy:\",metrics.accuracy_score(testy, predicted))"
   ]
  },
  {
   "cell_type": "code",
   "execution_count": 60,
   "metadata": {},
   "outputs": [],
   "source": [
    "from sklearn import svm\n",
    "\n",
    "rbf= svm.SVC(kernel='rbf', gamma=0.5, C=0.1).fit(docs_cv, y_train)\n",
    "poly= svm.SVC(kernel='poly', degree=3, C=1).fit(docs_cv, y_train)"
   ]
  },
  {
   "cell_type": "code",
   "execution_count": 61,
   "metadata": {},
   "outputs": [
    {
     "name": "stdout",
     "output_type": "stream",
     "text": [
      "RBF Accuracy:  0.24444444444444444\n",
      "Poly Accuracy:  0.4888888888888889\n"
     ]
    }
   ],
   "source": [
    "rbf_val= rbf.predict(docs_test_cv)\n",
    "poly_val= poly.predict(docs_test_cv)\n",
    "\n",
    "print(\"RBF Accuracy: \", accuracy_score(y_test, rbf_val))\n",
    "print(\"Poly Accuracy: \", accuracy_score(y_test, poly_val))"
   ]
  },
  {
   "cell_type": "code",
   "execution_count": 62,
   "metadata": {},
   "outputs": [
    {
     "name": "stdout",
     "output_type": "stream",
     "text": [
      "\n",
      "RBF Testing Accuracy score: 0.2604166666666667\n",
      "\n",
      "Polynomial Testing Accuracy score: 0.3125\n"
     ]
    }
   ],
   "source": [
    "rbf_test_pred = rbf.predict(testX_cv)\n",
    "poly_test_pred = poly.predict(testX_cv)\n",
    "print(\"\\nRBF Testing Accuracy score:\",accuracy_score(testy, rbf_test_pred))\n",
    "print(\"\\nPolynomial Testing Accuracy score:\",accuracy_score(testy, poly_test_pred))"
   ]
  },
  {
   "cell_type": "markdown",
   "metadata": {},
   "source": [
    "DECISION TREE CLASSIFIER WITH TF-IDF AND COUNT VECTORIZER"
   ]
  },
  {
   "cell_type": "code",
   "execution_count": 63,
   "metadata": {},
   "outputs": [
    {
     "name": "stdout",
     "output_type": "stream",
     "text": [
      "CPU times: total: 46.9 ms\n",
      "Wall time: 69.6 ms\n",
      "\n",
      "Training Accuracy score: 1.0\n",
      "Testing Accuracy score: 0.8888888888888888\n"
     ]
    }
   ],
   "source": [
    "from sklearn.tree import DecisionTreeClassifier\n",
    "\n",
    "dt = DecisionTreeClassifier(random_state=SEED)\n",
    "%time dt.fit(docs_tf, y_train)\n",
    "\n",
    "y_pred_train = dt.predict(docs_tf)\n",
    "y_pred_test = dt.predict(docs_test_tf)\n",
    "print(\"\\nTraining Accuracy score:\",accuracy_score(y_train, y_pred_train))\n",
    "print(\"Testing Accuracy score:\",accuracy_score(y_test, y_pred_test))"
   ]
  },
  {
   "cell_type": "code",
   "execution_count": 64,
   "metadata": {},
   "outputs": [
    {
     "name": "stdout",
     "output_type": "stream",
     "text": [
      "\n",
      "Testing Accuracy score: 0.6458333333333334\n"
     ]
    }
   ],
   "source": [
    "test_pred = dt.predict(testX_tf)\n",
    "print(\"\\nTesting Accuracy score:\",accuracy_score(testy, test_pred))"
   ]
  },
  {
   "cell_type": "markdown",
   "metadata": {},
   "source": [
    "with count vectorizer"
   ]
  },
  {
   "cell_type": "code",
   "execution_count": 65,
   "metadata": {},
   "outputs": [
    {
     "name": "stdout",
     "output_type": "stream",
     "text": [
      "CPU times: total: 46.9 ms\n",
      "Wall time: 54 ms\n",
      "\n",
      "Training Accuracy score: 1.0\n",
      "Testing Accuracy score: 0.8666666666666667\n"
     ]
    }
   ],
   "source": [
    "from sklearn.tree import DecisionTreeClassifier\n",
    "\n",
    "dt = DecisionTreeClassifier(random_state=SEED)\n",
    "%time dt.fit(docs_cv, y_train)\n",
    "\n",
    "y_pred_train = dt.predict(docs_cv)\n",
    "y_pred_test = dt.predict(docs_test_cv)\n",
    "print(\"\\nTraining Accuracy score:\",accuracy_score(y_train, y_pred_train))\n",
    "print(\"Testing Accuracy score:\",accuracy_score(y_test, y_pred_test))"
   ]
  },
  {
   "cell_type": "code",
   "execution_count": 66,
   "metadata": {},
   "outputs": [
    {
     "name": "stdout",
     "output_type": "stream",
     "text": [
      "\n",
      "Testing Accuracy score: 0.7083333333333334\n"
     ]
    }
   ],
   "source": [
    "test_pred = dt.predict(testX_cv)\n",
    "print(\"\\nTesting Accuracy score:\",accuracy_score(testy, test_pred))"
   ]
  },
  {
   "cell_type": "markdown",
   "metadata": {},
   "source": [
    "RANDOM FOREST WITH TF-IDF AND COUNT VECTORIZER"
   ]
  },
  {
   "cell_type": "code",
   "execution_count": 67,
   "metadata": {},
   "outputs": [
    {
     "name": "stdout",
     "output_type": "stream",
     "text": [
      "CPU times: total: 141 ms\n",
      "Wall time: 476 ms\n",
      "\n",
      "Training Accuracy score: 1.0\n",
      "Testing Accuracy score: 0.8888888888888888\n"
     ]
    }
   ],
   "source": [
    "from sklearn.ensemble import RandomForestClassifier\n",
    "rf = RandomForestClassifier(random_state=SEED)\n",
    "%time rf.fit(docs_tf, y_train)\n",
    "\n",
    "y_pred_train = rf.predict(docs_tf)\n",
    "y_pred_test = rf.predict(docs_test_tf)\n",
    "print(\"\\nTraining Accuracy score:\",accuracy_score(y_train, y_pred_train))\n",
    "print(\"Testing Accuracy score:\",accuracy_score(y_test, y_pred_test))"
   ]
  },
  {
   "cell_type": "code",
   "execution_count": 68,
   "metadata": {},
   "outputs": [
    {
     "name": "stdout",
     "output_type": "stream",
     "text": [
      "\n",
      "Testing Accuracy score: 0.7916666666666666\n"
     ]
    }
   ],
   "source": [
    "test_pred = rf.predict(testX_tf)\n",
    "print(\"\\nTesting Accuracy score:\",accuracy_score(testy, test_pred))"
   ]
  },
  {
   "cell_type": "markdown",
   "metadata": {},
   "source": [
    "WITH COUNT VECTORIZER"
   ]
  },
  {
   "cell_type": "code",
   "execution_count": 69,
   "metadata": {},
   "outputs": [
    {
     "name": "stdout",
     "output_type": "stream",
     "text": [
      "CPU times: total: 234 ms\n",
      "Wall time: 427 ms\n",
      "\n",
      "Training Accuracy score: 1.0\n",
      "Testing Accuracy score: 0.9111111111111111\n"
     ]
    }
   ],
   "source": [
    "from sklearn.ensemble import RandomForestClassifier\n",
    "rf = RandomForestClassifier(random_state=SEED)\n",
    "%time rf.fit(docs_cv, y_train)\n",
    "\n",
    "y_pred_train = rf.predict(docs_cv)\n",
    "y_pred_test = rf.predict(docs_test_cv)\n",
    "print(\"\\nTraining Accuracy score:\",accuracy_score(y_train, y_pred_train))\n",
    "print(\"Testing Accuracy score:\",accuracy_score(y_test, y_pred_test))"
   ]
  },
  {
   "cell_type": "code",
   "execution_count": 70,
   "metadata": {},
   "outputs": [
    {
     "name": "stdout",
     "output_type": "stream",
     "text": [
      "\n",
      "Testing Accuracy score: 0.8229166666666666\n"
     ]
    }
   ],
   "source": [
    "test_pred = rf.predict(testX_cv)\n",
    "print(\"\\nTesting Accuracy score:\",accuracy_score(testy, test_pred))"
   ]
  },
  {
   "cell_type": "code",
   "execution_count": 71,
   "metadata": {},
   "outputs": [
    {
     "name": "stdout",
     "output_type": "stream",
     "text": [
      "              precision    recall  f1-score   support\n",
      "\n",
      "       theft       0.95      0.72      0.82        29\n",
      "    accident       0.77      0.89      0.83        19\n",
      "      kidnap       0.86      0.60      0.71        10\n",
      "      murder       0.77      0.93      0.84        29\n",
      "        rape       0.80      0.89      0.84         9\n",
      "\n",
      "    accuracy                           0.82        96\n",
      "   macro avg       0.83      0.81      0.81        96\n",
      "weighted avg       0.84      0.82      0.82        96\n",
      "\n",
      "0.8229166666666666\n"
     ]
    }
   ],
   "source": [
    "print(classification_report(testy, test_pred, target_names=['theft', 'accident', 'kidnap' , 'murder', 'rape']))\n",
    "print(accuracy_score(testy, test_pred))"
   ]
  },
  {
   "cell_type": "code",
   "execution_count": 72,
   "metadata": {},
   "outputs": [
    {
     "data": {
      "image/png": "[encoded data removed]",
      "text/plain": [
       "<Figure size 640x480 with 2 Axes>"
      ]
     },
     "metadata": {},
     "output_type": "display_data"
    }
   ],
   "source": [
    "cm = confusion_matrix(testy, test_pred)\n",
    "# print('Confusion matrix\\n', cm)\n",
    "\n",
    "cm_matrix = pd.DataFrame(data=cm, columns=['theft', 'accident', 'kidnap' , 'murder', 'rape'], \n",
    "                        index=['theft', 'accident', 'kidnap' , 'murder', 'rape'])\n",
    "sns.heatmap(cm_matrix, annot=True, fmt='d', cmap='YlGnBu')\n",
    "plt.show()"
   ]
  },
  {
   "cell_type": "markdown",
   "metadata": {},
   "source": [
    "VOTING CLASSIFIER (LR+RF+SVM+NB) WITH TF-IDF AND COUNT VECTORIZER"
   ]
  },
  {
   "cell_type": "code",
   "execution_count": 73,
   "metadata": {},
   "outputs": [
    {
     "name": "stdout",
     "output_type": "stream",
     "text": [
      "0.8363461538461537\n"
     ]
    }
   ],
   "source": [
    "from sklearn.tree import DecisionTreeClassifier\n",
    "from sklearn.svm import SVC\n",
    "from sklearn.naive_bayes import GaussianNB\n",
    "from sklearn.ensemble import VotingClassifier\n",
    "import sklearn.model_selection as model_selection\n",
    "import xgboost as xgb\n",
    "kfold= model_selection.KFold(n_splits=10)\n",
    "\n",
    "# create the sub models\n",
    "estimators = []\n",
    "model1 = LogisticRegression()\n",
    "estimators.append(('logistic', model1))\n",
    "model2 = LinearSVC()\n",
    "estimators.append(('svm', model2))\n",
    "model3 = MultinomialNB()\n",
    "estimators.append(('nb', model3))\n",
    "model4 = RandomForestClassifier()\n",
    "estimators.append(('rf', model4))\n",
    "\n",
    "# create the ensemble model\n",
    "ensemble = VotingClassifier(estimators)\n",
    "results = model_selection.cross_val_score(ensemble, docs_tf, y_train, cv=kfold)\n",
    "print(results.mean())\n"
   ]
  },
  {
   "cell_type": "code",
   "execution_count": 74,
   "metadata": {},
   "outputs": [
    {
     "data": {
      "text/html": [
       "<style>#sk-container-id-1 {color: black;}#sk-container-id-1 pre{padding: 0;}#sk-container-id-1 div.sk-toggleable {background-color: white;}#sk-container-id-1 label.sk-toggleable__label {cursor: pointer;display: block;width: 100%;margin-bottom: 0;padding: 0.3em;box-sizing: border-box;text-align: center;}#sk-container-id-1 label.sk-toggleable__label-arrow:before {content: \"▸\";float: left;margin-right: 0.25em;color: #696969;}#sk-container-id-1 label.sk-toggleable__label-arrow:hover:before {color: black;}#sk-container-id-1 div.sk-estimator:hover label.sk-toggleable__label-arrow:before {color: black;}#sk-container-id-1 div.sk-toggleable__content {max-height: 0;max-width: 0;overflow: hidden;text-align: left;background-color: #f0f8ff;}#sk-container-id-1 div.sk-toggleable__content pre {margin: 0.2em;color: black;border-radius: 0.25em;background-color: #f0f8ff;}#sk-container-id-1 input.sk-toggleable__control:checked~div.sk-toggleable__content {max-height: 200px;max-width: 100%;overflow: auto;}#sk-container-id-1 input.sk-toggleable__control:checked~label.sk-toggleable__label-arrow:before {content: \"▾\";}#sk-container-id-1 div.sk-estimator input.sk-toggleable__control:checked~label.sk-toggleable__label {background-color: #d4ebff;}#sk-container-id-1 div.sk-label input.sk-toggleable__control:checked~label.sk-toggleable__label {background-color: #d4ebff;}#sk-container-id-1 input.sk-hidden--visually {border: 0;clip: rect(1px 1px 1px 1px);clip: rect(1px, 1px, 1px, 1px);height: 1px;margin: -1px;overflow: hidden;padding: 0;position: absolute;width: 1px;}#sk-container-id-1 div.sk-estimator {font-family: monospace;background-color: #f0f8ff;border: 1px dotted black;border-radius: 0.25em;box-sizing: border-box;margin-bottom: 0.5em;}#sk-container-id-1 div.sk-estimator:hover {background-color: #d4ebff;}#sk-container-id-1 div.sk-parallel-item::after {content: \"\";width: 100%;border-bottom: 1px solid gray;flex-grow: 1;}#sk-container-id-1 div.sk-label:hover label.sk-toggleable__label {background-color: #d4ebff;}#sk-container-id-1 div.sk-serial::before {content: \"\";position: absolute;border-left: 1px solid gray;box-sizing: border-box;top: 0;bottom: 0;left: 50%;z-index: 0;}#sk-container-id-1 div.sk-serial {display: flex;flex-direction: column;align-items: center;background-color: white;padding-right: 0.2em;padding-left: 0.2em;position: relative;}#sk-container-id-1 div.sk-item {position: relative;z-index: 1;}#sk-container-id-1 div.sk-parallel {display: flex;align-items: stretch;justify-content: center;background-color: white;position: relative;}#sk-container-id-1 div.sk-item::before, #sk-container-id-1 div.sk-parallel-item::before {content: \"\";position: absolute;border-left: 1px solid gray;box-sizing: border-box;top: 0;bottom: 0;left: 50%;z-index: -1;}#sk-container-id-1 div.sk-parallel-item {display: flex;flex-direction: column;z-index: 1;position: relative;background-color: white;}#sk-container-id-1 div.sk-parallel-item:first-child::after {align-self: flex-end;width: 50%;}#sk-container-id-1 div.sk-parallel-item:last-child::after {align-self: flex-start;width: 50%;}#sk-container-id-1 div.sk-parallel-item:only-child::after {width: 0;}#sk-container-id-1 div.sk-dashed-wrapped {border: 1px dashed gray;margin: 0 0.4em 0.5em 0.4em;box-sizing: border-box;padding-bottom: 0.4em;background-color: white;}#sk-container-id-1 div.sk-label label {font-family: monospace;font-weight: bold;display: inline-block;line-height: 1.2em;}#sk-container-id-1 div.sk-label-container {text-align: center;}#sk-container-id-1 div.sk-container {/* jupyter's `normalize.less` sets `[hidden] { display: none; }` but bootstrap.min.css set `[hidden] { display: none !important; }` so we also need the `!important` here to be able to override the default hidden behavior on the sphinx rendered scikit-learn.org. See: https://github.com/scikit-learn/scikit-learn/issues/21755 */display: inline-block !important;position: relative;}#sk-container-id-1 div.sk-text-repr-fallback {display: none;}</style><div id=\"sk-container-id-1\" class=\"sk-top-container\"><div class=\"sk-text-repr-fallback\"><pre>VotingClassifier(estimators=[(&#x27;logistic&#x27;, LogisticRegression()),\n",
       "                             (&#x27;svm&#x27;, LinearSVC()), (&#x27;nb&#x27;, MultinomialNB()),\n",
       "                             (&#x27;rf&#x27;, RandomForestClassifier())])</pre><b>In a Jupyter environment, please rerun this cell to show the HTML representation or trust the notebook. <br />On GitHub, the HTML representation is unable to render, please try loading this page with nbviewer.org.</b></div><div class=\"sk-container\" hidden><div class=\"sk-item sk-dashed-wrapped\"><div class=\"sk-label-container\"><div class=\"sk-label sk-toggleable\"><input class=\"sk-toggleable__control sk-hidden--visually\" id=\"sk-estimator-id-1\" type=\"checkbox\" ><label for=\"sk-estimator-id-1\" class=\"sk-toggleable__label sk-toggleable__label-arrow\">VotingClassifier</label><div class=\"sk-toggleable__content\"><pre>VotingClassifier(estimators=[(&#x27;logistic&#x27;, LogisticRegression()),\n",
       "                             (&#x27;svm&#x27;, LinearSVC()), (&#x27;nb&#x27;, MultinomialNB()),\n",
       "                             (&#x27;rf&#x27;, RandomForestClassifier())])</pre></div></div></div><div class=\"sk-parallel\"><div class=\"sk-parallel-item\"><div class=\"sk-item\"><div class=\"sk-label-container\"><div class=\"sk-label sk-toggleable\"><label>logistic</label></div></div><div class=\"sk-serial\"><div class=\"sk-item\"><div class=\"sk-estimator sk-toggleable\"><input class=\"sk-toggleable__control sk-hidden--visually\" id=\"sk-estimator-id-2\" type=\"checkbox\" ><label for=\"sk-estimator-id-2\" class=\"sk-toggleable__label sk-toggleable__label-arrow\">LogisticRegression</label><div class=\"sk-toggleable__content\"><pre>LogisticRegression()</pre></div></div></div></div></div></div><div class=\"sk-parallel-item\"><div class=\"sk-item\"><div class=\"sk-label-container\"><div class=\"sk-label sk-toggleable\"><label>svm</label></div></div><div class=\"sk-serial\"><div class=\"sk-item\"><div class=\"sk-estimator sk-toggleable\"><input class=\"sk-toggleable__control sk-hidden--visually\" id=\"sk-estimator-id-3\" type=\"checkbox\" ><label for=\"sk-estimator-id-3\" class=\"sk-toggleable__label sk-toggleable__label-arrow\">LinearSVC</label><div class=\"sk-toggleable__content\"><pre>LinearSVC()</pre></div></div></div></div></div></div><div class=\"sk-parallel-item\"><div class=\"sk-item\"><div class=\"sk-label-container\"><div class=\"sk-label sk-toggleable\"><label>nb</label></div></div><div class=\"sk-serial\"><div class=\"sk-item\"><div class=\"sk-estimator sk-toggleable\"><input class=\"sk-toggleable__control sk-hidden--visually\" id=\"sk-estimator-id-4\" type=\"checkbox\" ><label for=\"sk-estimator-id-4\" class=\"sk-toggleable__label sk-toggleable__label-arrow\">MultinomialNB</label><div class=\"sk-toggleable__content\"><pre>MultinomialNB()</pre></div></div></div></div></div></div><div class=\"sk-parallel-item\"><div class=\"sk-item\"><div class=\"sk-label-container\"><div class=\"sk-label sk-toggleable\"><label>rf</label></div></div><div class=\"sk-serial\"><div class=\"sk-item\"><div class=\"sk-estimator sk-toggleable\"><input class=\"sk-toggleable__control sk-hidden--visually\" id=\"sk-estimator-id-5\" type=\"checkbox\" ><label for=\"sk-estimator-id-5\" class=\"sk-toggleable__label sk-toggleable__label-arrow\">RandomForestClassifier</label><div class=\"sk-toggleable__content\"><pre>RandomForestClassifier()</pre></div></div></div></div></div></div></div></div></div></div>"
      ],
      "text/plain": [
       "VotingClassifier(estimators=[('logistic', LogisticRegression()),\n",
       "                             ('svm', LinearSVC()), ('nb', MultinomialNB()),\n",
       "                             ('rf', RandomForestClassifier())])"
      ]
     },
     "execution_count": 74,
     "metadata": {},
     "output_type": "execute_result"
    }
   ],
   "source": [
    "ensemble.fit(docs_tf, y_train)"
   ]
  },
  {
   "cell_type": "code",
   "execution_count": 75,
   "metadata": {},
   "outputs": [
    {
     "name": "stdout",
     "output_type": "stream",
     "text": [
      "Accuracy: 0.9333\n",
      "Precision: 0.9405\n",
      "Recall: 0.9333\n",
      "F1-score: 0.9331\n"
     ]
    }
   ],
   "source": [
    "\n",
    "# Model Evaluation\n",
    "from sklearn.metrics import f1_score\n",
    "from sklearn.metrics import precision_score, recall_score\n",
    "from sklearn.metrics import confusion_matrix\n",
    "from sklearn.metrics import classification_report\n",
    "\n",
    "y_pred = ensemble.predict(docs_test_tf)\n",
    "accuracy = accuracy_score(y_test, y_pred)\n",
    "precision = precision_score(y_test, y_pred, average='weighted')\n",
    "recall = recall_score(y_test, y_pred, average='weighted')\n",
    "f1 = f1_score(y_test, y_pred, average='weighted')\n",
    "\n",
    "print(f\"Accuracy: {accuracy:.4f}\")\n",
    "print(f\"Precision: {precision:.4f}\")\n",
    "print(f\"Recall: {recall:.4f}\")\n",
    "print(f\"F1-score: {f1:.4f}\")"
   ]
  },
  {
   "cell_type": "code",
   "execution_count": 76,
   "metadata": {},
   "outputs": [
    {
     "name": "stdout",
     "output_type": "stream",
     "text": [
      "Testing Accuracy score:  0.8020833333333334\n",
      "Testing Precision score:  0.8087367027765578\n",
      "Testing Recall score:  0.8020833333333334\n",
      "Testing F1 score:  0.8014247134038802\n"
     ]
    }
   ],
   "source": [
    "test_pred = ensemble.predict(testX_tf)\n",
    "accuracy= accuracy_score(testy, test_pred)\n",
    "precision= precision_score(testy, test_pred, average='weighted')\n",
    "recall= recall_score(testy, test_pred, average='weighted')\n",
    "f1= f1_score(testy, test_pred, average='weighted')\n",
    "print(\"Testing Accuracy score: \",accuracy)\n",
    "print(\"Testing Precision score: \",precision)\n",
    "print(\"Testing Recall score: \",recall)\n",
    "print(\"Testing F1 score: \",f1)\n"
   ]
  },
  {
   "cell_type": "markdown",
   "metadata": {},
   "source": [
    "WITH COUNT VECTORIZER"
   ]
  },
  {
   "cell_type": "code",
   "execution_count": 77,
   "metadata": {},
   "outputs": [
    {
     "name": "stdout",
     "output_type": "stream",
     "text": [
      "0.8436538461538461\n"
     ]
    }
   ],
   "source": [
    "from sklearn.tree import DecisionTreeClassifier\n",
    "from sklearn.svm import SVC\n",
    "from sklearn.naive_bayes import GaussianNB\n",
    "from sklearn.ensemble import VotingClassifier\n",
    "import sklearn.model_selection as model_selection\n",
    "import xgboost as xgb\n",
    "kfold= model_selection.KFold(n_splits=10)\n",
    "\n",
    "# create the sub models\n",
    "estimators = []\n",
    "model1 = LogisticRegression()\n",
    "estimators.append(('logistic', model1))\n",
    "model2 = LinearSVC()\n",
    "estimators.append(('svm', model2))\n",
    "model3 = MultinomialNB()\n",
    "estimators.append(('nb', model3))\n",
    "model4 = RandomForestClassifier()\n",
    "estimators.append(('rf', model4))\n",
    "\n",
    "# create the ensemble model\n",
    "ensemble = VotingClassifier(estimators)\n",
    "results = model_selection.cross_val_score(ensemble, docs_cv, y_train, cv=kfold)\n",
    "print(results.mean())\n"
   ]
  },
  {
   "cell_type": "code",
   "execution_count": 78,
   "metadata": {},
   "outputs": [
    {
     "data": {
      "text/html": [
       "<style>#sk-container-id-2 {color: black;}#sk-container-id-2 pre{padding: 0;}#sk-container-id-2 div.sk-toggleable {background-color: white;}#sk-container-id-2 label.sk-toggleable__label {cursor: pointer;display: block;width: 100%;margin-bottom: 0;padding: 0.3em;box-sizing: border-box;text-align: center;}#sk-container-id-2 label.sk-toggleable__label-arrow:before {content: \"▸\";float: left;margin-right: 0.25em;color: #696969;}#sk-container-id-2 label.sk-toggleable__label-arrow:hover:before {color: black;}#sk-container-id-2 div.sk-estimator:hover label.sk-toggleable__label-arrow:before {color: black;}#sk-container-id-2 div.sk-toggleable__content {max-height: 0;max-width: 0;overflow: hidden;text-align: left;background-color: #f0f8ff;}#sk-container-id-2 div.sk-toggleable__content pre {margin: 0.2em;color: black;border-radius: 0.25em;background-color: #f0f8ff;}#sk-container-id-2 input.sk-toggleable__control:checked~div.sk-toggleable__content {max-height: 200px;max-width: 100%;overflow: auto;}#sk-container-id-2 input.sk-toggleable__control:checked~label.sk-toggleable__label-arrow:before {content: \"▾\";}#sk-container-id-2 div.sk-estimator input.sk-toggleable__control:checked~label.sk-toggleable__label {background-color: #d4ebff;}#sk-container-id-2 div.sk-label input.sk-toggleable__control:checked~label.sk-toggleable__label {background-color: #d4ebff;}#sk-container-id-2 input.sk-hidden--visually {border: 0;clip: rect(1px 1px 1px 1px);clip: rect(1px, 1px, 1px, 1px);height: 1px;margin: -1px;overflow: hidden;padding: 0;position: absolute;width: 1px;}#sk-container-id-2 div.sk-estimator {font-family: monospace;background-color: #f0f8ff;border: 1px dotted black;border-radius: 0.25em;box-sizing: border-box;margin-bottom: 0.5em;}#sk-container-id-2 div.sk-estimator:hover {background-color: #d4ebff;}#sk-container-id-2 div.sk-parallel-item::after {content: \"\";width: 100%;border-bottom: 1px solid gray;flex-grow: 1;}#sk-container-id-2 div.sk-label:hover label.sk-toggleable__label {background-color: #d4ebff;}#sk-container-id-2 div.sk-serial::before {content: \"\";position: absolute;border-left: 1px solid gray;box-sizing: border-box;top: 0;bottom: 0;left: 50%;z-index: 0;}#sk-container-id-2 div.sk-serial {display: flex;flex-direction: column;align-items: center;background-color: white;padding-right: 0.2em;padding-left: 0.2em;position: relative;}#sk-container-id-2 div.sk-item {position: relative;z-index: 1;}#sk-container-id-2 div.sk-parallel {display: flex;align-items: stretch;justify-content: center;background-color: white;position: relative;}#sk-container-id-2 div.sk-item::before, #sk-container-id-2 div.sk-parallel-item::before {content: \"\";position: absolute;border-left: 1px solid gray;box-sizing: border-box;top: 0;bottom: 0;left: 50%;z-index: -1;}#sk-container-id-2 div.sk-parallel-item {display: flex;flex-direction: column;z-index: 1;position: relative;background-color: white;}#sk-container-id-2 div.sk-parallel-item:first-child::after {align-self: flex-end;width: 50%;}#sk-container-id-2 div.sk-parallel-item:last-child::after {align-self: flex-start;width: 50%;}#sk-container-id-2 div.sk-parallel-item:only-child::after {width: 0;}#sk-container-id-2 div.sk-dashed-wrapped {border: 1px dashed gray;margin: 0 0.4em 0.5em 0.4em;box-sizing: border-box;padding-bottom: 0.4em;background-color: white;}#sk-container-id-2 div.sk-label label {font-family: monospace;font-weight: bold;display: inline-block;line-height: 1.2em;}#sk-container-id-2 div.sk-label-container {text-align: center;}#sk-container-id-2 div.sk-container {/* jupyter's `normalize.less` sets `[hidden] { display: none; }` but bootstrap.min.css set `[hidden] { display: none !important; }` so we also need the `!important` here to be able to override the default hidden behavior on the sphinx rendered scikit-learn.org. See: https://github.com/scikit-learn/scikit-learn/issues/21755 */display: inline-block !important;position: relative;}#sk-container-id-2 div.sk-text-repr-fallback {display: none;}</style><div id=\"sk-container-id-2\" class=\"sk-top-container\"><div class=\"sk-text-repr-fallback\"><pre>VotingClassifier(estimators=[(&#x27;logistic&#x27;, LogisticRegression()),\n",
       "                             (&#x27;svm&#x27;, LinearSVC()), (&#x27;nb&#x27;, MultinomialNB()),\n",
       "                             (&#x27;rf&#x27;, RandomForestClassifier())])</pre><b>In a Jupyter environment, please rerun this cell to show the HTML representation or trust the notebook. <br />On GitHub, the HTML representation is unable to render, please try loading this page with nbviewer.org.</b></div><div class=\"sk-container\" hidden><div class=\"sk-item sk-dashed-wrapped\"><div class=\"sk-label-container\"><div class=\"sk-label sk-toggleable\"><input class=\"sk-toggleable__control sk-hidden--visually\" id=\"sk-estimator-id-6\" type=\"checkbox\" ><label for=\"sk-estimator-id-6\" class=\"sk-toggleable__label sk-toggleable__label-arrow\">VotingClassifier</label><div class=\"sk-toggleable__content\"><pre>VotingClassifier(estimators=[(&#x27;logistic&#x27;, LogisticRegression()),\n",
       "                             (&#x27;svm&#x27;, LinearSVC()), (&#x27;nb&#x27;, MultinomialNB()),\n",
       "                             (&#x27;rf&#x27;, RandomForestClassifier())])</pre></div></div></div><div class=\"sk-parallel\"><div class=\"sk-parallel-item\"><div class=\"sk-item\"><div class=\"sk-label-container\"><div class=\"sk-label sk-toggleable\"><label>logistic</label></div></div><div class=\"sk-serial\"><div class=\"sk-item\"><div class=\"sk-estimator sk-toggleable\"><input class=\"sk-toggleable__control sk-hidden--visually\" id=\"sk-estimator-id-7\" type=\"checkbox\" ><label for=\"sk-estimator-id-7\" class=\"sk-toggleable__label sk-toggleable__label-arrow\">LogisticRegression</label><div class=\"sk-toggleable__content\"><pre>LogisticRegression()</pre></div></div></div></div></div></div><div class=\"sk-parallel-item\"><div class=\"sk-item\"><div class=\"sk-label-container\"><div class=\"sk-label sk-toggleable\"><label>svm</label></div></div><div class=\"sk-serial\"><div class=\"sk-item\"><div class=\"sk-estimator sk-toggleable\"><input class=\"sk-toggleable__control sk-hidden--visually\" id=\"sk-estimator-id-8\" type=\"checkbox\" ><label for=\"sk-estimator-id-8\" class=\"sk-toggleable__label sk-toggleable__label-arrow\">LinearSVC</label><div class=\"sk-toggleable__content\"><pre>LinearSVC()</pre></div></div></div></div></div></div><div class=\"sk-parallel-item\"><div class=\"sk-item\"><div class=\"sk-label-container\"><div class=\"sk-label sk-toggleable\"><label>nb</label></div></div><div class=\"sk-serial\"><div class=\"sk-item\"><div class=\"sk-estimator sk-toggleable\"><input class=\"sk-toggleable__control sk-hidden--visually\" id=\"sk-estimator-id-9\" type=\"checkbox\" ><label for=\"sk-estimator-id-9\" class=\"sk-toggleable__label sk-toggleable__label-arrow\">MultinomialNB</label><div class=\"sk-toggleable__content\"><pre>MultinomialNB()</pre></div></div></div></div></div></div><div class=\"sk-parallel-item\"><div class=\"sk-item\"><div class=\"sk-label-container\"><div class=\"sk-label sk-toggleable\"><label>rf</label></div></div><div class=\"sk-serial\"><div class=\"sk-item\"><div class=\"sk-estimator sk-toggleable\"><input class=\"sk-toggleable__control sk-hidden--visually\" id=\"sk-estimator-id-10\" type=\"checkbox\" ><label for=\"sk-estimator-id-10\" class=\"sk-toggleable__label sk-toggleable__label-arrow\">RandomForestClassifier</label><div class=\"sk-toggleable__content\"><pre>RandomForestClassifier()</pre></div></div></div></div></div></div></div></div></div></div>"
      ],
      "text/plain": [
       "VotingClassifier(estimators=[('logistic', LogisticRegression()),\n",
       "                             ('svm', LinearSVC()), ('nb', MultinomialNB()),\n",
       "                             ('rf', RandomForestClassifier())])"
      ]
     },
     "execution_count": 78,
     "metadata": {},
     "output_type": "execute_result"
    }
   ],
   "source": [
    "ensemble.fit(docs_cv, y_train)"
   ]
  },
  {
   "cell_type": "code",
   "execution_count": 79,
   "metadata": {},
   "outputs": [
    {
     "name": "stdout",
     "output_type": "stream",
     "text": [
      "Accuracy: 0.9333\n",
      "Precision: 0.9405\n",
      "Recall: 0.9333\n",
      "F1-score: 0.9331\n"
     ]
    }
   ],
   "source": [
    "\n",
    "# Model Evaluation\n",
    "from sklearn.metrics import f1_score\n",
    "from sklearn.metrics import precision_score, recall_score\n",
    "from sklearn.metrics import confusion_matrix\n",
    "from sklearn.metrics import classification_report\n",
    "\n",
    "y_pred = ensemble.predict(docs_test_cv)\n",
    "accuracy = accuracy_score(y_test, y_pred)\n",
    "precision = precision_score(y_test, y_pred, average='weighted')\n",
    "recall = recall_score(y_test, y_pred, average='weighted')\n",
    "f1 = f1_score(y_test, y_pred, average='weighted')\n",
    "\n",
    "print(f\"Accuracy: {accuracy:.4f}\")\n",
    "print(f\"Precision: {precision:.4f}\")\n",
    "print(f\"Recall: {recall:.4f}\")\n",
    "print(f\"F1-score: {f1:.4f}\")"
   ]
  },
  {
   "cell_type": "code",
   "execution_count": 80,
   "metadata": {},
   "outputs": [
    {
     "name": "stdout",
     "output_type": "stream",
     "text": [
      "Testing Accuracy score:  0.8020833333333334\n",
      "Testing Precision score:  0.8077667124542125\n",
      "Testing Recall score:  0.8020833333333334\n",
      "Testing F1 score:  0.8031191761454921\n"
     ]
    }
   ],
   "source": [
    "test_pred = ensemble.predict(testX_cv)\n",
    "accuracy= accuracy_score(testy, test_pred)\n",
    "precision= precision_score(testy, test_pred, average='weighted')\n",
    "recall= recall_score(testy, test_pred, average='weighted')\n",
    "f1= f1_score(testy, test_pred, average='weighted')\n",
    "print(\"Testing Accuracy score: \",accuracy)\n",
    "print(\"Testing Precision score: \",precision)\n",
    "print(\"Testing Recall score: \",recall)\n",
    "print(\"Testing F1 score: \",f1)\n"
   ]
  },
  {
   "cell_type": "code",
   "execution_count": 81,
   "metadata": {},
   "outputs": [
    {
     "name": "stdout",
     "output_type": "stream",
     "text": [
      "Naive Bayes\n",
      "Logistic Regression\n",
      "Support Vector Machine\n",
      "Decision Tree\n",
      "Random Forest\n",
      "Ensemble (Logistic + NB + RF + SVM)\n"
     ]
    },
    {
     "data": {
      "text/html": [
       "<div>\n",
       "<style scoped>\n",
       "    .dataframe tbody tr th:only-of-type {\n",
       "        vertical-align: middle;\n",
       "    }\n",
       "\n",
       "    .dataframe tbody tr th {\n",
       "        vertical-align: top;\n",
       "    }\n",
       "\n",
       "    .dataframe thead th {\n",
       "        text-align: right;\n",
       "    }\n",
       "</style>\n",
       "<table border=\"1\" class=\"dataframe\">\n",
       "  <thead>\n",
       "    <tr style=\"text-align: right;\">\n",
       "      <th></th>\n",
       "      <th>Model</th>\n",
       "      <th>TF-IDF</th>\n",
       "      <th>Bag of Words</th>\n",
       "    </tr>\n",
       "  </thead>\n",
       "  <tbody>\n",
       "    <tr>\n",
       "      <th>0</th>\n",
       "      <td>Naive Bayes</td>\n",
       "      <td>0.625000</td>\n",
       "      <td>0.604167</td>\n",
       "    </tr>\n",
       "    <tr>\n",
       "      <th>1</th>\n",
       "      <td>Logistic Regression</td>\n",
       "      <td>0.822917</td>\n",
       "      <td>0.781250</td>\n",
       "    </tr>\n",
       "    <tr>\n",
       "      <th>2</th>\n",
       "      <td>Support Vector Machine</td>\n",
       "      <td>0.802083</td>\n",
       "      <td>0.791667</td>\n",
       "    </tr>\n",
       "    <tr>\n",
       "      <th>3</th>\n",
       "      <td>Decision Tree</td>\n",
       "      <td>0.645833</td>\n",
       "      <td>0.708333</td>\n",
       "    </tr>\n",
       "    <tr>\n",
       "      <th>4</th>\n",
       "      <td>Random Forest</td>\n",
       "      <td>0.791667</td>\n",
       "      <td>0.822917</td>\n",
       "    </tr>\n",
       "    <tr>\n",
       "      <th>5</th>\n",
       "      <td>Ensemble (Logistic + NB + RF + SVM)</td>\n",
       "      <td>0.802083</td>\n",
       "      <td>0.791667</td>\n",
       "    </tr>\n",
       "  </tbody>\n",
       "</table>\n",
       "</div>"
      ],
      "text/plain": [
       "                                 Model    TF-IDF  Bag of Words\n",
       "0                          Naive Bayes  0.625000      0.604167\n",
       "1                  Logistic Regression  0.822917      0.781250\n",
       "2               Support Vector Machine  0.802083      0.791667\n",
       "3                        Decision Tree  0.645833      0.708333\n",
       "4                        Random Forest  0.791667      0.822917\n",
       "5  Ensemble (Logistic + NB + RF + SVM)  0.802083      0.791667"
      ]
     },
     "execution_count": 81,
     "metadata": {},
     "output_type": "execute_result"
    }
   ],
   "source": [
    "# write code to create a table for the accuracies of all models with tf-idf vectorizer and count vectorizer and compare them \n",
    "# rows will be the models and columns will be tf-idf and count vectorizer\n",
    "# use the table to write the report\n",
    "\n",
    "def find_accuracy(model,X_train, Y_train, X_test, testy):\n",
    "    model.fit(X_train, Y_train)\n",
    "    y_pred_test = model.predict(X_test)\n",
    "    test_acc = accuracy_score(testy, y_pred_test)\n",
    "    return test_acc\n",
    "\n",
    "def tabulate(models, testX_tf, testX_cv):\n",
    "    table= []\n",
    "    for model_name in models.keys():\n",
    "        model = models[model_name]\n",
    "        print(model_name)\n",
    "        table.append([model_name, find_accuracy(model,docs_tf, y_train, testX_tf, testy), find_accuracy(model, docs_cv, y_train, testX_cv, testy)])\n",
    "    return pd.DataFrame(table, columns=['Model', 'TF-IDF', 'Bag of Words'])\n",
    "\n",
    "\n",
    "models={\n",
    "    \"Naive Bayes\": gnb,\n",
    "    # \"Multinomial Naive Bayes\": mnb,\n",
    "    \"Logistic Regression\": lr,\n",
    "    # \"Linear SVC\": svc,\n",
    "    \"Support Vector Machine\": calibrated_svc,\n",
    "    \"Decision Tree\": dt,\n",
    "    \"Random Forest\": rf,\n",
    "    \"Ensemble (Logistic + NB + RF + SVM)\": ensemble,\n",
    "}\n",
    "\n",
    "table = tabulate(models, testX_tf, testX_cv)\n",
    "table"
   ]
  },
  {
   "cell_type": "code",
   "execution_count": 89,
   "metadata": {},
   "outputs": [
    {
     "data": {
      "image/png": "[encoded data removed]",
      "text/plain": [
       "<Figure size 640x480 with 1 Axes>"
      ]
     },
     "metadata": {},
     "output_type": "display_data"
    }
   ],
   "source": [
    "# plot a graph to show the accuracy of all models with tf-idf vectorizer and count vectorizer\n",
    "# use the graph to write the report\n",
    "import matplotlib.pyplot as plt\n",
    "\n",
    "def plot(plot_df):\n",
    "\n",
    "    # plot a bar plot to compare the accuracy of all models with tf-idf vectorizer and count vectorizer\n",
    "    plt.figure()\n",
    "    sns.barplot(x='Model', y='accuracy', data=plot_df, hue='vectorizer', palette='Set1', \n",
    "                   saturation=0.5, dodge=True, edgecolor=(0,0,0), order=plot_df['Model'].value_counts().index)\n",
    "    plt.title('Distribution of Models')\n",
    "    plt.xticks(rotation=45, fontsize=10)\n",
    "    plt.xlabel('Model')\n",
    "    plt.ylabel('Accuracy')\n",
    "    plt.legend(loc='upper right', bbox_to_anchor=(1.35, 1))\n",
    "    plt.show()\n",
    "    \n",
    "\n",
    "plot_df= pd.DataFrame(columns=['Model', 'vectorizer', 'accuracy'])\n",
    "for index, row in table.iterrows():\n",
    "    plot_df.loc[len(plot_df)]= row['Model'], 'TF-IDF', row['TF-IDF']\n",
    "    plot_df.loc[len(plot_df)]= row['Model'], 'Bag of Words', row['Bag of Words']\n",
    "\n",
    "# print(plot_df)\n",
    "plot(plot_df)"
   ]
  },
  {
   "cell_type": "code",
   "execution_count": 131,
   "metadata": {},
   "outputs": [
    {
     "name": "stdout",
     "output_type": "stream",
     "text": [
      "Models accuracy on validation and test data with TF-IDF vectorizer\n"
     ]
    },
    {
     "data": {
      "text/html": [
       "<div>\n",
       "<style scoped>\n",
       "    .dataframe tbody tr th:only-of-type {\n",
       "        vertical-align: middle;\n",
       "    }\n",
       "\n",
       "    .dataframe tbody tr th {\n",
       "        vertical-align: top;\n",
       "    }\n",
       "\n",
       "    .dataframe thead th {\n",
       "        text-align: right;\n",
       "    }\n",
       "</style>\n",
       "<table border=\"1\" class=\"dataframe\">\n",
       "  <thead>\n",
       "    <tr style=\"text-align: right;\">\n",
       "      <th></th>\n",
       "      <th>Model</th>\n",
       "      <th>Validation Accuracy</th>\n",
       "      <th>Test Accuracy</th>\n",
       "    </tr>\n",
       "  </thead>\n",
       "  <tbody>\n",
       "    <tr>\n",
       "      <th>0</th>\n",
       "      <td>Naive Bayes</td>\n",
       "      <td>0.711111</td>\n",
       "      <td>0.625000</td>\n",
       "    </tr>\n",
       "    <tr>\n",
       "      <th>1</th>\n",
       "      <td>Logistic Regression</td>\n",
       "      <td>0.933333</td>\n",
       "      <td>0.822917</td>\n",
       "    </tr>\n",
       "    <tr>\n",
       "      <th>2</th>\n",
       "      <td>Support Vector Machine</td>\n",
       "      <td>0.888889</td>\n",
       "      <td>0.802083</td>\n",
       "    </tr>\n",
       "    <tr>\n",
       "      <th>3</th>\n",
       "      <td>Decision Tree</td>\n",
       "      <td>0.888889</td>\n",
       "      <td>0.645833</td>\n",
       "    </tr>\n",
       "    <tr>\n",
       "      <th>4</th>\n",
       "      <td>Random Forest</td>\n",
       "      <td>0.888889</td>\n",
       "      <td>0.791667</td>\n",
       "    </tr>\n",
       "    <tr>\n",
       "      <th>5</th>\n",
       "      <td>Ensemble (Logistic + NB + RF + SVM)</td>\n",
       "      <td>0.933333</td>\n",
       "      <td>0.812500</td>\n",
       "    </tr>\n",
       "  </tbody>\n",
       "</table>\n",
       "</div>"
      ],
      "text/plain": [
       "                                 Model  Validation Accuracy  Test Accuracy\n",
       "0                          Naive Bayes             0.711111       0.625000\n",
       "1                  Logistic Regression             0.933333       0.822917\n",
       "2               Support Vector Machine             0.888889       0.802083\n",
       "3                        Decision Tree             0.888889       0.645833\n",
       "4                        Random Forest             0.888889       0.791667\n",
       "5  Ensemble (Logistic + NB + RF + SVM)             0.933333       0.812500"
      ]
     },
     "execution_count": 131,
     "metadata": {},
     "output_type": "execute_result"
    }
   ],
   "source": [
    "table=[]\n",
    "for model_name in models.keys():\n",
    "        model = models[model_name]\n",
    "        # print(model_name)\n",
    "        table.append([model_name, find_accuracy(model,docs_tf, y_train, docs_test_tf, y_test), find_accuracy(model, docs_tf, y_train, testX_tf, testy)])\n",
    "comparison= pd.DataFrame(table, columns=['Model', 'Validation Accuracy', 'Test Accuracy'])\n",
    "print(\"Models accuracy on validation and test data with TF-IDF vectorizer\")\n",
    "comparison"
   ]
  },
  {
   "cell_type": "code",
   "execution_count": 143,
   "metadata": {},
   "outputs": [
    {
     "data": {
      "image/png": "[encoded data removed]",
      "text/plain": [
       "<Figure size 640x480 with 1 Axes>"
      ]
     },
     "metadata": {},
     "output_type": "display_data"
    }
   ],
   "source": [
    "# plot a graph to compare the vaildation and test accuracy of all models with tf-idf vectorizer\n",
    "\n",
    "def plot(comparison_df):\n",
    "    # plot a graph of validation vs training accuracy for all models with tf-idf vectorizer\n",
    "    plt.figure()\n",
    "    sns.barplot(x='Model', y='Accuracy', data=comparison_df, hue='Data',\n",
    "                     dodge=True, edgecolor=(0,0,0), order=comparison['Model'].value_counts().index)\n",
    "    \n",
    "    plt.title('Validation vs Test Accuracy of Models with TF-IDF Vectorizer')\n",
    "    plt.xticks(rotation=45, fontsize=10)\n",
    "    plt.xlabel('Model')\n",
    "    plt.ylabel('Accuracy')\n",
    "    plt.legend(loc='upper right')\n",
    "    plt.show()\n",
    "\n",
    "comparison_df= pd.DataFrame(columns=['Model', 'Accuracy', 'Data'])\n",
    "for index, row in comparison.iterrows():\n",
    "    comparison_df.loc[len(comparison_df)]= row['Model'], row['Validation Accuracy'], 'Validation'\n",
    "    comparison_df.loc[len(comparison_df)]= row['Model'], row['Test Accuracy'], 'Test'\n",
    "plot(comparison_df)"
   ]
  },
  {
   "cell_type": "code",
   "execution_count": 145,
   "metadata": {},
   "outputs": [
    {
     "name": "stdout",
     "output_type": "stream",
     "text": [
      "Models accuracy on validation and test data with Bag of Words vectorizer\n"
     ]
    },
    {
     "data": {
      "text/html": [
       "<div>\n",
       "<style scoped>\n",
       "    .dataframe tbody tr th:only-of-type {\n",
       "        vertical-align: middle;\n",
       "    }\n",
       "\n",
       "    .dataframe tbody tr th {\n",
       "        vertical-align: top;\n",
       "    }\n",
       "\n",
       "    .dataframe thead th {\n",
       "        text-align: right;\n",
       "    }\n",
       "</style>\n",
       "<table border=\"1\" class=\"dataframe\">\n",
       "  <thead>\n",
       "    <tr style=\"text-align: right;\">\n",
       "      <th></th>\n",
       "      <th>Model</th>\n",
       "      <th>Validation Accuracy</th>\n",
       "      <th>Test Accuracy</th>\n",
       "    </tr>\n",
       "  </thead>\n",
       "  <tbody>\n",
       "    <tr>\n",
       "      <th>0</th>\n",
       "      <td>Naive Bayes</td>\n",
       "      <td>0.822222</td>\n",
       "      <td>0.604167</td>\n",
       "    </tr>\n",
       "    <tr>\n",
       "      <th>1</th>\n",
       "      <td>Logistic Regression</td>\n",
       "      <td>0.911111</td>\n",
       "      <td>0.781250</td>\n",
       "    </tr>\n",
       "    <tr>\n",
       "      <th>2</th>\n",
       "      <td>Support Vector Machine</td>\n",
       "      <td>0.911111</td>\n",
       "      <td>0.791667</td>\n",
       "    </tr>\n",
       "    <tr>\n",
       "      <th>3</th>\n",
       "      <td>Decision Tree</td>\n",
       "      <td>0.866667</td>\n",
       "      <td>0.708333</td>\n",
       "    </tr>\n",
       "    <tr>\n",
       "      <th>4</th>\n",
       "      <td>Random Forest</td>\n",
       "      <td>0.911111</td>\n",
       "      <td>0.822917</td>\n",
       "    </tr>\n",
       "    <tr>\n",
       "      <th>5</th>\n",
       "      <td>Ensemble (Logistic + NB + RF + SVM)</td>\n",
       "      <td>0.933333</td>\n",
       "      <td>0.802083</td>\n",
       "    </tr>\n",
       "  </tbody>\n",
       "</table>\n",
       "</div>"
      ],
      "text/plain": [
       "                                 Model  Validation Accuracy  Test Accuracy\n",
       "0                          Naive Bayes             0.822222       0.604167\n",
       "1                  Logistic Regression             0.911111       0.781250\n",
       "2               Support Vector Machine             0.911111       0.791667\n",
       "3                        Decision Tree             0.866667       0.708333\n",
       "4                        Random Forest             0.911111       0.822917\n",
       "5  Ensemble (Logistic + NB + RF + SVM)             0.933333       0.802083"
      ]
     },
     "execution_count": 145,
     "metadata": {},
     "output_type": "execute_result"
    }
   ],
   "source": [
    "table=[]\n",
    "for model_name in models.keys():\n",
    "        model = models[model_name]\n",
    "        # print(model_name)\n",
    "        table.append([model_name, find_accuracy(model,docs_cv, y_train, docs_test_cv, y_test), find_accuracy(model, docs_cv, y_train, testX_cv, testy)])\n",
    "comparison= pd.DataFrame(table, columns=['Model', 'Validation Accuracy', 'Test Accuracy'])\n",
    "print(\"Models accuracy on validation and test data with Bag of Words vectorizer\")\n",
    "comparison"
   ]
  },
  {
   "cell_type": "code",
   "execution_count": 146,
   "metadata": {},
   "outputs": [
    {
     "data": {
      "image/png": "[encoded data removed]",
      "text/plain": [
       "<Figure size 640x480 with 1 Axes>"
      ]
     },
     "metadata": {},
     "output_type": "display_data"
    }
   ],
   "source": [
    "# plot a graph to compare the vaildation and test accuracy of all models with tf-idf vectorizer\n",
    "\n",
    "def plot(comparison_df):\n",
    "    # plot a graph of validation vs training accuracy for all models with tf-idf vectorizer\n",
    "    plt.figure()\n",
    "    sns.barplot(x='Model', y='Accuracy', data=comparison_df, hue='Data',\n",
    "                     dodge=True, edgecolor=(0,0,0), order=comparison['Model'].value_counts().index)\n",
    "    \n",
    "    plt.title('Validation vs Test Accuracy of Models with Bag of Words Vectorizer')\n",
    "    plt.xticks(rotation=45, fontsize=10)\n",
    "    plt.xlabel('Model')\n",
    "    plt.ylabel('Accuracy')\n",
    "    plt.legend(loc='upper right')\n",
    "    plt.show()\n",
    "\n",
    "comparison_df= pd.DataFrame(columns=['Model', 'Accuracy', 'Data'])\n",
    "for index, row in comparison.iterrows():\n",
    "    comparison_df.loc[len(comparison_df)]= row['Model'], row['Validation Accuracy'], 'Validation'\n",
    "    comparison_df.loc[len(comparison_df)]= row['Model'], row['Test Accuracy'], 'Test'\n",
    "plot(comparison_df)"
   ]
  },
  {
   "cell_type": "code",
   "execution_count": 84,
   "metadata": {},
   "outputs": [
    {
     "name": "stdout",
     "output_type": "stream",
     "text": [
      "Logistic Regression\n",
      "Support Vector Machine\n",
      "Random Forest\n",
      "Ensemble (Logistic + NB + RF + SVM)\n"
     ]
    },
    {
     "data": {
      "text/html": [
       "<div>\n",
       "<style scoped>\n",
       "    .dataframe tbody tr th:only-of-type {\n",
       "        vertical-align: middle;\n",
       "    }\n",
       "\n",
       "    .dataframe tbody tr th {\n",
       "        vertical-align: top;\n",
       "    }\n",
       "\n",
       "    .dataframe thead th {\n",
       "        text-align: right;\n",
       "    }\n",
       "</style>\n",
       "<table border=\"1\" class=\"dataframe\">\n",
       "  <thead>\n",
       "    <tr style=\"text-align: right;\">\n",
       "      <th></th>\n",
       "      <th>Model</th>\n",
       "      <th>Runtime</th>\n",
       "      <th>Precision</th>\n",
       "      <th>Recall</th>\n",
       "      <th>F1-score</th>\n",
       "    </tr>\n",
       "  </thead>\n",
       "  <tbody>\n",
       "    <tr>\n",
       "      <th>0</th>\n",
       "      <td>Logistic Regression</td>\n",
       "      <td>0.000000</td>\n",
       "      <td>0.822635</td>\n",
       "      <td>0.822917</td>\n",
       "      <td>0.821043</td>\n",
       "    </tr>\n",
       "    <tr>\n",
       "      <th>1</th>\n",
       "      <td>Support Vector Machine</td>\n",
       "      <td>0.008149</td>\n",
       "      <td>0.813417</td>\n",
       "      <td>0.802083</td>\n",
       "      <td>0.802568</td>\n",
       "    </tr>\n",
       "    <tr>\n",
       "      <th>2</th>\n",
       "      <td>Random Forest</td>\n",
       "      <td>0.007922</td>\n",
       "      <td>0.838609</td>\n",
       "      <td>0.822917</td>\n",
       "      <td>0.820260</td>\n",
       "    </tr>\n",
       "    <tr>\n",
       "      <th>3</th>\n",
       "      <td>Ensemble (Logistic + NB + RF + SVM)</td>\n",
       "      <td>0.008138</td>\n",
       "      <td>0.805331</td>\n",
       "      <td>0.802083</td>\n",
       "      <td>0.800897</td>\n",
       "    </tr>\n",
       "  </tbody>\n",
       "</table>\n",
       "</div>"
      ],
      "text/plain": [
       "                                 Model   Runtime  Precision    Recall  \\\n",
       "0                  Logistic Regression  0.000000   0.822635  0.822917   \n",
       "1               Support Vector Machine  0.008149   0.813417  0.802083   \n",
       "2                        Random Forest  0.007922   0.838609  0.822917   \n",
       "3  Ensemble (Logistic + NB + RF + SVM)  0.008138   0.805331  0.802083   \n",
       "\n",
       "   F1-score  \n",
       "0  0.821043  \n",
       "1  0.802568  \n",
       "2  0.820260  \n",
       "3  0.800897  "
      ]
     },
     "execution_count": 84,
     "metadata": {},
     "output_type": "execute_result"
    }
   ],
   "source": [
    "# write code to compare the running time, precision, recall, f1-score of all models with tf-idf vectorizer and count vectorizer\n",
    "# use the table to write the report\n",
    "\n",
    "def find_params(model,X_train, Y_train, X_test, testy):\n",
    "    model.fit(X_train, Y_train)\n",
    "    start= time()\n",
    "    y_pred_test = model.predict(X_test)\n",
    "    test_precision = precision_score(testy, y_pred_test, average='weighted')\n",
    "    test_recall = recall_score(testy, y_pred_test, average='weighted')\n",
    "    test_f1 = f1_score(testy, y_pred_test, average='weighted')\n",
    "    test_runtime= time()-start\n",
    "    return test_runtime, test_precision, test_recall, test_f1\n",
    "\n",
    "def tabulate(models):\n",
    "    table= []\n",
    "    for model_name in models.keys():\n",
    "        model = models[model_name][0]\n",
    "        docs_test = models[model_name][1]\n",
    "        testx= models[model_name][2]\n",
    "        print(model_name)\n",
    "        runtime, precision, recall, f1= find_params(model,docs_test, y_train, testx, testy)\n",
    "        table.append([model_name, runtime, precision, recall, f1])\n",
    "    return pd.DataFrame(table, columns=['Model', 'Runtime', 'Precision', 'Recall', 'F1-score'])\n",
    "\n",
    "\n",
    "models={\n",
    "    \"Logistic Regression\": [lr, docs_tf, testX_tf],\n",
    "    # \"Linear SVC\": svc,\n",
    "    \"Support Vector Machine\": [calibrated_svc, docs_tf, testX_tf],\n",
    "    \"Random Forest\": [rf, docs_cv, testX_cv],\n",
    "    \"Ensemble (Logistic + NB + RF + SVM)\": [ensemble , docs_tf, testX_tf],\n",
    "}\n",
    "\n",
    "table = tabulate(models)\n",
    "table\n"
   ]
  },
  {
   "cell_type": "markdown",
   "metadata": {},
   "source": [
    "-- **BEST MODEL**"
   ]
  },
  {
   "cell_type": "code",
   "execution_count": 32,
   "metadata": {},
   "outputs": [],
   "source": [
    "import pickle\n",
    "\n",
    "# save the iris classification model as a pickle file\n",
    "model_pkl_file = \"model.pkl\"  \n",
    "\n",
    "with open(model_pkl_file, 'wb') as file:  \n",
    "    pickle.dump(rf, file)"
   ]
  },
  {
   "cell_type": "code",
   "execution_count": 33,
   "metadata": {},
   "outputs": [
    {
     "name": "stdout",
     "output_type": "stream",
     "text": [
      "              precision    recall  f1-score   support\n",
      "\n",
      "           0       0.84      0.90      0.87        29\n",
      "           1       0.82      0.95      0.88        19\n",
      "           2       0.78      0.70      0.74        10\n",
      "           3       0.88      0.76      0.81        29\n",
      "           4       0.89      0.89      0.89         9\n",
      "\n",
      "    accuracy                           0.84        96\n",
      "   macro avg       0.84      0.84      0.84        96\n",
      "weighted avg       0.85      0.84      0.84        96\n",
      "\n"
     ]
    }
   ],
   "source": [
    "# load model from pickle file\n",
    "with open(model_pkl_file, 'rb') as file:  \n",
    "    model = pickle.load(file)\n",
    "\n",
    "# evaluate model \n",
    "y_predict = model.predict(testX_tf)\n",
    "\n",
    "# check results\n",
    "print(classification_report(testy, y_predict)) "
   ]
  },
  {
   "cell_type": "code",
   "execution_count": 34,
   "metadata": {},
   "outputs": [
    {
     "name": "stdout",
     "output_type": "stream",
     "text": [
      "                                               hindi complaint\n",
      "0  करनाल के एक रेस्टोरेंट में अनजान व्यक्तियों ने...          \n",
      "1  जय प्रकाश ने पड़ोस में रहने वाली नाबालिग को बह...          \n"
     ]
    }
   ],
   "source": [
    "complaint= {'hindi': ['करनाल के एक रेस्टोरेंट में अनजान व्यक्तियों ने दिनभर की कमाई चुरा ली।', 'जय प्रकाश ने पड़ोस में रहने वाली नाबालिग को बहला फुसला कर दुष्कर्म किया। यहां तक कि पीड़िता को डरा धमका कर कई महीनों तक जबरन संबंध बनाता रहा। मंगलवार को पीड़िता को पेट में दर्द होने पर जब डॉक्टर के पास ले जाया गया, तो पता चला कि वह चार माह से गर्भवती है। परिवार के लोगों ने उससे पूछताछ की तो जानकारी मिली कि आरोपी ने दुष्कर्म किया था। वह डर से बता नहीं पा रही थी।']}\n",
    "complaint['complaint'] = ''\n",
    "complaint = pd.DataFrame(complaint)\n",
    "print(complaint)\n"
   ]
  },
  {
   "cell_type": "code",
   "execution_count": 35,
   "metadata": {},
   "outputs": [],
   "source": [
    "from googletrans import Translator\n",
    "\n",
    "complaint['complaint'] = complaint['hindi'].apply(lambda x: Translator().translate(x, dest='en').text)\n"
   ]
  },
  {
   "cell_type": "code",
   "execution_count": 36,
   "metadata": {},
   "outputs": [
    {
     "data": {
      "text/html": [
       "<div>\n",
       "<style scoped>\n",
       "    .dataframe tbody tr th:only-of-type {\n",
       "        vertical-align: middle;\n",
       "    }\n",
       "\n",
       "    .dataframe tbody tr th {\n",
       "        vertical-align: top;\n",
       "    }\n",
       "\n",
       "    .dataframe thead th {\n",
       "        text-align: right;\n",
       "    }\n",
       "</style>\n",
       "<table border=\"1\" class=\"dataframe\">\n",
       "  <thead>\n",
       "    <tr style=\"text-align: right;\">\n",
       "      <th></th>\n",
       "      <th>hindi</th>\n",
       "      <th>complaint</th>\n",
       "    </tr>\n",
       "  </thead>\n",
       "  <tbody>\n",
       "    <tr>\n",
       "      <th>0</th>\n",
       "      <td>करनाल के एक रेस्टोरेंट में अनजान व्यक्तियों ने...</td>\n",
       "      <td>Unknown persons stole the day's earnings from ...</td>\n",
       "    </tr>\n",
       "    <tr>\n",
       "      <th>1</th>\n",
       "      <td>जय प्रकाश ने पड़ोस में रहने वाली नाबालिग को बह...</td>\n",
       "      <td>Jai Prakash raped a minor living in the neighb...</td>\n",
       "    </tr>\n",
       "  </tbody>\n",
       "</table>\n",
       "</div>"
      ],
      "text/plain": [
       "                                               hindi  \\\n",
       "0  करनाल के एक रेस्टोरेंट में अनजान व्यक्तियों ने...   \n",
       "1  जय प्रकाश ने पड़ोस में रहने वाली नाबालिग को बह...   \n",
       "\n",
       "                                           complaint  \n",
       "0  Unknown persons stole the day's earnings from ...  \n",
       "1  Jai Prakash raped a minor living in the neighb...  "
      ]
     },
     "execution_count": 36,
     "metadata": {},
     "output_type": "execute_result"
    }
   ],
   "source": [
    "complaint"
   ]
  },
  {
   "cell_type": "code",
   "execution_count": 37,
   "metadata": {},
   "outputs": [
    {
     "name": "stdout",
     "output_type": "stream",
     "text": [
      "[[0. 0. 0. ... 0. 0. 0.]\n",
      " [0. 0. 0. ... 0. 0. 0.]]\n"
     ]
    }
   ],
   "source": [
    "\n",
    "complaint['complaint']= complaint['complaint'].apply(clean)\n",
    "docs = list(complaint['complaint'])\n",
    "tfidf_vectorizer_vectors = tfidf_vectorizer.transform(docs)\n",
    "docs = tfidf_vectorizer_vectors.toarray()\n",
    "print(docs)\n"
   ]
  },
  {
   "cell_type": "code",
   "execution_count": 38,
   "metadata": {},
   "outputs": [
    {
     "data": {
      "text/plain": [
       "0          unknown persons stole s earnings restaurant\n",
       "1    jai prakash raped minor living neighborhood se...\n",
       "Name: complaint, dtype: object"
      ]
     },
     "execution_count": 38,
     "metadata": {},
     "output_type": "execute_result"
    }
   ],
   "source": [
    "complaint['complaint']"
   ]
  },
  {
   "cell_type": "code",
   "execution_count": 39,
   "metadata": {},
   "outputs": [],
   "source": [
    "complaint['category'] = model.predict(docs)"
   ]
  },
  {
   "cell_type": "code",
   "execution_count": 40,
   "metadata": {},
   "outputs": [
    {
     "data": {
      "text/html": [
       "<div>\n",
       "<style scoped>\n",
       "    .dataframe tbody tr th:only-of-type {\n",
       "        vertical-align: middle;\n",
       "    }\n",
       "\n",
       "    .dataframe tbody tr th {\n",
       "        vertical-align: top;\n",
       "    }\n",
       "\n",
       "    .dataframe thead th {\n",
       "        text-align: right;\n",
       "    }\n",
       "</style>\n",
       "<table border=\"1\" class=\"dataframe\">\n",
       "  <thead>\n",
       "    <tr style=\"text-align: right;\">\n",
       "      <th></th>\n",
       "      <th>hindi</th>\n",
       "      <th>complaint</th>\n",
       "      <th>category</th>\n",
       "    </tr>\n",
       "  </thead>\n",
       "  <tbody>\n",
       "    <tr>\n",
       "      <th>0</th>\n",
       "      <td>करनाल के एक रेस्टोरेंट में अनजान व्यक्तियों ने...</td>\n",
       "      <td>unknown persons stole s earnings restaurant</td>\n",
       "      <td>0</td>\n",
       "    </tr>\n",
       "    <tr>\n",
       "      <th>1</th>\n",
       "      <td>जय प्रकाश ने पड़ोस में रहने वाली नाबालिग को बह...</td>\n",
       "      <td>jai prakash raped minor living neighborhood se...</td>\n",
       "      <td>4</td>\n",
       "    </tr>\n",
       "  </tbody>\n",
       "</table>\n",
       "</div>"
      ],
      "text/plain": [
       "                                               hindi  \\\n",
       "0  करनाल के एक रेस्टोरेंट में अनजान व्यक्तियों ने...   \n",
       "1  जय प्रकाश ने पड़ोस में रहने वाली नाबालिग को बह...   \n",
       "\n",
       "                                           complaint  category  \n",
       "0        unknown persons stole s earnings restaurant         0  \n",
       "1  jai prakash raped minor living neighborhood se...         4  "
      ]
     },
     "execution_count": 40,
     "metadata": {},
     "output_type": "execute_result"
    }
   ],
   "source": [
    "complaint"
   ]
  },
  {
   "cell_type": "code",
   "execution_count": 62,
   "metadata": {},
   "outputs": [
    {
     "name": "stdout",
     "output_type": "stream",
     "text": [
      "[0.         0.55417703 0.83239883]\n"
     ]
    },
    {
     "data": {
      "text/plain": [
       "array([0.])"
      ]
     },
     "execution_count": 62,
     "metadata": {},
     "output_type": "execute_result"
    }
   ],
   "source": [
    "#print unique values of textX[0] \n",
    "print(np.unique(testX_tf[1]))\n",
    "np.unique(docs[1])"
   ]
  },
  {
   "cell_type": "code",
   "execution_count": 64,
   "metadata": {},
   "outputs": [
    {
     "data": {
      "text/html": [
       "<div>\n",
       "<style scoped>\n",
       "    .dataframe tbody tr th:only-of-type {\n",
       "        vertical-align: middle;\n",
       "    }\n",
       "\n",
       "    .dataframe tbody tr th {\n",
       "        vertical-align: top;\n",
       "    }\n",
       "\n",
       "    .dataframe thead th {\n",
       "        text-align: right;\n",
       "    }\n",
       "</style>\n",
       "<table border=\"1\" class=\"dataframe\">\n",
       "  <thead>\n",
       "    <tr style=\"text-align: right;\">\n",
       "      <th></th>\n",
       "      <th>complaint</th>\n",
       "    </tr>\n",
       "  </thead>\n",
       "  <tbody>\n",
       "    <tr>\n",
       "      <th>0</th>\n",
       "      <td>करनाल के एक रेस्टोरेंट में अनजान व्यक्तियों ने...</td>\n",
       "    </tr>\n",
       "    <tr>\n",
       "      <th>1</th>\n",
       "      <td>जय प्रकाश ने पड़ोस में रहने वाली नाबालिग को बह...</td>\n",
       "    </tr>\n",
       "  </tbody>\n",
       "</table>\n",
       "</div>"
      ],
      "text/plain": [
       "                                           complaint\n",
       "0  करनाल के एक रेस्टोरेंट में अनजान व्यक्तियों ने...\n",
       "1  जय प्रकाश ने पड़ोस में रहने वाली नाबालिग को बह..."
      ]
     },
     "execution_count": 64,
     "metadata": {},
     "output_type": "execute_result"
    }
   ],
   "source": [
    "print(test['complaint'][0])\n",
    "print(complaint)\n"
   ]
  },
  {
   "cell_type": "code",
   "execution_count": 39,
   "metadata": {},
   "outputs": [
    {
     "name": "stdout",
     "output_type": "stream",
     "text": [
      "[3 3]\n"
     ]
    }
   ],
   "source": [
    "prediction= rf.predict(complaint)\n",
    "print(prediction)\n"
   ]
  }
 ],
 "metadata": {
  "kernelspec": {
   "display_name": "Python 3",
   "language": "python",
   "name": "python3"
  },
  "language_info": {
   "codemirror_mode": {
    "name": "ipython",
    "version": 3
   },
   "file_extension": ".py",
   "mimetype": "text/x-python",
   "name": "python",
   "nbconvert_exporter": "python",
   "pygments_lexer": "ipython3",
   "version": "3.11.3"
  },
  "orig_nbformat": 4
 },
 "nbformat": 4,
 "nbformat_minor": 2
}
